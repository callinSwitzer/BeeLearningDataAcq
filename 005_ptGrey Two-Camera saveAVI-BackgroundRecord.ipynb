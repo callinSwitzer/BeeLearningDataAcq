{
 "cells": [
  {
   "cell_type": "code",
   "execution_count": 1,
   "metadata": {
    "collapsed": true
   },
   "outputs": [],
   "source": [
    "## Callin Switzer\n",
    "## Capture Images from pt grey camera"
   ]
  },
  {
   "cell_type": "code",
   "execution_count": 1,
   "metadata": {
    "collapsed": false
   },
   "outputs": [],
   "source": [
    "# setup arduino\n",
    "% matplotlib inline\n",
    "import matplotlib.pyplot as plt\n",
    "import numpy as np\n",
    "import cv2\n",
    "\n",
    "import datetime\n",
    "\n",
    "import PyCapture2 as fc2\n",
    "import sys\n",
    "\n",
    "import time\n",
    "\n",
    "import os\n",
    "import peakutils \n",
    "import msvcrt\n",
    "import winsound\n",
    "import shutil\n",
    "import pandas as pd\n",
    "import re\n",
    "\n",
    "import skimage.io as io"
   ]
  },
  {
   "cell_type": "code",
   "execution_count": 2,
   "metadata": {
    "collapsed": false
   },
   "outputs": [
    {
     "name": "stdout",
     "output_type": "stream",
     "text": [
      "last update: 2018-02-08 09:16:33.932698\n"
     ]
    }
   ],
   "source": [
    "print(\"last update: \"  +  str(datetime.datetime.now()))"
   ]
  },
  {
   "cell_type": "code",
   "execution_count": 3,
   "metadata": {
    "collapsed": false
   },
   "outputs": [
    {
     "name": "stdout",
     "output_type": "stream",
     "text": [
      "Number of cameras detected:  2\n"
     ]
    }
   ],
   "source": [
    "# capture image with point grey camera\n",
    "bus = fc2.BusManager()\n",
    "numCams = bus.getNumOfCameras()\n",
    "print(\"Number of cameras detected: \", numCams)\n",
    "if not numCams:\n",
    "    print(\"Insufficient number of cameras. Exiting...\")\n",
    "    exit()"
   ]
  },
  {
   "cell_type": "code",
   "execution_count": 4,
   "metadata": {
    "collapsed": false
   },
   "outputs": [],
   "source": [
    "def enableEmbeddedTimeStamp(cam, enableTimeStamp):\n",
    "    embeddedInfo = cam.getEmbeddedImageInfo()\n",
    "    if embeddedInfo.available.timestamp:\n",
    "        cam.setEmbeddedImageInfo(timestamp = enableTimeStamp)\n",
    "        if(enableTimeStamp):\n",
    "            print(\"\\nTimeStamp is enabled.\\n\")\n",
    "        else:\n",
    "            print(\"\\nTimeStamp is disabled.\\n\")"
   ]
  },
  {
   "cell_type": "markdown",
   "metadata": {
    "collapsed": true
   },
   "source": [
    "# open qtconsole if it's not already running\n",
    "try:\n",
    "    console_is_running\n",
    "except NameError:\n",
    "    console_is_running = True\n",
    "    %qtconsole"
   ]
  },
  {
   "cell_type": "code",
   "execution_count": 5,
   "metadata": {
    "collapsed": false
   },
   "outputs": [],
   "source": [
    "def printCameraInfo(cam):\n",
    "    camInfo = cam.getCameraInfo()\n",
    "    print(\"\\n*** CAMERA INFORMATION ***\\n\")\n",
    "    print(\"Serial number - \", camInfo.serialNumber)\n",
    "    print(\"Camera model - \", camInfo.modelName)\n",
    "    print(\"Camera vendor - \", camInfo.vendorName)\n",
    "    print(\"Sensor - \", camInfo.sensorInfo)\n",
    "    print(\"Resolution - \", camInfo.sensorResolution)\n",
    "    print(\"Firmware version - \", camInfo.firmwareVersion)\n",
    "    print(\"Firmware build time - \", camInfo.firmwareBuildTime)\n",
    "    fRateProp = cam.getProperty(fc2.PROPERTY_TYPE.FRAME_RATE)\n",
    "    print(\"FrameRate - \", fRateProp.absValue)\n",
    "    print()"
   ]
  },
  {
   "cell_type": "code",
   "execution_count": 6,
   "metadata": {
    "collapsed": false
   },
   "outputs": [
    {
     "name": "stdout",
     "output_type": "stream",
     "text": [
      "\n",
      "*** CAMERA INFORMATION ***\n",
      "\n",
      "Serial number -  16060682\n",
      "Camera model -  b'Chameleon3 CM3-U3-13Y3C'\n",
      "Camera vendor -  b'Point Grey Research'\n",
      "Sensor -  b'OnSemi PYTHON1300 (1/2\" Color CMOS)'\n",
      "Resolution -  b'1280x1024'\n",
      "Firmware version -  b'1.9.3.0'\n",
      "Firmware build time -  b'Mon Jul 27 20:45:52 2015'\n",
      "FrameRate -  92.39653778076172\n",
      "\n",
      "\n",
      "*** CAMERA INFORMATION ***\n",
      "\n",
      "Serial number -  16061221\n",
      "Camera model -  b'Chameleon3 CM3-U3-13Y3C'\n",
      "Camera vendor -  b'Point Grey Research'\n",
      "Sensor -  b'OnSemi PYTHON1300 (1/2\" Color CMOS)'\n",
      "Resolution -  b'1280x1024'\n",
      "Firmware version -  b'1.9.3.0'\n",
      "Firmware build time -  b'Mon Jul 27 20:45:52 2015'\n",
      "FrameRate -  92.39653778076172\n",
      "\n"
     ]
    }
   ],
   "source": [
    "c = fc2.Camera()\n",
    "c.connect(bus.getCameraFromIndex(0))\n",
    "printCameraInfo(c)\n",
    "\n",
    "d = fc2.Camera()\n",
    "d.connect(bus.getCameraFromIndex(1))\n",
    "printCameraInfo(d)"
   ]
  },
  {
   "cell_type": "code",
   "execution_count": 7,
   "metadata": {
    "collapsed": true
   },
   "outputs": [],
   "source": [
    "def img2array(image):\n",
    "    return(np.array(image.getData(), dtype=\"uint8\").reshape( (image.getRows(), image.getCols()) ))"
   ]
  },
  {
   "cell_type": "code",
   "execution_count": 13,
   "metadata": {
    "collapsed": false
   },
   "outputs": [],
   "source": [
    "# start recording video\n",
    "def saveAviHelper2(cam, cam2, fileFormat, fileName, fileName2, frameRate, maxImgs = 500):\n",
    "    \n",
    "    numImages = 0\n",
    "\n",
    "    avi = fc2.AVIRecorder()\n",
    "    avi2 = fc2.AVIRecorder()\n",
    "\n",
    "    for i in range(maxImgs):\n",
    "        \n",
    "        try:\n",
    "            image = cam.retrieveBuffer()\n",
    "            image2 = cam2.retrieveBuffer()\n",
    "        except fc2.Fc2error as fc2Err:\n",
    "            print(\"Error retrieving buffer : \", fc2Err)\n",
    "            continue\n",
    "\n",
    "        print(\"Grabbed image {}\".format(i))\n",
    "\n",
    "        if (i == 0):\n",
    "            if fileFormat == \"AVI\":\n",
    "                avi.AVIOpen(fileName, frameRate)\n",
    "                avi2.AVIOpen(fileName2, frameRate)\n",
    "            elif fileFormat == \"MJPG\":\n",
    "                avi.MJPGOpen(fileName, frameRate, 75)\n",
    "                avi2.MJPGOpen(fileName2, frameRate, 75)\n",
    "            elif fileFormat == \"H264\":\n",
    "                avi.H264Open(fileName, frameRate, image.getCols(), image.getRows(), 1000000)\n",
    "                avi2.H264Open(fileName2, frameRate, image2.getCols(), image2.getRows(), 1000000)\n",
    "            else:\n",
    "                print(\"Specified format is not available.\")\n",
    "                return\n",
    "            \n",
    "            # show still image\n",
    "            img = np.concatenate((img2array(image), img2array(image2)), axis = 1)\n",
    "\n",
    "            # Display the resulting frame\n",
    "            cv2.imshow('image', img)\n",
    "\n",
    "        # break when \"q\" is pressed on keyboard\n",
    "        if cv2.waitKey(1) & 0xFF == ord('q'):\n",
    "            for jj in range(10):\n",
    "                cv2.destroyAllWindows()\n",
    "            break\n",
    "\n",
    "        # refref add image timestamp\n",
    "\n",
    "        avi.append(image)\n",
    "        avi2.append(image2)\n",
    "        numImages += 1\n",
    "        print(\"Appended image {}...\".format(i))\n",
    "\n",
    "    # close windows if loop ends\n",
    "    for jj in range(10):\n",
    "        cv2.destroyAllWindows()\n",
    "        \n",
    "    print(\"Appended {} images to {} file: {}...\".format(numImages, fileFormat, fileName))\n",
    "    avi.close()\n",
    "    avi2.close()"
   ]
  },
  {
   "cell_type": "code",
   "execution_count": 14,
   "metadata": {
    "collapsed": false
   },
   "outputs": [
    {
     "name": "stdout",
     "output_type": "stream",
     "text": [
      "\n",
      "TimeStamp is enabled.\n",
      "\n",
      "\n",
      "TimeStamp is enabled.\n",
      "\n"
     ]
    }
   ],
   "source": [
    "c = fc2.Camera()\n",
    "c.connect(bus.getCameraFromIndex(0))\n",
    "enableEmbeddedTimeStamp(c, True)\n",
    "c.startCapture()\n",
    "\n",
    "\n",
    "d = fc2.Camera()\n",
    "d.connect(bus.getCameraFromIndex(1))\n",
    "enableEmbeddedTimeStamp(c, True)\n",
    "d.startCapture()\n"
   ]
  },
  {
   "cell_type": "code",
   "execution_count": 15,
   "metadata": {
    "collapsed": true
   },
   "outputs": [],
   "source": [
    "# display images via live preview\n",
    "\n",
    "def livePreview2():\n",
    "    cv2.namedWindow('image',cv2.WINDOW_NORMAL)\n",
    "    cv2.resizeWindow('image', 1000,800)\n",
    "    while(True):\n",
    "        stt = time.time()\n",
    "        # Capture frame-by-frame\n",
    "        image = c.retrieveBuffer()\n",
    "        image2 = d.retrieveBuffer()\n",
    "        img = np.concatenate((img2array(image), img2array(image2)), axis = 1)\n",
    "\n",
    "        # Our operations on the frame come here\n",
    "        #gray = cv2.cvtColor(frame, cv2.COLOR_BGR2GRAY)\n",
    "\n",
    "        # Display the resulting frame\n",
    "        cv2.imshow('image', img)\n",
    "        \n",
    "        print(time.time() - stt)\n",
    "\n",
    "        # break when \"q\" is pressed on keyboard\n",
    "        if cv2.waitKey(1) & 0xFF == ord('q'):\n",
    "            for jj in range(10):\n",
    "                cv2.destroyAllWindows()\n",
    "            break\n",
    "\n"
   ]
  },
  {
   "cell_type": "code",
   "execution_count": 11,
   "metadata": {
    "collapsed": false
   },
   "outputs": [
    {
     "name": "stdout",
     "output_type": "stream",
     "text": [
      "0.32118916511535645\n",
      "0.3170444965362549\n",
      "0.34160327911376953\n",
      "0.3509831428527832\n",
      "0.3148159980773926\n",
      "0.33164405822753906\n",
      "0.3274707794189453\n",
      "0.3372819423675537\n",
      "0.3171381950378418\n",
      "0.3382589817047119\n",
      "0.3450002670288086\n",
      "0.3290083408355713\n",
      "0.3000216484069824\n",
      "0.31916213035583496\n",
      "0.3200070858001709\n",
      "0.31340765953063965\n",
      "0.33690643310546875\n",
      "0.3439042568206787\n",
      "0.35440659523010254\n",
      "0.31233644485473633\n",
      "0.35561561584472656\n",
      "0.35862183570861816\n",
      "0.3299746513366699\n",
      "0.29364490509033203\n",
      "0.30045151710510254\n",
      "0.34002256393432617\n",
      "0.33426690101623535\n",
      "0.3045074939727783\n",
      "0.33802127838134766\n",
      "0.320040225982666\n",
      "0.3037750720977783\n",
      "0.3282144069671631\n"
     ]
    }
   ],
   "source": [
    "livePreview2()"
   ]
  },
  {
   "cell_type": "code",
   "execution_count": 19,
   "metadata": {
    "collapsed": false
   },
   "outputs": [
    {
     "name": "stdout",
     "output_type": "stream",
     "text": [
      "Grabbed image 0\n",
      "Appended image 0...\n",
      "Grabbed image 1\n",
      "Appended image 1...\n",
      "Grabbed image 2\n",
      "Appended image 2...\n",
      "Grabbed image 3\n",
      "Appended image 3...\n",
      "Grabbed image 4\n",
      "Appended image 4...\n",
      "Grabbed image 5\n",
      "Appended image 5...\n",
      "Grabbed image 6\n",
      "Appended image 6...\n",
      "Grabbed image 7\n",
      "Appended image 7...\n",
      "Grabbed image 8\n",
      "Appended image 8...\n",
      "Grabbed image 9\n",
      "Appended image 9...\n",
      "Grabbed image 10\n",
      "Appended image 10...\n",
      "Grabbed image 11\n",
      "Appended image 11...\n",
      "Grabbed image 12\n",
      "Appended image 12...\n",
      "Grabbed image 13\n",
      "Appended image 13...\n",
      "Grabbed image 14\n",
      "Appended image 14...\n",
      "Grabbed image 15\n",
      "Appended image 15...\n",
      "Grabbed image 16\n",
      "Appended image 16...\n",
      "Grabbed image 17\n",
      "Appended image 17...\n",
      "Grabbed image 18\n",
      "Appended image 18...\n",
      "Grabbed image 19\n",
      "Appended 19 images to AVI file: b'C:\\\\Users\\\\Combes4\\\\Desktop\\\\temp3\\\\2018_02_08__09_21_39_987_cam1.avi'...\n"
     ]
    }
   ],
   "source": [
    "directory = os.path.join(\"C:\\\\Users\\\\Combes4\\Desktop\\\\temp3\")\n",
    "\n",
    "movieID = str(datetime.datetime.now().strftime(\"%Y_%m_%d__%H_%M_%S_%f\")[:-3])\n",
    "fileName = os.path.join(directory,   movieID + \"_cam1\" +\".avi\")\n",
    "fileName2 = os.path.join(directory,  movieID + \"_cam2\" +\".avi\")\n",
    "saveAviHelper2(c,d, \"AVI\", fileName.encode(\"utf-8\"), fileName2.encode(\"utf-8\"), 10, maxImgs = 10000)"
   ]
  },
  {
   "cell_type": "code",
   "execution_count": null,
   "metadata": {
    "collapsed": true
   },
   "outputs": [],
   "source": [
    "# When everything done, release the capture\n",
    "c.stopCapture()\n",
    "c.disconnect()\n",
    "\n",
    "d.stopCapture()\n",
    "d.disconnect()\n",
    "cv2.destroyAllWindows()"
   ]
  },
  {
   "cell_type": "code",
   "execution_count": null,
   "metadata": {
    "collapsed": false
   },
   "outputs": [],
   "source": [
    "os.getcwd()"
   ]
  },
  {
   "cell_type": "code",
   "execution_count": null,
   "metadata": {
    "collapsed": false
   },
   "outputs": [],
   "source": [
    "fileName"
   ]
  },
  {
   "cell_type": "code",
   "execution_count": null,
   "metadata": {
    "collapsed": false
   },
   "outputs": [],
   "source": [
    "# combine videos to see if they're both the same\n",
    "\n",
    "vidPath =  re.sub(\".avi\", \"-0000.avi\", fileName)\n",
    "vidPath2 = re.sub(\".avi\", \"-0000.avi\", fileName2)\n",
    "\n",
    "cap = cv2.VideoCapture(vidPath)\n",
    "cap2 = cv2.VideoCapture(vidPath2)\n",
    "\n",
    "length = int(cap.get(cv2.CAP_PROP_FRAME_COUNT))\n",
    "width  = int(cap.get(cv2.CAP_PROP_FRAME_WIDTH))\n",
    "height = int(cap.get(cv2.CAP_PROP_FRAME_HEIGHT))\n",
    "fps    = cap.get(cv2.CAP_PROP_FPS)\n",
    "\n",
    "print( length, width, height, fps)\n",
    "\n",
    "cap.release()\n",
    "cap2.release()"
   ]
  },
  {
   "cell_type": "code",
   "execution_count": null,
   "metadata": {
    "collapsed": false
   },
   "outputs": [],
   "source": [
    "print(vidPath,\"\\n\", vidPath2)"
   ]
  },
  {
   "cell_type": "code",
   "execution_count": null,
   "metadata": {
    "collapsed": false
   },
   "outputs": [],
   "source": [
    "from subprocess import call\n",
    "os.chdir(directory)\n",
    "os.getcwd()\n",
    "\n",
    "outputMovie = output = re.sub(\"cam2-0000.avi\", \"combined.mp4\", vidPath2)"
   ]
  },
  {
   "cell_type": "code",
   "execution_count": null,
   "metadata": {
    "collapsed": false
   },
   "outputs": [],
   "source": [
    "\n",
    "# combine vids into one\n",
    "\n",
    "call([\"ffmpeg\", \"-i\",\n",
    "      vidPath, \n",
    "      \"-i\",\n",
    "      vidPath2, \n",
    "      \"-filter_complex\",\n",
    "      '[0:v]pad=iw*2:ih[int];[int][1:v]overlay=W/2:0[vid]', \n",
    "\n",
    "  \"-map\", \"[vid]\", \n",
    "  \"-c:v\", \"libx264\", \n",
    "  outputMovie]) "
   ]
  },
  {
   "cell_type": "code",
   "execution_count": null,
   "metadata": {
    "collapsed": true
   },
   "outputs": [],
   "source": []
  },
  {
   "cell_type": "code",
   "execution_count": null,
   "metadata": {
    "collapsed": true
   },
   "outputs": [],
   "source": []
  },
  {
   "cell_type": "code",
   "execution_count": null,
   "metadata": {
    "collapsed": true
   },
   "outputs": [],
   "source": []
  },
  {
   "cell_type": "code",
   "execution_count": null,
   "metadata": {
    "collapsed": true
   },
   "outputs": [],
   "source": []
  },
  {
   "cell_type": "code",
   "execution_count": null,
   "metadata": {
    "collapsed": true
   },
   "outputs": [],
   "source": []
  },
  {
   "cell_type": "code",
   "execution_count": null,
   "metadata": {
    "collapsed": false
   },
   "outputs": [],
   "source": [
    "vid2.split(\" \")[1].split(\".avi\")[0] + \".mp4\""
   ]
  },
  {
   "cell_type": "code",
   "execution_count": null,
   "metadata": {
    "collapsed": false
   },
   "outputs": [],
   "source": [
    "import os\n",
    "from subprocess import call\n",
    "\n",
    "\n",
    "vid1 = \"2018-01-26 14_02_48.315498_cam1-0000.avi\"\n",
    "vid2 = \"2018-01-26 14_02_48.315498_cam2-0000.avi\"\n",
    "output = re.sub(\"cam2-0000.avi\", \"combined.mp4\", vid2)\n",
    "output"
   ]
  },
  {
   "cell_type": "code",
   "execution_count": null,
   "metadata": {
    "collapsed": false
   },
   "outputs": [],
   "source": [
    "vid1 = \"SaveImageToAviEx12018-01-26 13_43_30.916822-0000.avi\"\n",
    "vid2 = \"SaveImageToAviEx22018-01-26 13_43_30.916822-0000.avi\"\n",
    "output = re.sub(\"-0000.avi\", \"combined.mp4\", vid2)\n",
    "output"
   ]
  },
  {
   "cell_type": "code",
   "execution_count": null,
   "metadata": {
    "collapsed": false
   },
   "outputs": [],
   "source": [
    "vid1 = \"SaveImageToAviEx12018-01-26 13_39_47.374097-0000.avi\"\n",
    "vid2 = \"SaveImageToAviEx22018-01-26 13_39_47.374097-0000.avi\"\n",
    "output = re.sub(\"-0000.avi\", \"combined.mp4\", vid2)\n",
    "output"
   ]
  },
  {
   "cell_type": "code",
   "execution_count": null,
   "metadata": {
    "collapsed": false
   },
   "outputs": [],
   "source": [
    "call([\"ffmpeg\", \"-i\",\n",
    "      vid1, \n",
    "      \"-i\",\n",
    "      vid2, \n",
    "      \"-filter_complex\",\n",
    "      '[0:v]pad=iw*2:ih[int];[int][1:v]overlay=W/2:0[vid]', \n",
    "\n",
    "  \"-map\", \"[vid]\", \n",
    "  \"-c:v\", \"libx264\", \n",
    "#      \"-r\", \"10\",\n",
    "  output]) "
   ]
  },
  {
   "cell_type": "code",
   "execution_count": null,
   "metadata": {
    "collapsed": false
   },
   "outputs": [],
   "source": [
    "import os\n",
    "from subprocess import call\n",
    "\n",
    "directory = os.path.join(\"C:\\\\Users\\\\Combes4\\Desktop\\\\twoCamSave2\")\n",
    "os.chdir(directory)\n",
    "os.chdir(\"C:\\\\Users\\\\Combes4\\\\Desktop\\\\twoCamSave2\")\n",
    "\n",
    "vid1 = \"SaveImageToAviEx12018-01-24 14_38_28.512556-0000.avi\"\n",
    "vid2 = \"SaveImageToAviEx22018-01-24 14_38_28.512556-0000.avi\"\n",
    "output = vid2.split(\" \")[1].split(\".avi\")[0] + \".mp4\"\n",
    "\n",
    "call([\"ffmpeg\", \"-i\",\n",
    "      vid1, \n",
    "      \"-i\",\n",
    "      vid2, \n",
    "      \"-filter_complex\",\n",
    "      '[0:v]pad=iw*2:ih[int];[int][1:v]overlay=W/2:0[vid]', \n",
    "\n",
    "  \"-map\", \"[vid]\", \n",
    "  \"-c:v\", \"libx264\", \n",
    "#      \"-r\", \"10\",\n",
    "  output]) "
   ]
  },
  {
   "cell_type": "code",
   "execution_count": null,
   "metadata": {
    "collapsed": false
   },
   "outputs": [],
   "source": [
    "import os\n",
    "from subprocess import call\n",
    "\n",
    "directory = os.path.join(\"C:\\\\Users\\\\Combes4\\Desktop\\\\twoCamSave2\")\n",
    "os.chdir(directory)\n",
    "os.chdir(\"C:\\\\Users\\\\Combes4\\\\Desktop\\\\twoCamSave2\")\n",
    "\n",
    "vid1 = \"SaveImageToAviEx12018-01-24 14_40_20.342783-0000.avi\"\n",
    "vid2 = \"SaveImageToAviEx22018-01-24 14_40_20.342783-0000.avi\"\n",
    "output = vid2.split(\" \")[1].split(\".avi\")[0] + \".mp4\"\n",
    "\n",
    "call([\"ffmpeg\", \"-i\",\n",
    "      vid1, \n",
    "      \"-i\",\n",
    "      vid2, \n",
    "      \"-filter_complex\",\n",
    "      '[0:v]pad=iw*2:ih[int];[int][1:v]overlay=W/2:0[vid]', \n",
    "\n",
    "  \"-map\", \"[vid]\", \n",
    "  \"-c:v\", \"libx264\", \n",
    "#      \"-r\", \"10\",\n",
    "  output]) "
   ]
  },
  {
   "cell_type": "code",
   "execution_count": null,
   "metadata": {
    "collapsed": false
   },
   "outputs": [],
   "source": [
    "import os\n",
    "from subprocess import call\n",
    "\n",
    "directory = os.path.join(\"C:\\\\Users\\\\Combes4\\Desktop\\\\twoCamSave2\")\n",
    "os.chdir(directory)\n",
    "os.chdir(\"C:\\\\Users\\\\Combes4\\\\Desktop\\\\twoCamSave2\")\n",
    "\n",
    "vid1 = \"SaveImageToAviEx12018-01-24 14_41_16.748791-0000.avi\"\n",
    "vid2 = \"SaveImageToAviEx22018-01-24 14_41_16.748791-0000.avi\"\n",
    "output = vid2.split(\" \")[1].split(\".avi\")[0] + \".mp4\"\n",
    "\n",
    "call([\"ffmpeg\", \"-i\",\n",
    "      vid1, \n",
    "      \"-i\",\n",
    "      vid2, \n",
    "      \"-filter_complex\",\n",
    "      '[0:v]pad=iw*2:ih[int];[int][1:v]overlay=W/2:0[vid]', \n",
    "\n",
    "  \"-map\", \"[vid]\", \n",
    "  \"-c:v\", \"libx264\", \n",
    "#      \"-r\", \"10\",\n",
    "  output]) "
   ]
  },
  {
   "cell_type": "code",
   "execution_count": null,
   "metadata": {
    "collapsed": false
   },
   "outputs": [],
   "source": [
    "## This doesn't work asynchronously -- may have to use multiprocessing\n",
    "\n",
    "import os\n",
    "from subprocess import call\n",
    "\n",
    "call([\"python\", \"006_twoCameraCapture.py\"])"
   ]
  },
  {
   "cell_type": "code",
   "execution_count": null,
   "metadata": {
    "collapsed": false
   },
   "outputs": [],
   "source": [
    "print(\"hello\")"
   ]
  },
  {
   "cell_type": "code",
   "execution_count": null,
   "metadata": {
    "collapsed": true
   },
   "outputs": [],
   "source": []
  },
  {
   "cell_type": "code",
   "execution_count": null,
   "metadata": {
    "collapsed": true
   },
   "outputs": [],
   "source": []
  },
  {
   "cell_type": "code",
   "execution_count": null,
   "metadata": {
    "collapsed": true
   },
   "outputs": [],
   "source": []
  },
  {
   "cell_type": "code",
   "execution_count": null,
   "metadata": {
    "collapsed": true
   },
   "outputs": [],
   "source": []
  },
  {
   "cell_type": "code",
   "execution_count": null,
   "metadata": {
    "collapsed": true
   },
   "outputs": [],
   "source": [
    "import subprocess"
   ]
  },
  {
   "cell_type": "code",
   "execution_count": null,
   "metadata": {
    "collapsed": false
   },
   "outputs": [],
   "source": [
    "import os\n",
    "print(os.popen(\"echo Hello, World!\").read())"
   ]
  },
  {
   "cell_type": "code",
   "execution_count": null,
   "metadata": {
    "collapsed": true
   },
   "outputs": [],
   "source": [
    "import asyncio"
   ]
  },
  {
   "cell_type": "code",
   "execution_count": null,
   "metadata": {
    "collapsed": false
   },
   "outputs": [],
   "source": [
    "import asyncio\n",
    "\n",
    "def hello_world(loop):\n",
    "    for ii in range(10000):\n",
    "        print('Hello World')\n",
    "    loop.stop()\n",
    "    \n",
    "loop = asyncio.new_event_loop()    \n",
    "asyncio.set_event_loop(asyncio.new_event_loop())\n",
    "\n",
    "# Schedule a call to hello_world()\n",
    "loop.call_soon(hello_world, loop)\n",
    "\n",
    "\n",
    "loop.run_until_complete(loop.shutdown_asyncgens())\n",
    "loop.close()"
   ]
  },
  {
   "cell_type": "code",
   "execution_count": null,
   "metadata": {
    "collapsed": false
   },
   "outputs": [],
   "source": [
    "loop.close()"
   ]
  },
  {
   "cell_type": "code",
   "execution_count": null,
   "metadata": {
    "collapsed": false
   },
   "outputs": [],
   "source": [
    "from multiprocessing import Process\n",
    "\n",
    "import time\n",
    "\n",
    "\n",
    "len_x = 10000000\n",
    "x = [10]*len_x\n",
    "x[:15]\n",
    "\n",
    "def squareList(nums):\n",
    "    for i in nums:\n",
    "        squared(i)\n",
    "\n",
    "num_pros = 4\n",
    "\n",
    "pro_list = []\n",
    "x3 = [10]*(len_x//num_pros)\n",
    "for p in range(num_pros):\n",
    "    p = Process(target=squareList, args=(x3,))\n",
    "    pro_list.append(p)\n",
    "\n",
    "start = time.time()\n",
    "for p in pro_list:\n",
    "    p.start()\n",
    "\n",
    "for p in pro_list:\n",
    "    p.join()\n",
    "\n",
    "squareprocesstime = time.time() - start\n",
    "print(\"Squaring 10 million numbers took {} seconds with 4 processes.\".format(squareprocesstime))"
   ]
  },
  {
   "cell_type": "code",
   "execution_count": null,
   "metadata": {
    "collapsed": true
   },
   "outputs": [],
   "source": []
  },
  {
   "cell_type": "markdown",
   "metadata": {},
   "source": [
    "# combine vids with ffmpeg\n",
    "ffmpeg \\\n",
    "  -i input1.mp4 \\\n",
    "  -i input2.mp4 \\\n",
    "  -filter_complex '[0:v]pad=iw*2:ih[int];[int][1:v]overlay=W/2:0[vid]' \\\n",
    "  -map [vid] \\\n",
    "  -c:v libx264 \\\n",
    "  -crf 23 \\\n",
    "  -preset veryfast \\\n",
    "  output.mp4"
   ]
  },
  {
   "cell_type": "code",
   "execution_count": null,
   "metadata": {
    "collapsed": false
   },
   "outputs": [],
   "source": [
    "\n",
    "ctr = 0\n",
    "photoDir = os.path.join(\"C:\\\\Users\\\\Combes4\\Desktop\\\\twoCamSave2\\\\\", movieID)\n",
    "\n",
    "# make directory, if it doesn't exist\n",
    "if not os.path.exists(photoDir):\n",
    "    os.makedirs(photoDir)\n",
    "\n",
    "    \n",
    "    #refref\" speed this up with opencv\n",
    "for ff in range(length):\n",
    "    ret, frame = cap.read()\n",
    "    ret2, frame2 = cap2.read()\n",
    "    im2 = np.concatenate((frame, frame2), axis = 1)\n",
    "    io.imsave(os.path.join(photoDir, str(ctr).zfill(4) + '.png'), im2)\n",
    "    print(ff)\n",
    "    ctr += 1"
   ]
  },
  {
   "cell_type": "code",
   "execution_count": null,
   "metadata": {
    "collapsed": false
   },
   "outputs": [],
   "source": [
    "# save images as video\n",
    "from subprocess import call\n",
    "os.chdir(photoDir)\n",
    "\n",
    "call([\"ffmpeg\", \"-start_number\", \"0\", \"-i\", \"%04d.png\", \"-r\", \"10\",  \"-c:v\", \"h264\", \"-pix_fmt\", \"yuv420p\", \"-y\", \"combinedVid.mp4\"]) "
   ]
  },
  {
   "cell_type": "code",
   "execution_count": null,
   "metadata": {
    "collapsed": true
   },
   "outputs": [],
   "source": []
  }
 ],
 "metadata": {
  "kernelspec": {
   "display_name": "pyfly35",
   "language": "python",
   "name": "python3_5_pyfly"
  },
  "language_info": {
   "codemirror_mode": {
    "name": "ipython",
    "version": 3
   },
   "file_extension": ".py",
   "mimetype": "text/x-python",
   "name": "python",
   "nbconvert_exporter": "python",
   "pygments_lexer": "ipython3",
   "version": "3.5.4"
  }
 },
 "nbformat": 4,
 "nbformat_minor": 2
}
