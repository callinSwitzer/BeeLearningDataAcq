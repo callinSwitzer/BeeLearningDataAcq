{
 "cells": [
  {
   "cell_type": "markdown",
   "metadata": {},
   "source": [
    "# Acquire data from accelerometer from DAQ Board\n",
    "## Callin Switzer\n",
    "## python 3 (pyfly35 environment)\n",
    "## 22 Jan 2017\n"
   ]
  },
  {
   "cell_type": "markdown",
   "metadata": {},
   "source": [
    "Download nidaq driver for ni USB-6229 (save to thumb drive)\n",
    "\n",
    "Download/update anaconda\n",
    "\n",
    "download PyDAQmx\n",
    "\n",
    "download pySerial (conda install pySerial)\n",
    "\n",
    "upload code to Arduinos (001_Stepper_and_DCMotor)"
   ]
  },
  {
   "cell_type": "markdown",
   "metadata": {},
   "source": [
    "# Setup"
   ]
  },
  {
   "cell_type": "markdown",
   "metadata": {},
   "source": [
    "- import packages\n",
    "- connect to arduino boards\n",
    "- print system information and timestamp"
   ]
  },
  {
   "cell_type": "code",
   "execution_count": 1,
   "metadata": {
    "collapsed": true
   },
   "outputs": [
    {
     "name": "stdout",
     "output_type": "stream",
     "text": [
      "3.5.4 |Anaconda custom (64-bit)| (default, Sep 19 2017, 08:15:17) [MSC v.1900 64 bit (AMD64)]\n",
      "last run on 2018-07-12 14:18:09.747376\n",
      "directory where data will be deposited: C:\\Users\\Combes4\\Desktop\\temp3\\\n",
      "_____________________________________________\n",
      "connected to arduino on COM3\n",
      "connected to arduino on COM5\n"
     ]
    }
   ],
   "source": [
    "from DataAcqUtils import *"
   ]
  },
  {
   "cell_type": "markdown",
   "metadata": {},
   "source": [
    "# Test motors"
   ]
  },
  {
   "cell_type": "code",
   "execution_count": 2,
   "metadata": {
    "collapsed": true
   },
   "outputs": [],
   "source": [
    "# stepper only\n",
    "written = ser1.write(\"s\".encode(\"utf-8\"))\n",
    "written = ser2.write(\"s\".encode(\"utf-8\"))"
   ]
  },
  {
   "cell_type": "code",
   "execution_count": 3,
   "metadata": {
    "collapsed": false
   },
   "outputs": [],
   "source": [
    "# vibration motor only\n",
    "written = ser1.write(\"v\".encode(\"utf-8\"))\n",
    "written = ser2.write(\"v\".encode(\"utf-8\"))"
   ]
  },
  {
   "cell_type": "markdown",
   "metadata": {},
   "source": [
    "Run the following cell until pollen comes out on every iteration"
   ]
  },
  {
   "cell_type": "code",
   "execution_count": 3012,
   "metadata": {
    "collapsed": false
   },
   "outputs": [],
   "source": [
    "# both motors\n",
    "written = ser1.write(\"sv\".encode(\"utf-8\"))\n",
    "written = ser2.write(\"sv\".encode(\"utf-8\"))"
   ]
  },
  {
   "cell_type": "markdown",
   "metadata": {},
   "source": [
    "# Test accelerometers"
   ]
  },
  {
   "cell_type": "code",
   "execution_count": null,
   "metadata": {
    "collapsed": false
   },
   "outputs": [],
   "source": [
    "# test accelerometers\n",
    "acc1 = accelDta(\"Dev2/ai0\")\n",
    "acc2 = accelDta(\"Dev2/ai1\")\n",
    "[j.readAccel() for j in [acc1, acc2]]\n",
    "[k.FFT() for k in [acc1, acc2]]\n",
    "[kk.plotFFT() for kk in [acc1, acc2]]"
   ]
  },
  {
   "cell_type": "markdown",
   "metadata": {},
   "source": [
    "# Experimental Start"
   ]
  },
  {
   "cell_type": "code",
   "execution_count": null,
   "metadata": {
    "collapsed": false
   },
   "outputs": [],
   "source": [
    "# determine the treatments\n",
    "\".\".join(np.random.choice([\"reward_1:True, reward_2:False\", \"reward_1:False, reward_2:True\"], 1))"
   ]
  },
  {
   "cell_type": "markdown",
   "metadata": {},
   "source": [
    "#### Change values in the next cell\n",
    "---"
   ]
  },
  {
   "cell_type": "code",
   "execution_count": null,
   "metadata": {
    "collapsed": false,
    "scrolled": true
   },
   "outputs": [],
   "source": [
    "# Recording program\n",
    "# you fill in True/False here, for each trial\n",
    "reward_1 = False\n",
    "reward_2 = True\n",
    "\n",
    "##____________________Don't change anything below_________________________##\n",
    "\n",
    "# this function will time out after 5 min or 100 buzzes\n",
    "# it will save data in the folder, \"C:\\\\Users\\\\Combes4\\\\Desktop\\\\temp3\\\\\"\n",
    "trialFile = run_trial(reward_1, reward_2, acc1, acc2)"
   ]
  },
  {
   "cell_type": "markdown",
   "metadata": {},
   "source": [
    "# Post processing\n",
    "___\n",
    "#### Change values in the next cell\n",
    "___"
   ]
  },
  {
   "cell_type": "code",
   "execution_count": null,
   "metadata": {
    "collapsed": false,
    "scrolled": true
   },
   "outputs": [],
   "source": [
    "# post-processing \n",
    "colonyNum = 5\n",
    "IT_span = 3.99 # in mm\n",
    "Notes = \"The bee visited the unrewarding flower several times before the accelerometer was on\" # leave as \"\", if there are no notes\n",
    "\n",
    "#_____________________Don't change anything below____________________________#\n",
    "\n",
    "\n",
    "# add colony number and ITspan and notes to csv file\n",
    "fname = trialFile\n",
    "csv_input = pd.read_csv(fname)\n",
    "csv_input['colonyNum'] = colonyNum\n",
    "csv_input['ITSpan_mm'] = IT_span\n",
    "csv_input['Notes'] = Notes\n",
    "csv_input.to_csv(fname, index=False)\n",
    "\n",
    "# move videos from temp3 folder to trial folder\n",
    "aviFiles = [f for f in os.listdir(os.path.dirname(os.path.dirname(trialFile))) if f.endswith(\".avi\")]\n",
    "\n",
    "# move all avi files in TMP3 folder to sub folder\n",
    "tmp = [shutil.move(os.path.join(os.path.dirname(os.path.dirname(trialFile)), aviFiles[ii]), \n",
    "             os.path.join(os.path.dirname(trialFile), aviFiles[ii])) for ii in range(len(aviFiles))]\n",
    "print(str(len(tmp)) + \" avi files moved\")\n",
    "\n",
    "\n",
    "csv_input.head()"
   ]
  },
  {
   "cell_type": "code",
   "execution_count": null,
   "metadata": {
    "collapsed": false
   },
   "outputs": [],
   "source": [
    "# copy the main data file to dropbox\n",
    "dropboxDir = \"D:\\\\Dropbox\\\\UW\\\\ExperWinter2018\\\\BeeTwoFlowerChoiceData\\\\\"\n",
    "\n",
    "#fileToCopy =  r\"C:\\Users\\Combes4\\Desktop\\temp3\\2018_02_27__10_42_46_336\\2018_02_27__10_42_46_336.csv\"\n",
    "fileToCopy =  trialFile\n",
    "\n",
    "#refref double check file to copy\n",
    "shutil.copy(fileToCopy, dropboxDir)"
   ]
  },
  {
   "cell_type": "code",
   "execution_count": null,
   "metadata": {
    "collapsed": false
   },
   "outputs": [],
   "source": [
    "# may do this by hand\n",
    "# move the other data to the big hard drive (takes a little while)\n",
    "# backupDir = 'D:\\\\BeeTwoFlowerExperiment\\\\'\n",
    "\n",
    "# directoryToMove = os.path.dirname(fileToCopy)\n",
    "# stt = time.time()\n",
    "# shutil.move(directoryToMove, backupDir)\n",
    "# print(np.round((time.time() - stt) / 60, 2), \"minutes\")"
   ]
  },
  {
   "cell_type": "markdown",
   "metadata": {},
   "source": [
    "--- END ---"
   ]
  },
  {
   "cell_type": "code",
   "execution_count": null,
   "metadata": {
    "collapsed": true
   },
   "outputs": [],
   "source": []
  },
  {
   "cell_type": "code",
   "execution_count": null,
   "metadata": {
    "collapsed": true
   },
   "outputs": [],
   "source": []
  },
  {
   "cell_type": "code",
   "execution_count": null,
   "metadata": {
    "collapsed": true
   },
   "outputs": [],
   "source": []
  },
  {
   "cell_type": "code",
   "execution_count": null,
   "metadata": {
    "collapsed": true
   },
   "outputs": [],
   "source": []
  },
  {
   "cell_type": "code",
   "execution_count": null,
   "metadata": {
    "collapsed": true
   },
   "outputs": [],
   "source": []
  },
  {
   "cell_type": "code",
   "execution_count": null,
   "metadata": {
    "collapsed": true
   },
   "outputs": [],
   "source": []
  },
  {
   "cell_type": "code",
   "execution_count": null,
   "metadata": {
    "collapsed": true
   },
   "outputs": [],
   "source": []
  },
  {
   "cell_type": "code",
   "execution_count": null,
   "metadata": {
    "collapsed": false
   },
   "outputs": [],
   "source": [
    " # read in data to make sure I saved acc data correctly\n",
    "accFles = [f for f in os.listdir(procR.saveDirectory) if f.endswith(\".txt\")]\n",
    "print(len(accFles))\n",
    "jj = 10\n",
    "accRec = pd.read_csv(os.path.join(procR.saveDirectory, accFles[jj]), delimiter=' ', header = None).transpose()\n",
    "\n",
    "plt.plot(accRec.iloc[:,0],accRec.iloc[:,1], c= \"orange\")"
   ]
  },
  {
   "cell_type": "code",
   "execution_count": null,
   "metadata": {
    "collapsed": true
   },
   "outputs": [],
   "source": []
  },
  {
   "cell_type": "code",
   "execution_count": null,
   "metadata": {
    "collapsed": true
   },
   "outputs": [],
   "source": []
  },
  {
   "cell_type": "code",
   "execution_count": null,
   "metadata": {
    "collapsed": true
   },
   "outputs": [],
   "source": []
  },
  {
   "cell_type": "code",
   "execution_count": null,
   "metadata": {
    "collapsed": false
   },
   "outputs": [],
   "source": [
    "time.time() - startTime > timeoutTime"
   ]
  },
  {
   "cell_type": "code",
   "execution_count": null,
   "metadata": {
    "collapsed": false
   },
   "outputs": [],
   "source": [
    "procR.f.closed"
   ]
  },
  {
   "cell_type": "code",
   "execution_count": null,
   "metadata": {
    "collapsed": true
   },
   "outputs": [],
   "source": [
    "# refref try to start cameras asynchronously"
   ]
  },
  {
   "cell_type": "code",
   "execution_count": null,
   "metadata": {
    "collapsed": true
   },
   "outputs": [],
   "source": []
  },
  {
   "cell_type": "code",
   "execution_count": null,
   "metadata": {
    "collapsed": true
   },
   "outputs": [],
   "source": []
  },
  {
   "cell_type": "code",
   "execution_count": null,
   "metadata": {
    "collapsed": true
   },
   "outputs": [],
   "source": []
  },
  {
   "cell_type": "code",
   "execution_count": null,
   "metadata": {
    "collapsed": true
   },
   "outputs": [],
   "source": []
  },
  {
   "cell_type": "code",
   "execution_count": null,
   "metadata": {
    "collapsed": true
   },
   "outputs": [],
   "source": []
  },
  {
   "cell_type": "code",
   "execution_count": null,
   "metadata": {
    "collapsed": true
   },
   "outputs": [],
   "source": []
  },
  {
   "cell_type": "code",
   "execution_count": null,
   "metadata": {
    "collapsed": false
   },
   "outputs": [],
   "source": [
    "# close all files in directory\n",
    "saveDir = \"C:\\\\Users\\\\Combes4\\\\Desktop\\\\temp3\\\\\"\n",
    "os.listdir(saveDir)\n",
    "\n",
    "file_list = [os.path.join(saveDir + ii) for ii in os.listdir(saveDir)]\n",
    "file_list"
   ]
  },
  {
   "cell_type": "code",
   "execution_count": null,
   "metadata": {
    "collapsed": false
   },
   "outputs": [],
   "source": [
    "file_handles = []\n",
    "try:\n",
    "    for file in file_list:\n",
    "        file_handles.append(open(file))\n",
    "\n",
    "    # Do some calculations with open files\n",
    "\n",
    "finally:\n",
    "    for fh in file_handles:\n",
    "        fh.close()\n",
    "        print(fh.closed)"
   ]
  },
  {
   "cell_type": "code",
   "execution_count": null,
   "metadata": {
    "collapsed": false
   },
   "outputs": [],
   "source": [
    "ff = open('C:\\\\Users\\\\Combes4\\\\Desktop\\\\temp3\\\\2018_01_26__13_01_37_956.csv', 'a')\n",
    "ff.close()\n",
    "ff.closed"
   ]
  },
  {
   "cell_type": "code",
   "execution_count": null,
   "metadata": {
    "collapsed": true
   },
   "outputs": [],
   "source": [
    "procR = processAndReward(reward1 = True, reward2 = False, saveDirectory = \"C:\\\\Users\\\\Combes4\\\\Desktop\\\\temp3\\\\\")"
   ]
  },
  {
   "cell_type": "code",
   "execution_count": null,
   "metadata": {
    "collapsed": false
   },
   "outputs": [],
   "source": [
    "saveDirectory = \"C:\\\\Users\\\\Combes4\\\\Desktop\\\\temp3\\\\\"\n",
    "\n",
    "procR.saveAmpFreq(acc1)"
   ]
  },
  {
   "cell_type": "code",
   "execution_count": null,
   "metadata": {
    "collapsed": false
   },
   "outputs": [],
   "source": [
    "procR.f.close()"
   ]
  },
  {
   "cell_type": "code",
   "execution_count": null,
   "metadata": {
    "collapsed": true
   },
   "outputs": [],
   "source": []
  },
  {
   "cell_type": "code",
   "execution_count": null,
   "metadata": {
    "collapsed": false
   },
   "outputs": [],
   "source": [
    "saveDirectory = \"C:\\\\Users\\\\Combes4\\\\Desktop\\\\temp3\\\\\"\n",
    "f = open(saveDirectory + 'foo.txt', 'a')\n",
    "f.close()"
   ]
  },
  {
   "cell_type": "code",
   "execution_count": null,
   "metadata": {
    "collapsed": false
   },
   "outputs": [],
   "source": [
    "# instantiate\n",
    "procR = processAndReward()\n",
    "procR.procReward()"
   ]
  },
  {
   "cell_type": "code",
   "execution_count": null,
   "metadata": {
    "collapsed": true
   },
   "outputs": [],
   "source": [
    "## try multiprocessing"
   ]
  },
  {
   "cell_type": "code",
   "execution_count": null,
   "metadata": {
    "collapsed": true
   },
   "outputs": [],
   "source": [
    "import multiprocessing"
   ]
  },
  {
   "cell_type": "code",
   "execution_count": null,
   "metadata": {
    "collapsed": false
   },
   "outputs": [],
   "source": [
    "\n",
    "def f(x):\n",
    "    return x*x\n",
    "\n",
    "\n",
    "p = multiprocessing.Process(target=f, args=(1,2,3,34))\n",
    "p.start()"
   ]
  },
  {
   "cell_type": "code",
   "execution_count": null,
   "metadata": {
    "collapsed": true
   },
   "outputs": [],
   "source": [
    "from multiprocessing.dummy import Pool as ThreadPool"
   ]
  },
  {
   "cell_type": "code",
   "execution_count": null,
   "metadata": {
    "collapsed": false
   },
   "outputs": [],
   "source": [
    "# multiprocessing examples\n",
    "# looks like I can actually only read one acc at a time.\n",
    "\n",
    "x = [\"Dev2/ai0\",\"Dev2/ai1\"]\n",
    "\n",
    "def foo(ii): \n",
    "    tmp = accelDta(ii)\n",
    "    tmp.readAccel()\n",
    "pool = ThreadPool(2)\n",
    "start = time.time()\n",
    "results = pool.map(foo, x)\n",
    "print(\"4 thread pool took {} seconds\".format(time.time() - start))"
   ]
  },
  {
   "cell_type": "code",
   "execution_count": null,
   "metadata": {
    "collapsed": false
   },
   "outputs": [],
   "source": [
    "# compare to for loop\n",
    "start = time.time()\n",
    "for jj in x:\n",
    "    print(jj)\n",
    "    foo(jj)\n",
    "print(\"1 thread pool took {} seconds\".format(time.time() - start))"
   ]
  },
  {
   "cell_type": "code",
   "execution_count": null,
   "metadata": {
    "collapsed": false
   },
   "outputs": [],
   "source": [
    "foo('Dev2/ai1')"
   ]
  },
  {
   "cell_type": "code",
   "execution_count": null,
   "metadata": {
    "collapsed": true
   },
   "outputs": [],
   "source": []
  },
  {
   "cell_type": "code",
   "execution_count": null,
   "metadata": {
    "collapsed": true
   },
   "outputs": [],
   "source": []
  },
  {
   "cell_type": "code",
   "execution_count": null,
   "metadata": {
    "collapsed": true
   },
   "outputs": [],
   "source": []
  },
  {
   "cell_type": "code",
   "execution_count": null,
   "metadata": {
    "collapsed": true
   },
   "outputs": [],
   "source": []
  },
  {
   "cell_type": "code",
   "execution_count": null,
   "metadata": {
    "collapsed": true
   },
   "outputs": [],
   "source": []
  },
  {
   "cell_type": "code",
   "execution_count": null,
   "metadata": {
    "collapsed": true
   },
   "outputs": [],
   "source": []
  },
  {
   "cell_type": "code",
   "execution_count": null,
   "metadata": {
    "collapsed": true
   },
   "outputs": [],
   "source": []
  },
  {
   "cell_type": "code",
   "execution_count": null,
   "metadata": {
    "collapsed": false,
    "scrolled": true
   },
   "outputs": [],
   "source": [
    "# define function for recording and rewarding buzzes\n",
    "def recRew(ftestMin, ftestMax, trt):\n",
    "     \n",
    "        \n",
    "    aThr = [0,5]\n",
    "    \n",
    "    # loop to look for specific frequencies\n",
    "    fmin = 5.0\n",
    "    fmax = 520.0\n",
    "\n",
    "    counterAlarm = 50\n",
    "\n",
    "    peakFrq = np.array(0)\n",
    "    pwr = np.array(0)\n",
    "    pwrCutoff = 0.004 # lower amplitude cutoff\n",
    "    sleepTime = 0 # seconds\n",
    "\n",
    "    # make a continuously-sampling loop that will end if it gets a frequency of 280 Hz\n",
    "    # 100000 samples is one second\n",
    "    # Note: to get higher resolution for peak freq, I'd need a larger window\n",
    "    N_samples = 20000 \n",
    "    log_rate = 200000.0\n",
    "\n",
    "    ctr = 0\n",
    "    ctr2 = 0\n",
    "    \n",
    "    # start buzz timer\n",
    "    buzzTime = time.time()\n",
    "    \n",
    "    # open text file\n",
    "    with open(str(outDir)+ '_ampFreq.txt', 'a') as text_file:  \n",
    "\n",
    "        # clear characters waiting to be read\n",
    "        while msvcrt.kbhit():\n",
    "            msvcrt.getch()\n",
    "            print('clearing characters ...')\n",
    "\n",
    "        while ctr <= (2*counterAlarm - 1): # only give a max of 100 buzzes\n",
    "                \n",
    "            taskHandle = TaskHandle()\n",
    "            read = int32()\n",
    "            data = np.zeros((N_samples,), dtype=np.float64)\n",
    "\n",
    "            DAQmxCreateTask(\"\", byref(taskHandle))\n",
    "            # I have an piezoelectric accelerometer plugged into channel ai1 with range +/-10V\n",
    "            DAQmxCreateAIVoltageChan(taskHandle, \"Dev1/ai0\", \n",
    "                                     \"Accelerometer\", DAQmx_Val_Diff, \n",
    "                                     -10.0, 10.0, DAQmx_Val_Volts, None)\n",
    "            DAQmxCfgSampClkTiming(taskHandle, \"\", log_rate, \n",
    "                                  DAQmx_Val_Rising, \n",
    "                                  DAQmx_Val_FiniteSamps, N_samples)\n",
    "\n",
    "            DAQmxStartTask(taskHandle)\n",
    "            DAQmxReadAnalogF64(taskHandle, N_samples, 10.0, \n",
    "                               DAQmx_Val_GroupByChannel, data, \n",
    "                               N_samples, byref(read), None)\n",
    "\n",
    "            if taskHandle:\n",
    "                DAQmxStopTask(taskHandle);\n",
    "                DAQmxClearTask(taskHandle);\n",
    "\n",
    "            # 20fft\n",
    "            n =len(data) # length of the signal\n",
    "            k = np.arange(n, step = 1)\n",
    "            T = n/log_rate\n",
    "            frq = k/T # two sides frequency range\n",
    "            frq = frq[range(n/2)] # one side frequency range\n",
    "\n",
    "            Y = np.fft.fft(data)/n # fft computing and normalization\n",
    "            Y = Y[range(n/2)]\n",
    "\n",
    "            # calculate top frequency\n",
    "            ind = np.argpartition(abs(Y), -4)[-4:]\n",
    "            # Find highest point on the spectrum\n",
    "            peakFrq = frq[ind[::-1]]\n",
    "            pwr = (abs(Y)[ind[::-1]])\n",
    "            domPK = [x for (y,x) in sorted(zip(pwr,peakFrq), reverse = True)][0]\n",
    "\n",
    "            beeFrqPwr = pwr[peakFrq == domPK]\n",
    "            # print beeFrq in peakFrq, peakFrq[pwr == max(pwr)], beeFrqPwr, beeFrqPwr > 0.3\n",
    "\n",
    "            # if the bee is vibrating at a high enough power and the dominant peak from the \n",
    "            # vibration is in the right range\n",
    "            if beeFrqPwr > pwrCutoff and domPK > fmin and domPK < fmax:\n",
    "                buzzTime = time.time()\n",
    "                \n",
    "                reward = 'F'\n",
    "\n",
    "                aamp = np.max(data) - np.min(data)\n",
    "                # write value to serial port, and get it to start the turn on the motor\n",
    "                s3 = str(datetime.datetime.now().strftime(\"%Y_%m_%d__%H_%M_%S_%f\")[:-3]) # time with milliseconds\n",
    "                print(s3 + \" topFreq = \" + str(domPK) + \" amp = \" + str(aamp))\n",
    "\n",
    "                                \n",
    "                # take a photo and save it\n",
    "                im = fc2.Image()\n",
    "                c.retrieve_buffer(im)\n",
    "                a = np.array(im)\n",
    "                cv2.imwrite(os.getcwd() + '\\\\' + outDir + '\\\\' + s3 + '.pgm', a) # .pgm / ppm is quite fast, and can be read by imageJ\n",
    "                \n",
    "                \n",
    "                #print reward number\n",
    "                print('Counter Number ' + str(ctr))\n",
    "                \n",
    "                # reward only give pollen at specific frequencies and ampliude threshold\n",
    "                if domPK > ftestMin and domPK < ftestMax and (aThr[0] < aamp < aThr[1]):\n",
    "                                    \n",
    "                    ctr = ctr + 1\n",
    "                    \n",
    "                    if (trt == 1) and (ctr <= counterAlarm):\n",
    "                        written = ser1.write(\"20\")\n",
    "                        reward = 'T'\n",
    "                        \n",
    "                    if (trt == 2) and (ctr > counterAlarm):\n",
    "                        written = ser1.write(\"20\")\n",
    "                        reward = 'T'\n",
    "\n",
    "                    # beep for end of program\n",
    "                    if ctr > counterAlarm - 5:\n",
    "                        for i in range(counterAlarm - ctr):\n",
    "                            winsound.Beep(400,100)\n",
    "\n",
    "                    if ctr > counterAlarm:\n",
    "                        for i in range(counterAlarm - ctr):\n",
    "                            winsound.Beep(400,500)\n",
    "\n",
    "                ############################### PLOT ##################################\n",
    "                # create subplot 1\n",
    "                ax1 = plt.subplot(211)\n",
    "                ax1.plot(np.array(range(len(data)))/ float(log_rate), data)\n",
    "                ax1.set_ylabel(\"Volts\")\n",
    "                ax1.set_xlabel(\"time (s)\")\n",
    "                if reward == 'T':\n",
    "                    ax1.set_facecolor('grey')\n",
    "\n",
    "                # create subplot 2\n",
    "                ax2 = plt.subplot(212)\n",
    "                ax2.plot(frq,abs(Y),'r')\n",
    "                ax2.plot(domPK, beeFrqPwr, 'ro')\n",
    "                ax2.set_xlim(20, 1000)\n",
    "                ax2.set_ylabel('power')\n",
    "                ax2.set_xlabel('frequency')\n",
    "                plt.tight_layout()\n",
    "                plt.show()\n",
    "\n",
    "\n",
    "                #################### SAVE FILE FROM ACCEL ##############################\n",
    "                np.savetxt((os.getcwd() + '\\\\' + outDir + '\\\\' + s3 + '_' + str(ftestMin) + '_' + \n",
    "                           str(ftestMax) + '_' + str(aThr[0]) + '_' +  str(aThr[1]) + '.txt'), \n",
    "                           (np.array(range(len(data)))/ float(log_rate), data), delimiter = ' ')\n",
    "\n",
    "                ### write frequency and amplitude to file\n",
    "                var1 = (str(domPK) + ', ' + \n",
    "                           str(round(np.max(data) - np.min(data), 5)) + ', ' + \n",
    "                           s3 + ', ' + str(ctr) +', ' + str(reward) + \n",
    "                        ',' + str(aThr[0]) + \n",
    "                        ',' + str(aThr[1]) + '\\n')\n",
    "                text_file.writelines(var1)\n",
    "\n",
    "                # sleep\n",
    "                time.sleep(sleepTime)\n",
    "            \n",
    "            else:\n",
    "                #take a photo every 5 loops\n",
    "                # take a photo and save it\n",
    "                if ctr2 % 5 == 0:\n",
    "                    s4 = str(datetime.datetime.now().strftime(\"%Y_%m_%d__%H_%M_%S_%f\")[:-3]) # time with milliseconds\n",
    "                    im = fc2.Image()\n",
    "                    c.retrieve_buffer(im)\n",
    "                    a = np.array(im)\n",
    "                    cv2.imwrite(os.getcwd() + '\\\\' + outDir + '\\\\' + s4 + \"_bkg\" + '.pgm', a) # .pgm / ppm is quite fast, and can be read by imageJ\n",
    "\n",
    "                ctr2 += 1\n",
    "            \n",
    "\n",
    "            # break loop if someone presses the 'q' while in terminal\n",
    "            if msvcrt.kbhit():\n",
    "                if msvcrt.getch() == 'q':\n",
    "                    # disconnect camera \n",
    "                    c.stop_capture()\n",
    "                    c.disconnect()\n",
    "                    print('keyboard q pressed, now quitting loop')\n",
    "                    for i in range(5):\n",
    "                        winsound.Beep(450,100)\n",
    "                    break   \n",
    "                else:\n",
    "                    written = ser1.write(\"20\")\n",
    "            \n",
    "           # print(time.time() - buzzTime)\n",
    "            \n",
    "            # if bee goes for 5 minutes without buzzing, end the loop\n",
    "            if time.time() - buzzTime > (5.0 * 60):\n",
    "                # disconnect camera \n",
    "                c.stop_capture()\n",
    "                c.disconnect()\n",
    "                print('Bee Stopped buzzing, now quitting loop')\n",
    "                for i in range(5):\n",
    "                    winsound.Beep(450,100)\n",
    "                break   \n",
    "                    \n",
    "            ## move file to new folder at end of loop!\n",
    "\n",
    "    # make sound when loop stops\n",
    "    for i in range(3):\n",
    "        winsound.Beep(350,500)"
   ]
  },
  {
   "cell_type": "code",
   "execution_count": null,
   "metadata": {
    "collapsed": false
   },
   "outputs": [],
   "source": [
    "## reward amplitudes\n",
    "rewAAmp = \"test\" # test rewards at any amplitude and freq's between 220 and 450\n",
    "\n",
    "# change python directory to Dropbox\n",
    "os.chdir(\"C:\\\\Users\\Combes4\\Desktop\\Temp2\")\n",
    "os.getcwd()\n",
    "\n",
    "# make new directory with date, if it doesn't already exist\n",
    "outDir = (datetime.datetime.now().strftime(\"%Y_%m_%d__%H_%M_%S\"))\n",
    "#outDir = 'accelShake_009_05092016'\n",
    "\n",
    "if not os.path.isdir(os.getcwd() + '\\\\' + outDir):\n",
    "    os.mkdir(os.getcwd() + '\\\\' + outDir)\n",
    "    \n",
    "    print( 'new directory created: ' + str(outDir))\n",
    "else: print( 'directory exists: '  + str(outDir))\n",
    "\n",
    "print( \"the current python direcory is \" + str(os.getcwd()))\n",
    "                                                                                                                 \n",
    "# make new file\n",
    "open(str(outDir)+ '_ampFreq.txt', 'a').close()\n",
    "\n",
    "# start camera -- point grey Chameleon\n",
    "c = fc2.Camera()\n",
    "c.connect(bus.getCameraFromIndex(0))\n",
    "c.startCapture()\n",
    "\n",
    "# capture a background image (may be useful for image subtraction)\n",
    "im = grabImages(c, 1)\n",
    "im.save((os.getcwd() + '\\\\' + outDir + '\\\\' + \"fc2TestImage.png\").encode(\"utf-8\"), fc2.IMAGE_FILE_FORMAT.PNG)\n",
    "#cv_image = np.array(img.getData(), dtype=\"uint8\").reshape( (img.getRows(), img.getCols()) );\n",
    "\n",
    "#cv2.imwrite(os.getcwd() + '\\\\' + outDir + '\\\\' + 'background.pgm', a) \n",
    "\n",
    "# change treatment each trial (randomly)\n",
    "ttrt =99999 #int(np.random.choice([1,2], size = 1))\n",
    "print(ttrt)\n",
    "\n",
    "recRew(trt =ttrt, ftestMin=220, ftestMax =450)"
   ]
  },
  {
   "cell_type": "code",
   "execution_count": null,
   "metadata": {
    "collapsed": false
   },
   "outputs": [],
   "source": [
    "## make new folder and move files into that folder\n",
    "hhive = '8'\n",
    "ddate = (datetime.datetime.now().strftime(\"%Y_%m_%d\"))\n",
    "\n",
    "if 'bn' in globals():\n",
    "    bn += 1\n",
    "else:\n",
    "    bn = 282\n",
    "\n",
    "BeeNum = str(bn)\n",
    "\n",
    "\n",
    "\n",
    "if (ttrt == 2):\n",
    "    treatment = \"RewSec\"\n",
    "elif (ttrt == 1):\n",
    "    treatment = \"RewFir\"\n",
    "\n",
    "finFolder = 'B_' + BeeNum + '_' + ddate + '_H_'+  hhive + '_' + treatment\n",
    "\n",
    "# make new folder if it doesn't exist\n",
    "if not os.path.isdir(os.getcwd() + '\\\\' + finFolder):\n",
    "    os.mkdir(os.getcwd() + '\\\\' + finFolder)\n",
    "    \n",
    "    # move files into new folder\n",
    "    #os.rename(os.getcwd() + '\\\\' + outDir, os.getcwd() + '\\\\' + outDir +'\\\\' + finFolder)\n",
    "    os.rename(os.getcwd() + '\\\\' + outDir + '_ampFreq.txt', os.getcwd() + '\\\\' + finFolder + '\\\\' + outDir + '_ampFreq.txt')\n",
    "    \n",
    "    # move folder to new folder\n",
    "    src = os.getcwd() + '\\\\' + outDir\n",
    "    dst = os.getcwd() + '\\\\'  + finFolder + '\\\\'+ outDir\n",
    "    shutil.move(src, dst)\n",
    "    \n",
    "else: \n",
    "    print 'directory already exists'\n",
    "\n",
    "\n",
    "    \n",
    "# calculate mean frequency (only for rewarded buzzes)\n",
    "ff = os.getcwd() + '\\\\' + finFolder + '\\\\' + outDir + '_ampFreq.txt'\n",
    "dd = pd.read_csv(ff, header = None)\n",
    "\n",
    "print \"beeNum \" + str(bn)\n",
    "\n",
    "dd2 = dd[(dd.ix[:,0] > 220) & (dd.ix[:,0] < 450)]\n",
    "\n",
    "\n",
    "print \"total rewards\"\n",
    "print np.sum(np.array(dd2.ix[:,4]) == \" T\")\n",
    "\n",
    "# print \"total buzzes\"\n",
    "# print len(dd2)\n",
    "\n",
    "print \"mean Freq rewarded\"\n",
    "print np.mean(dd2.ix[:,0][dd2.ix[:,4] == \" T\"])\n",
    "\n",
    "print \"total buzzes not rewarded\"\n",
    "print np.sum(np.array(dd2.ix[:,4]) == \" F\")\n",
    "\n",
    "print \"mean Freq Unrewarded\"\n",
    "print np.mean(dd2.ix[:,0][dd2.ix[:,4] == \" F\"])\n",
    "\n",
    "# save metadata to file\n",
    "metadataFile = (datetime.datetime.now().strftime(\"%Y_%m_%d\")) + '_metadata.csv'\n",
    "\n",
    "# make new file if it doesn't exist (with header)\n",
    "if not os.path.isfile(metadataFile):\n",
    "    with open(metadataFile, 'a') as the_file:\n",
    "        the_file.write('timeOfTrial,beeNum,treatment,folder,totalRewards,meanFreqRewarded,totalBuzzesNotRewarded,meanFreqUnrewarded')\n",
    "        the_file.write('\\n')\n",
    "else: \n",
    "    print 'file already exists -- adding to file'\n",
    "\n",
    "# now write data to file                       \n",
    "with open(metadataFile, 'a') as the_file:\n",
    "    the_file.write(outDir + ',' + str(bn) + ','+\n",
    "                   treatment + ',' + \n",
    "                   finFolder + ',' + \n",
    "                   str(np.sum(np.array(dd2.ix[:,4]) == \" T\")) + ',' + \n",
    "                  str(np.mean(dd2.ix[:,0][dd2.ix[:,4] == \" T\"])) + ',' + \n",
    "                  str(np.sum(np.array(dd2.ix[:,4]) == \" F\")) + ',' +\n",
    "                  str(np.mean(dd2.ix[:,0][dd2.ix[:,4] == \" F\"]))\n",
    "                  )\n",
    "    the_file.write('\\n')                 \n"
   ]
  },
  {
   "cell_type": "code",
   "execution_count": null,
   "metadata": {
    "collapsed": true
   },
   "outputs": [],
   "source": []
  },
  {
   "cell_type": "code",
   "execution_count": null,
   "metadata": {
    "collapsed": true
   },
   "outputs": [],
   "source": []
  },
  {
   "cell_type": "code",
   "execution_count": null,
   "metadata": {
    "collapsed": true
   },
   "outputs": [],
   "source": []
  },
  {
   "cell_type": "code",
   "execution_count": null,
   "metadata": {
    "collapsed": true
   },
   "outputs": [],
   "source": []
  },
  {
   "cell_type": "code",
   "execution_count": null,
   "metadata": {
    "collapsed": true
   },
   "outputs": [],
   "source": []
  },
  {
   "cell_type": "code",
   "execution_count": null,
   "metadata": {
    "collapsed": true
   },
   "outputs": [],
   "source": []
  },
  {
   "cell_type": "code",
   "execution_count": null,
   "metadata": {
    "collapsed": false
   },
   "outputs": [],
   "source": [
    "# calculate mean frequency (only for rewarded buzzes)\n",
    "ff = os.getcwd() + '\\\\' + finFolder + '\\\\' + outDir + '_ampFreq.txt'\n",
    "dd = pd.read_csv(ff, header = None)\n",
    "\n",
    "print \"beeNum \" + str(bn)\n",
    "\n",
    "dd2 = dd[(dd.ix[:,0] > 220) & (dd.ix[:,0] < 450)]\n",
    "\n",
    "\n",
    "print \"total rewards\"\n",
    "print np.sum(np.array(dd2.ix[:,4]) == \" T\")\n",
    "\n",
    "# print \"total buzzes\"\n",
    "# print len(dd2)\n",
    "\n",
    "print \"mean Freq rewarded\"\n",
    "print np.mean(dd2.ix[:,0][dd2.ix[:,4] == \" T\"])\n",
    "\n",
    "print \"total buzzes not rewarded\"\n",
    "print np.sum(np.array(dd2.ix[:,4]) == \" F\")\n",
    "\n",
    "print \"mean Freq Unrewarded\"\n",
    "print np.mean(dd2.ix[:,0][dd2.ix[:,4] == \" F\"])\n",
    "\n",
    "# save metadata to file\n",
    "metadataFile = (datetime.datetime.now().strftime(\"%Y_%m_%d\")) + '_metadata.csv'\n",
    "\n",
    "# make new file if it doesn't exist (with header)\n",
    "if not os.path.isfile(metadataFile):\n",
    "    with open(metadataFile, 'a') as the_file:\n",
    "        the_file.write('timeOfTrial,beeNum,treatment,folder,totalRewards,meanFreqRewarded,totalBuzzesNotRewarded,meanFreqUnrewarded')\n",
    "        the_file.write('\\n')\n",
    "else: \n",
    "    print 'file already exists -- adding to file'\n",
    "\n",
    "# now write data to file                       \n",
    "with open(metadataFile, 'a') as the_file:\n",
    "    the_file.write(outDir + ',' + str(bn) + ','+\n",
    "                   treatment + ',' + \n",
    "                   finFolder + ',' + \n",
    "                   str(np.sum(np.array(dd2.ix[:,4]) == \" T\")) + ',' + \n",
    "                  str(np.mean(dd2.ix[:,0][dd2.ix[:,4] == \" T\"])) + ',' + \n",
    "                  str(np.sum(np.array(dd2.ix[:,4]) == \" F\")) + ',' +\n",
    "                  str(np.mean(dd2.ix[:,0][dd2.ix[:,4] == \" F\"]))\n",
    "                  )\n",
    "    the_file.write('\\n')                 \n"
   ]
  },
  {
   "cell_type": "code",
   "execution_count": null,
   "metadata": {
    "collapsed": true
   },
   "outputs": [],
   "source": []
  },
  {
   "cell_type": "code",
   "execution_count": null,
   "metadata": {
    "collapsed": true
   },
   "outputs": [],
   "source": []
  },
  {
   "cell_type": "code",
   "execution_count": null,
   "metadata": {
    "collapsed": true
   },
   "outputs": [],
   "source": []
  },
  {
   "cell_type": "code",
   "execution_count": null,
   "metadata": {
    "collapsed": true
   },
   "outputs": [],
   "source": []
  },
  {
   "cell_type": "code",
   "execution_count": null,
   "metadata": {
    "collapsed": false
   },
   "outputs": [],
   "source": [
    "print \"total rewards\"\n",
    "np.sum(np.array(dd2.ix[:,4]) == \" T\")"
   ]
  },
  {
   "cell_type": "code",
   "execution_count": null,
   "metadata": {
    "collapsed": false
   },
   "outputs": [],
   "source": [
    "print \"total buzzes\"\n",
    "len(dd2)"
   ]
  },
  {
   "cell_type": "code",
   "execution_count": null,
   "metadata": {
    "collapsed": false
   },
   "outputs": [],
   "source": [
    "plt.hist(np.array(dd2.ix[:,0]), bins = 20)"
   ]
  },
  {
   "cell_type": "code",
   "execution_count": null,
   "metadata": {
    "collapsed": false
   },
   "outputs": [],
   "source": [
    "np.array(dd2.ix[:,0])"
   ]
  },
  {
   "cell_type": "code",
   "execution_count": null,
   "metadata": {
    "collapsed": false
   },
   "outputs": [],
   "source": [
    "# get file list in directory\n",
    "fllist = os.listdir(os.getcwd() + '//' + outDir)\n",
    "\n",
    "fpth = [os.getcwd() + '//' + outDir + '//' + ii for ii in fllist]    \n",
    "\n",
    "sust = [os.access(kk, os.W_OK) for kk in fpth]\n",
    "\n",
    "print \"num read only files = \" + str( np.sum(not sust))\n"
   ]
  },
  {
   "cell_type": "code",
   "execution_count": null,
   "metadata": {
    "collapsed": true
   },
   "outputs": [],
   "source": []
  },
  {
   "cell_type": "code",
   "execution_count": null,
   "metadata": {
    "collapsed": true
   },
   "outputs": [],
   "source": []
  },
  {
   "cell_type": "code",
   "execution_count": null,
   "metadata": {
    "collapsed": true
   },
   "outputs": [],
   "source": []
  },
  {
   "cell_type": "code",
   "execution_count": null,
   "metadata": {
    "collapsed": true
   },
   "outputs": [],
   "source": []
  },
  {
   "cell_type": "code",
   "execution_count": null,
   "metadata": {
    "collapsed": true
   },
   "outputs": [],
   "source": []
  },
  {
   "cell_type": "code",
   "execution_count": null,
   "metadata": {
    "collapsed": true
   },
   "outputs": [],
   "source": []
  },
  {
   "cell_type": "code",
   "execution_count": null,
   "metadata": {
    "collapsed": false
   },
   "outputs": [],
   "source": [
    "print fc2.get_library_version()\n",
    "c = fc2.Context()\n",
    "print c\n",
    "print c.get_num_of_cameras()"
   ]
  },
  {
   "cell_type": "code",
   "execution_count": null,
   "metadata": {
    "collapsed": true
   },
   "outputs": [],
   "source": [
    "import shutil"
   ]
  },
  {
   "cell_type": "code",
   "execution_count": null,
   "metadata": {
    "collapsed": false
   },
   "outputs": [],
   "source": [
    "src = os.getcwd() + '\\\\' + outDir\n",
    "dst = os.getcwd() + '\\\\'  + finFolder + '\\\\'+ outDir\n",
    "shutil.move(src, dst)"
   ]
  },
  {
   "cell_type": "code",
   "execution_count": null,
   "metadata": {
    "collapsed": false
   },
   "outputs": [],
   "source": [
    "os.getcwd() + '\\\\' + outDir"
   ]
  },
  {
   "cell_type": "code",
   "execution_count": null,
   "metadata": {
    "collapsed": false
   },
   "outputs": [],
   "source": [
    "# make a continuously-sampling loop that will end if it gets a frequency of 280 Hz\n",
    "# 100000 samples is one second\n",
    "# Note: to get higher resolution for peak freq, I'd need a larger window\n",
    "N_samples = 20000 \n",
    "log_rate = 200000.0\n",
    "\n",
    "ctr = 0\n",
    "\n",
    "\n",
    "taskHandle = TaskHandle()\n",
    "read = int32()\n",
    "data = np.zeros((N_samples,), dtype=np.float64)\n",
    "\n",
    "DAQmxCreateTask(\"\", byref(taskHandle))\n",
    "# I have an piezoelectric accelerometer plugged into channel ai1 with range +/-10V\n",
    "DAQmxCreateAIVoltageChan(taskHandle, \"Dev1/ai0\", \n",
    "                         \"Accelerometer\", DAQmx_Val_Diff, \n",
    "                         -10.0, 10.0, DAQmx_Val_Volts, None)\n",
    "DAQmxCfgSampClkTiming(taskHandle, \"\", log_rate, \n",
    "                      DAQmx_Val_Rising, \n",
    "                      DAQmx_Val_FiniteSamps, N_samples)\n",
    "\n",
    "DAQmxStartTask(taskHandle)\n",
    "DAQmxReadAnalogF64(taskHandle, N_samples, 10.0, \n",
    "                   DAQmx_Val_GroupByChannel, data, \n",
    "                   N_samples, byref(read), None)\n",
    "\n",
    "if taskHandle:\n",
    "    DAQmxStopTask(taskHandle);\n",
    "    DAQmxClearTask(taskHandle);\n",
    "\n",
    "# fft\n",
    "n = len(data) # length of the signal\n",
    "k = np.arange(n)\n",
    "T = n/log_rate\n",
    "frq = k/T # two sides frequency range\n",
    "frq = frq[range(n/2)] # one side frequency range\n",
    "\n",
    "Y = np.fft.fft(data)/n # fft computing and normalization\n",
    "Y = Y[range(n/2)]\n",
    "\n",
    "# calculate top frequency\n",
    "ind = np.argpartition(abs(Y), -4)[-4:]\n",
    "# Find highest point on the spectrum\n",
    "peakFrq = frq[ind[::-1]]\n",
    "pwr = (abs(Y)[ind[::-1]])\n",
    "domPK = [x for (y,x) in sorted(zip(pwr,peakFrq), reverse = True)][0]\n",
    "\n",
    "beeFrqPwr = pwr[peakFrq == domPK]\n",
    "# print beeFrq in peakFrq, peakFrq[pwr == max(pwr)], beeFrqPwr, beeFrqPwr > 0.3\n",
    "\n",
    "# if the bee is vibrating at a high enough power and the dominant peak from the \n",
    "# vibration is in the right range\n",
    "\n",
    "reward = 'F'\n",
    "\n",
    "aamp = np.max(data) - np.min(data)\n",
    "# write value to serial port, and get it to start the turn on the motor\n",
    "s3 = str(datetime.datetime.now().strftime(\"%Y_%m_%d__%H_%M_%S_%f\")[:-3]) # time with milliseconds\n",
    "print(s3 + \" topFreq = \" + str(domPK) + \" amp = \" + str(aamp))\n",
    "\n",
    "# reward only give pollen at specific frequencies and ampliude threshold\n",
    "############################### PLOT ##################################\n",
    "# create subplot 1\n",
    "ax1 = plt.subplot(211)\n",
    "ax1.plot(np.array(range(len(data)))/ float(log_rate), data)\n",
    "ax1.set_ylabel(\"Volts\")\n",
    "ax1.set_xlabel(\"time (s)\")\n",
    "if reward == 'T':\n",
    "    ax1.set_facecolor('grey')\n",
    "\n",
    "# create subplot 2\n",
    "ax2 = plt.subplot(212)\n",
    "ax2.plot(frq,abs(Y),'r')\n",
    "ax2.plot(domPK, beeFrqPwr, 'ro')\n",
    "ax2.set_xlim(20, 1000)\n",
    "ax2.set_ylabel('power')\n",
    "ax2.set_xlabel('frequency')\n",
    "plt.tight_layout()\n",
    "plt.show()"
   ]
  },
  {
   "cell_type": "code",
   "execution_count": null,
   "metadata": {
    "collapsed": false
   },
   "outputs": [],
   "source": [
    "data"
   ]
  },
  {
   "cell_type": "code",
   "execution_count": null,
   "metadata": {
    "collapsed": true
   },
   "outputs": [],
   "source": [
    "# fft\n",
    "n = len(data) # length of the signal\n",
    "k = np.arange(n)\n",
    "T = n/log_rate\n",
    "frq = k/T # two sides frequency range\n",
    "frq = frq[range(n/2)] # one side frequency range\n",
    "\n",
    "Y = np.fft.fft(data)/n # fft computing and normalization"
   ]
  },
  {
   "cell_type": "code",
   "execution_count": null,
   "metadata": {
    "collapsed": true
   },
   "outputs": [],
   "source": [
    "Y = Y[range(n/2)]"
   ]
  },
  {
   "cell_type": "code",
   "execution_count": null,
   "metadata": {
    "collapsed": false
   },
   "outputs": [],
   "source": [
    "ps = np.abs(np.fft.fft(data))**2\n",
    "\n",
    "time_step = 1/100000000.0\n",
    "freqs = np.fft.fftfreq(data.size, time_step)\n",
    "idx = np.argsort(freqs)\n",
    "\n",
    "ax2 = plt.subplot(212)\n",
    "ax2.plot(freqs[idx] / 1000, ps[idx],'r')\n",
    "ax2.set_xlim(420, 450)"
   ]
  },
  {
   "cell_type": "code",
   "execution_count": null,
   "metadata": {
    "collapsed": false
   },
   "outputs": [],
   "source": [
    "freqs"
   ]
  },
  {
   "cell_type": "code",
   "execution_count": null,
   "metadata": {
    "collapsed": true
   },
   "outputs": [],
   "source": [
    "# calculate top frequency\n",
    "ind = np.argpartition(abs(Y), -4)[-4:]\n",
    "# Find highest point on the spectrum\n",
    "peakFrq = frq[ind[::-1]]\n",
    "pwr = (abs(Y)[ind[::-1]])\n",
    "domPK = [x for (y,x) in sorted(zip(pwr,peakFrq), reverse = True)][0]"
   ]
  },
  {
   "cell_type": "code",
   "execution_count": null,
   "metadata": {
    "collapsed": false
   },
   "outputs": [],
   "source": [
    "Y"
   ]
  },
  {
   "cell_type": "code",
   "execution_count": null,
   "metadata": {
    "collapsed": true
   },
   "outputs": [],
   "source": []
  },
  {
   "cell_type": "code",
   "execution_count": null,
   "metadata": {
    "collapsed": true
   },
   "outputs": [],
   "source": []
  },
  {
   "cell_type": "code",
   "execution_count": null,
   "metadata": {
    "collapsed": false
   },
   "outputs": [],
   "source": [
    "# change python directory to desktop\n",
    "os.chdir('C:\\\\Users\\\\Combes4\\\\Desktop\\\\')\n",
    "os.getcwd()\n",
    "\n",
    "# make new directory with date, if it doesn't already exist\n",
    "outDir = (datetime.datetime.now().strftime(\"%Y_%m_%d__%H_%M_%S\"))\n",
    "#outDir = 'accelShake_009_05092016'\n",
    "\n",
    "if not os.path.isdir(os.getcwd() + '\\\\' + outDir):\n",
    "    os.mkdir(os.getcwd() + '\\\\' + outDir)\n",
    "    print 'new directory created: ' + str(outDir)\n",
    "else: print 'directory exists: '  + str(outDir)\n",
    "\n",
    "print \"the current python direcory is \" + str(os.getcwd())\n",
    "\n",
    "# make new file\n",
    "open(str(outDir)+ '_ampFreq.txt', 'a').close()"
   ]
  },
  {
   "cell_type": "code",
   "execution_count": null,
   "metadata": {
    "collapsed": true
   },
   "outputs": [],
   "source": []
  },
  {
   "cell_type": "code",
   "execution_count": null,
   "metadata": {
    "collapsed": false
   },
   "outputs": [],
   "source": [
    "# change python directory to desktop\n",
    "os.chdir('C:\\\\Users\\\\Combes4\\\\Desktop\\\\')                    \n",
    "os.getcwd()\n",
    "\n",
    "# make new directory with date, if it doesn't already exist\n",
    "outDir = (datetime.datetime.now().strftime(\"%Y_%m_%d__%H_%M_%S\"))\n",
    "#outDir = 'accelShake_009_05092016'\n",
    "\n",
    "if not os.path.isdir(os.getcwd() + '\\\\' + outDir):\n",
    "    os.mkdir(os.getcwd() + '\\\\' + outDir)\n",
    "    print 'new directory created: ' + str(outDir)\n",
    "else: print 'directory exists: '  + str(outDir)\n",
    "\n",
    "print \"the current python direcory is \" + str(os.getcwd())\n",
    "\n",
    "\n",
    "## alternative, increasing amplitude version\n",
    "\n",
    "# loop to look for specific frequencies\n",
    "fmin =5\n",
    "fmax = 450\n",
    "\n",
    "ftestMin = 220\n",
    "ftestMax = 450\n",
    "\n",
    "ampThresh = 0.0\n",
    "\n",
    "counterAlarm = 30\n",
    "\n",
    "peakFrq = np.array(0)\n",
    "pwr = np.array(0)\n",
    "pwrCutoff = 0.004\n",
    "sleepTime = 0 # seconds\n",
    "\n",
    "# make a continuously-sampling loop that will end if it gets a frequency of 280 Hz\n",
    "# 100000 samples is one second\n",
    "# Note: to get higher resolution for peak freq, I'd need a larger window\n",
    "N_samples = 10000 \n",
    "log_rate = 100000.0\n",
    "\n",
    "ctr = 0\n",
    "\n",
    "# open text file\n",
    "with open(str(outDir)+ '_ampFreq.txt', 'a') as text_file:  \n",
    "\n",
    "    # clear characters waiting to be read\n",
    "    while msvcrt.kbhit():\n",
    "        msvcrt.getch()\n",
    "        print 'clearing characters ...'\n",
    "\n",
    "    while True:\n",
    "        taskHandle = TaskHandle()\n",
    "        read = int32()\n",
    "        data = np.zeros((N_samples,), dtype=np.float64)\n",
    "\n",
    "        DAQmxCreateTask(\"\", byref(taskHandle))\n",
    "        # I have an piezoelectric accelerometer plugged into channel ai1 with range +/-10V\n",
    "        DAQmxCreateAIVoltageChan(taskHandle, \"Dev1/ai0\", \n",
    "                                 \"Accelerometer\", DAQmx_Val_Diff, \n",
    "                                 -10.0, 10.0, DAQmx_Val_Volts, None)\n",
    "        DAQmxCfgSampClkTiming(taskHandle, \"\", log_rate, \n",
    "                              DAQmx_Val_Rising, \n",
    "                              DAQmx_Val_FiniteSamps, N_samples)\n",
    "\n",
    "        DAQmxStartTask(taskHandle)\n",
    "        DAQmxReadAnalogF64(taskHandle, N_samples, 10.0, \n",
    "                           DAQmx_Val_GroupByChannel, data, \n",
    "                           N_samples, byref(read), None)\n",
    "\n",
    "        if taskHandle:\n",
    "            DAQmxStopTask(taskHandle);\n",
    "            DAQmxClearTask(taskHandle);\n",
    "\n",
    "        # fft\n",
    "        n = len(data) # length of the signal\n",
    "        k = np.arange(n)\n",
    "        T = n/log_rate\n",
    "        frq = k/T # two sides frequency range\n",
    "        frq = frq[range(n/2)] # one side frequency range\n",
    "\n",
    "        Y = np.fft.fft(data)/n # fft computing and normalization\n",
    "        Y = Y[range(n/2)]\n",
    "\n",
    "        # calculate top frequency\n",
    "        ind = np.argpartition(abs(Y), -4)[-4:]\n",
    "        # Find highest point on the spectrum\n",
    "        peakFrq = frq[ind[::-1]]\n",
    "        pwr = (abs(Y)[ind[::-1]])\n",
    "        domPK = [x for (y,x) in sorted(zip(pwr,peakFrq), reverse = True)][0]\n",
    "\n",
    "        beeFrqPwr = pwr[peakFrq == domPK]\n",
    "        # print beeFrq in peakFrq, peakFrq[pwr == max(pwr)], beeFrqPwr, beeFrqPwr > 0.3\n",
    "\n",
    "        # if the bee is vibrating at a high enough power and the dominant peak from the \n",
    "        # vibration is in the right range\n",
    "        if beeFrqPwr > pwrCutoff and domPK > fmin and domPK < fmax:\n",
    "            reward = 'F'\n",
    "            \n",
    "            aamp = np.max(data) - np.min(data)\n",
    "            # write value to serial port, and get it to start the turn on the motor\n",
    "            s3 = str(datetime.datetime.now().strftime(\"%Y_%m_%d__%H_%M_%S_%f\")[:-3]) # time with milliseconds\n",
    "            print(s3 + \" topFreq = \" + str(domPK) + \" amp = \" + str(aamp))\n",
    "            \n",
    "            # reward only give pollen at specific frequencies and ampliude threshold\n",
    "            if domPK > ftestMin and domPK < ftestMax and aamp > ampThresh:\n",
    "                written = ser1.write(\"20\")\n",
    "                ctr = ctr + 1\n",
    "                print('reward ' + str(ctr))\n",
    "                reward = 'T'\n",
    "                ampThresh = ampThresh + 0.02\n",
    "                \n",
    "                # beep for end of program\n",
    "                if ctr > counterAlarm - 5:\n",
    "                    for i in range(counterAlarm - ctr):\n",
    "                        winsound.Beep(400,100)\n",
    "\n",
    "                if ctr > counterAlarm:\n",
    "                    for i in range(counterAlarm - ctr):\n",
    "                        winsound.Beep(400,500)\n",
    "\n",
    "            ############################### PLOT ##################################\n",
    "            # create subplot 1\n",
    "            ax1 = plt.subplot(211)\n",
    "            ax1.plot(np.array(range(len(data)))/ float(log_rate), data)\n",
    "            ax1.set_ylabel(\"Volts\")\n",
    "            ax1.set_xlabel(\"time (s)\")\n",
    "\n",
    "            # create subplot 2\n",
    "            ax2 = plt.subplot(212)\n",
    "            ax2.plot(frq,abs(Y),'r')\n",
    "            ax2.plot(domPK, beeFrqPwr, 'ro')\n",
    "            ax2.set_xlim(20, 1000)\n",
    "            ax2.set_ylabel('power')\n",
    "            ax2.set_xlabel('frequency')\n",
    "            plt.tight_layout()\n",
    "            plt.show()\n",
    "\n",
    "\n",
    "            #################### SAVE FILE FROM ACCEL ##############################\n",
    "            np.savetxt(os.getcwd() + '\\\\' + outDir + '\\\\' + s3+ '_' + str(ftestMin) + '_' + str(ftestMax) + '.txt', \n",
    "                       (np.array(range(len(data)))/ float(log_rate), data), delimiter = ' ')\n",
    "\n",
    "            ### write frequency and amplitude to file on desktop\n",
    "            var1 = str(domPK) + ', ' + str(round(np.max(data) - np.min(data), 5)) + ', ' + s3 + ', ' + str(ctr) +', ' + str(reward) + ', '+ str(ampThresh) + '\\n'\n",
    "            text_file.writelines(var1)\n",
    "\n",
    "            # sleep\n",
    "            time.sleep(sleepTime)\n",
    "            \n",
    "           \n",
    "\n",
    "        # break loop if someone presses the 'q' while in terminal\n",
    "        if msvcrt.kbhit():\n",
    "            if msvcrt.getch() == 'q':\n",
    "                print 'keyboard q pressed, now quitting loop'\n",
    "                for i in range(5):\n",
    "                    winsound.Beep(450,100)\n",
    "                break   \n",
    "            else:\n",
    "                written = ser1.write(\"20\")\n"
   ]
  },
  {
   "cell_type": "code",
   "execution_count": null,
   "metadata": {
    "collapsed": true
   },
   "outputs": [],
   "source": [
    "import random"
   ]
  },
  {
   "cell_type": "code",
   "execution_count": null,
   "metadata": {
    "collapsed": false
   },
   "outputs": [],
   "source": [
    "random.sample(np.arange(1,5),4)"
   ]
  },
  {
   "cell_type": "code",
   "execution_count": null,
   "metadata": {
    "collapsed": true
   },
   "outputs": [],
   "source": []
  }
 ],
 "metadata": {
  "kernelspec": {
   "display_name": "pyfly35",
   "language": "python",
   "name": "python3_5_pyfly"
  },
  "language_info": {
   "codemirror_mode": {
    "name": "ipython",
    "version": 3
   },
   "file_extension": ".py",
   "mimetype": "text/x-python",
   "name": "python",
   "nbconvert_exporter": "python",
   "pygments_lexer": "ipython3",
   "version": "3.5.4"
  }
 },
 "nbformat": 4,
 "nbformat_minor": 2
}
