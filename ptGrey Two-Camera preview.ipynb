{
 "cells": [
  {
   "cell_type": "code",
   "execution_count": 14,
   "metadata": {
    "collapsed": true
   },
   "outputs": [],
   "source": [
    "## Callin Switzer\n",
    "## 2 Nov 2017\n",
    "## Capture Images from pt grey camera"
   ]
  },
  {
   "cell_type": "code",
   "execution_count": 15,
   "metadata": {
    "collapsed": false
   },
   "outputs": [],
   "source": [
    "# setup arduino\n",
    "% matplotlib inline\n",
    "import matplotlib.pyplot as plt\n",
    "import numpy as np\n",
    "import cv2\n",
    "\n",
    "import datetime\n",
    "\n",
    "import PyCapture2 as fc2\n",
    "import sys\n",
    "\n",
    "import time\n",
    "\n",
    "import os\n",
    "import peakutils \n",
    "import msvcrt\n",
    "import winsound\n",
    "import shutil\n",
    "import pandas as pd\n",
    "\n",
    "import skimage.io as io"
   ]
  },
  {
   "cell_type": "code",
   "execution_count": 16,
   "metadata": {
    "collapsed": false
   },
   "outputs": [
    {
     "name": "stdout",
     "output_type": "stream",
     "text": [
      "last update: 2017-11-14 14:36:05.090400\n"
     ]
    }
   ],
   "source": [
    "print(\"last update: \"  +  str(datetime.datetime.now()))"
   ]
  },
  {
   "cell_type": "code",
   "execution_count": 17,
   "metadata": {
    "collapsed": false
   },
   "outputs": [
    {
     "name": "stdout",
     "output_type": "stream",
     "text": [
      "Number of cameras detected:  2\n"
     ]
    }
   ],
   "source": [
    "# capture image with point grey camera\n",
    "bus = fc2.BusManager()\n",
    "numCams = bus.getNumOfCameras()\n",
    "print(\"Number of cameras detected: \", numCams)\n",
    "if not numCams:\n",
    "    print(\"Insufficient number of cameras. Exiting...\")\n",
    "    exit()"
   ]
  },
  {
   "cell_type": "code",
   "execution_count": 18,
   "metadata": {
    "collapsed": false
   },
   "outputs": [],
   "source": [
    "def enableEmbeddedTimeStamp(cam, enableTimeStamp):\n",
    "    embeddedInfo = cam.getEmbeddedImageInfo()\n",
    "    if embeddedInfo.available.timestamp:\n",
    "        cam.setEmbeddedImageInfo(timestamp = enableTimeStamp)\n",
    "        if(enableTimeStamp):\n",
    "            print(\"\\nTimeStamp is enabled.\\n\")\n",
    "        else:\n",
    "            print(\"\\nTimeStamp is disabled.\\n\")"
   ]
  },
  {
   "cell_type": "code",
   "execution_count": 19,
   "metadata": {
    "collapsed": true
   },
   "outputs": [],
   "source": [
    "%qtconsole# Select camera on 0th index\n"
   ]
  },
  {
   "cell_type": "code",
   "execution_count": 20,
   "metadata": {
    "collapsed": false
   },
   "outputs": [],
   "source": [
    "def printCameraInfo(cam):\n",
    "    camInfo = cam.getCameraInfo()\n",
    "    print(\"\\n*** CAMERA INFORMATION ***\\n\")\n",
    "    print(\"Serial number - \", camInfo.serialNumber)\n",
    "    print(\"Camera model - \", camInfo.modelName)\n",
    "    print(\"Camera vendor - \", camInfo.vendorName)\n",
    "    print(\"Sensor - \", camInfo.sensorInfo)\n",
    "    print(\"Resolution - \", camInfo.sensorResolution)\n",
    "    print(\"Firmware version - \", camInfo.firmwareVersion)\n",
    "    print(\"Firmware build time - \", camInfo.firmwareBuildTime)\n",
    "    print()"
   ]
  },
  {
   "cell_type": "code",
   "execution_count": 21,
   "metadata": {
    "collapsed": false
   },
   "outputs": [
    {
     "name": "stdout",
     "output_type": "stream",
     "text": [
      "\n",
      "*** CAMERA INFORMATION ***\n",
      "\n",
      "Serial number -  16061221\n",
      "Camera model -  b'Chameleon3 CM3-U3-13Y3C'\n",
      "Camera vendor -  b'Point Grey Research'\n",
      "Sensor -  b'OnSemi PYTHON1300 (1/2\" Color CMOS)'\n",
      "Resolution -  b'1280x1024'\n",
      "Firmware version -  b'1.9.3.0'\n",
      "Firmware build time -  b'Mon Jul 27 20:45:52 2015'\n",
      "\n",
      "\n",
      "*** CAMERA INFORMATION ***\n",
      "\n",
      "Serial number -  16060682\n",
      "Camera model -  b'Chameleon3 CM3-U3-13Y3C'\n",
      "Camera vendor -  b'Point Grey Research'\n",
      "Sensor -  b'OnSemi PYTHON1300 (1/2\" Color CMOS)'\n",
      "Resolution -  b'1280x1024'\n",
      "Firmware version -  b'1.9.3.0'\n",
      "Firmware build time -  b'Mon Jul 27 20:45:52 2015'\n",
      "\n"
     ]
    }
   ],
   "source": [
    "c = fc2.Camera()\n",
    "c.connect(bus.getCameraFromIndex(0))\n",
    "printCameraInfo(c)\n",
    "\n",
    "d = fc2.Camera()\n",
    "d.connect(bus.getCameraFromIndex(1))\n",
    "printCameraInfo(d)"
   ]
  },
  {
   "cell_type": "code",
   "execution_count": 22,
   "metadata": {
    "collapsed": true
   },
   "outputs": [],
   "source": [
    "def img2array(image):\n",
    "    return(np.array(image.getData(), dtype=\"uint8\").reshape( (image.getRows(), image.getCols()) ))"
   ]
  },
  {
   "cell_type": "code",
   "execution_count": 23,
   "metadata": {
    "collapsed": false
   },
   "outputs": [],
   "source": [
    "# display images via live preview\n",
    "\n",
    "def livePreview2():\n",
    "    cv2.namedWindow('image',cv2.WINDOW_NORMAL)\n",
    "    cv2.resizeWindow('image', 1000,800)\n",
    "    while(True):\n",
    "        stt = time.time()\n",
    "        # Capture frame-by-frame\n",
    "        image = c.retrieveBuffer()\n",
    "        image2 = d.retrieveBuffer()\n",
    "        img = np.concatenate((img2array(image), img2array(image2)), axis = 1)\n",
    "\n",
    "        # Our operations on the frame come here\n",
    "        #gray = cv2.cvtColor(frame, cv2.COLOR_BGR2GRAY)\n",
    "\n",
    "        # Display the resulting frame\n",
    "        cv2.imshow('image', img)\n",
    "        \n",
    "        print(time.time() - stt)\n",
    "\n",
    "        # break when \"q\" is pressed on keyboard\n",
    "        if cv2.waitKey(1) & 0xFF == ord('q'):\n",
    "            for jj in range(10):\n",
    "                cv2.destroyAllWindows()\n",
    "            break\n",
    "\n"
   ]
  },
  {
   "cell_type": "code",
   "execution_count": 24,
   "metadata": {
    "collapsed": true
   },
   "outputs": [],
   "source": [
    "c = fc2.Camera()\n",
    "c.connect(bus.getCameraFromIndex(0))\n",
    "c.startCapture()\n",
    "\n",
    "d = fc2.Camera()\n",
    "d.connect(bus.getCameraFromIndex(1))\n",
    "d.startCapture()"
   ]
  },
  {
   "cell_type": "code",
   "execution_count": 25,
   "metadata": {
    "collapsed": false
   },
   "outputs": [
    {
     "name": "stdout",
     "output_type": "stream",
     "text": [
      "0.3887901306152344\n",
      "0.3207275867462158\n",
      "0.3107476234436035\n",
      "0.30071067810058594\n",
      "0.31772327423095703\n",
      "0.3267331123352051\n",
      "0.3307359218597412\n",
      "0.29520583152770996\n",
      "0.30258893966674805\n",
      "0.2972095012664795\n",
      "0.2997090816497803\n",
      "0.3042151927947998\n",
      "0.3022136688232422\n",
      "0.3047144412994385\n",
      "0.3052182197570801\n",
      "0.30072808265686035\n",
      "0.29671263694763184\n",
      "0.30021071434020996\n",
      "0.3042314052581787\n",
      "0.302196741104126\n",
      "0.2972104549407959\n",
      "0.3112215995788574\n",
      "0.30971837043762207\n",
      "0.30123209953308105\n",
      "0.31072449684143066\n",
      "0.3127248287200928\n",
      "0.31774210929870605\n",
      "0.3197462558746338\n",
      "0.3067340850830078\n",
      "0.29620361328125\n",
      "0.3162076473236084\n"
     ]
    }
   ],
   "source": [
    "livePreview2()"
   ]
  },
  {
   "cell_type": "code",
   "execution_count": 26,
   "metadata": {
    "collapsed": false
   },
   "outputs": [],
   "source": [
    "# When everything done, release the capture\n",
    "c.stopCapture()\n",
    "c.disconnect()\n",
    "\n",
    "d.stopCapture()\n",
    "d.disconnect()\n",
    "cv2.destroyAllWindows()"
   ]
  },
  {
   "cell_type": "code",
   "execution_count": null,
   "metadata": {
    "collapsed": true
   },
   "outputs": [],
   "source": []
  },
  {
   "cell_type": "code",
   "execution_count": null,
   "metadata": {
    "collapsed": true
   },
   "outputs": [],
   "source": []
  },
  {
   "cell_type": "code",
   "execution_count": null,
   "metadata": {
    "collapsed": true
   },
   "outputs": [],
   "source": []
  }
 ],
 "metadata": {
  "kernelspec": {
   "display_name": "pyfly35",
   "language": "python",
   "name": "python3_5_pyfly"
  },
  "language_info": {
   "codemirror_mode": {
    "name": "ipython",
    "version": 3
   },
   "file_extension": ".py",
   "mimetype": "text/x-python",
   "name": "python",
   "nbconvert_exporter": "python",
   "pygments_lexer": "ipython3",
   "version": "3.5.4"
  }
 },
 "nbformat": 4,
 "nbformat_minor": 2
}
