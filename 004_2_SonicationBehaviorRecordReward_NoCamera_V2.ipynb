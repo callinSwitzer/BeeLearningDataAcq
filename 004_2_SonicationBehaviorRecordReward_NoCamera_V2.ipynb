{
 "cells": [
  {
   "cell_type": "markdown",
   "metadata": {},
   "source": [
    "# Acquire data from accelerometer from DAQ Board\n",
    "## Callin Switzer\n",
    "## python 3 (pyfly35 environment)\n",
    "## 22 Jan 2017\n"
   ]
  },
  {
   "cell_type": "markdown",
   "metadata": {},
   "source": [
    "Download nidaq driver for ni USB-6229 (save to thumb drive)\n",
    "\n",
    "Download/update anaconda\n",
    "\n",
    "download PyDAQmx\n",
    "\n",
    "download pySerial (conda install pySerial)\n",
    "\n",
    "upload code to Arduinos (001_Stepper_and_DCMotor)"
   ]
  },
  {
   "cell_type": "markdown",
   "metadata": {},
   "source": [
    "# Setup"
   ]
  },
  {
   "cell_type": "markdown",
   "metadata": {},
   "source": [
    "- import packages\n",
    "- connect to arduino boards\n",
    "- print system information and timestamp"
   ]
  },
  {
   "cell_type": "code",
   "execution_count": 1,
   "metadata": {
    "collapsed": true
   },
   "outputs": [
    {
     "name": "stdout",
     "output_type": "stream",
     "text": [
      "3.5.4 |Anaconda custom (64-bit)| (default, Sep 19 2017, 08:15:17) [MSC v.1900 64 bit (AMD64)]\n",
      "last run on 2018-07-17 16:10:47.656558\n",
      "directory where data will be deposited: C:\\Users\\Combes4\\Desktop\\temp3\\\n",
      "_____________________________________________\n",
      "connected to arduino on COM3\n",
      "connected to arduino on COM5\n"
     ]
    }
   ],
   "source": [
    "from DataAcqUtils import *"
   ]
  },
  {
   "cell_type": "markdown",
   "metadata": {},
   "source": [
    "# Test motors"
   ]
  },
  {
   "cell_type": "code",
   "execution_count": 2,
   "metadata": {
    "collapsed": true
   },
   "outputs": [],
   "source": [
    "# stepper only\n",
    "written = ser1.write(\"s\".encode(\"utf-8\"))\n",
    "written = ser2.write(\"s\".encode(\"utf-8\"))"
   ]
  },
  {
   "cell_type": "code",
   "execution_count": 3,
   "metadata": {
    "collapsed": false
   },
   "outputs": [],
   "source": [
    "# vibration motor only\n",
    "written = ser1.write(\"v\".encode(\"utf-8\"))\n",
    "written = ser2.write(\"v\".encode(\"utf-8\"))"
   ]
  },
  {
   "cell_type": "markdown",
   "metadata": {},
   "source": [
    "Run the following cell until pollen comes out on every iteration"
   ]
  },
  {
   "cell_type": "code",
   "execution_count": 4,
   "metadata": {
    "collapsed": false
   },
   "outputs": [],
   "source": [
    "# both motors\n",
    "written = ser1.write(\"sv\".encode(\"utf-8\"))\n",
    "written = ser2.write(\"sv\".encode(\"utf-8\"))"
   ]
  },
  {
   "cell_type": "markdown",
   "metadata": {},
   "source": [
    "# Test accelerometers"
   ]
  },
  {
   "cell_type": "code",
   "execution_count": 5,
   "metadata": {
    "collapsed": false
   },
   "outputs": [
    {
     "data": {
      "image/png": "[encoded data removed]",
      "text/plain": [
       "<matplotlib.figure.Figure at 0x1d6b4739b70>"
      ]
     },
     "metadata": {},
     "output_type": "display_data"
    },
    {
     "data": {
      "image/png": "[encoded data removed]",
      "text/plain": [
       "<matplotlib.figure.Figure at 0x1d6b6bd1fd0>"
      ]
     },
     "metadata": {},
     "output_type": "display_data"
    },
    {
     "data": {
      "text/plain": [
       "[None, None]"
      ]
     },
     "execution_count": 5,
     "metadata": {},
     "output_type": "execute_result"
    }
   ],
   "source": [
    "# test accelerometers\n",
    "acc1 = accelDta(\"Dev2/ai0\")\n",
    "acc2 = accelDta(\"Dev2/ai1\")\n",
    "[j.readAccel() for j in [acc1, acc2]]\n",
    "[k.FFT() for k in [acc1, acc2]]\n",
    "[kk.plotFFT() for kk in [acc1, acc2]]"
   ]
  },
  {
   "cell_type": "markdown",
   "metadata": {},
   "source": [
    "# Experimental Start"
   ]
  },
  {
   "cell_type": "code",
   "execution_count": 17,
   "metadata": {
    "collapsed": false
   },
   "outputs": [
    {
     "name": "stdout",
     "output_type": "stream",
     "text": [
      "reward_1:True, reward_2:False\n"
     ]
    }
   ],
   "source": [
    "# determine the treatments\n",
    "reward1, reward2 = randomAssignTreatment()"
   ]
  },
  {
   "cell_type": "markdown",
   "metadata": {},
   "source": [
    "#### Change values in the next cell\n",
    "---"
   ]
  },
  {
   "cell_type": "code",
   "execution_count": 18,
   "metadata": {
    "collapsed": false,
    "scrolled": true
   },
   "outputs": [
    {
     "name": "stdout",
     "output_type": "stream",
     "text": [
      "keyboard q pressed\n",
      "now quitting loop\n",
      "data saved to C:\\Users\\Combes4\\Desktop\\temp3\\2018_07_17__16_11_39_895\n"
     ]
    }
   ],
   "source": [
    "# Recording program\n",
    "# you fill in True/False here, for each trial\n",
    "reward_1 = True\n",
    "reward_2 = False\n",
    "\n",
    "\n",
    "##____________________Don't change anything below_________________________##\n",
    "# check rewards have been typed correctly\n",
    "assert(reward1 == reward_1 and reward2 == reward_2), \"Entered rewards do not match generated rewards\"\n",
    "\n",
    "# this function will time out after 5 min or 100 buzzes\n",
    "# it will save data in the folder, \"C:\\\\Users\\\\Combes4\\\\Desktop\\\\temp3\\\\\"\n",
    "trialFile = run_trial(reward_1, reward_2, acc1, acc2)"
   ]
  },
  {
   "cell_type": "markdown",
   "metadata": {},
   "source": [
    "# Post processing\n",
    "___\n",
    "#### Change values in the next cell\n",
    "___"
   ]
  },
  {
   "cell_type": "code",
   "execution_count": 19,
   "metadata": {
    "collapsed": false,
    "scrolled": true
   },
   "outputs": [
    {
     "name": "stdout",
     "output_type": "stream",
     "text": [
      "0 avi files moved\n"
     ]
    },
    {
     "data": {
      "text/html": [
       "<div>\n",
       "<style>\n",
       "    .dataframe thead tr:only-child th {\n",
       "        text-align: right;\n",
       "    }\n",
       "\n",
       "    .dataframe thead th {\n",
       "        text-align: left;\n",
       "    }\n",
       "\n",
       "    .dataframe tbody tr th {\n",
       "        vertical-align: top;\n",
       "    }\n",
       "</style>\n",
       "<table border=\"1\" class=\"dataframe\">\n",
       "  <thead>\n",
       "    <tr style=\"text-align: right;\">\n",
       "      <th></th>\n",
       "      <th>Amp_V</th>\n",
       "      <th>freq_Hz</th>\n",
       "      <th>accNum</th>\n",
       "      <th>rewardStatus</th>\n",
       "      <th>timestamp</th>\n",
       "      <th>treatment</th>\n",
       "      <th>colonyNum</th>\n",
       "      <th>ITSpan_mm</th>\n",
       "      <th>Notes</th>\n",
       "    </tr>\n",
       "  </thead>\n",
       "  <tbody>\n",
       "  </tbody>\n",
       "</table>\n",
       "</div>"
      ],
      "text/plain": [
       "Empty DataFrame\n",
       "Columns: [Amp_V, freq_Hz, accNum, rewardStatus, timestamp, treatment, colonyNum, ITSpan_mm, Notes]\n",
       "Index: []"
      ]
     },
     "execution_count": 19,
     "metadata": {},
     "output_type": "execute_result"
    }
   ],
   "source": [
    "# post-processing \n",
    "colonyNum = 5\n",
    "IT_span = 4.19 # in mm\n",
    "Notes = \"No pollen collected on corbicula.\" # leave as \"\", if there are no notes\n",
    "\n",
    "#_____________________Don't change anything below____________________________#\n",
    "\n",
    "\n",
    "# add colony number and ITspan and notes to csv file\n",
    "fname = trialFile\n",
    "csv_input = pd.read_csv(fname)\n",
    "csv_input['colonyNum'] = colonyNum\n",
    "csv_input['ITSpan_mm'] = IT_span\n",
    "csv_input['Notes'] = Notes\n",
    "csv_input.to_csv(fname, index=False)\n",
    "\n",
    "# move videos from temp3 folder to trial folder\n",
    "aviFiles = [f for f in os.listdir(os.path.dirname(os.path.dirname(trialFile))) if f.endswith(\".avi\")]\n",
    "\n",
    "# move all avi files in TMP3 folder to sub folder\n",
    "tmp = [shutil.move(os.path.join(os.path.dirname(os.path.dirname(trialFile)), aviFiles[ii]), \n",
    "             os.path.join(os.path.dirname(trialFile), aviFiles[ii])) for ii in range(len(aviFiles))]\n",
    "print(str(len(tmp)) + \" avi files moved\")\n",
    "\n",
    "csv_input.head()"
   ]
  },
  {
   "cell_type": "code",
   "execution_count": null,
   "metadata": {
    "collapsed": false
   },
   "outputs": [],
   "source": [
    "# copy the main data file to dropbox\n",
    "dropboxDir = \"D:\\\\Dropbox\\\\UW\\\\ExperWinter2018\\\\BeeTwoFlowerChoiceData\\\\\"\n",
    "\n",
    "#fileToCopy =  r\"C:\\Users\\Combes4\\Desktop\\temp3\\2018_02_27__10_42_46_336\\2018_02_27__10_42_46_336.csv\"\n",
    "fileToCopy =  trialFile\n",
    "\n",
    "#refref double check file to copy\n",
    "shutil.copy(fileToCopy, dropboxDir)"
   ]
  },
  {
   "cell_type": "code",
   "execution_count": null,
   "metadata": {
    "collapsed": false
   },
   "outputs": [],
   "source": [
    "# may do this by hand\n",
    "# move the other data to the big hard drive (takes a little while)\n",
    "# backupDir = 'D:\\\\BeeTwoFlowerExperiment\\\\'\n",
    "\n",
    "# directoryToMove = os.path.dirname(fileToCopy)\n",
    "# stt = time.time()\n",
    "# shutil.move(directoryToMove, backupDir)\n",
    "# print(np.round((time.time() - stt) / 60, 2), \"minutes\")"
   ]
  },
  {
   "cell_type": "markdown",
   "metadata": {},
   "source": [
    "--- END ---"
   ]
  }
 ],
 "metadata": {
  "kernelspec": {
   "display_name": "pyfly35",
   "language": "python",
   "name": "python3_5_pyfly"
  },
  "language_info": {
   "codemirror_mode": {
    "name": "ipython",
    "version": 3
   },
   "file_extension": ".py",
   "mimetype": "text/x-python",
   "name": "python",
   "nbconvert_exporter": "python",
   "pygments_lexer": "ipython3",
   "version": "3.5.4"
  }
 },
 "nbformat": 4,
 "nbformat_minor": 2
}
