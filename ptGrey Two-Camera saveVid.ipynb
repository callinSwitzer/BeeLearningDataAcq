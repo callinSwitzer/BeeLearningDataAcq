{
 "cells": [
  {
   "cell_type": "code",
   "execution_count": 1,
   "metadata": {
    "collapsed": true
   },
   "outputs": [],
   "source": [
    "## Callin Switzer\n",
    "## Capture Images from pt grey camera"
   ]
  },
  {
   "cell_type": "code",
   "execution_count": 2,
   "metadata": {
    "collapsed": false
   },
   "outputs": [],
   "source": [
    "# setup arduino\n",
    "% matplotlib inline\n",
    "import matplotlib.pyplot as plt\n",
    "import numpy as np\n",
    "import cv2\n",
    "\n",
    "import datetime\n",
    "\n",
    "import PyCapture2 as fc2\n",
    "import sys\n",
    "\n",
    "import time\n",
    "\n",
    "import os\n",
    "import peakutils \n",
    "import msvcrt\n",
    "import winsound\n",
    "import shutil\n",
    "import pandas as pd\n",
    "\n",
    "import skimage.io as io"
   ]
  },
  {
   "cell_type": "code",
   "execution_count": 3,
   "metadata": {
    "collapsed": false
   },
   "outputs": [
    {
     "name": "stdout",
     "output_type": "stream",
     "text": [
      "last update: 2017-11-13 16:05:02.765358\n"
     ]
    }
   ],
   "source": [
    "print(\"last update: \"  +  str(datetime.datetime.now()))"
   ]
  },
  {
   "cell_type": "code",
   "execution_count": 4,
   "metadata": {
    "collapsed": false
   },
   "outputs": [
    {
     "name": "stdout",
     "output_type": "stream",
     "text": [
      "Number of cameras detected:  2\n"
     ]
    }
   ],
   "source": [
    "# capture image with point grey camera\n",
    "bus = fc2.BusManager()\n",
    "numCams = bus.getNumOfCameras()\n",
    "print(\"Number of cameras detected: \", numCams)\n",
    "if not numCams:\n",
    "    print(\"Insufficient number of cameras. Exiting...\")\n",
    "    exit()"
   ]
  },
  {
   "cell_type": "code",
   "execution_count": 6,
   "metadata": {
    "collapsed": false
   },
   "outputs": [],
   "source": [
    "def enableEmbeddedTimeStamp(cam, enableTimeStamp):\n",
    "    embeddedInfo = cam.getEmbeddedImageInfo()\n",
    "    if embeddedInfo.available.timestamp:\n",
    "        cam.setEmbeddedImageInfo(timestamp = enableTimeStamp)\n",
    "        if(enableTimeStamp):\n",
    "            print(\"\\nTimeStamp is enabled.\\n\")\n",
    "        else:\n",
    "            print(\"\\nTimeStamp is disabled.\\n\")"
   ]
  },
  {
   "cell_type": "code",
   "execution_count": null,
   "metadata": {
    "collapsed": true
   },
   "outputs": [],
   "source": [
    "%qtconsole# Select camera on 0th index\n"
   ]
  },
  {
   "cell_type": "code",
   "execution_count": 7,
   "metadata": {
    "collapsed": false
   },
   "outputs": [],
   "source": [
    "def printCameraInfo(cam):\n",
    "    camInfo = cam.getCameraInfo()\n",
    "    print(\"\\n*** CAMERA INFORMATION ***\\n\")\n",
    "    print(\"Serial number - \", camInfo.serialNumber)\n",
    "    print(\"Camera model - \", camInfo.modelName)\n",
    "    print(\"Camera vendor - \", camInfo.vendorName)\n",
    "    print(\"Sensor - \", camInfo.sensorInfo)\n",
    "    print(\"Resolution - \", camInfo.sensorResolution)\n",
    "    print(\"Firmware version - \", camInfo.firmwareVersion)\n",
    "    print(\"Firmware build time - \", camInfo.firmwareBuildTime)\n",
    "    print()"
   ]
  },
  {
   "cell_type": "code",
   "execution_count": 8,
   "metadata": {
    "collapsed": false
   },
   "outputs": [
    {
     "name": "stdout",
     "output_type": "stream",
     "text": [
      "\n",
      "*** CAMERA INFORMATION ***\n",
      "\n",
      "Serial number -  16061221\n",
      "Camera model -  b'Chameleon3 CM3-U3-13Y3C'\n",
      "Camera vendor -  b'Point Grey Research'\n",
      "Sensor -  b'OnSemi PYTHON1300 (1/2\" Color CMOS)'\n",
      "Resolution -  b'1280x1024'\n",
      "Firmware version -  b'1.9.3.0'\n",
      "Firmware build time -  b'Mon Jul 27 20:45:52 2015'\n",
      "\n",
      "\n",
      "*** CAMERA INFORMATION ***\n",
      "\n",
      "Serial number -  16060682\n",
      "Camera model -  b'Chameleon3 CM3-U3-13Y3C'\n",
      "Camera vendor -  b'Point Grey Research'\n",
      "Sensor -  b'OnSemi PYTHON1300 (1/2\" Color CMOS)'\n",
      "Resolution -  b'1280x1024'\n",
      "Firmware version -  b'1.9.3.0'\n",
      "Firmware build time -  b'Mon Jul 27 20:45:52 2015'\n",
      "\n"
     ]
    }
   ],
   "source": [
    "c = fc2.Camera()\n",
    "c.connect(bus.getCameraFromIndex(0))\n",
    "printCameraInfo(c)\n",
    "\n",
    "d = fc2.Camera()\n",
    "d.connect(bus.getCameraFromIndex(1))\n",
    "printCameraInfo(d)"
   ]
  },
  {
   "cell_type": "code",
   "execution_count": 9,
   "metadata": {
    "collapsed": true
   },
   "outputs": [],
   "source": [
    "def img2array(image):\n",
    "    return(np.array(image.getData(), dtype=\"uint8\").reshape( (image.getRows(), image.getCols()) ))"
   ]
  },
  {
   "cell_type": "code",
   "execution_count": 13,
   "metadata": {
    "collapsed": false
   },
   "outputs": [],
   "source": [
    "# display images via live preview\n",
    "\n",
    "def twoCamSave():\n",
    "    while(True):\n",
    "        stt = time.time()\n",
    "        # Capture frame-by-frame\n",
    "        try:\n",
    "            image = c.retrieveBuffer()\n",
    "            image2 = d.retrieveBuffer() \n",
    "            ts1 = image.getTimeStamp()\n",
    "            ts2 = image2.getTimeStamp()\n",
    "        except PyCapture2.Fc2error as fc2Err:\n",
    "            print(\"Error retrieving buffer : \", fc2Err)\n",
    "            continue\n",
    "        image = c.retrieveBuffer()\n",
    "        image2 = d.retrieveBuffer()\n",
    "        img = np.concatenate((img2array(image), img2array(image2)), axis = 1)\n",
    "\n",
    "        # Our operations on the frame come here\n",
    "        #gray = cv2.cvtColor(frame, cv2.COLOR_BGR2GRAY)\n",
    "\n",
    "        # Display the resulting frame\n",
    "        cv2.imshow('image', img)\n",
    "        \n",
    "        #print(time.time() - stt)\n",
    "        print(ts1, ts2)\n",
    "\n",
    "        # break when \"q\" is pressed on keyboard\n",
    "        if cv2.waitKey(1) & 0xFF == ord('q'):\n",
    "            for jj in range(10):\n",
    "                cv2.destroyAllWindows()\n",
    "            break\n",
    "\n"
   ]
  },
  {
   "cell_type": "code",
   "execution_count": 12,
   "metadata": {
    "collapsed": false
   },
   "outputs": [
    {
     "name": "stdout",
     "output_type": "stream",
     "text": [
      "\n",
      "TimeStamp is enabled.\n",
      "\n",
      "\n",
      "TimeStamp is enabled.\n",
      "\n"
     ]
    }
   ],
   "source": [
    "c = fc2.Camera()\n",
    "c.connect(bus.getCameraFromIndex(0))\n",
    "enableEmbeddedTimeStamp(c, True)\n",
    "c.startCapture()\n",
    "\n",
    "\n",
    "d = fc2.Camera()\n",
    "d.connect(bus.getCameraFromIndex(1))\n",
    "enableEmbeddedTimeStamp(c, True)\n",
    "d.startCapture()\n"
   ]
  },
  {
   "cell_type": "code",
   "execution_count": 11,
   "metadata": {
    "collapsed": false
   },
   "outputs": [
    {
     "name": "stdout",
     "output_type": "stream",
     "text": [
      "0.28670358657836914\n",
      "0.2623629570007324\n",
      "0.2661900520324707\n",
      "0.2661886215209961\n",
      "0.2706930637359619\n",
      "0.2857046127319336\n",
      "0.2742154598236084\n",
      "0.26719021797180176\n",
      "0.2692101001739502\n",
      "0.2681875228881836\n",
      "0.2656891345977783\n",
      "0.26068902015686035\n",
      "0.25900840759277344\n",
      "0.26570701599121094\n",
      "0.2641923427581787\n",
      "0.2611842155456543\n",
      "0.2641868591308594\n",
      "0.2636878490447998\n",
      "0.26468682289123535\n",
      "0.2661924362182617\n",
      "0.2641901969909668\n",
      "0.26468634605407715\n",
      "0.265688419342041\n",
      "0.2641887664794922\n",
      "0.2691922187805176\n",
      "0.2636713981628418\n",
      "0.26518797874450684\n",
      "0.31021881103515625\n",
      "0.277698278427124\n",
      "0.26517343521118164\n",
      "0.2661874294281006\n",
      "0.2651705741882324\n",
      "0.2622032165527344\n",
      "0.2636847496032715\n",
      "0.2686939239501953\n",
      "0.2636878490447998\n",
      "0.2711763381958008\n",
      "0.2629859447479248\n",
      "0.30223512649536133\n",
      "0.26719141006469727\n",
      "0.26018524169921875\n",
      "0.2691929340362549\n",
      "0.2666897773742676\n",
      "0.2631847858428955\n",
      "0.2647080421447754\n",
      "0.26919054985046387\n",
      "0.28466796875\n",
      "0.2706918716430664\n",
      "0.2706935405731201\n",
      "0.2706918716430664\n",
      "0.2696719169616699\n",
      "0.27219200134277344\n",
      "0.27169084548950195\n",
      "0.2741990089416504\n",
      "0.27419352531433105\n",
      "0.2726938724517822\n",
      "0.2736940383911133\n",
      "0.2702054977416992\n",
      "0.2731759548187256\n",
      "0.2729654312133789\n",
      "0.2706906795501709\n",
      "0.2756943702697754\n",
      "0.27118587493896484\n",
      "0.29519224166870117\n",
      "0.2736940383911133\n",
      "0.27469515800476074\n",
      "0.27169299125671387\n",
      "0.271193265914917\n",
      "0.275177001953125\n",
      "0.27167654037475586\n",
      "0.2701740264892578\n",
      "0.27019190788269043\n",
      "0.2756938934326172\n",
      "0.26668214797973633\n",
      "0.27167582511901855\n",
      "0.2686903476715088\n",
      "0.2731926441192627\n",
      "0.2686891555786133\n",
      "0.2686913013458252\n",
      "0.2681844234466553\n",
      "0.2611849308013916\n",
      "0.2631869316101074\n",
      "0.2857193946838379\n",
      "0.28370237350463867\n",
      "0.26619505882263184\n",
      "0.2686772346496582\n",
      "0.2656886577606201\n",
      "0.26468777656555176\n",
      "0.2661890983581543\n",
      "0.2606663703918457\n",
      "0.26268911361694336\n",
      "0.2611844539642334\n",
      "0.26720762252807617\n",
      "0.2656879425048828\n",
      "0.26719069480895996\n",
      "0.264190673828125\n",
      "0.26818060874938965\n",
      "0.26769113540649414\n",
      "0.263185977935791\n",
      "0.2847013473510742\n",
      "0.26518869400024414\n",
      "0.2669048309326172\n",
      "0.2656707763671875\n",
      "0.26266980171203613\n",
      "0.266690731048584\n",
      "0.2616841793060303\n",
      "0.2666900157928467\n",
      "0.26967477798461914\n",
      "0.2681739330291748\n",
      "0.2666890621185303\n",
      "0.2691924571990967\n",
      "0.2686741352081299\n",
      "0.2681725025177002\n",
      "0.2631702423095703\n",
      "0.26517271995544434\n",
      "0.2636687755584717\n",
      "0.2631869316101074\n",
      "0.26718974113464355\n",
      "0.2626686096191406\n",
      "0.2606673240661621\n",
      "0.26216816902160645\n",
      "0.26518750190734863\n",
      "0.26218485832214355\n",
      "0.2636687755584717\n",
      "0.2656729221343994\n",
      "0.2656891345977783\n",
      "0.26218438148498535\n",
      "0.26468658447265625\n",
      "0.2631707191467285\n",
      "0.2631690502166748\n",
      "0.266190767288208\n",
      "0.2627835273742676\n",
      "0.26217007637023926\n",
      "0.26016712188720703\n",
      "0.2716948986053467\n",
      "0.26218676567077637\n",
      "0.2997303009033203\n",
      "0.26217126846313477\n",
      "0.2616868019104004\n",
      "0.26016807556152344\n",
      "0.2611665725708008\n",
      "0.2642068862915039\n",
      "0.25916576385498047\n",
      "0.26268482208251953\n",
      "0.26216721534729004\n",
      "0.2621879577636719\n",
      "0.2586648464202881\n",
      "0.26268839836120605\n",
      "0.2606840133666992\n",
      "0.2727499008178711\n",
      "0.27918505668640137\n",
      "0.2666897773742676\n",
      "0.2751774787902832\n",
      "0.26769089698791504\n",
      "0.2631847858428955\n",
      "0.2731943130493164\n",
      "0.26917243003845215\n",
      "0.2686882019042969\n",
      "0.26769018173217773\n",
      "0.26268672943115234\n",
      "0.2626681327819824\n",
      "0.2661890983581543\n"
     ]
    }
   ],
   "source": [
    "livePreview2()"
   ]
  },
  {
   "cell_type": "code",
   "execution_count": 10,
   "metadata": {
    "collapsed": false
   },
   "outputs": [
    {
     "ename": "Fc2error",
     "evalue": "b'Isochronous transfer has not been started.'",
     "output_type": "error",
     "traceback": [
      "\u001b[1;31m---------------------------------------------------------------------------\u001b[0m",
      "\u001b[1;31mFc2error\u001b[0m                                  Traceback (most recent call last)",
      "\u001b[1;32m<ipython-input-10-5992de6a49a0>\u001b[0m in \u001b[0;36m<module>\u001b[1;34m()\u001b[0m\n\u001b[0;32m      1\u001b[0m \u001b[1;31m# When everything done, release the capture\u001b[0m\u001b[1;33m\u001b[0m\u001b[1;33m\u001b[0m\u001b[0m\n\u001b[1;32m----> 2\u001b[1;33m \u001b[0mc\u001b[0m\u001b[1;33m.\u001b[0m\u001b[0mstopCapture\u001b[0m\u001b[1;33m(\u001b[0m\u001b[1;33m)\u001b[0m\u001b[1;33m\u001b[0m\u001b[0m\n\u001b[0m\u001b[0;32m      3\u001b[0m \u001b[0mc\u001b[0m\u001b[1;33m.\u001b[0m\u001b[0mdisconnect\u001b[0m\u001b[1;33m(\u001b[0m\u001b[1;33m)\u001b[0m\u001b[1;33m\u001b[0m\u001b[0m\n\u001b[0;32m      4\u001b[0m \u001b[1;33m\u001b[0m\u001b[0m\n\u001b[0;32m      5\u001b[0m \u001b[0md\u001b[0m\u001b[1;33m.\u001b[0m\u001b[0mstopCapture\u001b[0m\u001b[1;33m(\u001b[0m\u001b[1;33m)\u001b[0m\u001b[1;33m\u001b[0m\u001b[0m\n",
      "\u001b[1;32msrc\\cython\\PyCapture2.pyx\u001b[0m in \u001b[0;36mPyCapture2.BaseCamera.stopCapture (src\\cython\\PyCapture2.c:10772)\u001b[1;34m()\u001b[0m\n",
      "\u001b[1;32msrc\\cython\\PyCapture2.pyx\u001b[0m in \u001b[0;36mPyCapture2.checkError (src\\cython\\PyCapture2.c:36613)\u001b[1;34m()\u001b[0m\n",
      "\u001b[1;31mFc2error\u001b[0m: b'Isochronous transfer has not been started.'"
     ]
    }
   ],
   "source": [
    "# When everything done, release the capture\n",
    "c.stopCapture()\n",
    "c.disconnect()\n",
    "\n",
    "d.stopCapture()\n",
    "d.disconnect()\n",
    "cv2.destroyAllWindows()"
   ]
  },
  {
   "cell_type": "code",
   "execution_count": null,
   "metadata": {
    "collapsed": true
   },
   "outputs": [],
   "source": []
  },
  {
   "cell_type": "code",
   "execution_count": null,
   "metadata": {
    "collapsed": true
   },
   "outputs": [],
   "source": []
  },
  {
   "cell_type": "code",
   "execution_count": null,
   "metadata": {
    "collapsed": true
   },
   "outputs": [],
   "source": []
  }
 ],
 "metadata": {
  "kernelspec": {
   "display_name": "pyfly35",
   "language": "python",
   "name": "python3_5_pyfly"
  },
  "language_info": {
   "codemirror_mode": {
    "name": "ipython",
    "version": 3
   },
   "file_extension": ".py",
   "mimetype": "text/x-python",
   "name": "python",
   "nbconvert_exporter": "python",
   "pygments_lexer": "ipython3",
   "version": "3.5.4"
  }
 },
 "nbformat": 4,
 "nbformat_minor": 2
}
