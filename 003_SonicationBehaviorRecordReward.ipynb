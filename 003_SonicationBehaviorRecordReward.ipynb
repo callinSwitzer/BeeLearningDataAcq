{
 "cells": [
  {
   "cell_type": "markdown",
   "metadata": {},
   "source": [
    "# Acquire data from accelerometer from DAQ Board\n",
    "## Callin Switzer\n",
    "## python 3 (pyfly35 environment)\n",
    "## 22 Jan 2017\n"
   ]
  },
  {
   "cell_type": "markdown",
   "metadata": {},
   "source": [
    "Download nidaq driver for ni USB-6229 (save to thumb drive)\n",
    "\n",
    "Download/update anaconda\n",
    "\n",
    "download PyDAQmx\n",
    "\n",
    "download pySerial (conda install pySerial)\n",
    "\n",
    "upload code to Arduinos (001_Stepper_and_DCMotor)"
   ]
  },
  {
   "cell_type": "markdown",
   "metadata": {},
   "source": [
    "# Setup"
   ]
  },
  {
   "cell_type": "code",
   "execution_count": 1,
   "metadata": {
    "collapsed": true
   },
   "outputs": [],
   "source": [
    "% matplotlib inline\n",
    "import matplotlib.pyplot as plt\n",
    "import numpy as np"
   ]
  },
  {
   "cell_type": "code",
   "execution_count": 2,
   "metadata": {
    "collapsed": false
   },
   "outputs": [],
   "source": [
    "from PyDAQmx import * #works with python 3.5 -- need to install NiDACmx (takes like a day to download)"
   ]
  },
  {
   "cell_type": "code",
   "execution_count": 3,
   "metadata": {
    "collapsed": false
   },
   "outputs": [],
   "source": [
    "import datetime\n",
    "\n",
    "import PyCapture2 as fc2\n",
    "from sys import exit"
   ]
  },
  {
   "cell_type": "code",
   "execution_count": 4,
   "metadata": {
    "collapsed": false
   },
   "outputs": [],
   "source": [
    "import serial # works"
   ]
  },
  {
   "cell_type": "code",
   "execution_count": 5,
   "metadata": {
    "collapsed": false
   },
   "outputs": [
    {
     "name": "stdout",
     "output_type": "stream",
     "text": [
      "3.3.0\n"
     ]
    }
   ],
   "source": [
    "import cv2\n",
    "print(cv2.__version__)\n"
   ]
  },
  {
   "cell_type": "code",
   "execution_count": 6,
   "metadata": {
    "collapsed": false
   },
   "outputs": [
    {
     "name": "stdout",
     "output_type": "stream",
     "text": [
      "3.5.4 |Anaconda custom (64-bit)| (default, Sep 19 2017, 08:15:17) [MSC v.1900 64 bit (AMD64)]\n",
      "last run on 2018-01-23 15:39:33.670364\n"
     ]
    }
   ],
   "source": [
    "import time\n",
    "\n",
    "import os\n",
    "import peakutils \n",
    "import msvcrt\n",
    "import winsound\n",
    "import shutil\n",
    "import pandas as pd\n",
    "\n",
    "import skimage.io as io\n",
    "import sys\n",
    "from datetime import datetime\n",
    "import glob\n",
    "\n",
    "print(sys.version)\n",
    "\n",
    "\n",
    "now = datetime.now()\n",
    "print(\"last run on \" + str(now))"
   ]
  },
  {
   "cell_type": "code",
   "execution_count": 7,
   "metadata": {
    "collapsed": true
   },
   "outputs": [],
   "source": [
    " # % qtconsole"
   ]
  },
  {
   "cell_type": "code",
   "execution_count": 8,
   "metadata": {
    "collapsed": false
   },
   "outputs": [
    {
     "data": {
      "text/plain": [
       "['COM3', 'COM5']"
      ]
     },
     "execution_count": 8,
     "metadata": {},
     "output_type": "execute_result"
    }
   ],
   "source": [
    "# list ports\n",
    "\n",
    "def serial_ports():\n",
    "    \"\"\" Lists serial port names\n",
    "\n",
    "        :raises EnvironmentError:\n",
    "            On unsupported or unknown platforms\n",
    "        :returns:\n",
    "            A list of the serial ports available on the system\n",
    "    \"\"\"\n",
    "    if sys.platform.startswith('win'):\n",
    "        ports = ['COM%s' % (i + 1) for i in range(256)]\n",
    "    elif sys.platform.startswith('linux') or sys.platform.startswith('cygwin'):\n",
    "        # this excludes your current terminal \"/dev/tty\"\n",
    "        ports = glob.glob('/dev/tty[A-Za-z]*')\n",
    "    elif sys.platform.startswith('darwin'):\n",
    "        ports = glob.glob('/dev/tty.*')\n",
    "    else:\n",
    "        raise EnvironmentError('Unsupported platform')\n",
    "\n",
    "    result = []\n",
    "    for port in ports:\n",
    "        try:\n",
    "            s = serial.Serial(port)\n",
    "            s.close()\n",
    "            result.append(port)\n",
    "        except (OSError, serial.SerialException):\n",
    "            pass\n",
    "    return result\n",
    "\n",
    "\n",
    "# I'm using COM3 and COM5 arduinos\n",
    "# COM4 is for the arduino controlling the cameras\n",
    "serial_ports()"
   ]
  },
  {
   "cell_type": "code",
   "execution_count": 9,
   "metadata": {
    "collapsed": false
   },
   "outputs": [
    {
     "name": "stdout",
     "output_type": "stream",
     "text": [
      "connected to arduino on COM3\n"
     ]
    }
   ],
   "source": [
    "PORT1 = \"COM3\"\n",
    "connected1 = False\n",
    "ser1 = serial.Serial(PORT1,115200)\n",
    "while not connected1:\n",
    "    serin1 = ser1.read()\n",
    "    connected1 = True\n",
    "    print(\"connected to arduino on \" + PORT1)"
   ]
  },
  {
   "cell_type": "code",
   "execution_count": 10,
   "metadata": {
    "collapsed": false
   },
   "outputs": [
    {
     "name": "stdout",
     "output_type": "stream",
     "text": [
      "connected to arduino on COM5\n"
     ]
    }
   ],
   "source": [
    "PORT2 = \"COM5\"\n",
    "connected2 = False\n",
    "ser2 = serial.Serial(PORT2,115200)\n",
    "while not connected2:\n",
    "    serin2 = ser2.read()\n",
    "    connected2 = True\n",
    "    print(\"connected to arduino on \" + PORT2)"
   ]
  },
  {
   "cell_type": "code",
   "execution_count": 11,
   "metadata": {
    "collapsed": true
   },
   "outputs": [],
   "source": [
    "# stepper only\n",
    "written = ser1.write(\"s\".encode(\"utf-8\"))\n",
    "written = ser2.write(\"s\".encode(\"utf-8\"))"
   ]
  },
  {
   "cell_type": "code",
   "execution_count": 12,
   "metadata": {
    "collapsed": true
   },
   "outputs": [],
   "source": [
    "# vibration motor only\n",
    "written = ser1.write(\"v\".encode(\"utf-8\"))\n",
    "written = ser2.write(\"v\".encode(\"utf-8\"))"
   ]
  },
  {
   "cell_type": "code",
   "execution_count": null,
   "metadata": {
    "collapsed": true
   },
   "outputs": [],
   "source": []
  },
  {
   "cell_type": "code",
   "execution_count": null,
   "metadata": {
    "collapsed": true
   },
   "outputs": [],
   "source": []
  },
  {
   "cell_type": "code",
   "execution_count": 13,
   "metadata": {
    "collapsed": false
   },
   "outputs": [
    {
     "name": "stdout",
     "output_type": "stream",
     "text": [
      "Number of cameras detected:  2\n"
     ]
    }
   ],
   "source": [
    "# capture image with point grey camera\n",
    "bus = fc2.BusManager()\n",
    "numCams = bus.getNumOfCameras()\n",
    "print(\"Number of cameras detected: \", numCams)\n",
    "if not numCams:\n",
    "    print(\"Insufficient number of cameras. Exiting...\")\n",
    "    exit()\n",
    "    \n",
    "# Select camera on 0th index\n",
    "c = fc2.Camera()\n",
    "c.connect(bus.getCameraFromIndex(0))\n"
   ]
  },
  {
   "cell_type": "code",
   "execution_count": 14,
   "metadata": {
    "collapsed": true
   },
   "outputs": [],
   "source": [
    "def printCameraInfo(cam):\n",
    "    camInfo = cam.getCameraInfo()\n",
    "    print(\"\\n*** CAMERA INFORMATION ***\\n\")\n",
    "    print(\"Serial number - \", camInfo.serialNumber)\n",
    "    print(\"Camera model - \", camInfo.modelName)\n",
    "    print(\"Camera vendor - \", camInfo.vendorName)\n",
    "    print(\"Sensor - \", camInfo.sensorInfo)\n",
    "    print(\"Resolution - \", camInfo.sensorResolution)\n",
    "    print(\"Firmware version - \", camInfo.firmwareVersion)\n",
    "    print(\"Firmware build time - \", camInfo.firmwareBuildTime)\n",
    "    print()"
   ]
  },
  {
   "cell_type": "code",
   "execution_count": 15,
   "metadata": {
    "collapsed": false
   },
   "outputs": [
    {
     "name": "stdout",
     "output_type": "stream",
     "text": [
      "\n",
      "*** CAMERA INFORMATION ***\n",
      "\n",
      "Serial number -  16060682\n",
      "Camera model -  b'Chameleon3 CM3-U3-13Y3C'\n",
      "Camera vendor -  b'Point Grey Research'\n",
      "Sensor -  b'OnSemi PYTHON1300 (1/2\" Color CMOS)'\n",
      "Resolution -  b'1280x1024'\n",
      "Firmware version -  b'1.9.3.0'\n",
      "Firmware build time -  b'Mon Jul 27 20:45:52 2015'\n",
      "\n",
      "\n",
      "*** CAMERA INFORMATION ***\n",
      "\n",
      "Serial number -  16061221\n",
      "Camera model -  b'Chameleon3 CM3-U3-13Y3C'\n",
      "Camera vendor -  b'Point Grey Research'\n",
      "Sensor -  b'OnSemi PYTHON1300 (1/2\" Color CMOS)'\n",
      "Resolution -  b'1280x1024'\n",
      "Firmware version -  b'1.9.3.0'\n",
      "Firmware build time -  b'Mon Jul 27 20:45:52 2015'\n",
      "\n"
     ]
    }
   ],
   "source": [
    "c = fc2.Camera()\n",
    "c.connect(bus.getCameraFromIndex(0))\n",
    "printCameraInfo(c)\n",
    "\n",
    "d = fc2.Camera()\n",
    "d.connect(bus.getCameraFromIndex(1))\n",
    "printCameraInfo(d)"
   ]
  },
  {
   "cell_type": "code",
   "execution_count": 16,
   "metadata": {
    "collapsed": true
   },
   "outputs": [],
   "source": [
    "def img2array(image):\n",
    "    return(np.array(image.getData(), dtype=\"uint8\").reshape( (image.getRows(), image.getCols()) ))"
   ]
  },
  {
   "cell_type": "code",
   "execution_count": 17,
   "metadata": {
    "collapsed": true
   },
   "outputs": [],
   "source": [
    "# display images via live preview\n",
    "\n",
    "def livePreview2():\n",
    "    cv2.namedWindow('image',cv2.WINDOW_NORMAL)\n",
    "    cv2.resizeWindow('image', 1000,800)\n",
    "    while(True):\n",
    "        stt = time.time()\n",
    "        # Capture frame-by-frame\n",
    "        image = c.retrieveBuffer()\n",
    "        image2 = d.retrieveBuffer()\n",
    "        img = np.concatenate((img2array(image), img2array(image2)), axis = 1)\n",
    "\n",
    "        # Our operations on the frame come here\n",
    "        #gray = cv2.cvtColor(frame, cv2.COLOR_BGR2GRAY)\n",
    "\n",
    "        # Display the resulting frame\n",
    "        cv2.imshow('image', img)\n",
    "        \n",
    "        print(time.time() - stt)\n",
    "\n",
    "        # break when \"q\" is pressed on keyboard\n",
    "        if cv2.waitKey(1) & 0xFF == ord('q'):\n",
    "            for jj in range(10):\n",
    "                cv2.destroyAllWindows()\n",
    "            break\n",
    "\n"
   ]
  },
  {
   "cell_type": "code",
   "execution_count": 18,
   "metadata": {
    "collapsed": true
   },
   "outputs": [],
   "source": [
    "c = fc2.Camera()\n",
    "c.connect(bus.getCameraFromIndex(0))\n",
    "c.startCapture()\n",
    "\n",
    "d = fc2.Camera()\n",
    "d.connect(bus.getCameraFromIndex(1))\n",
    "d.startCapture()"
   ]
  },
  {
   "cell_type": "code",
   "execution_count": 19,
   "metadata": {
    "collapsed": false
   },
   "outputs": [],
   "source": [
    "#livePreview2()"
   ]
  },
  {
   "cell_type": "code",
   "execution_count": null,
   "metadata": {
    "collapsed": false
   },
   "outputs": [],
   "source": []
  },
  {
   "cell_type": "code",
   "execution_count": 20,
   "metadata": {
    "collapsed": false
   },
   "outputs": [],
   "source": [
    "# def enableEmbeddedTimeStamp(cam, enableTimeStamp):\n",
    "#     embeddedInfo = cam.getEmbeddedImageInfo()\n",
    "#     if embeddedInfo.available.timestamp:\n",
    "#         cam.setEmbeddedImageInfo(timestamp = enableTimeStamp)\n",
    "#         if(enableTimeStamp):\n",
    "#             print(\"\\nTimeStamp is enabled.\\n\")\n",
    "#         else:\n",
    "#             print(\"\\nTimeStamp is disabled.\\n\")\n",
    "\n",
    "# enableEmbeddedTimeStamp(c, True)"
   ]
  },
  {
   "cell_type": "code",
   "execution_count": 21,
   "metadata": {
    "collapsed": false
   },
   "outputs": [],
   "source": [
    "def grabImages(cam, numImagesToGrab):\n",
    "    prevts = None\n",
    "    for i in range(numImagesToGrab):\n",
    "        try:\n",
    "            image = cam.retrieveBuffer()\n",
    "        except fc2.Fc2error as fc2Err:\n",
    "            print(\"Error retrieving buffer : \", fc2Err)\n",
    "            continue\n",
    "\n",
    "        ts = image.getTimeStamp()\n",
    "        if (prevts):\n",
    "            diff = (ts.cycleSeconds - prevts.cycleSeconds) * 8000 + (ts.cycleCount - prevts.cycleCount)\n",
    "            print(\"timestamp [\", ts.cycleSeconds, ts.cycleCount, \"] -\", diff)\n",
    "        prevts = ts\n",
    "\n",
    "#     print(\"Saving the last image to fc2CustomImageEx.png\")\n",
    "#     image.save(\"fc2CustomImageEx.png\".encode(\"utf-8\"), PyCapture2.IMAGE_FILE_FORMAT.PNG)\n",
    "\n",
    "    return(image)"
   ]
  },
  {
   "cell_type": "code",
   "execution_count": null,
   "metadata": {
    "collapsed": false
   },
   "outputs": [],
   "source": []
  },
  {
   "cell_type": "code",
   "execution_count": 22,
   "metadata": {
    "collapsed": false
   },
   "outputs": [],
   "source": [
    "# img.save(\"fc2TestImage.png\".encode(\"utf-8\"), fc2.IMAGE_FILE_FORMAT.PNG)"
   ]
  },
  {
   "cell_type": "code",
   "execution_count": 23,
   "metadata": {
    "collapsed": false
   },
   "outputs": [
    {
     "data": {
      "image/png": "[encoded data removed]",
      "text/plain": [
       "<matplotlib.figure.Figure at 0x1ba66b0deb8>"
      ]
     },
     "metadata": {},
     "output_type": "display_data"
    }
   ],
   "source": [
    "\n",
    "image = c.retrieveBuffer()\n",
    "image2 = d.retrieveBuffer()\n",
    "img = np.concatenate((img2array(image), img2array(image2)), axis = 1)\n",
    "\n",
    "plt.figure(figsize = (10,10))\n",
    "io.imshow(img)\n",
    "plt.show()\n"
   ]
  },
  {
   "cell_type": "code",
   "execution_count": 24,
   "metadata": {
    "collapsed": false
   },
   "outputs": [],
   "source": [
    "c.stopCapture()\n",
    "c.disconnect()"
   ]
  },
  {
   "cell_type": "code",
   "execution_count": 25,
   "metadata": {
    "collapsed": false
   },
   "outputs": [],
   "source": [
    "# Test data from accelerometers\n",
    "\n",
    "def readAccel(accNum = \"Dev2/ai0\", N_samples = 20000, log_rate = 200000.0): \n",
    "    taskHandle = TaskHandle()\n",
    "    read = int32()\n",
    "    data = np.zeros((N_samples,), dtype=np.float64)\n",
    "\n",
    "    DAQmxCreateTask(\"\", byref(taskHandle))\n",
    "    # I have an piezoelectric accelerometer pluged into channel ai1 with range +/-10V\n",
    "    DAQmxCreateAIVoltageChan(taskHandle, accNum, \n",
    "                             \"Accelerometer\", DAQmx_Val_Diff, \n",
    "                             -10.0, 10.0, DAQmx_Val_Volts, None)\n",
    "    DAQmxCfgSampClkTiming(taskHandle, \"\", log_rate, \n",
    "                          DAQmx_Val_Rising, \n",
    "                          DAQmx_Val_FiniteSamps, N_samples)\n",
    "\n",
    "    DAQmxStartTask(taskHandle)\n",
    "    DAQmxReadAnalogF64(taskHandle, N_samples, 10.0, \n",
    "                       DAQmx_Val_GroupByChannel, data, \n",
    "                       N_samples, byref(read), None)\n",
    "\n",
    "    if taskHandle:\n",
    "        DAQmxStopTask(taskHandle);\n",
    "        DAQmxClearTask(taskHandle);\n",
    "    \n",
    "    return(data)\n",
    "        \n",
    "        \n",
    "def FFT(data, fmin = 20, fmax= 450, log_rate = 200000.0):\n",
    "    n =int(len(data))\n",
    "    k = np.arange(n, step = 1)\n",
    "    T = n/log_rate\n",
    "    frq = k/T # two sides frequency range\n",
    "    frq = frq[range(int(n/2))] # one side frequency range\n",
    "    \n",
    "    # trim frq\n",
    "    keepInd = (frq > fmin) & (frq < fmax)\n",
    "    frqKeep = frq[keepInd]\n",
    "\n",
    "    Y = np.fft.fft(data)/n # fft computing and normalization\n",
    "    Y = Y[range(int(n/2))]\n",
    "    \n",
    "    # remove Y that is outside the frequency rang of interest\n",
    "    Ykeep = Y[keepInd]\n",
    "    \n",
    "\n",
    "\n",
    "    # calculate top frequency\n",
    "    ind = np.argpartition(abs(Ykeep), -4)[-4:]\n",
    "    # Find highest point on the spectrum\n",
    "    peakFrq = frqKeep[ind[::-1]]\n",
    "    pwr = (abs(Ykeep)[ind[::-1]])\n",
    "    \n",
    "    domPK = [x for (y,x) in sorted(zip(pwr,peakFrq), reverse = True)][0]\n",
    "\n",
    "    domPkPwr = pwr[peakFrq == domPK]\n",
    "    \n",
    "    return(frq, peakFrq, pwr, domPK, domPkPwr, Y)\n",
    "\n",
    "\n",
    "def plotFFT(data, frq, peakFrq, pwr, domPK, domPkPwr, Y, fmin =0, fmax = 1000, N_samples = 20000, log_rate = 200000.0, reward = 'F'):\n",
    "     # create subplot 1\n",
    "    ax1 = plt.subplot(121)\n",
    "    ax1.plot(np.array(range(len(data)))/ float(log_rate), data)\n",
    "    ax1.set_ylabel(\"Volts\")\n",
    "    ax1.set_xlabel(\"time (s)\")\n",
    "    if reward == 'T':\n",
    "        ax1.set_facecolor('grey')\n",
    "\n",
    "    # create subplot 2\n",
    "    ax2 = plt.subplot(122)\n",
    "    ax2.plot(frq,abs(Y),'r')\n",
    "    ax2.plot(peakFrq, pwr, 'ro')\n",
    "    ax2.set_xlim(fmin, fmax)\n",
    "    ax2.set_ylabel('power')\n",
    "    ax2.set_xlabel('frequency')\n",
    "    ax2.plot(domPK, domPkPwr,'o', color = 'black', markersize = 5)\n",
    "    ax2.annotate(str(domPK) + ' Hz', xy=(domPK, domPkPwr), xytext=(domPK + 40, domPkPwr- 0.0001), size = 12\n",
    "            )\n",
    "    plt.tight_layout()\n",
    "    plt.show()\n",
    "\n"
   ]
  },
  {
   "cell_type": "code",
   "execution_count": 26,
   "metadata": {
    "collapsed": false
   },
   "outputs": [],
   "source": [
    "def func1(accelNum = \"Dev2/ai0\"):\n",
    "    data = readAccel(accNum=accelNum)  # resonant frequency is ~80 Hz\n",
    "    frq, peakFrq, pwr, domPK, domPkPwr, Y = FFT(data,fmin = 0 , fmax = 520)\n",
    "    plotFFT(data, frq, peakFrq, pwr, domPK, domPkPwr, Y)\n",
    "\n"
   ]
  },
  {
   "cell_type": "code",
   "execution_count": 27,
   "metadata": {
    "collapsed": false
   },
   "outputs": [
    {
     "data": {
      "image/png": "[encoded data removed]",
      "text/plain": [
       "<matplotlib.figure.Figure at 0x1ba6a538d68>"
      ]
     },
     "metadata": {},
     "output_type": "display_data"
    },
    {
     "data": {
      "image/png": "[encoded data removed]",
      "text/plain": [
       "<matplotlib.figure.Figure at 0x1ba698e6390>"
      ]
     },
     "metadata": {},
     "output_type": "display_data"
    },
    {
     "name": "stdout",
     "output_type": "stream",
     "text": [
      "1.0583522319793701\n"
     ]
    }
   ],
   "source": [
    "stt = time.time()\n",
    "[func1(x) for x in [ \"Dev2/ai0\",  \"Dev2/ai1\"]]\n",
    "print(time.time() - stt)"
   ]
  },
  {
   "cell_type": "code",
   "execution_count": null,
   "metadata": {
    "collapsed": true
   },
   "outputs": [],
   "source": []
  },
  {
   "cell_type": "code",
   "execution_count": 28,
   "metadata": {
    "collapsed": false
   },
   "outputs": [
    {
     "data": {
      "image/png": "[encoded data removed]",
      "text/plain": [
       "<matplotlib.figure.Figure at 0x1ba6bb26748>"
      ]
     },
     "metadata": {},
     "output_type": "display_data"
    },
    {
     "name": "stdout",
     "output_type": "stream",
     "text": [
      "0.46492648124694824\n"
     ]
    },
    {
     "data": {
      "image/png": "[encoded data removed]",
      "text/plain": [
       "<matplotlib.figure.Figure at 0x1ba6bbbf898>"
      ]
     },
     "metadata": {},
     "output_type": "display_data"
    },
    {
     "name": "stdout",
     "output_type": "stream",
     "text": [
      "1.0179905891418457\n"
     ]
    }
   ],
   "source": [
    "# refref: todo, if possible, speed up with parallelization\n",
    "stt = time.time()\n",
    "data = readAccel(accNum=\"Dev2/ai0\")  # resonant frequency is ~80 Hz\n",
    "frq, peakFrq, pwr, domPK, domPkPwr, Y = FFT(data,fmin = 0 , fmax = 520)\n",
    "plotFFT(data, frq, peakFrq, pwr, domPK, domPkPwr, Y)\n",
    "\n",
    "print(time.time() - stt)\n",
    "data = readAccel(accNum=\"Dev2/ai1\")  # resonant frequency is ~80 Hz\n",
    "frq, peakFrq, pwr, domPK, domPkPwr, Y = FFT(data,fmin = 0 , fmax = 520)\n",
    "plotFFT(data, frq, peakFrq, pwr, domPK, domPkPwr, Y)\n",
    "print(time.time() - stt)"
   ]
  },
  {
   "cell_type": "code",
   "execution_count": null,
   "metadata": {
    "collapsed": false
   },
   "outputs": [
    {
     "name": "stdout",
     "output_type": "stream",
     "text": [
      "\n",
      "Grabbed image 541\n",
      "Appended image 541...\n",
      "Grabbed image 542\n",
      "Appended image 542...\n",
      "Grabbed image 543\n",
      "Appended image 543...\n",
      "Grabbed image 544\n",
      "Appended image 544...\n",
      "Grabbed image 545\n",
      "Appended image 545...\n",
      "Grabbed image 546\n",
      "Appended image 546...\n",
      "Grabbed image 547\n",
      "Appended image 547...\n",
      "Grabbed image 548\n",
      "Appended image 548...\n",
      "Grabbed image 549\n",
      "Appended image 549...\n",
      "Grabbed image 550\n",
      "Appended image 550...\n",
      "Grabbed image 551\n",
      "Appended image 551...\n",
      "Grabbed image 552\n",
      "Appended image 552...\n",
      "Grabbed image 553\n",
      "Appended image 553...\n",
      "Grabbed image 554\n",
      "Appended image 554...\n"
     ]
    }
   ],
   "source": [
    "# start recording video\n",
    "def saveAviHelper2(cam, cam2, fileFormat, fileName, fileName2, frameRate, maxImgs = 50):\n",
    "    # clear characters\n",
    "    while msvcrt.kbhit():\n",
    "        msvcrt.getch()\n",
    "        print('clearing characters ...')\n",
    "    \n",
    "    numImages = 0\n",
    "\n",
    "    avi = fc2.AVIRecorder()\n",
    "    avi2 = fc2.AVIRecorder()\n",
    "\n",
    "    for i in range(maxImgs):\n",
    "        \n",
    "        if msvcrt.kbhit():\n",
    "            if msvcrt.getch() == b'q':\n",
    "                # disconnect camera \n",
    "    #             c.stop_capture()\n",
    "    #             c.disconnect()\n",
    "                print('keyboard q pressed, now quitting loop')\n",
    "#                 for i in range(5):\n",
    "#                     winsound.Beep(450,100)\n",
    "                break   \n",
    "        try:\n",
    "            image = cam.retrieveBuffer()\n",
    "            image2 = cam2.retrieveBuffer()\n",
    "        except fc2.Fc2error as fc2Err:\n",
    "            print(\"Error retrieving buffer : \", fc2Err)\n",
    "            continue\n",
    "\n",
    "        print(\"Grabbed image {}\".format(i))\n",
    "\n",
    "        if (i == 0):\n",
    "            if fileFormat == \"AVI\":\n",
    "                avi.AVIOpen(fileName, frameRate)\n",
    "                avi2.AVIOpen(fileName2, frameRate)\n",
    "#             elif fileFormat == \"MJPG\":\n",
    "#                 avi.MJPGOpen(fileName, frameRate, 75)\n",
    "#             elif fileFormat == \"H264\":\n",
    "#                 avi.H264Open(fileName, frameRate, image.getCols(), image.getRows(), 1000000)\n",
    "            else:\n",
    "                print(\"Specified format is not available.\")\n",
    "                return\n",
    "\n",
    "        avi.append(image)\n",
    "        avi2.append(image2)\n",
    "        numImages += 1\n",
    "        print(\"Appended image {}...\".format(i))\n",
    "\n",
    "    print(\"Appended {} images to {} file: {}...\".format(numImages, fileFormat, fileName))\n",
    "    avi.close()\n",
    "    avi2.close()"
   ]
  },
  {
   "cell_type": "code",
   "execution_count": null,
   "metadata": {
    "collapsed": false
   },
   "outputs": [],
   "source": [
    "import threading\n",
    "\n",
    "\n",
    "c = fc2.Camera()\n",
    "c.connect(bus.getCameraFromIndex(0))\n",
    "c.startCapture()\n",
    "\n",
    "d = fc2.Camera()\n",
    "d.connect(bus.getCameraFromIndex(1))\n",
    "d.startCapture()\n",
    "\n",
    "directory = os.path.join(\"C:\\\\Users\\\\Combes4\\Desktop\\\\twoCamSave2\")\n",
    "fileName = os.path.join(directory, \"SaveImageToAviEx.avi\")\n",
    "fileName2 = os.path.join(directory, \"SaveImageToAviEx2.avi\")\n",
    "frameRate = (c.getProperty(fc2.PROPERTY_TYPE.FRAME_RATE)).absValue\n",
    "\n",
    "def background():\n",
    "    saveAviHelper2(c,d, \"AVI\", fileName.encode(\"utf-8\"), fileName2.encode(\"utf-8\"), 10)\n",
    "    \n"
   ]
  },
  {
   "cell_type": "code",
   "execution_count": null,
   "metadata": {
    "collapsed": true
   },
   "outputs": [],
   "source": []
  },
  {
   "cell_type": "code",
   "execution_count": 31,
   "metadata": {
    "collapsed": false
   },
   "outputs": [],
   "source": [
    "### here\n",
    "\n",
    "### refref make a class!\n",
    "## read in data, and take a photo if accel power is high enough\n",
    "\n",
    "def processAndReward():\n",
    "    # read in data\n",
    "    data1, data2 = [readAccel(accNum=ii) for ii in [\"Dev2/ai0\", \"Dev2/ai1\"]]\n",
    "    \n",
    "    # calculate max amplitude\n",
    "    amp1, amp2 = [np.max(x) - np.min(x) for x in [data1, data2]]\n",
    "    \n",
    "    # only go on if the reading is above amplitude cutoff\n",
    "    if((amp1 > 0.04) or (amp2 > 0.04)):\n",
    "        ([frq, peakFrq, pwr, domPK, domPkPwr, Y],\n",
    "         [frq2, peakFrq2, pwr2, domPK2, domPkPwr2, Y2]) =  [FFT(jj,fmin = 0 , fmax = 520) for jj in [data1, data2]]\n",
    "        # plotFFT(data1, frq, peakFrq, pwr, domPK, domPkPwr, Y)\n",
    "        # plotFFT(data2, frq2, peakFrq2, pwr2, domPK2, domPkPwr2, Y2)\n",
    "        \n",
    "        # if frequency is in a certain range, deliver reward\n",
    "        if((domPK > 220) and (domPK < 450)):\n",
    "            written = ser2.write(\"s\".encode(\"utf-8\"))\n",
    "            written = ser2.write(\"v\".encode(\"utf-8\"))\n",
    "            plotFFT(data1, frq, peakFrq, pwr, domPK, domPkPwr, Y)\n",
    "        if ((domPK2 > 220) and (domPK2 < 450)):\n",
    "            written = ser1.write(\"s\".encode(\"utf-8\"))\n",
    "            written = ser1.write(\"v\".encode(\"utf-8\"))\n",
    "            plotFFT(data2, frq2, peakFrq2, pwr2, domPK2, domPkPwr2, Y2)\n"
   ]
  },
  {
   "cell_type": "code",
   "execution_count": 32,
   "metadata": {
    "collapsed": false
   },
   "outputs": [],
   "source": [
    "\n",
    "def foreground():\n",
    "    # clear characters\n",
    "    while msvcrt.kbhit():\n",
    "        msvcrt.getch()\n",
    "        print('clearing characters ...')\n",
    "\n",
    "    while(True):\n",
    "        processAndReward()\n",
    "\n",
    "        # break loop if someone presses the 'q' while in terminal\n",
    "        if msvcrt.kbhit():\n",
    "            if msvcrt.getch() == b'q':\n",
    "                # disconnect camera \n",
    "    #             c.stop_capture()\n",
    "    #             c.disconnect()\n",
    "                print('keyboard q pressed, now quitting loop')\n",
    "                for i in range(5):\n",
    "                    winsound.Beep(450,100)\n",
    "                break   "
   ]
  },
  {
   "cell_type": "code",
   "execution_count": 33,
   "metadata": {
    "collapsed": false
   },
   "outputs": [
    {
     "name": "stdout",
     "output_type": "stream",
     "text": [
      "clearing characters ...clearing characters ...\n",
      "\n",
      "clearing characters ...clearing characters ...\n",
      "\n",
      "Grabbed image 0\n",
      "Appended image 0...\n",
      "Grabbed image 1\n",
      "Appended image 1...\n",
      "Grabbed image 2\n",
      "Appended image 2...\n",
      "Grabbed image 3\n",
      "Appended image 3...\n",
      "Grabbed image 4\n",
      "Appended image 4...\n",
      "Grabbed image 5\n",
      "Appended image 5...\n",
      "Grabbed image 6\n",
      "Appended image 6...\n",
      "Grabbed image 7\n",
      "Appended image 7...\n",
      "Grabbed image 8\n",
      "Appended image 8...\n",
      "Grabbed image 9\n",
      "Appended image 9...\n",
      "Grabbed image 10\n",
      "Appended image 10...\n",
      "Grabbed image 11\n",
      "Appended image 11...\n",
      "Grabbed image 12\n",
      "Appended image 12...\n",
      "Grabbed image 13\n",
      "Appended image 13...\n",
      "Grabbed image 14\n",
      "Appended image 14...\n",
      "Grabbed image 15\n",
      "Appended image 15...\n",
      "Grabbed image 16\n",
      "Appended image 16...\n",
      "Grabbed image 17\n",
      "Appended image 17...\n",
      "Grabbed image 18\n",
      "Appended image 18...\n",
      "Grabbed image 19\n",
      "Appended image 19...\n",
      "Grabbed image 20\n",
      "Appended image 20...\n",
      "Grabbed image 21\n",
      "Appended image 21...\n",
      "Grabbed image 22\n",
      "Appended image 22...\n",
      "Grabbed image 23\n",
      "Appended image 23...\n",
      "Grabbed image 24\n",
      "Appended image 24...\n",
      "Grabbed image 25\n",
      "Appended image 25...\n",
      "Grabbed image 26\n",
      "Appended image 26...\n",
      "Grabbed image 27\n",
      "Appended image 27...\n",
      "Grabbed image 28\n",
      "Appended image 28...\n",
      "Grabbed image 29\n",
      "Appended image 29...\n",
      "Grabbed image 30\n",
      "Appended image 30...\n",
      "Grabbed image 31\n",
      "Appended image 31...\n",
      "Grabbed image 32\n",
      "Appended image 32...\n",
      "Grabbed image 33\n",
      "Appended image 33...\n",
      "Grabbed image 34\n",
      "Appended image 34...\n",
      "Grabbed image 35\n",
      "Appended image 35...\n",
      "Grabbed image 36\n",
      "Appended image 36...\n",
      "Grabbed image 37\n",
      "Appended image 37...\n",
      "Grabbed image 38\n",
      "Appended image 38...\n",
      "Grabbed image 39\n",
      "Appended image 39...\n",
      "Grabbed image 40\n",
      "Appended image 40...\n",
      "Grabbed image 41\n",
      "Appended image 41...\n",
      "Grabbed image 42\n",
      "Appended image 42...\n",
      "Grabbed image 43\n",
      "Appended image 43...\n",
      "Grabbed image 44\n",
      "Appended image 44...\n",
      "Grabbed image 45\n",
      "Appended image 45...\n",
      "Grabbed image 46\n",
      "Appended image 46...\n",
      "Grabbed image 47\n",
      "Appended image 47...\n",
      "Grabbed image 48\n",
      "Appended image 48...\n",
      "Grabbed image 49\n",
      "Appended image 49...\n",
      "Grabbed image 50\n",
      "Appended image 50...\n",
      "Grabbed image 51\n",
      "Appended image 51...\n",
      "Grabbed image 52\n",
      "Appended image 52...\n",
      "Grabbed image 53\n",
      "Appended image 53...\n",
      "Grabbed image 54\n",
      "Appended image 54...\n",
      "Grabbed image 55\n",
      "Appended image 55...\n",
      "Grabbed image 56\n",
      "Appended image 56...\n",
      "Grabbed image 57\n",
      "Appended image 57...\n",
      "Grabbed image 58\n",
      "Appended image 58...\n",
      "Grabbed image 59\n",
      "Appended image 59...\n",
      "Grabbed image 60\n",
      "Appended image 60...\n",
      "Grabbed image 61\n",
      "Appended image 61...\n",
      "Grabbed image 62\n",
      "Appended image 62...\n",
      "Grabbed image 63\n",
      "Appended image 63...\n",
      "Grabbed image 64\n",
      "Appended image 64...\n",
      "Grabbed image 65\n",
      "Appended image 65...\n",
      "Grabbed image 66\n",
      "Appended image 66...\n",
      "Grabbed image 67\n",
      "Appended image 67...\n",
      "Grabbed image 68\n",
      "Appended image 68...\n",
      "Grabbed image 69\n",
      "Appended image 69...\n",
      "Grabbed image 70\n",
      "Appended image 70...\n",
      "Grabbed image 71\n",
      "Appended image 71...\n",
      "Grabbed image 72\n",
      "Appended image 72...\n",
      "Grabbed image 73\n",
      "Appended image 73...\n",
      "Grabbed image 74\n",
      "Appended image 74...\n",
      "Grabbed image 75\n",
      "Appended image 75...\n",
      "Grabbed image 76\n",
      "Appended image 76...\n",
      "Grabbed image 77\n",
      "Appended image 77...\n",
      "Grabbed image 78\n"
     ]
    }
   ],
   "source": [
    "b = threading.Thread(name='background', target=background)\n",
    "f = threading.Thread(name='foreground', target=foreground)\n",
    "\n",
    "b.start()\n",
    "f.start()"
   ]
  },
  {
   "cell_type": "code",
   "execution_count": 35,
   "metadata": {
    "collapsed": false
   },
   "outputs": [
    {
     "name": "stdout",
     "output_type": "stream",
     "text": [
      "Grabbed image 124\n",
      "Appended image 124...\n",
      "Grabbed image 125\n",
      "Appended image 125...\n",
      "Grabbed image 126\n",
      "Appended image 126...\n",
      "Grabbed image 127\n",
      "Appended image 127...\n",
      "Grabbed image 128\n",
      "Appended image 128...\n",
      "Grabbed image 129\n",
      "Appended image 129...\n",
      "Grabbed image 130\n",
      "Appended image 130...\n",
      "Grabbed image 131\n",
      "Appended image 131...\n",
      "Grabbed image 132\n",
      "Appended image 132...\n",
      "Grabbed image 133\n",
      "Appended image 133...\n",
      "Grabbed image 134\n",
      "Appended image 134...\n",
      "Grabbed image 135\n",
      "Appended image 135...\n",
      "Grabbed image 136\n",
      "Appended image 136...\n",
      "Grabbed image 137\n",
      "Appended image 137...\n",
      "Grabbed image 138\n",
      "Appended image 138...\n",
      "Grabbed image 139\n",
      "Appended image 139...\n",
      "Grabbed image 140\n",
      "Appended image 140...\n",
      "Grabbed image 141\n",
      "Appended image 141...\n",
      "Grabbed image 142\n",
      "Appended image 142...\n",
      "Grabbed image 143\n",
      "Appended image 143...\n",
      "Grabbed image 144\n",
      "Appended image 144...\n",
      "Grabbed image 145\n",
      "Appended image 145...\n",
      "Grabbed image 146\n",
      "Appended image 146...\n",
      "Grabbed image 147\n",
      "Appended image 147...\n",
      "Grabbed image 148\n",
      "Appended image 148...\n",
      "Grabbed image 149\n",
      "Appended image 149...\n",
      "Grabbed image 150\n",
      "Appended image 150...\n",
      "Grabbed image 151\n",
      "Appended image 151...\n",
      "Grabbed image 152\n",
      "Appended image 152...\n",
      "Grabbed image 153\n",
      "Appended image 153...\n",
      "Grabbed image 154\n",
      "Appended image 154...\n",
      "Grabbed image 155\n",
      "Appended image 155...\n",
      "Grabbed image 156\n",
      "Appended image 156...\n",
      "Grabbed image 157\n",
      "Appended image 157...\n",
      "Grabbed image 158\n",
      "Appended image 158...\n",
      "Grabbed image 159\n",
      "Appended image 159...\n",
      "Grabbed image 160\n",
      "Appended image 160...\n",
      "Grabbed image 161\n",
      "Appended image 161...\n",
      "Grabbed image 162\n",
      "Appended image 162...\n",
      "Grabbed image 163\n",
      "Appended image 163...\n",
      "Grabbed image 164\n",
      "Appended image 164...\n",
      "Grabbed image 165\n",
      "Appended image 165...\n",
      "Grabbed image 166\n",
      "Appended image 166...\n",
      "Grabbed image 167\n",
      "Appended image 167...\n",
      "Grabbed image 168\n",
      "Appended image 168...\n",
      "Grabbed image 169\n",
      "Appended image 169...\n",
      "Grabbed image 170\n",
      "Appended image 170...\n",
      "Grabbed image 171\n",
      "Appended image 171...\n",
      "Grabbed image 172\n",
      "Appended image 172...\n",
      "Grabbed image 173\n",
      "Appended image 173...\n",
      "Grabbed image 174\n",
      "Appended image 174...\n",
      "Grabbed image 175\n",
      "Appended image 175...\n",
      "Grabbed image 176\n",
      "Appended image 176...\n",
      "Grabbed image 177\n",
      "Appended image 177...\n",
      "Grabbed image 178\n",
      "Appended image 178...\n",
      "Grabbed image 179\n",
      "Appended image 179...\n",
      "Grabbed image 180\n",
      "Appended image 180...\n",
      "Grabbed image 181\n",
      "Appended image 181...\n",
      "Grabbed image 182\n",
      "Appended image 182...\n",
      "Grabbed image 183\n",
      "Appended image 183...\n",
      "Grabbed image 184\n",
      "Appended image 184...\n",
      "Grabbed image 185\n",
      "Appended image 185...\n",
      "Grabbed image 186\n",
      "Appended image 186...\n",
      "Grabbed image 187\n",
      "Appended image 187...\n",
      "Grabbed image 188\n",
      "Appended image 188...\n",
      "Grabbed image 189\n",
      "Appended image 189...\n",
      "Grabbed image 190\n",
      "Appended image 190...\n",
      "Grabbed image 191\n",
      "Appended image 191...\n",
      "Grabbed image 192\n",
      "Appended image 192...\n",
      "Grabbed image 193\n",
      "Appended image 193...\n",
      "Grabbed image 194\n",
      "Appended image 194...\n",
      "Grabbed image 195\n",
      "Appended image 195...\n",
      "Grabbed image 196\n",
      "Appended image 196...\n",
      "Grabbed image 197\n",
      "Appended image 197...\n",
      "Grabbed image 198\n",
      "Appended image 198...\n",
      "Grabbed image 199\n",
      "Appended image 199...\n",
      "Grabbed image 200\n",
      "Appended image 200...\n",
      "Grabbed image 201\n",
      "Appended image 201...\n",
      "Grabbed image 202\n",
      "Appended image 202...\n",
      "Grabbed image 203\n",
      "Appended image 203...\n",
      "Grabbed image 204\n",
      "Appended image 204...\n",
      "Grabbed image 205\n",
      "Appended image 205...\n",
      "Grabbed image 206\n",
      "Appended image 206...\n",
      "Grabbed image 207\n",
      "Appended image 207...\n",
      "Grabbed image 208\n",
      "Appended image 208...\n",
      "Grabbed image 209\n",
      "Appended image 209...\n",
      "Grabbed image 210\n",
      "Appended image 210...\n",
      "Grabbed image 211\n",
      "Appended image 211...\n",
      "Grabbed image 212\n",
      "Appended image 212...\n",
      "Grabbed image 213\n",
      "Appended image 213...\n",
      "Grabbed image 214\n",
      "Appended image 214...\n",
      "Grabbed image 215\n",
      "Appended image 215...\n",
      "Grabbed image 216\n",
      "Appended image 216...\n",
      "Grabbed image 217\n",
      "Appended image 217...\n",
      "Grabbed image 218\n",
      "Appended image 218...\n",
      "Grabbed image 219\n",
      "Appended image 219...\n",
      "Grabbed image 220\n",
      "Appended image 220...\n",
      "Grabbed image 221\n",
      "Appended image 221...\n",
      "Grabbed image 222\n",
      "Appended image 222...\n",
      "Grabbed image 223\n",
      "Appended image 223...\n",
      "Grabbed image 224\n",
      "Appended image 224...\n",
      "Grabbed image 225\n",
      "Appended image 225...\n",
      "Grabbed image 226\n",
      "Appended image 226...\n",
      "Grabbed image 227\n",
      "Appended image 227...\n",
      "Grabbed image 228\n",
      "Appended image 228...\n",
      "Grabbed image 229\n",
      "Appended image 229...\n",
      "Grabbed image 230\n",
      "Appended image 230...\n",
      "Grabbed image 231\n",
      "Appended image 231...\n",
      "Grabbed image 232\n",
      "Appended image 232...\n",
      "Grabbed image 233\n",
      "Appended image 233...\n",
      "Grabbed image 234\n",
      "Appended image 234...\n",
      "Grabbed image 235\n",
      "Appended image 235...\n",
      "Grabbed image 236\n",
      "Appended image 236...\n",
      "Grabbed image 237\n",
      "Appended image 237...\n",
      "Grabbed image 238\n",
      "Appended image 238...\n",
      "Grabbed image 239\n",
      "Appended image 239...\n",
      "Grabbed image 240\n",
      "Appended image 240...\n",
      "Grabbed image 241\n",
      "Appended image 241...\n",
      "Grabbed image 242\n",
      "Appended image 242...\n",
      "Grabbed image 243\n",
      "Appended image 243...\n",
      "Grabbed image 244\n",
      "Appended image 244...\n",
      "Grabbed image 245\n",
      "Appended image 245...\n",
      "Grabbed image 246\n",
      "Appended image 246...\n",
      "Grabbed image 247\n",
      "Appended image 247...\n",
      "Grabbed image 248\n",
      "Appended image 248...\n",
      "Grabbed image 249\n",
      "Appended image 249...\n",
      "Grabbed image 250\n",
      "Appended image 250...\n",
      "Grabbed image 251\n",
      "Appended image 251...\n",
      "Grabbed image 252\n",
      "Appended image 252...\n",
      "Grabbed image 253\n",
      "Appended image 253...\n",
      "Grabbed image 254\n",
      "Appended image 254...\n",
      "Grabbed image 255\n",
      "Appended image 255...\n",
      "Grabbed image 256\n",
      "Appended image 256...\n",
      "Grabbed image 257\n",
      "Appended image 257...\n",
      "Grabbed image 258\n",
      "Appended image 258...\n",
      "Grabbed image 259\n",
      "Appended image 259...\n",
      "Grabbed image 260\n",
      "Appended image 260...\n",
      "Grabbed image 261\n",
      "Appended image 261...\n",
      "Grabbed image 262\n",
      "Appended image 262...\n",
      "Grabbed image 263\n",
      "Appended image 263...\n",
      "Grabbed image 264\n",
      "Appended image 264...\n",
      "Grabbed image 265\n",
      "Appended image 265...\n",
      "Grabbed image 266\n",
      "Appended image 266...\n",
      "Grabbed image 267\n",
      "Appended image 267...\n",
      "Grabbed image 268\n",
      "Appended image 268...\n",
      "Grabbed image 269\n",
      "Appended image 269...\n",
      "Grabbed image 270\n",
      "Appended image 270...\n",
      "Grabbed image 271\n",
      "Appended image 271...\n",
      "Grabbed image 272\n",
      "Appended image 272...\n",
      "Grabbed image 273\n",
      "Appended image 273...\n",
      "Grabbed image 274\n",
      "Appended image 274...\n",
      "Grabbed image 275\n",
      "Appended image 275...\n",
      "Grabbed image 276\n",
      "Appended image 276...\n",
      "Grabbed image 277\n",
      "Appended image 277...\n",
      "Grabbed image 278\n",
      "Appended image 278...\n",
      "Grabbed image 279\n",
      "Appended image 279...\n",
      "Grabbed image 280\n",
      "Appended image 280...\n",
      "Grabbed image 281\n",
      "Appended image 281...\n",
      "Grabbed image 282\n",
      "Appended image 282...\n",
      "Grabbed image 283\n",
      "Appended image 283...\n",
      "Grabbed image 284\n",
      "Appended image 284...\n",
      "Grabbed image 285\n",
      "Appended image 285...\n",
      "Grabbed image 286\n",
      "Appended image 286...\n",
      "Grabbed image 287\n",
      "Appended image 287...\n",
      "Grabbed image 288\n",
      "Appended image 288...\n",
      "Grabbed image 289\n",
      "Appended image 289...\n",
      "Grabbed image 290\n",
      "Appended image 290...\n",
      "Grabbed image 291\n",
      "Appended image 291...\n",
      "Grabbed image 292\n",
      "Appended image 292...\n",
      "Grabbed image 293\n",
      "Appended image 293...\n",
      "Grabbed image 294\n",
      "Appended image 294...\n",
      "Grabbed image 295\n",
      "Appended image 295...\n",
      "Grabbed image 296\n",
      "Appended image 296...\n",
      "Grabbed image 297\n",
      "Appended image 297...\n",
      "Grabbed image 298\n",
      "Appended image 298...\n",
      "Grabbed image 299\n",
      "Appended image 299...\n",
      "Grabbed image 300\n",
      "Appended image 300...\n",
      "Grabbed image 301\n",
      "Appended image 301...\n",
      "Grabbed image 302\n",
      "Appended image 302...\n",
      "Grabbed image 303\n",
      "Appended image 303...\n",
      "Grabbed image 304\n",
      "Appended image 304...\n",
      "Grabbed image 305\n",
      "Appended image 305...\n",
      "Grabbed image 306\n",
      "Appended image 306...\n",
      "Grabbed image 307\n",
      "Appended image 307...\n",
      "Grabbed image 308\n",
      "Appended image 308...\n",
      "Grabbed image 309\n",
      "Appended image 309...\n",
      "Grabbed image 310\n",
      "Appended image 310...\n",
      "Grabbed image 311\n",
      "Appended image 311...\n",
      "Grabbed image 312\n",
      "Appended image 312...\n",
      "Grabbed image 313\n",
      "Appended image 313...\n",
      "Grabbed image 314\n",
      "Appended image 314...\n",
      "Grabbed image 315\n",
      "Appended image 315...\n",
      "Grabbed image 316\n",
      "Appended image 316...\n",
      "Grabbed image 317\n",
      "Appended image 317...\n",
      "Grabbed image 318\n",
      "Appended image 318...\n",
      "Grabbed image 319\n",
      "Appended image 319...\n",
      "Grabbed image 320\n",
      "Appended image 320...\n",
      "Grabbed image 321\n",
      "Appended image 321...\n",
      "Grabbed image 322\n",
      "Appended image 322...\n",
      "Grabbed image 323\n",
      "Appended image 323...\n",
      "Grabbed image 324\n",
      "Appended image 324...\n",
      "Grabbed image 325\n",
      "Appended image 325...\n",
      "Grabbed image 326\n",
      "Appended image 326...\n",
      "Grabbed image 327\n",
      "Appended image 327...\n",
      "Grabbed image 328\n",
      "Appended image 328...\n",
      "Grabbed image 329\n",
      "Appended image 329...\n",
      "Grabbed image 330\n",
      "Appended image 330...\n",
      "Grabbed image 331\n",
      "Appended image 331...\n",
      "Grabbed image 332\n",
      "Appended image 332...\n",
      "Grabbed image 333\n",
      "Appended image 333...\n",
      "Grabbed image 334\n",
      "Appended image 334...\n",
      "Grabbed image 335\n",
      "Appended image 335...\n",
      "Grabbed image 336\n",
      "Appended image 336...\n",
      "Grabbed image 337\n",
      "Appended image 337...\n",
      "Grabbed image 338\n",
      "Appended image 338...\n",
      "Grabbed image 339\n",
      "Appended image 339...\n",
      "Grabbed image 340\n",
      "Appended image 340...\n",
      "Grabbed image 341\n",
      "Appended image 341...\n",
      "Grabbed image 342\n",
      "Appended image 342...\n",
      "Grabbed image 343\n",
      "Appended image 343...\n",
      "Grabbed image 344\n",
      "Appended image 344...\n",
      "Grabbed image 345\n",
      "Appended image 345...\n",
      "Grabbed image 346\n",
      "Appended image 346...\n",
      "Grabbed image 347\n",
      "Appended image 347...\n",
      "Grabbed image 348\n",
      "Appended image 348...\n",
      "Grabbed image 349\n",
      "Appended image 349...\n",
      "Grabbed image 350\n",
      "Appended image 350...\n",
      "Grabbed image 351\n",
      "Appended image 351...\n",
      "Grabbed image 352\n",
      "Appended image 352...\n",
      "Grabbed image 353\n",
      "Appended image 353...\n",
      "Grabbed image 354\n",
      "Appended image 354...\n",
      "Grabbed image 355\n",
      "Appended image 355...\n",
      "Grabbed image 356\n",
      "Appended image 356...\n",
      "Grabbed image 357\n",
      "Appended image 357...\n",
      "Grabbed image 358\n",
      "Appended image 358...\n",
      "Grabbed image 359\n",
      "Appended image 359...\n",
      "Grabbed image 360\n",
      "Appended image 360...\n",
      "Grabbed image 361\n",
      "Appended image 361...\n",
      "Grabbed image 362\n",
      "Appended image 362...\n",
      "Grabbed image 363\n",
      "Appended image 363...\n",
      "Grabbed image 364\n",
      "Appended image 364...\n",
      "Grabbed image 365\n",
      "Appended image 365...\n",
      "Grabbed image 366\n",
      "Appended image 366...\n",
      "Grabbed image 367\n",
      "Appended image 367...\n",
      "Grabbed image 368\n",
      "Appended image 368...\n",
      "Grabbed image 369\n",
      "Appended image 369...\n",
      "Grabbed image 370\n",
      "Appended image 370...\n",
      "Grabbed image 371\n",
      "Appended image 371...\n",
      "Grabbed image 372\n",
      "Appended image 372...\n",
      "Grabbed image 373\n",
      "Appended image 373...\n",
      "Grabbed image 374\n",
      "Appended image 374...\n",
      "Grabbed image 375\n",
      "Appended image 375...\n",
      "Grabbed image 376\n",
      "Appended image 376...\n",
      "Grabbed image 377\n",
      "Appended image 377...\n",
      "Grabbed image 378\n",
      "Appended image 378...\n",
      "Grabbed image 379\n",
      "Appended image 379...\n",
      "Grabbed image 380\n",
      "Appended image 380...\n",
      "Grabbed image 381\n",
      "Appended image 381...\n",
      "Grabbed image 382\n",
      "Appended image 382...\n",
      "Grabbed image 383\n",
      "Appended image 383...\n",
      "Grabbed image 384\n",
      "Appended image 384...\n",
      "Grabbed image 385\n",
      "Appended image 385...\n",
      "Grabbed image 386\n",
      "Appended image 386...\n",
      "Grabbed image 387\n",
      "Appended image 387...\n",
      "Grabbed image 388\n",
      "Appended image 388...\n",
      "Grabbed image 389\n",
      "Appended image 389...\n",
      "Grabbed image 390\n",
      "Appended image 390...\n",
      "Grabbed image 391\n",
      "Appended image 391...\n",
      "Grabbed image 392\n",
      "Appended image 392...\n",
      "Grabbed image 393\n",
      "Appended image 393...\n",
      "Grabbed image 394\n",
      "Appended image 394...\n",
      "Grabbed image 395\n",
      "Appended image 395...\n",
      "Grabbed image 396\n",
      "Appended image 396...\n",
      "Grabbed image 397\n",
      "Appended image 397...\n",
      "Grabbed image 398\n",
      "Appended image 398...\n",
      "Grabbed image 399\n",
      "Appended image 399...\n",
      "Grabbed image 400\n",
      "Appended image 400...\n",
      "Grabbed image 401\n",
      "Appended image 401...\n",
      "Grabbed image 402\n",
      "Appended image 402...\n",
      "Grabbed image 403\n",
      "Appended image 403...\n",
      "Grabbed image 404\n",
      "Appended image 404...\n",
      "Grabbed image 405\n",
      "Appended image 405...\n",
      "Grabbed image 406\n",
      "Appended image 406...\n",
      "Grabbed image 407\n",
      "Appended image 407...\n",
      "Grabbed image 408\n",
      "Appended image 408...\n",
      "Grabbed image 409\n",
      "Appended image 409...\n",
      "Grabbed image 410\n",
      "Appended image 410...\n",
      "Grabbed image 411\n",
      "Appended image 411...\n",
      "Grabbed image 412\n",
      "Appended image 412...\n",
      "Grabbed image 413\n",
      "Appended image 413...\n",
      "Grabbed image 414\n",
      "Appended image 414...\n",
      "Grabbed image 415\n",
      "Appended image 415...\n",
      "Grabbed image 416\n",
      "Appended image 416...\n",
      "Grabbed image 417\n",
      "Appended image 417...\n",
      "Grabbed image 418\n",
      "Appended image 418...\n",
      "Grabbed image 419\n",
      "Appended image 419...\n",
      "Grabbed image 420\n",
      "Appended image 420...\n",
      "Grabbed image 421\n",
      "Appended image 421...\n",
      "Grabbed image 422\n",
      "Appended image 422...\n",
      "Grabbed image 423\n",
      "Appended image 423...\n",
      "Grabbed image 424\n",
      "Appended image 424...\n",
      "Grabbed image 425\n",
      "Appended image 425...\n",
      "Grabbed image 426\n",
      "Appended image 426...\n",
      "Grabbed image 427\n",
      "Appended image 427...\n",
      "Grabbed image 428\n",
      "Appended image 428...\n",
      "Grabbed image 429\n",
      "Appended image 429...\n",
      "Grabbed image 430\n",
      "Appended image 430...\n",
      "Grabbed image 431\n",
      "Appended image 431...\n",
      "Grabbed image 432\n",
      "Appended image 432...\n",
      "Grabbed image 433\n",
      "Appended image 433...\n",
      "Grabbed image 434\n",
      "Appended image 434...\n",
      "Grabbed image 435\n",
      "Appended image 435...\n",
      "Grabbed image 436\n",
      "Appended image 436...\n",
      "Grabbed image 437\n",
      "Appended image 437...\n",
      "Grabbed image 438\n",
      "Appended image 438...\n",
      "Grabbed image 439\n",
      "Appended image 439...\n",
      "Grabbed image 440\n",
      "Appended image 440...\n",
      "Grabbed image 441\n",
      "Appended image 441...\n",
      "Grabbed image 442\n",
      "Appended image 442...\n",
      "Grabbed image 443\n",
      "Appended image 443...\n",
      "Grabbed image 444\n",
      "Appended image 444...\n",
      "Grabbed image 445\n",
      "Appended image 445...\n",
      "Grabbed image 446\n",
      "Appended image 446...\n",
      "Grabbed image 447\n",
      "Appended image 447...\n",
      "Grabbed image 448\n",
      "Appended image 448...\n",
      "Grabbed image 449\n",
      "Appended image 449...\n",
      "Grabbed image 450\n",
      "Appended image 450...\n",
      "Grabbed image 451\n",
      "Appended image 451...\n",
      "Grabbed image 452\n",
      "Appended image 452...\n",
      "Grabbed image 453\n",
      "Appended image 453...\n",
      "Grabbed image 454\n",
      "Appended image 454...\n",
      "Grabbed image 455\n",
      "Appended image 455...\n",
      "Grabbed image 456\n",
      "Appended image 456...\n",
      "Grabbed image 457\n",
      "Appended image 457...\n",
      "Grabbed image 458\n",
      "Appended image 458...\n",
      "Grabbed image 459\n",
      "Appended image 459...\n",
      "Grabbed image 460\n",
      "Appended image 460...\n",
      "Grabbed image 461\n",
      "Appended image 461...\n",
      "Grabbed image 462\n",
      "Appended image 462...\n",
      "Grabbed image 463\n",
      "Appended image 463...\n",
      "Grabbed image 464\n",
      "Appended image 464...\n",
      "Grabbed image 465\n",
      "Appended image 465...\n",
      "Grabbed image 466\n",
      "Appended image 466...\n",
      "Grabbed image 467\n",
      "Appended image 467...\n",
      "Grabbed image 468\n",
      "Appended image 468...\n",
      "Grabbed image 469\n",
      "Appended image 469...\n",
      "Grabbed image 470\n",
      "Appended image 470...\n",
      "Grabbed image 471\n",
      "Appended image 471...\n",
      "Grabbed image 472\n",
      "Appended image 472...\n",
      "Grabbed image 473\n",
      "Appended image 473...\n",
      "Grabbed image 474\n",
      "Appended image 474...\n",
      "Grabbed image 475\n",
      "Appended image 475...\n",
      "Grabbed image 476\n",
      "Appended image 476...\n",
      "Grabbed image 477\n",
      "Appended image 477...\n",
      "Grabbed image 478\n",
      "Appended image 478...\n",
      "Grabbed image 479\n",
      "Appended image 479...\n",
      "Grabbed image 480\n",
      "Appended image 480...\n",
      "Grabbed image 481\n",
      "Appended image 481...\n",
      "Grabbed image 482\n",
      "Appended image 482...\n",
      "Grabbed image 483\n",
      "Appended image 483...\n",
      "Grabbed image 484\n",
      "Appended image 484...\n",
      "Grabbed image 485\n",
      "Appended image 485...\n",
      "Grabbed image 486\n",
      "Appended image 486...\n",
      "Grabbed image 487\n",
      "Appended image 487...\n",
      "Grabbed image 488\n",
      "Appended image 488...\n",
      "Grabbed image 489\n",
      "Appended image 489...\n",
      "Grabbed image 490\n",
      "Appended image 490...\n",
      "Grabbed image 491\n",
      "Appended image 491...\n",
      "Grabbed image 492\n",
      "Appended image 492...\n",
      "Grabbed image 493\n",
      "Appended image 493...\n",
      "Grabbed image 494\n",
      "Appended image 494...\n",
      "Grabbed image 495\n",
      "Appended image 495...\n",
      "Grabbed image 496\n",
      "Appended image 496...\n",
      "Grabbed image 497\n",
      "Appended image 497...\n",
      "Grabbed image 498\n",
      "Appended image 498...\n",
      "Grabbed image 499\n",
      "Appended image 499...\n",
      "Grabbed image 500\n",
      "Appended image 500...\n",
      "Grabbed image 501\n",
      "Appended image 501...\n",
      "Grabbed image 502\n",
      "Appended image 502...\n",
      "Grabbed image 503\n",
      "Appended image 503...\n",
      "Grabbed image 504\n",
      "Appended image 504...\n",
      "Grabbed image 505\n",
      "Appended image 505...\n",
      "Grabbed image 506\n",
      "Appended image 506...\n",
      "Grabbed image 507\n",
      "Appended image 507...\n",
      "Grabbed image 508\n",
      "Appended image 508...\n",
      "Grabbed image 509\n",
      "Appended image 509...\n",
      "Grabbed image 510\n",
      "Appended image 510...\n",
      "Grabbed image 511\n",
      "Appended image 511...\n",
      "Grabbed image 512\n",
      "Appended image 512...\n",
      "Grabbed image 513\n"
     ]
    },
    {
     "ename": "AttributeError",
     "evalue": "'Thread' object has no attribute 'cancel'",
     "output_type": "error",
     "traceback": [
      "\u001b[1;31m---------------------------------------------------------------------------\u001b[0m",
      "\u001b[1;31mAttributeError\u001b[0m                            Traceback (most recent call last)",
      "\u001b[1;32m<ipython-input-35-808bd5103701>\u001b[0m in \u001b[0;36m<module>\u001b[1;34m()\u001b[0m\n\u001b[1;32m----> 1\u001b[1;33m \u001b[0mb\u001b[0m\u001b[1;33m.\u001b[0m\u001b[0mcancel\u001b[0m\u001b[1;33m(\u001b[0m\u001b[1;33m)\u001b[0m\u001b[1;33m\u001b[0m\u001b[0m\n\u001b[0m",
      "\u001b[1;31mAttributeError\u001b[0m: 'Thread' object has no attribute 'cancel'"
     ]
    },
    {
     "name": "stdout",
     "output_type": "stream",
     "text": [
      "Appended image 513...\n",
      "Grabbed image 514\n",
      "Appended image 514...\n",
      "Grabbed image 515\n",
      "Appended image 515...\n",
      "Grabbed image 516\n",
      "Appended image 516...\n",
      "Grabbed image 517\n",
      "Appended image 517...\n",
      "Grabbed image 518\n",
      "Appended image 518...\n",
      "Grabbed image 519\n",
      "Appended image 519...\n",
      "Grabbed image 520\n",
      "Appended image 520...\n",
      "Grabbed image 521\n",
      "Appended image 521...\n",
      "Grabbed image 522\n",
      "Appended image 522...\n",
      "Grabbed image 523\n",
      "Appended image 523...\n",
      "Grabbed image 524\n",
      "Appended image 524...\n",
      "Grabbed image 525\n",
      "Appended image 525...\n",
      "Grabbed image 526\n",
      "Appended image 526...\n",
      "Grabbed image 527\n",
      "Appended image 527...\n",
      "Grabbed image 528\n",
      "Appended image 528...\n",
      "Grabbed image 529\n",
      "Appended image 529...\n",
      "Grabbed image 530\n",
      "Appended image 530...\n",
      "Grabbed image 531\n",
      "Appended image 531...\n",
      "Grabbed image 532\n",
      "Appended image 532...\n",
      "Grabbed image 533\n",
      "Appended image 533...\n",
      "Grabbed image 534\n",
      "Appended image 534...\n",
      "Grabbed image 535\n",
      "Appended image 535...\n",
      "Grabbed image 536\n",
      "Appended image 536...\n",
      "Grabbed image 537\n",
      "Appended image 537...\n",
      "Grabbed image 538\n",
      "Appended image 538...\n",
      "Grabbed image 539\n",
      "Appended image 539...\n",
      "Grabbed image 540\n",
      "Appended image 540..."
     ]
    }
   ],
   "source": [
    "b.cancel()"
   ]
  },
  {
   "cell_type": "code",
   "execution_count": null,
   "metadata": {
    "collapsed": false
   },
   "outputs": [],
   "source": [
    "msvcrt.getch()"
   ]
  },
  {
   "cell_type": "code",
   "execution_count": null,
   "metadata": {
    "collapsed": true
   },
   "outputs": [],
   "source": [
    "# read in data\n",
    "data1, data2 = [readAccel(accNum=ii) for ii in [\"Dev2/ai0\", \"Dev2/ai1\"]]\n",
    "amp1, amp2 = [np.max(x) - np.min(x) for x in [data1, data2]]"
   ]
  },
  {
   "cell_type": "code",
   "execution_count": null,
   "metadata": {
    "collapsed": false
   },
   "outputs": [],
   "source": [
    "(amp1 > 0.04) or (amp2 > 0.04)"
   ]
  },
  {
   "cell_type": "code",
   "execution_count": null,
   "metadata": {
    "collapsed": false
   },
   "outputs": [],
   "source": [
    "amp1, amp2"
   ]
  },
  {
   "cell_type": "code",
   "execution_count": null,
   "metadata": {
    "collapsed": true
   },
   "outputs": [],
   "source": []
  },
  {
   "cell_type": "code",
   "execution_count": null,
   "metadata": {
    "collapsed": true
   },
   "outputs": [],
   "source": []
  },
  {
   "cell_type": "code",
   "execution_count": null,
   "metadata": {
    "collapsed": true
   },
   "outputs": [],
   "source": []
  },
  {
   "cell_type": "code",
   "execution_count": null,
   "metadata": {
    "collapsed": true
   },
   "outputs": [],
   "source": []
  },
  {
   "cell_type": "code",
   "execution_count": null,
   "metadata": {
    "collapsed": false
   },
   "outputs": [],
   "source": [
    " processAndReward()"
   ]
  },
  {
   "cell_type": "code",
   "execution_count": null,
   "metadata": {
    "collapsed": false
   },
   "outputs": [],
   "source": []
  },
  {
   "cell_type": "code",
   "execution_count": null,
   "metadata": {
    "collapsed": true
   },
   "outputs": [],
   "source": []
  },
  {
   "cell_type": "code",
   "execution_count": null,
   "metadata": {
    "collapsed": true
   },
   "outputs": [],
   "source": []
  },
  {
   "cell_type": "code",
   "execution_count": null,
   "metadata": {
    "collapsed": true
   },
   "outputs": [],
   "source": []
  },
  {
   "cell_type": "code",
   "execution_count": null,
   "metadata": {
    "collapsed": true
   },
   "outputs": [],
   "source": []
  },
  {
   "cell_type": "code",
   "execution_count": null,
   "metadata": {
    "collapsed": true
   },
   "outputs": [],
   "source": []
  },
  {
   "cell_type": "code",
   "execution_count": null,
   "metadata": {
    "collapsed": true
   },
   "outputs": [],
   "source": []
  },
  {
   "cell_type": "code",
   "execution_count": null,
   "metadata": {
    "collapsed": true
   },
   "outputs": [],
   "source": []
  },
  {
   "cell_type": "code",
   "execution_count": null,
   "metadata": {
    "collapsed": true
   },
   "outputs": [],
   "source": []
  },
  {
   "cell_type": "code",
   "execution_count": null,
   "metadata": {
    "collapsed": false,
    "scrolled": true
   },
   "outputs": [],
   "source": [
    "# define function for recording and rewarding buzzes\n",
    "def recRew(ftestMin, ftestMax, trt):\n",
    "     \n",
    "        \n",
    "    aThr = [0,5]\n",
    "    \n",
    "    # loop to look for specific frequencies\n",
    "    fmin = 5.0\n",
    "    fmax = 520.0\n",
    "\n",
    "    counterAlarm = 50\n",
    "\n",
    "    peakFrq = np.array(0)\n",
    "    pwr = np.array(0)\n",
    "    pwrCutoff = 0.004 # lower amplitude cutoff\n",
    "    sleepTime = 0 # seconds\n",
    "\n",
    "    # make a continuously-sampling loop that will end if it gets a frequency of 280 Hz\n",
    "    # 100000 samples is one second\n",
    "    # Note: to get higher resolution for peak freq, I'd need a larger window\n",
    "    N_samples = 20000 \n",
    "    log_rate = 200000.0\n",
    "\n",
    "    ctr = 0\n",
    "    ctr2 = 0\n",
    "    \n",
    "    # start buzz timer\n",
    "    buzzTime = time.time()\n",
    "    \n",
    "    # open text file\n",
    "    with open(str(outDir)+ '_ampFreq.txt', 'a') as text_file:  \n",
    "\n",
    "        # clear characters waiting to be read\n",
    "        while msvcrt.kbhit():\n",
    "            msvcrt.getch()\n",
    "            print('clearing characters ...')\n",
    "\n",
    "        while ctr <= (2*counterAlarm - 1): # only give a max of 100 buzzes\n",
    "                \n",
    "            taskHandle = TaskHandle()\n",
    "            read = int32()\n",
    "            data = np.zeros((N_samples,), dtype=np.float64)\n",
    "\n",
    "            DAQmxCreateTask(\"\", byref(taskHandle))\n",
    "            # I have an piezoelectric accelerometer plugged into channel ai1 with range +/-10V\n",
    "            DAQmxCreateAIVoltageChan(taskHandle, \"Dev1/ai0\", \n",
    "                                     \"Accelerometer\", DAQmx_Val_Diff, \n",
    "                                     -10.0, 10.0, DAQmx_Val_Volts, None)\n",
    "            DAQmxCfgSampClkTiming(taskHandle, \"\", log_rate, \n",
    "                                  DAQmx_Val_Rising, \n",
    "                                  DAQmx_Val_FiniteSamps, N_samples)\n",
    "\n",
    "            DAQmxStartTask(taskHandle)\n",
    "            DAQmxReadAnalogF64(taskHandle, N_samples, 10.0, \n",
    "                               DAQmx_Val_GroupByChannel, data, \n",
    "                               N_samples, byref(read), None)\n",
    "\n",
    "            if taskHandle:\n",
    "                DAQmxStopTask(taskHandle);\n",
    "                DAQmxClearTask(taskHandle);\n",
    "\n",
    "            # 20fft\n",
    "            n =len(data) # length of the signal\n",
    "            k = np.arange(n, step = 1)\n",
    "            T = n/log_rate\n",
    "            frq = k/T # two sides frequency range\n",
    "            frq = frq[range(n/2)] # one side frequency range\n",
    "\n",
    "            Y = np.fft.fft(data)/n # fft computing and normalization\n",
    "            Y = Y[range(n/2)]\n",
    "\n",
    "            # calculate top frequency\n",
    "            ind = np.argpartition(abs(Y), -4)[-4:]\n",
    "            # Find highest point on the spectrum\n",
    "            peakFrq = frq[ind[::-1]]\n",
    "            pwr = (abs(Y)[ind[::-1]])\n",
    "            domPK = [x for (y,x) in sorted(zip(pwr,peakFrq), reverse = True)][0]\n",
    "\n",
    "            beeFrqPwr = pwr[peakFrq == domPK]\n",
    "            # print beeFrq in peakFrq, peakFrq[pwr == max(pwr)], beeFrqPwr, beeFrqPwr > 0.3\n",
    "\n",
    "            # if the bee is vibrating at a high enough power and the dominant peak from the \n",
    "            # vibration is in the right range\n",
    "            if beeFrqPwr > pwrCutoff and domPK > fmin and domPK < fmax:\n",
    "                buzzTime = time.time()\n",
    "                \n",
    "                reward = 'F'\n",
    "\n",
    "                aamp = np.max(data) - np.min(data)\n",
    "                # write value to serial port, and get it to start the turn on the motor\n",
    "                s3 = str(datetime.datetime.now().strftime(\"%Y_%m_%d__%H_%M_%S_%f\")[:-3]) # time with milliseconds\n",
    "                print(s3 + \" topFreq = \" + str(domPK) + \" amp = \" + str(aamp))\n",
    "\n",
    "                                \n",
    "                # take a photo and save it\n",
    "                im = fc2.Image()\n",
    "                c.retrieve_buffer(im)\n",
    "                a = np.array(im)\n",
    "                cv2.imwrite(os.getcwd() + '\\\\' + outDir + '\\\\' + s3 + '.pgm', a) # .pgm / ppm is quite fast, and can be read by imageJ\n",
    "                \n",
    "                \n",
    "                #print reward number\n",
    "                print('Counter Number ' + str(ctr))\n",
    "                \n",
    "                # reward only give pollen at specific frequencies and ampliude threshold\n",
    "                if domPK > ftestMin and domPK < ftestMax and (aThr[0] < aamp < aThr[1]):\n",
    "                                    \n",
    "                    ctr = ctr + 1\n",
    "                    \n",
    "                    if (trt == 1) and (ctr <= counterAlarm):\n",
    "                        written = ser1.write(\"20\")\n",
    "                        reward = 'T'\n",
    "                        \n",
    "                    if (trt == 2) and (ctr > counterAlarm):\n",
    "                        written = ser1.write(\"20\")\n",
    "                        reward = 'T'\n",
    "\n",
    "                    # beep for end of program\n",
    "                    if ctr > counterAlarm - 5:\n",
    "                        for i in range(counterAlarm - ctr):\n",
    "                            winsound.Beep(400,100)\n",
    "\n",
    "                    if ctr > counterAlarm:\n",
    "                        for i in range(counterAlarm - ctr):\n",
    "                            winsound.Beep(400,500)\n",
    "\n",
    "                ############################### PLOT ##################################\n",
    "                # create subplot 1\n",
    "                ax1 = plt.subplot(211)\n",
    "                ax1.plot(np.array(range(len(data)))/ float(log_rate), data)\n",
    "                ax1.set_ylabel(\"Volts\")\n",
    "                ax1.set_xlabel(\"time (s)\")\n",
    "                if reward == 'T':\n",
    "                    ax1.set_facecolor('grey')\n",
    "\n",
    "                # create subplot 2\n",
    "                ax2 = plt.subplot(212)\n",
    "                ax2.plot(frq,abs(Y),'r')\n",
    "                ax2.plot(domPK, beeFrqPwr, 'ro')\n",
    "                ax2.set_xlim(20, 1000)\n",
    "                ax2.set_ylabel('power')\n",
    "                ax2.set_xlabel('frequency')\n",
    "                plt.tight_layout()\n",
    "                plt.show()\n",
    "\n",
    "\n",
    "                #################### SAVE FILE FROM ACCEL ##############################\n",
    "                np.savetxt((os.getcwd() + '\\\\' + outDir + '\\\\' + s3 + '_' + str(ftestMin) + '_' + \n",
    "                           str(ftestMax) + '_' + str(aThr[0]) + '_' +  str(aThr[1]) + '.txt'), \n",
    "                           (np.array(range(len(data)))/ float(log_rate), data), delimiter = ' ')\n",
    "\n",
    "                ### write frequency and amplitude to file\n",
    "                var1 = (str(domPK) + ', ' + \n",
    "                           str(round(np.max(data) - np.min(data), 5)) + ', ' + \n",
    "                           s3 + ', ' + str(ctr) +', ' + str(reward) + \n",
    "                        ',' + str(aThr[0]) + \n",
    "                        ',' + str(aThr[1]) + '\\n')\n",
    "                text_file.writelines(var1)\n",
    "\n",
    "                # sleep\n",
    "                time.sleep(sleepTime)\n",
    "            \n",
    "            else:\n",
    "                #take a photo every 5 loops\n",
    "                # take a photo and save it\n",
    "                if ctr2 % 5 == 0:\n",
    "                    s4 = str(datetime.datetime.now().strftime(\"%Y_%m_%d__%H_%M_%S_%f\")[:-3]) # time with milliseconds\n",
    "                    im = fc2.Image()\n",
    "                    c.retrieve_buffer(im)\n",
    "                    a = np.array(im)\n",
    "                    cv2.imwrite(os.getcwd() + '\\\\' + outDir + '\\\\' + s4 + \"_bkg\" + '.pgm', a) # .pgm / ppm is quite fast, and can be read by imageJ\n",
    "\n",
    "                ctr2 += 1\n",
    "            \n",
    "\n",
    "            # break loop if someone presses the 'q' while in terminal\n",
    "            if msvcrt.kbhit():\n",
    "                if msvcrt.getch() == 'q':\n",
    "                    # disconnect camera \n",
    "                    c.stop_capture()\n",
    "                    c.disconnect()\n",
    "                    print('keyboard q pressed, now quitting loop')\n",
    "                    for i in range(5):\n",
    "                        winsound.Beep(450,100)\n",
    "                    break   \n",
    "                else:\n",
    "                    written = ser1.write(\"20\")\n",
    "            \n",
    "           # print(time.time() - buzzTime)\n",
    "            \n",
    "            # if bee goes for 5 minutes without buzzing, end the loop\n",
    "            if time.time() - buzzTime > (5.0 * 60):\n",
    "                # disconnect camera \n",
    "                c.stop_capture()\n",
    "                c.disconnect()\n",
    "                print('Bee Stopped buzzing, now quitting loop')\n",
    "                for i in range(5):\n",
    "                    winsound.Beep(450,100)\n",
    "                break   \n",
    "                    \n",
    "            ## move file to new folder at end of loop!\n",
    "\n",
    "    # make sound when loop stops\n",
    "    for i in range(3):\n",
    "        winsound.Beep(350,500)"
   ]
  },
  {
   "cell_type": "code",
   "execution_count": null,
   "metadata": {
    "collapsed": false
   },
   "outputs": [],
   "source": [
    "## reward amplitudes\n",
    "rewAAmp = \"test\" # test rewards at any amplitude and freq's between 220 and 450\n",
    "\n",
    "# change python directory to Dropbox\n",
    "os.chdir(\"C:\\\\Users\\Combes4\\Desktop\\Temp2\")\n",
    "os.getcwd()\n",
    "\n",
    "# make new directory with date, if it doesn't already exist\n",
    "outDir = (datetime.datetime.now().strftime(\"%Y_%m_%d__%H_%M_%S\"))\n",
    "#outDir = 'accelShake_009_05092016'\n",
    "\n",
    "if not os.path.isdir(os.getcwd() + '\\\\' + outDir):\n",
    "    os.mkdir(os.getcwd() + '\\\\' + outDir)\n",
    "    \n",
    "    print( 'new directory created: ' + str(outDir))\n",
    "else: print( 'directory exists: '  + str(outDir))\n",
    "\n",
    "print( \"the current python direcory is \" + str(os.getcwd()))\n",
    "                                                                                                                 \n",
    "# make new file\n",
    "open(str(outDir)+ '_ampFreq.txt', 'a').close()\n",
    "\n",
    "# start camera -- point grey Chameleon\n",
    "c = fc2.Camera()\n",
    "c.connect(bus.getCameraFromIndex(0))\n",
    "c.startCapture()\n",
    "\n",
    "# capture a background image (may be useful for image subtraction)\n",
    "im = grabImages(c, 1)\n",
    "im.save((os.getcwd() + '\\\\' + outDir + '\\\\' + \"fc2TestImage.png\").encode(\"utf-8\"), fc2.IMAGE_FILE_FORMAT.PNG)\n",
    "#cv_image = np.array(img.getData(), dtype=\"uint8\").reshape( (img.getRows(), img.getCols()) );\n",
    "\n",
    "#cv2.imwrite(os.getcwd() + '\\\\' + outDir + '\\\\' + 'background.pgm', a) \n",
    "\n",
    "# change treatment each trial (randomly)\n",
    "ttrt =99999 #int(np.random.choice([1,2], size = 1))\n",
    "print(ttrt)\n",
    "\n",
    "recRew(trt =ttrt, ftestMin=220, ftestMax =450)"
   ]
  },
  {
   "cell_type": "code",
   "execution_count": null,
   "metadata": {
    "collapsed": false
   },
   "outputs": [],
   "source": [
    "## make new folder and move files into that folder\n",
    "hhive = '8'\n",
    "ddate = (datetime.datetime.now().strftime(\"%Y_%m_%d\"))\n",
    "\n",
    "if 'bn' in globals():\n",
    "    bn += 1\n",
    "else:\n",
    "    bn = 282\n",
    "\n",
    "BeeNum = str(bn)\n",
    "\n",
    "\n",
    "\n",
    "if (ttrt == 2):\n",
    "    treatment = \"RewSec\"\n",
    "elif (ttrt == 1):\n",
    "    treatment = \"RewFir\"\n",
    "\n",
    "finFolder = 'B_' + BeeNum + '_' + ddate + '_H_'+  hhive + '_' + treatment\n",
    "\n",
    "# make new folder if it doesn't exist\n",
    "if not os.path.isdir(os.getcwd() + '\\\\' + finFolder):\n",
    "    os.mkdir(os.getcwd() + '\\\\' + finFolder)\n",
    "    \n",
    "    # move files into new folder\n",
    "    #os.rename(os.getcwd() + '\\\\' + outDir, os.getcwd() + '\\\\' + outDir +'\\\\' + finFolder)\n",
    "    os.rename(os.getcwd() + '\\\\' + outDir + '_ampFreq.txt', os.getcwd() + '\\\\' + finFolder + '\\\\' + outDir + '_ampFreq.txt')\n",
    "    \n",
    "    # move folder to new folder\n",
    "    src = os.getcwd() + '\\\\' + outDir\n",
    "    dst = os.getcwd() + '\\\\'  + finFolder + '\\\\'+ outDir\n",
    "    shutil.move(src, dst)\n",
    "    \n",
    "else: \n",
    "    print 'directory already exists'\n",
    "\n",
    "\n",
    "    \n",
    "# calculate mean frequency (only for rewarded buzzes)\n",
    "ff = os.getcwd() + '\\\\' + finFolder + '\\\\' + outDir + '_ampFreq.txt'\n",
    "dd = pd.read_csv(ff, header = None)\n",
    "\n",
    "print \"beeNum \" + str(bn)\n",
    "\n",
    "dd2 = dd[(dd.ix[:,0] > 220) & (dd.ix[:,0] < 450)]\n",
    "\n",
    "\n",
    "print \"total rewards\"\n",
    "print np.sum(np.array(dd2.ix[:,4]) == \" T\")\n",
    "\n",
    "# print \"total buzzes\"\n",
    "# print len(dd2)\n",
    "\n",
    "print \"mean Freq rewarded\"\n",
    "print np.mean(dd2.ix[:,0][dd2.ix[:,4] == \" T\"])\n",
    "\n",
    "print \"total buzzes not rewarded\"\n",
    "print np.sum(np.array(dd2.ix[:,4]) == \" F\")\n",
    "\n",
    "print \"mean Freq Unrewarded\"\n",
    "print np.mean(dd2.ix[:,0][dd2.ix[:,4] == \" F\"])\n",
    "\n",
    "# save metadata to file\n",
    "metadataFile = (datetime.datetime.now().strftime(\"%Y_%m_%d\")) + '_metadata.csv'\n",
    "\n",
    "# make new file if it doesn't exist (with header)\n",
    "if not os.path.isfile(metadataFile):\n",
    "    with open(metadataFile, 'a') as the_file:\n",
    "        the_file.write('timeOfTrial,beeNum,treatment,folder,totalRewards,meanFreqRewarded,totalBuzzesNotRewarded,meanFreqUnrewarded')\n",
    "        the_file.write('\\n')\n",
    "else: \n",
    "    print 'file already exists -- adding to file'\n",
    "\n",
    "# now write data to file                       \n",
    "with open(metadataFile, 'a') as the_file:\n",
    "    the_file.write(outDir + ',' + str(bn) + ','+\n",
    "                   treatment + ',' + \n",
    "                   finFolder + ',' + \n",
    "                   str(np.sum(np.array(dd2.ix[:,4]) == \" T\")) + ',' + \n",
    "                  str(np.mean(dd2.ix[:,0][dd2.ix[:,4] == \" T\"])) + ',' + \n",
    "                  str(np.sum(np.array(dd2.ix[:,4]) == \" F\")) + ',' +\n",
    "                  str(np.mean(dd2.ix[:,0][dd2.ix[:,4] == \" F\"]))\n",
    "                  )\n",
    "    the_file.write('\\n')                 \n"
   ]
  },
  {
   "cell_type": "code",
   "execution_count": null,
   "metadata": {
    "collapsed": true
   },
   "outputs": [],
   "source": []
  },
  {
   "cell_type": "code",
   "execution_count": null,
   "metadata": {
    "collapsed": true
   },
   "outputs": [],
   "source": []
  },
  {
   "cell_type": "code",
   "execution_count": null,
   "metadata": {
    "collapsed": true
   },
   "outputs": [],
   "source": []
  },
  {
   "cell_type": "code",
   "execution_count": null,
   "metadata": {
    "collapsed": true
   },
   "outputs": [],
   "source": []
  },
  {
   "cell_type": "code",
   "execution_count": null,
   "metadata": {
    "collapsed": true
   },
   "outputs": [],
   "source": []
  },
  {
   "cell_type": "code",
   "execution_count": null,
   "metadata": {
    "collapsed": true
   },
   "outputs": [],
   "source": []
  },
  {
   "cell_type": "code",
   "execution_count": null,
   "metadata": {
    "collapsed": false
   },
   "outputs": [],
   "source": [
    "# calculate mean frequency (only for rewarded buzzes)\n",
    "ff = os.getcwd() + '\\\\' + finFolder + '\\\\' + outDir + '_ampFreq.txt'\n",
    "dd = pd.read_csv(ff, header = None)\n",
    "\n",
    "print \"beeNum \" + str(bn)\n",
    "\n",
    "dd2 = dd[(dd.ix[:,0] > 220) & (dd.ix[:,0] < 450)]\n",
    "\n",
    "\n",
    "print \"total rewards\"\n",
    "print np.sum(np.array(dd2.ix[:,4]) == \" T\")\n",
    "\n",
    "# print \"total buzzes\"\n",
    "# print len(dd2)\n",
    "\n",
    "print \"mean Freq rewarded\"\n",
    "print np.mean(dd2.ix[:,0][dd2.ix[:,4] == \" T\"])\n",
    "\n",
    "print \"total buzzes not rewarded\"\n",
    "print np.sum(np.array(dd2.ix[:,4]) == \" F\")\n",
    "\n",
    "print \"mean Freq Unrewarded\"\n",
    "print np.mean(dd2.ix[:,0][dd2.ix[:,4] == \" F\"])\n",
    "\n",
    "# save metadata to file\n",
    "metadataFile = (datetime.datetime.now().strftime(\"%Y_%m_%d\")) + '_metadata.csv'\n",
    "\n",
    "# make new file if it doesn't exist (with header)\n",
    "if not os.path.isfile(metadataFile):\n",
    "    with open(metadataFile, 'a') as the_file:\n",
    "        the_file.write('timeOfTrial,beeNum,treatment,folder,totalRewards,meanFreqRewarded,totalBuzzesNotRewarded,meanFreqUnrewarded')\n",
    "        the_file.write('\\n')\n",
    "else: \n",
    "    print 'file already exists -- adding to file'\n",
    "\n",
    "# now write data to file                       \n",
    "with open(metadataFile, 'a') as the_file:\n",
    "    the_file.write(outDir + ',' + str(bn) + ','+\n",
    "                   treatment + ',' + \n",
    "                   finFolder + ',' + \n",
    "                   str(np.sum(np.array(dd2.ix[:,4]) == \" T\")) + ',' + \n",
    "                  str(np.mean(dd2.ix[:,0][dd2.ix[:,4] == \" T\"])) + ',' + \n",
    "                  str(np.sum(np.array(dd2.ix[:,4]) == \" F\")) + ',' +\n",
    "                  str(np.mean(dd2.ix[:,0][dd2.ix[:,4] == \" F\"]))\n",
    "                  )\n",
    "    the_file.write('\\n')                 \n"
   ]
  },
  {
   "cell_type": "code",
   "execution_count": null,
   "metadata": {
    "collapsed": true
   },
   "outputs": [],
   "source": []
  },
  {
   "cell_type": "code",
   "execution_count": null,
   "metadata": {
    "collapsed": true
   },
   "outputs": [],
   "source": []
  },
  {
   "cell_type": "code",
   "execution_count": null,
   "metadata": {
    "collapsed": true
   },
   "outputs": [],
   "source": []
  },
  {
   "cell_type": "code",
   "execution_count": null,
   "metadata": {
    "collapsed": true
   },
   "outputs": [],
   "source": []
  },
  {
   "cell_type": "code",
   "execution_count": null,
   "metadata": {
    "collapsed": false
   },
   "outputs": [],
   "source": [
    "print \"total rewards\"\n",
    "np.sum(np.array(dd2.ix[:,4]) == \" T\")"
   ]
  },
  {
   "cell_type": "code",
   "execution_count": null,
   "metadata": {
    "collapsed": false
   },
   "outputs": [],
   "source": [
    "print \"total buzzes\"\n",
    "len(dd2)"
   ]
  },
  {
   "cell_type": "code",
   "execution_count": null,
   "metadata": {
    "collapsed": false
   },
   "outputs": [],
   "source": [
    "plt.hist(np.array(dd2.ix[:,0]), bins = 20)"
   ]
  },
  {
   "cell_type": "code",
   "execution_count": null,
   "metadata": {
    "collapsed": false
   },
   "outputs": [],
   "source": [
    "np.array(dd2.ix[:,0])"
   ]
  },
  {
   "cell_type": "code",
   "execution_count": null,
   "metadata": {
    "collapsed": false
   },
   "outputs": [],
   "source": [
    "# get file list in directory\n",
    "fllist = os.listdir(os.getcwd() + '//' + outDir)\n",
    "\n",
    "fpth = [os.getcwd() + '//' + outDir + '//' + ii for ii in fllist]    \n",
    "\n",
    "sust = [os.access(kk, os.W_OK) for kk in fpth]\n",
    "\n",
    "print \"num read only files = \" + str( np.sum(not sust))\n"
   ]
  },
  {
   "cell_type": "code",
   "execution_count": null,
   "metadata": {
    "collapsed": true
   },
   "outputs": [],
   "source": []
  },
  {
   "cell_type": "code",
   "execution_count": null,
   "metadata": {
    "collapsed": true
   },
   "outputs": [],
   "source": []
  },
  {
   "cell_type": "code",
   "execution_count": null,
   "metadata": {
    "collapsed": true
   },
   "outputs": [],
   "source": []
  },
  {
   "cell_type": "code",
   "execution_count": null,
   "metadata": {
    "collapsed": true
   },
   "outputs": [],
   "source": []
  },
  {
   "cell_type": "code",
   "execution_count": null,
   "metadata": {
    "collapsed": true
   },
   "outputs": [],
   "source": []
  },
  {
   "cell_type": "code",
   "execution_count": null,
   "metadata": {
    "collapsed": true
   },
   "outputs": [],
   "source": []
  },
  {
   "cell_type": "code",
   "execution_count": null,
   "metadata": {
    "collapsed": false
   },
   "outputs": [],
   "source": [
    "print fc2.get_library_version()\n",
    "c = fc2.Context()\n",
    "print c\n",
    "print c.get_num_of_cameras()"
   ]
  },
  {
   "cell_type": "code",
   "execution_count": null,
   "metadata": {
    "collapsed": true
   },
   "outputs": [],
   "source": [
    "import shutil"
   ]
  },
  {
   "cell_type": "code",
   "execution_count": null,
   "metadata": {
    "collapsed": false
   },
   "outputs": [],
   "source": [
    "src = os.getcwd() + '\\\\' + outDir\n",
    "dst = os.getcwd() + '\\\\'  + finFolder + '\\\\'+ outDir\n",
    "shutil.move(src, dst)"
   ]
  },
  {
   "cell_type": "code",
   "execution_count": null,
   "metadata": {
    "collapsed": false
   },
   "outputs": [],
   "source": [
    "os.getcwd() + '\\\\' + outDir"
   ]
  },
  {
   "cell_type": "code",
   "execution_count": null,
   "metadata": {
    "collapsed": false
   },
   "outputs": [],
   "source": [
    "# make a continuously-sampling loop that will end if it gets a frequency of 280 Hz\n",
    "# 100000 samples is one second\n",
    "# Note: to get higher resolution for peak freq, I'd need a larger window\n",
    "N_samples = 20000 \n",
    "log_rate = 200000.0\n",
    "\n",
    "ctr = 0\n",
    "\n",
    "\n",
    "taskHandle = TaskHandle()\n",
    "read = int32()\n",
    "data = np.zeros((N_samples,), dtype=np.float64)\n",
    "\n",
    "DAQmxCreateTask(\"\", byref(taskHandle))\n",
    "# I have an piezoelectric accelerometer plugged into channel ai1 with range +/-10V\n",
    "DAQmxCreateAIVoltageChan(taskHandle, \"Dev1/ai0\", \n",
    "                         \"Accelerometer\", DAQmx_Val_Diff, \n",
    "                         -10.0, 10.0, DAQmx_Val_Volts, None)\n",
    "DAQmxCfgSampClkTiming(taskHandle, \"\", log_rate, \n",
    "                      DAQmx_Val_Rising, \n",
    "                      DAQmx_Val_FiniteSamps, N_samples)\n",
    "\n",
    "DAQmxStartTask(taskHandle)\n",
    "DAQmxReadAnalogF64(taskHandle, N_samples, 10.0, \n",
    "                   DAQmx_Val_GroupByChannel, data, \n",
    "                   N_samples, byref(read), None)\n",
    "\n",
    "if taskHandle:\n",
    "    DAQmxStopTask(taskHandle);\n",
    "    DAQmxClearTask(taskHandle);\n",
    "\n",
    "# fft\n",
    "n = len(data) # length of the signal\n",
    "k = np.arange(n)\n",
    "T = n/log_rate\n",
    "frq = k/T # two sides frequency range\n",
    "frq = frq[range(n/2)] # one side frequency range\n",
    "\n",
    "Y = np.fft.fft(data)/n # fft computing and normalization\n",
    "Y = Y[range(n/2)]\n",
    "\n",
    "# calculate top frequency\n",
    "ind = np.argpartition(abs(Y), -4)[-4:]\n",
    "# Find highest point on the spectrum\n",
    "peakFrq = frq[ind[::-1]]\n",
    "pwr = (abs(Y)[ind[::-1]])\n",
    "domPK = [x for (y,x) in sorted(zip(pwr,peakFrq), reverse = True)][0]\n",
    "\n",
    "beeFrqPwr = pwr[peakFrq == domPK]\n",
    "# print beeFrq in peakFrq, peakFrq[pwr == max(pwr)], beeFrqPwr, beeFrqPwr > 0.3\n",
    "\n",
    "# if the bee is vibrating at a high enough power and the dominant peak from the \n",
    "# vibration is in the right range\n",
    "\n",
    "reward = 'F'\n",
    "\n",
    "aamp = np.max(data) - np.min(data)\n",
    "# write value to serial port, and get it to start the turn on the motor\n",
    "s3 = str(datetime.datetime.now().strftime(\"%Y_%m_%d__%H_%M_%S_%f\")[:-3]) # time with milliseconds\n",
    "print(s3 + \" topFreq = \" + str(domPK) + \" amp = \" + str(aamp))\n",
    "\n",
    "# reward only give pollen at specific frequencies and ampliude threshold\n",
    "############################### PLOT ##################################\n",
    "# create subplot 1\n",
    "ax1 = plt.subplot(211)\n",
    "ax1.plot(np.array(range(len(data)))/ float(log_rate), data)\n",
    "ax1.set_ylabel(\"Volts\")\n",
    "ax1.set_xlabel(\"time (s)\")\n",
    "if reward == 'T':\n",
    "    ax1.set_facecolor('grey')\n",
    "\n",
    "# create subplot 2\n",
    "ax2 = plt.subplot(212)\n",
    "ax2.plot(frq,abs(Y),'r')\n",
    "ax2.plot(domPK, beeFrqPwr, 'ro')\n",
    "ax2.set_xlim(20, 1000)\n",
    "ax2.set_ylabel('power')\n",
    "ax2.set_xlabel('frequency')\n",
    "plt.tight_layout()\n",
    "plt.show()"
   ]
  },
  {
   "cell_type": "code",
   "execution_count": null,
   "metadata": {
    "collapsed": false
   },
   "outputs": [],
   "source": [
    "data"
   ]
  },
  {
   "cell_type": "code",
   "execution_count": null,
   "metadata": {
    "collapsed": true
   },
   "outputs": [],
   "source": [
    "# fft\n",
    "n = len(data) # length of the signal\n",
    "k = np.arange(n)\n",
    "T = n/log_rate\n",
    "frq = k/T # two sides frequency range\n",
    "frq = frq[range(n/2)] # one side frequency range\n",
    "\n",
    "Y = np.fft.fft(data)/n # fft computing and normalization"
   ]
  },
  {
   "cell_type": "code",
   "execution_count": null,
   "metadata": {
    "collapsed": true
   },
   "outputs": [],
   "source": [
    "Y = Y[range(n/2)]"
   ]
  },
  {
   "cell_type": "code",
   "execution_count": null,
   "metadata": {
    "collapsed": false
   },
   "outputs": [],
   "source": [
    "ps = np.abs(np.fft.fft(data))**2\n",
    "\n",
    "time_step = 1/100000000.0\n",
    "freqs = np.fft.fftfreq(data.size, time_step)\n",
    "idx = np.argsort(freqs)\n",
    "\n",
    "ax2 = plt.subplot(212)\n",
    "ax2.plot(freqs[idx] / 1000, ps[idx],'r')\n",
    "ax2.set_xlim(420, 450)"
   ]
  },
  {
   "cell_type": "code",
   "execution_count": null,
   "metadata": {
    "collapsed": false
   },
   "outputs": [],
   "source": [
    "freqs"
   ]
  },
  {
   "cell_type": "code",
   "execution_count": null,
   "metadata": {
    "collapsed": true
   },
   "outputs": [],
   "source": [
    "# calculate top frequency\n",
    "ind = np.argpartition(abs(Y), -4)[-4:]\n",
    "# Find highest point on the spectrum\n",
    "peakFrq = frq[ind[::-1]]\n",
    "pwr = (abs(Y)[ind[::-1]])\n",
    "domPK = [x for (y,x) in sorted(zip(pwr,peakFrq), reverse = True)][0]"
   ]
  },
  {
   "cell_type": "code",
   "execution_count": null,
   "metadata": {
    "collapsed": false
   },
   "outputs": [],
   "source": [
    "Y"
   ]
  },
  {
   "cell_type": "code",
   "execution_count": null,
   "metadata": {
    "collapsed": true
   },
   "outputs": [],
   "source": []
  },
  {
   "cell_type": "code",
   "execution_count": null,
   "metadata": {
    "collapsed": true
   },
   "outputs": [],
   "source": []
  },
  {
   "cell_type": "code",
   "execution_count": null,
   "metadata": {
    "collapsed": false
   },
   "outputs": [],
   "source": [
    "# change python directory to desktop\n",
    "os.chdir('C:\\\\Users\\\\Combes4\\\\Desktop\\\\')\n",
    "os.getcwd()\n",
    "\n",
    "# make new directory with date, if it doesn't already exist\n",
    "outDir = (datetime.datetime.now().strftime(\"%Y_%m_%d__%H_%M_%S\"))\n",
    "#outDir = 'accelShake_009_05092016'\n",
    "\n",
    "if not os.path.isdir(os.getcwd() + '\\\\' + outDir):\n",
    "    os.mkdir(os.getcwd() + '\\\\' + outDir)\n",
    "    print 'new directory created: ' + str(outDir)\n",
    "else: print 'directory exists: '  + str(outDir)\n",
    "\n",
    "print \"the current python direcory is \" + str(os.getcwd())\n",
    "\n",
    "# make new file\n",
    "open(str(outDir)+ '_ampFreq.txt', 'a').close()"
   ]
  },
  {
   "cell_type": "code",
   "execution_count": null,
   "metadata": {
    "collapsed": true
   },
   "outputs": [],
   "source": []
  },
  {
   "cell_type": "code",
   "execution_count": null,
   "metadata": {
    "collapsed": false
   },
   "outputs": [],
   "source": [
    "# change python directory to desktop\n",
    "os.chdir('C:\\\\Users\\\\Combes4\\\\Desktop\\\\')                    \n",
    "os.getcwd()\n",
    "\n",
    "# make new directory with date, if it doesn't already exist\n",
    "outDir = (datetime.datetime.now().strftime(\"%Y_%m_%d__%H_%M_%S\"))\n",
    "#outDir = 'accelShake_009_05092016'\n",
    "\n",
    "if not os.path.isdir(os.getcwd() + '\\\\' + outDir):\n",
    "    os.mkdir(os.getcwd() + '\\\\' + outDir)\n",
    "    print 'new directory created: ' + str(outDir)\n",
    "else: print 'directory exists: '  + str(outDir)\n",
    "\n",
    "print \"the current python direcory is \" + str(os.getcwd())\n",
    "\n",
    "\n",
    "## alternative, increasing amplitude version\n",
    "\n",
    "# loop to look for specific frequencies\n",
    "fmin =5\n",
    "fmax = 450\n",
    "\n",
    "ftestMin = 220\n",
    "ftestMax = 450\n",
    "\n",
    "ampThresh = 0.0\n",
    "\n",
    "counterAlarm = 30\n",
    "\n",
    "peakFrq = np.array(0)\n",
    "pwr = np.array(0)\n",
    "pwrCutoff = 0.004\n",
    "sleepTime = 0 # seconds\n",
    "\n",
    "# make a continuously-sampling loop that will end if it gets a frequency of 280 Hz\n",
    "# 100000 samples is one second\n",
    "# Note: to get higher resolution for peak freq, I'd need a larger window\n",
    "N_samples = 10000 \n",
    "log_rate = 100000.0\n",
    "\n",
    "ctr = 0\n",
    "\n",
    "# open text file\n",
    "with open(str(outDir)+ '_ampFreq.txt', 'a') as text_file:  \n",
    "\n",
    "    # clear characters waiting to be read\n",
    "    while msvcrt.kbhit():\n",
    "        msvcrt.getch()\n",
    "        print 'clearing characters ...'\n",
    "\n",
    "    while True:\n",
    "        taskHandle = TaskHandle()\n",
    "        read = int32()\n",
    "        data = np.zeros((N_samples,), dtype=np.float64)\n",
    "\n",
    "        DAQmxCreateTask(\"\", byref(taskHandle))\n",
    "        # I have an piezoelectric accelerometer plugged into channel ai1 with range +/-10V\n",
    "        DAQmxCreateAIVoltageChan(taskHandle, \"Dev1/ai0\", \n",
    "                                 \"Accelerometer\", DAQmx_Val_Diff, \n",
    "                                 -10.0, 10.0, DAQmx_Val_Volts, None)\n",
    "        DAQmxCfgSampClkTiming(taskHandle, \"\", log_rate, \n",
    "                              DAQmx_Val_Rising, \n",
    "                              DAQmx_Val_FiniteSamps, N_samples)\n",
    "\n",
    "        DAQmxStartTask(taskHandle)\n",
    "        DAQmxReadAnalogF64(taskHandle, N_samples, 10.0, \n",
    "                           DAQmx_Val_GroupByChannel, data, \n",
    "                           N_samples, byref(read), None)\n",
    "\n",
    "        if taskHandle:\n",
    "            DAQmxStopTask(taskHandle);\n",
    "            DAQmxClearTask(taskHandle);\n",
    "\n",
    "        # fft\n",
    "        n = len(data) # length of the signal\n",
    "        k = np.arange(n)\n",
    "        T = n/log_rate\n",
    "        frq = k/T # two sides frequency range\n",
    "        frq = frq[range(n/2)] # one side frequency range\n",
    "\n",
    "        Y = np.fft.fft(data)/n # fft computing and normalization\n",
    "        Y = Y[range(n/2)]\n",
    "\n",
    "        # calculate top frequency\n",
    "        ind = np.argpartition(abs(Y), -4)[-4:]\n",
    "        # Find highest point on the spectrum\n",
    "        peakFrq = frq[ind[::-1]]\n",
    "        pwr = (abs(Y)[ind[::-1]])\n",
    "        domPK = [x for (y,x) in sorted(zip(pwr,peakFrq), reverse = True)][0]\n",
    "\n",
    "        beeFrqPwr = pwr[peakFrq == domPK]\n",
    "        # print beeFrq in peakFrq, peakFrq[pwr == max(pwr)], beeFrqPwr, beeFrqPwr > 0.3\n",
    "\n",
    "        # if the bee is vibrating at a high enough power and the dominant peak from the \n",
    "        # vibration is in the right range\n",
    "        if beeFrqPwr > pwrCutoff and domPK > fmin and domPK < fmax:\n",
    "            reward = 'F'\n",
    "            \n",
    "            aamp = np.max(data) - np.min(data)\n",
    "            # write value to serial port, and get it to start the turn on the motor\n",
    "            s3 = str(datetime.datetime.now().strftime(\"%Y_%m_%d__%H_%M_%S_%f\")[:-3]) # time with milliseconds\n",
    "            print(s3 + \" topFreq = \" + str(domPK) + \" amp = \" + str(aamp))\n",
    "            \n",
    "            # reward only give pollen at specific frequencies and ampliude threshold\n",
    "            if domPK > ftestMin and domPK < ftestMax and aamp > ampThresh:\n",
    "                written = ser1.write(\"20\")\n",
    "                ctr = ctr + 1\n",
    "                print('reward ' + str(ctr))\n",
    "                reward = 'T'\n",
    "                ampThresh = ampThresh + 0.02\n",
    "                \n",
    "                # beep for end of program\n",
    "                if ctr > counterAlarm - 5:\n",
    "                    for i in range(counterAlarm - ctr):\n",
    "                        winsound.Beep(400,100)\n",
    "\n",
    "                if ctr > counterAlarm:\n",
    "                    for i in range(counterAlarm - ctr):\n",
    "                        winsound.Beep(400,500)\n",
    "\n",
    "            ############################### PLOT ##################################\n",
    "            # create subplot 1\n",
    "            ax1 = plt.subplot(211)\n",
    "            ax1.plot(np.array(range(len(data)))/ float(log_rate), data)\n",
    "            ax1.set_ylabel(\"Volts\")\n",
    "            ax1.set_xlabel(\"time (s)\")\n",
    "\n",
    "            # create subplot 2\n",
    "            ax2 = plt.subplot(212)\n",
    "            ax2.plot(frq,abs(Y),'r')\n",
    "            ax2.plot(domPK, beeFrqPwr, 'ro')\n",
    "            ax2.set_xlim(20, 1000)\n",
    "            ax2.set_ylabel('power')\n",
    "            ax2.set_xlabel('frequency')\n",
    "            plt.tight_layout()\n",
    "            plt.show()\n",
    "\n",
    "\n",
    "            #################### SAVE FILE FROM ACCEL ##############################\n",
    "            np.savetxt(os.getcwd() + '\\\\' + outDir + '\\\\' + s3+ '_' + str(ftestMin) + '_' + str(ftestMax) + '.txt', \n",
    "                       (np.array(range(len(data)))/ float(log_rate), data), delimiter = ' ')\n",
    "\n",
    "            ### write frequency and amplitude to file on desktop\n",
    "            var1 = str(domPK) + ', ' + str(round(np.max(data) - np.min(data), 5)) + ', ' + s3 + ', ' + str(ctr) +', ' + str(reward) + ', '+ str(ampThresh) + '\\n'\n",
    "            text_file.writelines(var1)\n",
    "\n",
    "            # sleep\n",
    "            time.sleep(sleepTime)\n",
    "            \n",
    "           \n",
    "\n",
    "        # break loop if someone presses the 'q' while in terminal\n",
    "        if msvcrt.kbhit():\n",
    "            if msvcrt.getch() == 'q':\n",
    "                print 'keyboard q pressed, now quitting loop'\n",
    "                for i in range(5):\n",
    "                    winsound.Beep(450,100)\n",
    "                break   \n",
    "            else:\n",
    "                written = ser1.write(\"20\")\n"
   ]
  },
  {
   "cell_type": "code",
   "execution_count": null,
   "metadata": {
    "collapsed": true
   },
   "outputs": [],
   "source": [
    "import random"
   ]
  },
  {
   "cell_type": "code",
   "execution_count": null,
   "metadata": {
    "collapsed": false
   },
   "outputs": [],
   "source": [
    "random.sample(np.arange(1,5),4)"
   ]
  },
  {
   "cell_type": "code",
   "execution_count": null,
   "metadata": {
    "collapsed": true
   },
   "outputs": [],
   "source": []
  }
 ],
 "metadata": {
  "kernelspec": {
   "display_name": "pyfly35",
   "language": "python",
   "name": "python3_5_pyfly"
  },
  "language_info": {
   "codemirror_mode": {
    "name": "ipython",
    "version": 3
   },
   "file_extension": ".py",
   "mimetype": "text/x-python",
   "name": "python",
   "nbconvert_exporter": "python",
   "pygments_lexer": "ipython3",
   "version": "3.5.4"
  }
 },
 "nbformat": 4,
 "nbformat_minor": 0
}
