{
 "cells": [
  {
   "cell_type": "markdown",
   "metadata": {},
   "source": [
    "# Acquire data from accelerometer from DAQ Board\n",
    "## Callin Switzer\n",
    "## python 3 (pyfly35 environment)\n",
    "## 22 Jan 2017\n"
   ]
  },
  {
   "cell_type": "markdown",
   "metadata": {},
   "source": [
    "Download nidaq driver for ni USB-6229 (save to thumb drive)\n",
    "\n",
    "Download/update anaconda\n",
    "\n",
    "download PyDAQmx\n",
    "\n",
    "download pySerial (conda install pySerial)\n",
    "\n",
    "upload code to Arduinos (001_Stepper_and_DCMotor)"
   ]
  },
  {
   "cell_type": "markdown",
   "metadata": {},
   "source": [
    "# Setup"
   ]
  },
  {
   "cell_type": "code",
   "execution_count": 1,
   "metadata": {
    "collapsed": true
   },
   "outputs": [],
   "source": [
    "% matplotlib inline\n",
    "import matplotlib.pyplot as plt\n",
    "import numpy as np"
   ]
  },
  {
   "cell_type": "code",
   "execution_count": 2,
   "metadata": {
    "collapsed": false
   },
   "outputs": [],
   "source": [
    "from PyDAQmx import * #works with python 3.5 -- need to install NiDACmx (takes like a day to download)"
   ]
  },
  {
   "cell_type": "code",
   "execution_count": 3,
   "metadata": {
    "collapsed": false
   },
   "outputs": [],
   "source": [
    "import datetime\n",
    "\n",
    "import PyCapture2 as fc2\n",
    "from sys import exit"
   ]
  },
  {
   "cell_type": "code",
   "execution_count": 4,
   "metadata": {
    "collapsed": false
   },
   "outputs": [],
   "source": [
    "import serial # works"
   ]
  },
  {
   "cell_type": "code",
   "execution_count": 5,
   "metadata": {
    "collapsed": false
   },
   "outputs": [
    {
     "name": "stdout",
     "output_type": "stream",
     "text": [
      "3.3.0\n"
     ]
    }
   ],
   "source": [
    "import cv2\n",
    "print(cv2.__version__)\n"
   ]
  },
  {
   "cell_type": "code",
   "execution_count": 6,
   "metadata": {
    "collapsed": false
   },
   "outputs": [
    {
     "name": "stdout",
     "output_type": "stream",
     "text": [
      "3.5.4 |Anaconda custom (64-bit)| (default, Sep 19 2017, 08:15:17) [MSC v.1900 64 bit (AMD64)]\n",
      "last run on 2018-01-23 14:28:03.516920\n"
     ]
    }
   ],
   "source": [
    "import time\n",
    "\n",
    "import os\n",
    "import peakutils \n",
    "import msvcrt\n",
    "import winsound\n",
    "import shutil\n",
    "import pandas as pd\n",
    "\n",
    "import skimage.io as io\n",
    "import sys\n",
    "from datetime import datetime\n",
    "import glob\n",
    "\n",
    "print(sys.version)\n",
    "\n",
    "\n",
    "now = datetime.now()\n",
    "print(\"last run on \" + str(now))"
   ]
  },
  {
   "cell_type": "code",
   "execution_count": 7,
   "metadata": {
    "collapsed": true
   },
   "outputs": [],
   "source": [
    " # % qtconsole"
   ]
  },
  {
   "cell_type": "code",
   "execution_count": 8,
   "metadata": {
    "collapsed": false
   },
   "outputs": [
    {
     "data": {
      "text/plain": [
       "['COM3', 'COM5']"
      ]
     },
     "execution_count": 8,
     "metadata": {},
     "output_type": "execute_result"
    }
   ],
   "source": [
    "# list ports\n",
    "\n",
    "def serial_ports():\n",
    "    \"\"\" Lists serial port names\n",
    "\n",
    "        :raises EnvironmentError:\n",
    "            On unsupported or unknown platforms\n",
    "        :returns:\n",
    "            A list of the serial ports available on the system\n",
    "    \"\"\"\n",
    "    if sys.platform.startswith('win'):\n",
    "        ports = ['COM%s' % (i + 1) for i in range(256)]\n",
    "    elif sys.platform.startswith('linux') or sys.platform.startswith('cygwin'):\n",
    "        # this excludes your current terminal \"/dev/tty\"\n",
    "        ports = glob.glob('/dev/tty[A-Za-z]*')\n",
    "    elif sys.platform.startswith('darwin'):\n",
    "        ports = glob.glob('/dev/tty.*')\n",
    "    else:\n",
    "        raise EnvironmentError('Unsupported platform')\n",
    "\n",
    "    result = []\n",
    "    for port in ports:\n",
    "        try:\n",
    "            s = serial.Serial(port)\n",
    "            s.close()\n",
    "            result.append(port)\n",
    "        except (OSError, serial.SerialException):\n",
    "            pass\n",
    "    return result\n",
    "\n",
    "\n",
    "# I'm using COM3 and COM5 arduinos\n",
    "# COM4 is for the arduino controlling the cameras\n",
    "serial_ports()"
   ]
  },
  {
   "cell_type": "code",
   "execution_count": 9,
   "metadata": {
    "collapsed": false
   },
   "outputs": [
    {
     "name": "stdout",
     "output_type": "stream",
     "text": [
      "connected to arduino on COM3\n"
     ]
    }
   ],
   "source": [
    "PORT1 = \"COM3\"\n",
    "connected1 = False\n",
    "ser1 = serial.Serial(PORT1,115200)\n",
    "while not connected1:\n",
    "    serin1 = ser1.read()\n",
    "    connected1 = True\n",
    "    print(\"connected to arduino on \" + PORT1)"
   ]
  },
  {
   "cell_type": "code",
   "execution_count": 10,
   "metadata": {
    "collapsed": false
   },
   "outputs": [
    {
     "name": "stdout",
     "output_type": "stream",
     "text": [
      "connected to arduino on COM5\n"
     ]
    }
   ],
   "source": [
    "PORT2 = \"COM5\"\n",
    "connected2 = False\n",
    "ser2 = serial.Serial(PORT2,115200)\n",
    "while not connected2:\n",
    "    serin2 = ser2.read()\n",
    "    connected2 = True\n",
    "    print(\"connected to arduino on \" + PORT2)"
   ]
  },
  {
   "cell_type": "code",
   "execution_count": 11,
   "metadata": {
    "collapsed": true
   },
   "outputs": [],
   "source": [
    "# stepper only\n",
    "written = ser1.write(\"s\".encode(\"utf-8\"))\n",
    "written = ser2.write(\"s\".encode(\"utf-8\"))"
   ]
  },
  {
   "cell_type": "code",
   "execution_count": 12,
   "metadata": {
    "collapsed": true
   },
   "outputs": [],
   "source": [
    "# vibration motor only\n",
    "written = ser1.write(\"v\".encode(\"utf-8\"))\n",
    "written = ser2.write(\"v\".encode(\"utf-8\"))"
   ]
  },
  {
   "cell_type": "code",
   "execution_count": null,
   "metadata": {
    "collapsed": true
   },
   "outputs": [],
   "source": []
  },
  {
   "cell_type": "code",
   "execution_count": null,
   "metadata": {
    "collapsed": true
   },
   "outputs": [],
   "source": []
  },
  {
   "cell_type": "code",
   "execution_count": 13,
   "metadata": {
    "collapsed": false
   },
   "outputs": [
    {
     "name": "stdout",
     "output_type": "stream",
     "text": [
      "Number of cameras detected:  2\n"
     ]
    }
   ],
   "source": [
    "# capture image with point grey camera\n",
    "bus = fc2.BusManager()\n",
    "numCams = bus.getNumOfCameras()\n",
    "print(\"Number of cameras detected: \", numCams)\n",
    "if not numCams:\n",
    "    print(\"Insufficient number of cameras. Exiting...\")\n",
    "    exit()\n",
    "    \n",
    "# Select camera on 0th index\n",
    "c = fc2.Camera()\n",
    "c.connect(bus.getCameraFromIndex(0))\n"
   ]
  },
  {
   "cell_type": "code",
   "execution_count": 14,
   "metadata": {
    "collapsed": true
   },
   "outputs": [],
   "source": [
    "def printCameraInfo(cam):\n",
    "    camInfo = cam.getCameraInfo()\n",
    "    print(\"\\n*** CAMERA INFORMATION ***\\n\")\n",
    "    print(\"Serial number - \", camInfo.serialNumber)\n",
    "    print(\"Camera model - \", camInfo.modelName)\n",
    "    print(\"Camera vendor - \", camInfo.vendorName)\n",
    "    print(\"Sensor - \", camInfo.sensorInfo)\n",
    "    print(\"Resolution - \", camInfo.sensorResolution)\n",
    "    print(\"Firmware version - \", camInfo.firmwareVersion)\n",
    "    print(\"Firmware build time - \", camInfo.firmwareBuildTime)\n",
    "    print()"
   ]
  },
  {
   "cell_type": "code",
   "execution_count": 15,
   "metadata": {
    "collapsed": false
   },
   "outputs": [
    {
     "name": "stdout",
     "output_type": "stream",
     "text": [
      "\n",
      "*** CAMERA INFORMATION ***\n",
      "\n",
      "Serial number -  16060682\n",
      "Camera model -  b'Chameleon3 CM3-U3-13Y3C'\n",
      "Camera vendor -  b'Point Grey Research'\n",
      "Sensor -  b'OnSemi PYTHON1300 (1/2\" Color CMOS)'\n",
      "Resolution -  b'1280x1024'\n",
      "Firmware version -  b'1.9.3.0'\n",
      "Firmware build time -  b'Mon Jul 27 20:45:52 2015'\n",
      "\n",
      "\n",
      "*** CAMERA INFORMATION ***\n",
      "\n",
      "Serial number -  16061221\n",
      "Camera model -  b'Chameleon3 CM3-U3-13Y3C'\n",
      "Camera vendor -  b'Point Grey Research'\n",
      "Sensor -  b'OnSemi PYTHON1300 (1/2\" Color CMOS)'\n",
      "Resolution -  b'1280x1024'\n",
      "Firmware version -  b'1.9.3.0'\n",
      "Firmware build time -  b'Mon Jul 27 20:45:52 2015'\n",
      "\n"
     ]
    }
   ],
   "source": [
    "c = fc2.Camera()\n",
    "c.connect(bus.getCameraFromIndex(0))\n",
    "printCameraInfo(c)\n",
    "\n",
    "d = fc2.Camera()\n",
    "d.connect(bus.getCameraFromIndex(1))\n",
    "printCameraInfo(d)"
   ]
  },
  {
   "cell_type": "code",
   "execution_count": 16,
   "metadata": {
    "collapsed": true
   },
   "outputs": [],
   "source": [
    "def img2array(image):\n",
    "    return(np.array(image.getData(), dtype=\"uint8\").reshape( (image.getRows(), image.getCols()) ))"
   ]
  },
  {
   "cell_type": "code",
   "execution_count": 17,
   "metadata": {
    "collapsed": true
   },
   "outputs": [],
   "source": [
    "# display images via live preview\n",
    "\n",
    "def livePreview2():\n",
    "    cv2.namedWindow('image',cv2.WINDOW_NORMAL)\n",
    "    cv2.resizeWindow('image', 1000,800)\n",
    "    while(True):\n",
    "        stt = time.time()\n",
    "        # Capture frame-by-frame\n",
    "        image = c.retrieveBuffer()\n",
    "        image2 = d.retrieveBuffer()\n",
    "        img = np.concatenate((img2array(image), img2array(image2)), axis = 1)\n",
    "\n",
    "        # Our operations on the frame come here\n",
    "        #gray = cv2.cvtColor(frame, cv2.COLOR_BGR2GRAY)\n",
    "\n",
    "        # Display the resulting frame\n",
    "        cv2.imshow('image', img)\n",
    "        \n",
    "        print(time.time() - stt)\n",
    "\n",
    "        # break when \"q\" is pressed on keyboard\n",
    "        if cv2.waitKey(1) & 0xFF == ord('q'):\n",
    "            for jj in range(10):\n",
    "                cv2.destroyAllWindows()\n",
    "            break\n",
    "\n"
   ]
  },
  {
   "cell_type": "code",
   "execution_count": 18,
   "metadata": {
    "collapsed": true
   },
   "outputs": [],
   "source": [
    "c = fc2.Camera()\n",
    "c.connect(bus.getCameraFromIndex(0))\n",
    "c.startCapture()\n",
    "\n",
    "d = fc2.Camera()\n",
    "d.connect(bus.getCameraFromIndex(1))\n",
    "d.startCapture()"
   ]
  },
  {
   "cell_type": "code",
   "execution_count": 19,
   "metadata": {
    "collapsed": false
   },
   "outputs": [
    {
     "name": "stdout",
     "output_type": "stream",
     "text": [
      "0.3077201843261719\n",
      "0.3147251605987549\n",
      "0.3052184581756592\n",
      "0.2992126941680908\n",
      "0.30371642112731934\n",
      "0.3032093048095703\n",
      "0.311722993850708\n",
      "0.2952094078063965\n",
      "0.28920674324035645\n"
     ]
    }
   ],
   "source": [
    "livePreview2()"
   ]
  },
  {
   "cell_type": "code",
   "execution_count": null,
   "metadata": {
    "collapsed": false
   },
   "outputs": [],
   "source": []
  },
  {
   "cell_type": "code",
   "execution_count": 20,
   "metadata": {
    "collapsed": false
   },
   "outputs": [],
   "source": [
    "# def enableEmbeddedTimeStamp(cam, enableTimeStamp):\n",
    "#     embeddedInfo = cam.getEmbeddedImageInfo()\n",
    "#     if embeddedInfo.available.timestamp:\n",
    "#         cam.setEmbeddedImageInfo(timestamp = enableTimeStamp)\n",
    "#         if(enableTimeStamp):\n",
    "#             print(\"\\nTimeStamp is enabled.\\n\")\n",
    "#         else:\n",
    "#             print(\"\\nTimeStamp is disabled.\\n\")\n",
    "\n",
    "# enableEmbeddedTimeStamp(c, True)"
   ]
  },
  {
   "cell_type": "code",
   "execution_count": 21,
   "metadata": {
    "collapsed": false
   },
   "outputs": [],
   "source": [
    "def grabImages(cam, numImagesToGrab):\n",
    "    prevts = None\n",
    "    for i in range(numImagesToGrab):\n",
    "        try:\n",
    "            image = cam.retrieveBuffer()\n",
    "        except fc2.Fc2error as fc2Err:\n",
    "            print(\"Error retrieving buffer : \", fc2Err)\n",
    "            continue\n",
    "\n",
    "        ts = image.getTimeStamp()\n",
    "        if (prevts):\n",
    "            diff = (ts.cycleSeconds - prevts.cycleSeconds) * 8000 + (ts.cycleCount - prevts.cycleCount)\n",
    "            print(\"timestamp [\", ts.cycleSeconds, ts.cycleCount, \"] -\", diff)\n",
    "        prevts = ts\n",
    "\n",
    "#     print(\"Saving the last image to fc2CustomImageEx.png\")\n",
    "#     image.save(\"fc2CustomImageEx.png\".encode(\"utf-8\"), PyCapture2.IMAGE_FILE_FORMAT.PNG)\n",
    "\n",
    "    return(image)"
   ]
  },
  {
   "cell_type": "code",
   "execution_count": null,
   "metadata": {
    "collapsed": false
   },
   "outputs": [],
   "source": []
  },
  {
   "cell_type": "code",
   "execution_count": 22,
   "metadata": {
    "collapsed": false
   },
   "outputs": [],
   "source": [
    "# img.save(\"fc2TestImage.png\".encode(\"utf-8\"), fc2.IMAGE_FILE_FORMAT.PNG)"
   ]
  },
  {
   "cell_type": "code",
   "execution_count": 23,
   "metadata": {
    "collapsed": false
   },
   "outputs": [
    {
     "data": {
      "image/png": "[encoded data removed]",
      "text/plain": [
       "<matplotlib.figure.Figure at 0x152b8520828>"
      ]
     },
     "metadata": {},
     "output_type": "display_data"
    }
   ],
   "source": [
    "\n",
    "image = c.retrieveBuffer()\n",
    "image2 = d.retrieveBuffer()\n",
    "img = np.concatenate((img2array(image), img2array(image2)), axis = 1)\n",
    "\n",
    "plt.figure(figsize = (10,10))\n",
    "io.imshow(img)\n",
    "plt.show()\n"
   ]
  },
  {
   "cell_type": "code",
   "execution_count": 24,
   "metadata": {
    "collapsed": false
   },
   "outputs": [],
   "source": [
    "c.stopCapture()\n",
    "c.disconnect()"
   ]
  },
  {
   "cell_type": "code",
   "execution_count": 25,
   "metadata": {
    "collapsed": false
   },
   "outputs": [],
   "source": [
    "# Test data from accelerometers\n",
    "\n",
    "def readAccel(accNum = \"Dev2/ai0\", N_samples = 20000, log_rate = 200000.0): \n",
    "    taskHandle = TaskHandle()\n",
    "    read = int32()\n",
    "    data = np.zeros((N_samples,), dtype=np.float64)\n",
    "\n",
    "    DAQmxCreateTask(\"\", byref(taskHandle))\n",
    "    # I have an piezoelectric accelerometer pluged into channel ai1 with range +/-10V\n",
    "    DAQmxCreateAIVoltageChan(taskHandle, accNum, \n",
    "                             \"Accelerometer\", DAQmx_Val_Diff, \n",
    "                             -10.0, 10.0, DAQmx_Val_Volts, None)\n",
    "    DAQmxCfgSampClkTiming(taskHandle, \"\", log_rate, \n",
    "                          DAQmx_Val_Rising, \n",
    "                          DAQmx_Val_FiniteSamps, N_samples)\n",
    "\n",
    "    DAQmxStartTask(taskHandle)\n",
    "    DAQmxReadAnalogF64(taskHandle, N_samples, 10.0, \n",
    "                       DAQmx_Val_GroupByChannel, data, \n",
    "                       N_samples, byref(read), None)\n",
    "\n",
    "    if taskHandle:\n",
    "        DAQmxStopTask(taskHandle);\n",
    "        DAQmxClearTask(taskHandle);\n",
    "    \n",
    "    return(data)\n",
    "        \n",
    "        \n",
    "def FFT(data, fmin = 20, fmax= 450, log_rate = 200000.0):\n",
    "    n =int(len(data))\n",
    "    k = np.arange(n, step = 1)\n",
    "    T = n/log_rate\n",
    "    frq = k/T # two sides frequency range\n",
    "    frq = frq[range(int(n/2))] # one side frequency range\n",
    "    \n",
    "    # trim frq\n",
    "    keepInd = (frq > fmin) & (frq < fmax)\n",
    "    frqKeep = frq[keepInd]\n",
    "\n",
    "    Y = np.fft.fft(data)/n # fft computing and normalization\n",
    "    Y = Y[range(int(n/2))]\n",
    "    \n",
    "    # remove Y that is outside the frequency rang of interest\n",
    "    Ykeep = Y[keepInd]\n",
    "    \n",
    "\n",
    "\n",
    "    # calculate top frequency\n",
    "    ind = np.argpartition(abs(Ykeep), -4)[-4:]\n",
    "    # Find highest point on the spectrum\n",
    "    peakFrq = frqKeep[ind[::-1]]\n",
    "    pwr = (abs(Ykeep)[ind[::-1]])\n",
    "    \n",
    "    domPK = [x for (y,x) in sorted(zip(pwr,peakFrq), reverse = True)][0]\n",
    "\n",
    "    domPkPwr = pwr[peakFrq == domPK]\n",
    "    \n",
    "    return(frq, peakFrq, pwr, domPK, domPkPwr, Y)\n",
    "\n",
    "\n",
    "def plotFFT(data, frq, peakFrq, pwr, domPK, domPkPwr, Y, fmin =0, fmax = 1000, N_samples = 20000, log_rate = 200000.0, reward = 'F'):\n",
    "     # create subplot 1\n",
    "    ax1 = plt.subplot(121)\n",
    "    ax1.plot(np.array(range(len(data)))/ float(log_rate), data)\n",
    "    ax1.set_ylabel(\"Volts\")\n",
    "    ax1.set_xlabel(\"time (s)\")\n",
    "    if reward == 'T':\n",
    "        ax1.set_facecolor('grey')\n",
    "\n",
    "    # create subplot 2\n",
    "    ax2 = plt.subplot(122)\n",
    "    ax2.plot(frq,abs(Y),'r')\n",
    "    ax2.plot(peakFrq, pwr, 'ro')\n",
    "    ax2.set_xlim(fmin, fmax)\n",
    "    ax2.set_ylabel('power')\n",
    "    ax2.set_xlabel('frequency')\n",
    "    ax2.plot(domPK, domPkPwr,'o', color = 'black', markersize = 5)\n",
    "    ax2.annotate(str(domPK) + ' Hz', xy=(domPK, domPkPwr), xytext=(domPK + 40, domPkPwr- 0.0001), size = 12\n",
    "            )\n",
    "    plt.tight_layout()\n",
    "    plt.show()\n",
    "\n"
   ]
  },
  {
   "cell_type": "code",
   "execution_count": 26,
   "metadata": {
    "collapsed": false
   },
   "outputs": [],
   "source": [
    "def func1(accelNum = \"Dev2/ai0\"):\n",
    "    data = readAccel(accNum=accelNum)  # resonant frequency is ~80 Hz\n",
    "    frq, peakFrq, pwr, domPK, domPkPwr, Y = FFT(data,fmin = 0 , fmax = 520)\n",
    "    plotFFT(data, frq, peakFrq, pwr, domPK, domPkPwr, Y)\n",
    "\n"
   ]
  },
  {
   "cell_type": "code",
   "execution_count": 27,
   "metadata": {
    "collapsed": false
   },
   "outputs": [
    {
     "data": {
      "image/png": "[encoded data removed]",
      "text/plain": [
       "<matplotlib.figure.Figure at 0x152b8520278>"
      ]
     },
     "metadata": {},
     "output_type": "display_data"
    },
    {
     "data": {
      "image/png": "[encoded data removed]",
      "text/plain": [
       "<matplotlib.figure.Figure at 0x152bde19390>"
      ]
     },
     "metadata": {},
     "output_type": "display_data"
    },
    {
     "name": "stdout",
     "output_type": "stream",
     "text": [
      "1.037107229232788\n"
     ]
    }
   ],
   "source": [
    "stt = time.time()\n",
    "[func1(x) for x in [ \"Dev2/ai0\",  \"Dev2/ai1\"]]\n",
    "print(time.time() - stt)"
   ]
  },
  {
   "cell_type": "code",
   "execution_count": null,
   "metadata": {
    "collapsed": true
   },
   "outputs": [],
   "source": []
  },
  {
   "cell_type": "code",
   "execution_count": null,
   "metadata": {
    "collapsed": false
   },
   "outputs": [],
   "source": [
    "# refref: todo, if possible, speed up with parallelization\n",
    "stt = time.time()\n",
    "data = readAccel(accNum=\"Dev2/ai0\")  # resonant frequency is ~80 Hz\n",
    "frq, peakFrq, pwr, domPK, domPkPwr, Y = FFT(data,fmin = 0 , fmax = 520)\n",
    "plotFFT(data, frq, peakFrq, pwr, domPK, domPkPwr, Y)\n",
    "\n",
    "print(time.time() - stt)\n",
    "data = readAccel(accNum=\"Dev2/ai1\")  # resonant frequency is ~80 Hz\n",
    "frq, peakFrq, pwr, domPK, domPkPwr, Y = FFT(data,fmin = 0 , fmax = 520)\n",
    "plotFFT(data, frq, peakFrq, pwr, domPK, domPkPwr, Y)\n",
    "print(time.time() - stt)"
   ]
  },
  {
   "cell_type": "code",
   "execution_count": null,
   "metadata": {
    "collapsed": true
   },
   "outputs": [],
   "source": [
    "### here\n",
    "\n",
    "### refref make a class!\n",
    "## read in data, and take a photo if accel power is high enough\n",
    "\n",
    "def processAndReward():\n",
    "    \n"
   ]
  },
  {
   "cell_type": "code",
   "execution_count": null,
   "metadata": {
    "collapsed": true
   },
   "outputs": [],
   "source": []
  },
  {
   "cell_type": "code",
   "execution_count": null,
   "metadata": {
    "collapsed": false,
    "scrolled": true
   },
   "outputs": [],
   "source": [
    "# define function for recording and rewarding buzzes\n",
    "def recRew(ftestMin, ftestMax, trt):\n",
    "     \n",
    "        \n",
    "    aThr = [0,5]\n",
    "    \n",
    "    # loop to look for specific frequencies\n",
    "    fmin = 5.0\n",
    "    fmax = 520.0\n",
    "\n",
    "    counterAlarm = 50\n",
    "\n",
    "    peakFrq = np.array(0)\n",
    "    pwr = np.array(0)\n",
    "    pwrCutoff = 0.004 # lower amplitude cutoff\n",
    "    sleepTime = 0 # seconds\n",
    "\n",
    "    # make a continuously-sampling loop that will end if it gets a frequency of 280 Hz\n",
    "    # 100000 samples is one second\n",
    "    # Note: to get higher resolution for peak freq, I'd need a larger window\n",
    "    N_samples = 20000 \n",
    "    log_rate = 200000.0\n",
    "\n",
    "    ctr = 0\n",
    "    ctr2 = 0\n",
    "    \n",
    "    # start buzz timer\n",
    "    buzzTime = time.time()\n",
    "    \n",
    "    # open text file\n",
    "    with open(str(outDir)+ '_ampFreq.txt', 'a') as text_file:  \n",
    "\n",
    "        # clear characters waiting to be read\n",
    "        while msvcrt.kbhit():\n",
    "            msvcrt.getch()\n",
    "            print('clearing characters ...')\n",
    "\n",
    "        while ctr <= (2*counterAlarm - 1): # only give a max of 100 buzzes\n",
    "                \n",
    "            taskHandle = TaskHandle()\n",
    "            read = int32()\n",
    "            data = np.zeros((N_samples,), dtype=np.float64)\n",
    "\n",
    "            DAQmxCreateTask(\"\", byref(taskHandle))\n",
    "            # I have an piezoelectric accelerometer plugged into channel ai1 with range +/-10V\n",
    "            DAQmxCreateAIVoltageChan(taskHandle, \"Dev1/ai0\", \n",
    "                                     \"Accelerometer\", DAQmx_Val_Diff, \n",
    "                                     -10.0, 10.0, DAQmx_Val_Volts, None)\n",
    "            DAQmxCfgSampClkTiming(taskHandle, \"\", log_rate, \n",
    "                                  DAQmx_Val_Rising, \n",
    "                                  DAQmx_Val_FiniteSamps, N_samples)\n",
    "\n",
    "            DAQmxStartTask(taskHandle)\n",
    "            DAQmxReadAnalogF64(taskHandle, N_samples, 10.0, \n",
    "                               DAQmx_Val_GroupByChannel, data, \n",
    "                               N_samples, byref(read), None)\n",
    "\n",
    "            if taskHandle:\n",
    "                DAQmxStopTask(taskHandle);\n",
    "                DAQmxClearTask(taskHandle);\n",
    "\n",
    "            # 20fft\n",
    "            n =len(data) # length of the signal\n",
    "            k = np.arange(n, step = 1)\n",
    "            T = n/log_rate\n",
    "            frq = k/T # two sides frequency range\n",
    "            frq = frq[range(n/2)] # one side frequency range\n",
    "\n",
    "            Y = np.fft.fft(data)/n # fft computing and normalization\n",
    "            Y = Y[range(n/2)]\n",
    "\n",
    "            # calculate top frequency\n",
    "            ind = np.argpartition(abs(Y), -4)[-4:]\n",
    "            # Find highest point on the spectrum\n",
    "            peakFrq = frq[ind[::-1]]\n",
    "            pwr = (abs(Y)[ind[::-1]])\n",
    "            domPK = [x for (y,x) in sorted(zip(pwr,peakFrq), reverse = True)][0]\n",
    "\n",
    "            beeFrqPwr = pwr[peakFrq == domPK]\n",
    "            # print beeFrq in peakFrq, peakFrq[pwr == max(pwr)], beeFrqPwr, beeFrqPwr > 0.3\n",
    "\n",
    "            # if the bee is vibrating at a high enough power and the dominant peak from the \n",
    "            # vibration is in the right range\n",
    "            if beeFrqPwr > pwrCutoff and domPK > fmin and domPK < fmax:\n",
    "                buzzTime = time.time()\n",
    "                \n",
    "                reward = 'F'\n",
    "\n",
    "                aamp = np.max(data) - np.min(data)\n",
    "                # write value to serial port, and get it to start the turn on the motor\n",
    "                s3 = str(datetime.datetime.now().strftime(\"%Y_%m_%d__%H_%M_%S_%f\")[:-3]) # time with milliseconds\n",
    "                print(s3 + \" topFreq = \" + str(domPK) + \" amp = \" + str(aamp))\n",
    "\n",
    "                                \n",
    "                # take a photo and save it\n",
    "                im = fc2.Image()\n",
    "                c.retrieve_buffer(im)\n",
    "                a = np.array(im)\n",
    "                cv2.imwrite(os.getcwd() + '\\\\' + outDir + '\\\\' + s3 + '.pgm', a) # .pgm / ppm is quite fast, and can be read by imageJ\n",
    "                \n",
    "                \n",
    "                #print reward number\n",
    "                print('Counter Number ' + str(ctr))\n",
    "                \n",
    "                # reward only give pollen at specific frequencies and ampliude threshold\n",
    "                if domPK > ftestMin and domPK < ftestMax and (aThr[0] < aamp < aThr[1]):\n",
    "                                    \n",
    "                    ctr = ctr + 1\n",
    "                    \n",
    "                    if (trt == 1) and (ctr <= counterAlarm):\n",
    "                        written = ser1.write(\"20\")\n",
    "                        reward = 'T'\n",
    "                        \n",
    "                    if (trt == 2) and (ctr > counterAlarm):\n",
    "                        written = ser1.write(\"20\")\n",
    "                        reward = 'T'\n",
    "\n",
    "                    # beep for end of program\n",
    "                    if ctr > counterAlarm - 5:\n",
    "                        for i in range(counterAlarm - ctr):\n",
    "                            winsound.Beep(400,100)\n",
    "\n",
    "                    if ctr > counterAlarm:\n",
    "                        for i in range(counterAlarm - ctr):\n",
    "                            winsound.Beep(400,500)\n",
    "\n",
    "                ############################### PLOT ##################################\n",
    "                # create subplot 1\n",
    "                ax1 = plt.subplot(211)\n",
    "                ax1.plot(np.array(range(len(data)))/ float(log_rate), data)\n",
    "                ax1.set_ylabel(\"Volts\")\n",
    "                ax1.set_xlabel(\"time (s)\")\n",
    "                if reward == 'T':\n",
    "                    ax1.set_facecolor('grey')\n",
    "\n",
    "                # create subplot 2\n",
    "                ax2 = plt.subplot(212)\n",
    "                ax2.plot(frq,abs(Y),'r')\n",
    "                ax2.plot(domPK, beeFrqPwr, 'ro')\n",
    "                ax2.set_xlim(20, 1000)\n",
    "                ax2.set_ylabel('power')\n",
    "                ax2.set_xlabel('frequency')\n",
    "                plt.tight_layout()\n",
    "                plt.show()\n",
    "\n",
    "\n",
    "                #################### SAVE FILE FROM ACCEL ##############################\n",
    "                np.savetxt((os.getcwd() + '\\\\' + outDir + '\\\\' + s3 + '_' + str(ftestMin) + '_' + \n",
    "                           str(ftestMax) + '_' + str(aThr[0]) + '_' +  str(aThr[1]) + '.txt'), \n",
    "                           (np.array(range(len(data)))/ float(log_rate), data), delimiter = ' ')\n",
    "\n",
    "                ### write frequency and amplitude to file\n",
    "                var1 = (str(domPK) + ', ' + \n",
    "                           str(round(np.max(data) - np.min(data), 5)) + ', ' + \n",
    "                           s3 + ', ' + str(ctr) +', ' + str(reward) + \n",
    "                        ',' + str(aThr[0]) + \n",
    "                        ',' + str(aThr[1]) + '\\n')\n",
    "                text_file.writelines(var1)\n",
    "\n",
    "                # sleep\n",
    "                time.sleep(sleepTime)\n",
    "            \n",
    "            else:\n",
    "                #take a photo every 5 loops\n",
    "                # take a photo and save it\n",
    "                if ctr2 % 5 == 0:\n",
    "                    s4 = str(datetime.datetime.now().strftime(\"%Y_%m_%d__%H_%M_%S_%f\")[:-3]) # time with milliseconds\n",
    "                    im = fc2.Image()\n",
    "                    c.retrieve_buffer(im)\n",
    "                    a = np.array(im)\n",
    "                    cv2.imwrite(os.getcwd() + '\\\\' + outDir + '\\\\' + s4 + \"_bkg\" + '.pgm', a) # .pgm / ppm is quite fast, and can be read by imageJ\n",
    "\n",
    "                ctr2 += 1\n",
    "            \n",
    "\n",
    "            # break loop if someone presses the 'q' while in terminal\n",
    "            if msvcrt.kbhit():\n",
    "                if msvcrt.getch() == 'q':\n",
    "                    # disconnect camera \n",
    "                    c.stop_capture()\n",
    "                    c.disconnect()\n",
    "                    print('keyboard q pressed, now quitting loop')\n",
    "                    for i in range(5):\n",
    "                        winsound.Beep(450,100)\n",
    "                    break   \n",
    "                else:\n",
    "                    written = ser1.write(\"20\")\n",
    "            \n",
    "           # print(time.time() - buzzTime)\n",
    "            \n",
    "            # if bee goes for 5 minutes without buzzing, end the loop\n",
    "            if time.time() - buzzTime > (5.0 * 60):\n",
    "                # disconnect camera \n",
    "                c.stop_capture()\n",
    "                c.disconnect()\n",
    "                print('Bee Stopped buzzing, now quitting loop')\n",
    "                for i in range(5):\n",
    "                    winsound.Beep(450,100)\n",
    "                break   \n",
    "                    \n",
    "            ## move file to new folder at end of loop!\n",
    "\n",
    "    # make sound when loop stops\n",
    "    for i in range(3):\n",
    "        winsound.Beep(350,500)"
   ]
  },
  {
   "cell_type": "code",
   "execution_count": null,
   "metadata": {
    "collapsed": false
   },
   "outputs": [],
   "source": [
    "## reward amplitudes\n",
    "rewAAmp = \"test\" # test rewards at any amplitude and freq's between 220 and 450\n",
    "\n",
    "# change python directory to Dropbox\n",
    "os.chdir(\"C:\\\\Users\\Combes4\\Desktop\\Temp2\")\n",
    "os.getcwd()\n",
    "\n",
    "# make new directory with date, if it doesn't already exist\n",
    "outDir = (datetime.datetime.now().strftime(\"%Y_%m_%d__%H_%M_%S\"))\n",
    "#outDir = 'accelShake_009_05092016'\n",
    "\n",
    "if not os.path.isdir(os.getcwd() + '\\\\' + outDir):\n",
    "    os.mkdir(os.getcwd() + '\\\\' + outDir)\n",
    "    \n",
    "    print( 'new directory created: ' + str(outDir))\n",
    "else: print( 'directory exists: '  + str(outDir))\n",
    "\n",
    "print( \"the current python direcory is \" + str(os.getcwd()))\n",
    "                                                                                                                 \n",
    "# make new file\n",
    "open(str(outDir)+ '_ampFreq.txt', 'a').close()\n",
    "\n",
    "# start camera -- point grey Chameleon\n",
    "c = fc2.Camera()\n",
    "c.connect(bus.getCameraFromIndex(0))\n",
    "c.startCapture()\n",
    "\n",
    "# capture a background image (may be useful for image subtraction)\n",
    "im = grabImages(c, 1)\n",
    "im.save((os.getcwd() + '\\\\' + outDir + '\\\\' + \"fc2TestImage.png\").encode(\"utf-8\"), fc2.IMAGE_FILE_FORMAT.PNG)\n",
    "#cv_image = np.array(img.getData(), dtype=\"uint8\").reshape( (img.getRows(), img.getCols()) );\n",
    "\n",
    "#cv2.imwrite(os.getcwd() + '\\\\' + outDir + '\\\\' + 'background.pgm', a) \n",
    "\n",
    "# change treatment each trial (randomly)\n",
    "ttrt =99999 #int(np.random.choice([1,2], size = 1))\n",
    "print(ttrt)\n",
    "\n",
    "recRew(trt =ttrt, ftestMin=220, ftestMax =450)"
   ]
  },
  {
   "cell_type": "code",
   "execution_count": null,
   "metadata": {
    "collapsed": false
   },
   "outputs": [],
   "source": [
    "## make new folder and move files into that folder\n",
    "hhive = '8'\n",
    "ddate = (datetime.datetime.now().strftime(\"%Y_%m_%d\"))\n",
    "\n",
    "if 'bn' in globals():\n",
    "    bn += 1\n",
    "else:\n",
    "    bn = 282\n",
    "\n",
    "BeeNum = str(bn)\n",
    "\n",
    "\n",
    "\n",
    "if (ttrt == 2):\n",
    "    treatment = \"RewSec\"\n",
    "elif (ttrt == 1):\n",
    "    treatment = \"RewFir\"\n",
    "\n",
    "finFolder = 'B_' + BeeNum + '_' + ddate + '_H_'+  hhive + '_' + treatment\n",
    "\n",
    "# make new folder if it doesn't exist\n",
    "if not os.path.isdir(os.getcwd() + '\\\\' + finFolder):\n",
    "    os.mkdir(os.getcwd() + '\\\\' + finFolder)\n",
    "    \n",
    "    # move files into new folder\n",
    "    #os.rename(os.getcwd() + '\\\\' + outDir, os.getcwd() + '\\\\' + outDir +'\\\\' + finFolder)\n",
    "    os.rename(os.getcwd() + '\\\\' + outDir + '_ampFreq.txt', os.getcwd() + '\\\\' + finFolder + '\\\\' + outDir + '_ampFreq.txt')\n",
    "    \n",
    "    # move folder to new folder\n",
    "    src = os.getcwd() + '\\\\' + outDir\n",
    "    dst = os.getcwd() + '\\\\'  + finFolder + '\\\\'+ outDir\n",
    "    shutil.move(src, dst)\n",
    "    \n",
    "else: \n",
    "    print 'directory already exists'\n",
    "\n",
    "\n",
    "    \n",
    "# calculate mean frequency (only for rewarded buzzes)\n",
    "ff = os.getcwd() + '\\\\' + finFolder + '\\\\' + outDir + '_ampFreq.txt'\n",
    "dd = pd.read_csv(ff, header = None)\n",
    "\n",
    "print \"beeNum \" + str(bn)\n",
    "\n",
    "dd2 = dd[(dd.ix[:,0] > 220) & (dd.ix[:,0] < 450)]\n",
    "\n",
    "\n",
    "print \"total rewards\"\n",
    "print np.sum(np.array(dd2.ix[:,4]) == \" T\")\n",
    "\n",
    "# print \"total buzzes\"\n",
    "# print len(dd2)\n",
    "\n",
    "print \"mean Freq rewarded\"\n",
    "print np.mean(dd2.ix[:,0][dd2.ix[:,4] == \" T\"])\n",
    "\n",
    "print \"total buzzes not rewarded\"\n",
    "print np.sum(np.array(dd2.ix[:,4]) == \" F\")\n",
    "\n",
    "print \"mean Freq Unrewarded\"\n",
    "print np.mean(dd2.ix[:,0][dd2.ix[:,4] == \" F\"])\n",
    "\n",
    "# save metadata to file\n",
    "metadataFile = (datetime.datetime.now().strftime(\"%Y_%m_%d\")) + '_metadata.csv'\n",
    "\n",
    "# make new file if it doesn't exist (with header)\n",
    "if not os.path.isfile(metadataFile):\n",
    "    with open(metadataFile, 'a') as the_file:\n",
    "        the_file.write('timeOfTrial,beeNum,treatment,folder,totalRewards,meanFreqRewarded,totalBuzzesNotRewarded,meanFreqUnrewarded')\n",
    "        the_file.write('\\n')\n",
    "else: \n",
    "    print 'file already exists -- adding to file'\n",
    "\n",
    "# now write data to file                       \n",
    "with open(metadataFile, 'a') as the_file:\n",
    "    the_file.write(outDir + ',' + str(bn) + ','+\n",
    "                   treatment + ',' + \n",
    "                   finFolder + ',' + \n",
    "                   str(np.sum(np.array(dd2.ix[:,4]) == \" T\")) + ',' + \n",
    "                  str(np.mean(dd2.ix[:,0][dd2.ix[:,4] == \" T\"])) + ',' + \n",
    "                  str(np.sum(np.array(dd2.ix[:,4]) == \" F\")) + ',' +\n",
    "                  str(np.mean(dd2.ix[:,0][dd2.ix[:,4] == \" F\"]))\n",
    "                  )\n",
    "    the_file.write('\\n')                 \n"
   ]
  },
  {
   "cell_type": "code",
   "execution_count": null,
   "metadata": {
    "collapsed": true
   },
   "outputs": [],
   "source": []
  },
  {
   "cell_type": "code",
   "execution_count": null,
   "metadata": {
    "collapsed": true
   },
   "outputs": [],
   "source": []
  },
  {
   "cell_type": "code",
   "execution_count": null,
   "metadata": {
    "collapsed": true
   },
   "outputs": [],
   "source": []
  },
  {
   "cell_type": "code",
   "execution_count": null,
   "metadata": {
    "collapsed": true
   },
   "outputs": [],
   "source": []
  },
  {
   "cell_type": "code",
   "execution_count": null,
   "metadata": {
    "collapsed": true
   },
   "outputs": [],
   "source": []
  },
  {
   "cell_type": "code",
   "execution_count": null,
   "metadata": {
    "collapsed": true
   },
   "outputs": [],
   "source": []
  },
  {
   "cell_type": "code",
   "execution_count": null,
   "metadata": {
    "collapsed": false
   },
   "outputs": [],
   "source": [
    "# calculate mean frequency (only for rewarded buzzes)\n",
    "ff = os.getcwd() + '\\\\' + finFolder + '\\\\' + outDir + '_ampFreq.txt'\n",
    "dd = pd.read_csv(ff, header = None)\n",
    "\n",
    "print \"beeNum \" + str(bn)\n",
    "\n",
    "dd2 = dd[(dd.ix[:,0] > 220) & (dd.ix[:,0] < 450)]\n",
    "\n",
    "\n",
    "print \"total rewards\"\n",
    "print np.sum(np.array(dd2.ix[:,4]) == \" T\")\n",
    "\n",
    "# print \"total buzzes\"\n",
    "# print len(dd2)\n",
    "\n",
    "print \"mean Freq rewarded\"\n",
    "print np.mean(dd2.ix[:,0][dd2.ix[:,4] == \" T\"])\n",
    "\n",
    "print \"total buzzes not rewarded\"\n",
    "print np.sum(np.array(dd2.ix[:,4]) == \" F\")\n",
    "\n",
    "print \"mean Freq Unrewarded\"\n",
    "print np.mean(dd2.ix[:,0][dd2.ix[:,4] == \" F\"])\n",
    "\n",
    "# save metadata to file\n",
    "metadataFile = (datetime.datetime.now().strftime(\"%Y_%m_%d\")) + '_metadata.csv'\n",
    "\n",
    "# make new file if it doesn't exist (with header)\n",
    "if not os.path.isfile(metadataFile):\n",
    "    with open(metadataFile, 'a') as the_file:\n",
    "        the_file.write('timeOfTrial,beeNum,treatment,folder,totalRewards,meanFreqRewarded,totalBuzzesNotRewarded,meanFreqUnrewarded')\n",
    "        the_file.write('\\n')\n",
    "else: \n",
    "    print 'file already exists -- adding to file'\n",
    "\n",
    "# now write data to file                       \n",
    "with open(metadataFile, 'a') as the_file:\n",
    "    the_file.write(outDir + ',' + str(bn) + ','+\n",
    "                   treatment + ',' + \n",
    "                   finFolder + ',' + \n",
    "                   str(np.sum(np.array(dd2.ix[:,4]) == \" T\")) + ',' + \n",
    "                  str(np.mean(dd2.ix[:,0][dd2.ix[:,4] == \" T\"])) + ',' + \n",
    "                  str(np.sum(np.array(dd2.ix[:,4]) == \" F\")) + ',' +\n",
    "                  str(np.mean(dd2.ix[:,0][dd2.ix[:,4] == \" F\"]))\n",
    "                  )\n",
    "    the_file.write('\\n')                 \n"
   ]
  },
  {
   "cell_type": "code",
   "execution_count": null,
   "metadata": {
    "collapsed": true
   },
   "outputs": [],
   "source": []
  },
  {
   "cell_type": "code",
   "execution_count": null,
   "metadata": {
    "collapsed": true
   },
   "outputs": [],
   "source": []
  },
  {
   "cell_type": "code",
   "execution_count": null,
   "metadata": {
    "collapsed": true
   },
   "outputs": [],
   "source": []
  },
  {
   "cell_type": "code",
   "execution_count": null,
   "metadata": {
    "collapsed": true
   },
   "outputs": [],
   "source": []
  },
  {
   "cell_type": "code",
   "execution_count": null,
   "metadata": {
    "collapsed": false
   },
   "outputs": [],
   "source": [
    "print \"total rewards\"\n",
    "np.sum(np.array(dd2.ix[:,4]) == \" T\")"
   ]
  },
  {
   "cell_type": "code",
   "execution_count": null,
   "metadata": {
    "collapsed": false
   },
   "outputs": [],
   "source": [
    "print \"total buzzes\"\n",
    "len(dd2)"
   ]
  },
  {
   "cell_type": "code",
   "execution_count": null,
   "metadata": {
    "collapsed": false
   },
   "outputs": [],
   "source": [
    "plt.hist(np.array(dd2.ix[:,0]), bins = 20)"
   ]
  },
  {
   "cell_type": "code",
   "execution_count": null,
   "metadata": {
    "collapsed": false
   },
   "outputs": [],
   "source": [
    "np.array(dd2.ix[:,0])"
   ]
  },
  {
   "cell_type": "code",
   "execution_count": null,
   "metadata": {
    "collapsed": false
   },
   "outputs": [],
   "source": [
    "# get file list in directory\n",
    "fllist = os.listdir(os.getcwd() + '//' + outDir)\n",
    "\n",
    "fpth = [os.getcwd() + '//' + outDir + '//' + ii for ii in fllist]    \n",
    "\n",
    "sust = [os.access(kk, os.W_OK) for kk in fpth]\n",
    "\n",
    "print \"num read only files = \" + str( np.sum(not sust))\n"
   ]
  },
  {
   "cell_type": "code",
   "execution_count": null,
   "metadata": {
    "collapsed": true
   },
   "outputs": [],
   "source": []
  },
  {
   "cell_type": "code",
   "execution_count": null,
   "metadata": {
    "collapsed": true
   },
   "outputs": [],
   "source": []
  },
  {
   "cell_type": "code",
   "execution_count": null,
   "metadata": {
    "collapsed": true
   },
   "outputs": [],
   "source": []
  },
  {
   "cell_type": "code",
   "execution_count": null,
   "metadata": {
    "collapsed": true
   },
   "outputs": [],
   "source": []
  },
  {
   "cell_type": "code",
   "execution_count": null,
   "metadata": {
    "collapsed": true
   },
   "outputs": [],
   "source": []
  },
  {
   "cell_type": "code",
   "execution_count": null,
   "metadata": {
    "collapsed": true
   },
   "outputs": [],
   "source": []
  },
  {
   "cell_type": "code",
   "execution_count": null,
   "metadata": {
    "collapsed": false
   },
   "outputs": [],
   "source": [
    "print fc2.get_library_version()\n",
    "c = fc2.Context()\n",
    "print c\n",
    "print c.get_num_of_cameras()"
   ]
  },
  {
   "cell_type": "code",
   "execution_count": null,
   "metadata": {
    "collapsed": true
   },
   "outputs": [],
   "source": [
    "import shutil"
   ]
  },
  {
   "cell_type": "code",
   "execution_count": null,
   "metadata": {
    "collapsed": false
   },
   "outputs": [],
   "source": [
    "src = os.getcwd() + '\\\\' + outDir\n",
    "dst = os.getcwd() + '\\\\'  + finFolder + '\\\\'+ outDir\n",
    "shutil.move(src, dst)"
   ]
  },
  {
   "cell_type": "code",
   "execution_count": null,
   "metadata": {
    "collapsed": false
   },
   "outputs": [],
   "source": [
    "os.getcwd() + '\\\\' + outDir"
   ]
  },
  {
   "cell_type": "code",
   "execution_count": null,
   "metadata": {
    "collapsed": false
   },
   "outputs": [],
   "source": [
    "# make a continuously-sampling loop that will end if it gets a frequency of 280 Hz\n",
    "# 100000 samples is one second\n",
    "# Note: to get higher resolution for peak freq, I'd need a larger window\n",
    "N_samples = 20000 \n",
    "log_rate = 200000.0\n",
    "\n",
    "ctr = 0\n",
    "\n",
    "\n",
    "taskHandle = TaskHandle()\n",
    "read = int32()\n",
    "data = np.zeros((N_samples,), dtype=np.float64)\n",
    "\n",
    "DAQmxCreateTask(\"\", byref(taskHandle))\n",
    "# I have an piezoelectric accelerometer plugged into channel ai1 with range +/-10V\n",
    "DAQmxCreateAIVoltageChan(taskHandle, \"Dev1/ai0\", \n",
    "                         \"Accelerometer\", DAQmx_Val_Diff, \n",
    "                         -10.0, 10.0, DAQmx_Val_Volts, None)\n",
    "DAQmxCfgSampClkTiming(taskHandle, \"\", log_rate, \n",
    "                      DAQmx_Val_Rising, \n",
    "                      DAQmx_Val_FiniteSamps, N_samples)\n",
    "\n",
    "DAQmxStartTask(taskHandle)\n",
    "DAQmxReadAnalogF64(taskHandle, N_samples, 10.0, \n",
    "                   DAQmx_Val_GroupByChannel, data, \n",
    "                   N_samples, byref(read), None)\n",
    "\n",
    "if taskHandle:\n",
    "    DAQmxStopTask(taskHandle);\n",
    "    DAQmxClearTask(taskHandle);\n",
    "\n",
    "# fft\n",
    "n = len(data) # length of the signal\n",
    "k = np.arange(n)\n",
    "T = n/log_rate\n",
    "frq = k/T # two sides frequency range\n",
    "frq = frq[range(n/2)] # one side frequency range\n",
    "\n",
    "Y = np.fft.fft(data)/n # fft computing and normalization\n",
    "Y = Y[range(n/2)]\n",
    "\n",
    "# calculate top frequency\n",
    "ind = np.argpartition(abs(Y), -4)[-4:]\n",
    "# Find highest point on the spectrum\n",
    "peakFrq = frq[ind[::-1]]\n",
    "pwr = (abs(Y)[ind[::-1]])\n",
    "domPK = [x for (y,x) in sorted(zip(pwr,peakFrq), reverse = True)][0]\n",
    "\n",
    "beeFrqPwr = pwr[peakFrq == domPK]\n",
    "# print beeFrq in peakFrq, peakFrq[pwr == max(pwr)], beeFrqPwr, beeFrqPwr > 0.3\n",
    "\n",
    "# if the bee is vibrating at a high enough power and the dominant peak from the \n",
    "# vibration is in the right range\n",
    "\n",
    "reward = 'F'\n",
    "\n",
    "aamp = np.max(data) - np.min(data)\n",
    "# write value to serial port, and get it to start the turn on the motor\n",
    "s3 = str(datetime.datetime.now().strftime(\"%Y_%m_%d__%H_%M_%S_%f\")[:-3]) # time with milliseconds\n",
    "print(s3 + \" topFreq = \" + str(domPK) + \" amp = \" + str(aamp))\n",
    "\n",
    "# reward only give pollen at specific frequencies and ampliude threshold\n",
    "############################### PLOT ##################################\n",
    "# create subplot 1\n",
    "ax1 = plt.subplot(211)\n",
    "ax1.plot(np.array(range(len(data)))/ float(log_rate), data)\n",
    "ax1.set_ylabel(\"Volts\")\n",
    "ax1.set_xlabel(\"time (s)\")\n",
    "if reward == 'T':\n",
    "    ax1.set_facecolor('grey')\n",
    "\n",
    "# create subplot 2\n",
    "ax2 = plt.subplot(212)\n",
    "ax2.plot(frq,abs(Y),'r')\n",
    "ax2.plot(domPK, beeFrqPwr, 'ro')\n",
    "ax2.set_xlim(20, 1000)\n",
    "ax2.set_ylabel('power')\n",
    "ax2.set_xlabel('frequency')\n",
    "plt.tight_layout()\n",
    "plt.show()"
   ]
  },
  {
   "cell_type": "code",
   "execution_count": null,
   "metadata": {
    "collapsed": false
   },
   "outputs": [],
   "source": [
    "data"
   ]
  },
  {
   "cell_type": "code",
   "execution_count": null,
   "metadata": {
    "collapsed": true
   },
   "outputs": [],
   "source": [
    "# fft\n",
    "n = len(data) # length of the signal\n",
    "k = np.arange(n)\n",
    "T = n/log_rate\n",
    "frq = k/T # two sides frequency range\n",
    "frq = frq[range(n/2)] # one side frequency range\n",
    "\n",
    "Y = np.fft.fft(data)/n # fft computing and normalization"
   ]
  },
  {
   "cell_type": "code",
   "execution_count": null,
   "metadata": {
    "collapsed": true
   },
   "outputs": [],
   "source": [
    "Y = Y[range(n/2)]"
   ]
  },
  {
   "cell_type": "code",
   "execution_count": null,
   "metadata": {
    "collapsed": false
   },
   "outputs": [],
   "source": [
    "ps = np.abs(np.fft.fft(data))**2\n",
    "\n",
    "time_step = 1/100000000.0\n",
    "freqs = np.fft.fftfreq(data.size, time_step)\n",
    "idx = np.argsort(freqs)\n",
    "\n",
    "ax2 = plt.subplot(212)\n",
    "ax2.plot(freqs[idx] / 1000, ps[idx],'r')\n",
    "ax2.set_xlim(420, 450)"
   ]
  },
  {
   "cell_type": "code",
   "execution_count": null,
   "metadata": {
    "collapsed": false
   },
   "outputs": [],
   "source": [
    "freqs"
   ]
  },
  {
   "cell_type": "code",
   "execution_count": null,
   "metadata": {
    "collapsed": true
   },
   "outputs": [],
   "source": [
    "# calculate top frequency\n",
    "ind = np.argpartition(abs(Y), -4)[-4:]\n",
    "# Find highest point on the spectrum\n",
    "peakFrq = frq[ind[::-1]]\n",
    "pwr = (abs(Y)[ind[::-1]])\n",
    "domPK = [x for (y,x) in sorted(zip(pwr,peakFrq), reverse = True)][0]"
   ]
  },
  {
   "cell_type": "code",
   "execution_count": null,
   "metadata": {
    "collapsed": false
   },
   "outputs": [],
   "source": [
    "Y"
   ]
  },
  {
   "cell_type": "code",
   "execution_count": null,
   "metadata": {
    "collapsed": true
   },
   "outputs": [],
   "source": []
  },
  {
   "cell_type": "code",
   "execution_count": null,
   "metadata": {
    "collapsed": true
   },
   "outputs": [],
   "source": []
  },
  {
   "cell_type": "code",
   "execution_count": null,
   "metadata": {
    "collapsed": false
   },
   "outputs": [],
   "source": [
    "# change python directory to desktop\n",
    "os.chdir('C:\\\\Users\\\\Combes4\\\\Desktop\\\\')\n",
    "os.getcwd()\n",
    "\n",
    "# make new directory with date, if it doesn't already exist\n",
    "outDir = (datetime.datetime.now().strftime(\"%Y_%m_%d__%H_%M_%S\"))\n",
    "#outDir = 'accelShake_009_05092016'\n",
    "\n",
    "if not os.path.isdir(os.getcwd() + '\\\\' + outDir):\n",
    "    os.mkdir(os.getcwd() + '\\\\' + outDir)\n",
    "    print 'new directory created: ' + str(outDir)\n",
    "else: print 'directory exists: '  + str(outDir)\n",
    "\n",
    "print \"the current python direcory is \" + str(os.getcwd())\n",
    "\n",
    "# make new file\n",
    "open(str(outDir)+ '_ampFreq.txt', 'a').close()"
   ]
  },
  {
   "cell_type": "code",
   "execution_count": null,
   "metadata": {
    "collapsed": true
   },
   "outputs": [],
   "source": []
  },
  {
   "cell_type": "code",
   "execution_count": null,
   "metadata": {
    "collapsed": false
   },
   "outputs": [],
   "source": [
    "# change python directory to desktop\n",
    "os.chdir('C:\\\\Users\\\\Combes4\\\\Desktop\\\\')                    \n",
    "os.getcwd()\n",
    "\n",
    "# make new directory with date, if it doesn't already exist\n",
    "outDir = (datetime.datetime.now().strftime(\"%Y_%m_%d__%H_%M_%S\"))\n",
    "#outDir = 'accelShake_009_05092016'\n",
    "\n",
    "if not os.path.isdir(os.getcwd() + '\\\\' + outDir):\n",
    "    os.mkdir(os.getcwd() + '\\\\' + outDir)\n",
    "    print 'new directory created: ' + str(outDir)\n",
    "else: print 'directory exists: '  + str(outDir)\n",
    "\n",
    "print \"the current python direcory is \" + str(os.getcwd())\n",
    "\n",
    "\n",
    "## alternative, increasing amplitude version\n",
    "\n",
    "# loop to look for specific frequencies\n",
    "fmin =5\n",
    "fmax = 450\n",
    "\n",
    "ftestMin = 220\n",
    "ftestMax = 450\n",
    "\n",
    "ampThresh = 0.0\n",
    "\n",
    "counterAlarm = 30\n",
    "\n",
    "peakFrq = np.array(0)\n",
    "pwr = np.array(0)\n",
    "pwrCutoff = 0.004\n",
    "sleepTime = 0 # seconds\n",
    "\n",
    "# make a continuously-sampling loop that will end if it gets a frequency of 280 Hz\n",
    "# 100000 samples is one second\n",
    "# Note: to get higher resolution for peak freq, I'd need a larger window\n",
    "N_samples = 10000 \n",
    "log_rate = 100000.0\n",
    "\n",
    "ctr = 0\n",
    "\n",
    "# open text file\n",
    "with open(str(outDir)+ '_ampFreq.txt', 'a') as text_file:  \n",
    "\n",
    "    # clear characters waiting to be read\n",
    "    while msvcrt.kbhit():\n",
    "        msvcrt.getch()\n",
    "        print 'clearing characters ...'\n",
    "\n",
    "    while True:\n",
    "        taskHandle = TaskHandle()\n",
    "        read = int32()\n",
    "        data = np.zeros((N_samples,), dtype=np.float64)\n",
    "\n",
    "        DAQmxCreateTask(\"\", byref(taskHandle))\n",
    "        # I have an piezoelectric accelerometer plugged into channel ai1 with range +/-10V\n",
    "        DAQmxCreateAIVoltageChan(taskHandle, \"Dev1/ai0\", \n",
    "                                 \"Accelerometer\", DAQmx_Val_Diff, \n",
    "                                 -10.0, 10.0, DAQmx_Val_Volts, None)\n",
    "        DAQmxCfgSampClkTiming(taskHandle, \"\", log_rate, \n",
    "                              DAQmx_Val_Rising, \n",
    "                              DAQmx_Val_FiniteSamps, N_samples)\n",
    "\n",
    "        DAQmxStartTask(taskHandle)\n",
    "        DAQmxReadAnalogF64(taskHandle, N_samples, 10.0, \n",
    "                           DAQmx_Val_GroupByChannel, data, \n",
    "                           N_samples, byref(read), None)\n",
    "\n",
    "        if taskHandle:\n",
    "            DAQmxStopTask(taskHandle);\n",
    "            DAQmxClearTask(taskHandle);\n",
    "\n",
    "        # fft\n",
    "        n = len(data) # length of the signal\n",
    "        k = np.arange(n)\n",
    "        T = n/log_rate\n",
    "        frq = k/T # two sides frequency range\n",
    "        frq = frq[range(n/2)] # one side frequency range\n",
    "\n",
    "        Y = np.fft.fft(data)/n # fft computing and normalization\n",
    "        Y = Y[range(n/2)]\n",
    "\n",
    "        # calculate top frequency\n",
    "        ind = np.argpartition(abs(Y), -4)[-4:]\n",
    "        # Find highest point on the spectrum\n",
    "        peakFrq = frq[ind[::-1]]\n",
    "        pwr = (abs(Y)[ind[::-1]])\n",
    "        domPK = [x for (y,x) in sorted(zip(pwr,peakFrq), reverse = True)][0]\n",
    "\n",
    "        beeFrqPwr = pwr[peakFrq == domPK]\n",
    "        # print beeFrq in peakFrq, peakFrq[pwr == max(pwr)], beeFrqPwr, beeFrqPwr > 0.3\n",
    "\n",
    "        # if the bee is vibrating at a high enough power and the dominant peak from the \n",
    "        # vibration is in the right range\n",
    "        if beeFrqPwr > pwrCutoff and domPK > fmin and domPK < fmax:\n",
    "            reward = 'F'\n",
    "            \n",
    "            aamp = np.max(data) - np.min(data)\n",
    "            # write value to serial port, and get it to start the turn on the motor\n",
    "            s3 = str(datetime.datetime.now().strftime(\"%Y_%m_%d__%H_%M_%S_%f\")[:-3]) # time with milliseconds\n",
    "            print(s3 + \" topFreq = \" + str(domPK) + \" amp = \" + str(aamp))\n",
    "            \n",
    "            # reward only give pollen at specific frequencies and ampliude threshold\n",
    "            if domPK > ftestMin and domPK < ftestMax and aamp > ampThresh:\n",
    "                written = ser1.write(\"20\")\n",
    "                ctr = ctr + 1\n",
    "                print('reward ' + str(ctr))\n",
    "                reward = 'T'\n",
    "                ampThresh = ampThresh + 0.02\n",
    "                \n",
    "                # beep for end of program\n",
    "                if ctr > counterAlarm - 5:\n",
    "                    for i in range(counterAlarm - ctr):\n",
    "                        winsound.Beep(400,100)\n",
    "\n",
    "                if ctr > counterAlarm:\n",
    "                    for i in range(counterAlarm - ctr):\n",
    "                        winsound.Beep(400,500)\n",
    "\n",
    "            ############################### PLOT ##################################\n",
    "            # create subplot 1\n",
    "            ax1 = plt.subplot(211)\n",
    "            ax1.plot(np.array(range(len(data)))/ float(log_rate), data)\n",
    "            ax1.set_ylabel(\"Volts\")\n",
    "            ax1.set_xlabel(\"time (s)\")\n",
    "\n",
    "            # create subplot 2\n",
    "            ax2 = plt.subplot(212)\n",
    "            ax2.plot(frq,abs(Y),'r')\n",
    "            ax2.plot(domPK, beeFrqPwr, 'ro')\n",
    "            ax2.set_xlim(20, 1000)\n",
    "            ax2.set_ylabel('power')\n",
    "            ax2.set_xlabel('frequency')\n",
    "            plt.tight_layout()\n",
    "            plt.show()\n",
    "\n",
    "\n",
    "            #################### SAVE FILE FROM ACCEL ##############################\n",
    "            np.savetxt(os.getcwd() + '\\\\' + outDir + '\\\\' + s3+ '_' + str(ftestMin) + '_' + str(ftestMax) + '.txt', \n",
    "                       (np.array(range(len(data)))/ float(log_rate), data), delimiter = ' ')\n",
    "\n",
    "            ### write frequency and amplitude to file on desktop\n",
    "            var1 = str(domPK) + ', ' + str(round(np.max(data) - np.min(data), 5)) + ', ' + s3 + ', ' + str(ctr) +', ' + str(reward) + ', '+ str(ampThresh) + '\\n'\n",
    "            text_file.writelines(var1)\n",
    "\n",
    "            # sleep\n",
    "            time.sleep(sleepTime)\n",
    "            \n",
    "           \n",
    "\n",
    "        # break loop if someone presses the 'q' while in terminal\n",
    "        if msvcrt.kbhit():\n",
    "            if msvcrt.getch() == 'q':\n",
    "                print 'keyboard q pressed, now quitting loop'\n",
    "                for i in range(5):\n",
    "                    winsound.Beep(450,100)\n",
    "                break   \n",
    "            else:\n",
    "                written = ser1.write(\"20\")\n"
   ]
  },
  {
   "cell_type": "code",
   "execution_count": null,
   "metadata": {
    "collapsed": true
   },
   "outputs": [],
   "source": [
    "import random"
   ]
  },
  {
   "cell_type": "code",
   "execution_count": null,
   "metadata": {
    "collapsed": false
   },
   "outputs": [],
   "source": [
    "random.sample(np.arange(1,5),4)"
   ]
  },
  {
   "cell_type": "code",
   "execution_count": null,
   "metadata": {
    "collapsed": true
   },
   "outputs": [],
   "source": []
  }
 ],
 "metadata": {
  "kernelspec": {
   "display_name": "pyfly35",
   "language": "python",
   "name": "python3_5_pyfly"
  },
  "language_info": {
   "codemirror_mode": {
    "name": "ipython",
    "version": 3
   },
   "file_extension": ".py",
   "mimetype": "text/x-python",
   "name": "python",
   "nbconvert_exporter": "python",
   "pygments_lexer": "ipython3",
   "version": "3.5.4"
  }
 },
 "nbformat": 4,
 "nbformat_minor": 0
}
