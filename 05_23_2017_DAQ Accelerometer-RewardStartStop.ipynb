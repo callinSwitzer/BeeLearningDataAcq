{
 "cells": [
  {
   "cell_type": "markdown",
   "metadata": {},
   "source": [
    "# Acquire data from accelerometer from DAQ Board\n",
    "## Callin Switzer\n",
    "## 5/3/2016\n",
    "## Update 7/16/2016\n",
    "## Update 8/18/2016\n",
    "## Update 15 March 2017\n",
    "## 23 May 2017 Started trials with hive 7 & 8 from Koppert\n",
    "\n",
    "# 5/26 new SSD update\n",
    "\n",
    "Preparing for no-reward experiments"
   ]
  },
  {
   "cell_type": "markdown",
   "metadata": {},
   "source": [
    "Download nidaq driver for ni USB-6229 (save to thumb drive)\n",
    "\n",
    "Download/update anaconda\n",
    "\n",
    "download PyDAQmx\n",
    "\n",
    "download pySerial"
   ]
  },
  {
   "cell_type": "markdown",
   "metadata": {},
   "source": [
    "# Setup"
   ]
  },
  {
   "cell_type": "code",
   "execution_count": 1,
   "metadata": {
    "collapsed": true
   },
   "outputs": [],
   "source": [
    "# setup arduino\n",
    "% matplotlib inline\n",
    "import matplotlib.pyplot as plt\n",
    "import numpy as np"
   ]
  },
  {
   "cell_type": "code",
   "execution_count": 2,
   "metadata": {
    "collapsed": false
   },
   "outputs": [],
   "source": [
    "from PyDAQmx import * #works -- need to install NiDACmx (takes like a day to download)"
   ]
  },
  {
   "cell_type": "code",
   "execution_count": 3,
   "metadata": {
    "collapsed": false
   },
   "outputs": [],
   "source": [
    "import datetime\n",
    "\n",
    "import flycapture2 as fc2 # works"
   ]
  },
  {
   "cell_type": "code",
   "execution_count": 4,
   "metadata": {
    "collapsed": true
   },
   "outputs": [],
   "source": [
    "import serial # works"
   ]
  },
  {
   "cell_type": "code",
   "execution_count": 5,
   "metadata": {
    "collapsed": false
   },
   "outputs": [
    {
     "name": "stdout",
     "output_type": "stream",
     "text": [
      "3.2.0\n"
     ]
    }
   ],
   "source": [
    "import cv2\n",
    "print cv2.__version__\n"
   ]
  },
  {
   "cell_type": "code",
   "execution_count": 6,
   "metadata": {
    "collapsed": false
   },
   "outputs": [],
   "source": [
    "import time\n",
    "\n",
    "import os\n",
    "import peakutils \n",
    "import msvcrt\n",
    "import winsound\n",
    "import shutil\n",
    "import pandas as pd"
   ]
  },
  {
   "cell_type": "code",
   "execution_count": 7,
   "metadata": {
    "collapsed": true
   },
   "outputs": [],
   "source": [
    " % qtconsole"
   ]
  },
  {
   "cell_type": "code",
   "execution_count": 8,
   "metadata": {
    "collapsed": false
   },
   "outputs": [
    {
     "name": "stdout",
     "output_type": "stream",
     "text": [
      "connected to arduino on COM3\n"
     ]
    }
   ],
   "source": [
    "PORT1 = \"COM3\"\n",
    "connected1 = False\n",
    "ser1 = serial.Serial(PORT1,9600)\n",
    "while not connected1:\n",
    "    serin1 = ser1.read()\n",
    "    connected1 = True\n",
    "    print \"connected to arduino on COM3\" "
   ]
  },
  {
   "cell_type": "code",
   "execution_count": 9,
   "metadata": {
    "collapsed": false,
    "scrolled": true
   },
   "outputs": [],
   "source": [
    "# define function for recording and rewarding buzzes\n",
    "def recRew(ftestMin, ftestMax, trt):\n",
    "     \n",
    "        \n",
    "    aThr = [0,5]\n",
    "    \n",
    "    # loop to look for specific frequencies\n",
    "    fmin = 5.0\n",
    "    fmax = 520.0\n",
    "\n",
    "    counterAlarm = 50\n",
    "\n",
    "    peakFrq = np.array(0)\n",
    "    pwr = np.array(0)\n",
    "    pwrCutoff = 0.004 # lower amplitude cutoff\n",
    "    sleepTime = 0 # seconds\n",
    "\n",
    "    # make a continuously-sampling loop that will end if it gets a frequency of 280 Hz\n",
    "    # 100000 samples is one second\n",
    "    # Note: to get higher resolution for peak freq, I'd need a larger window\n",
    "    N_samples = 20000 \n",
    "    log_rate = 200000.0\n",
    "\n",
    "    ctr = 0\n",
    "    ctr2 = 0\n",
    "    \n",
    "    # open text file\n",
    "    with open(str(outDir)+ '_ampFreq.txt', 'a') as text_file:  \n",
    "\n",
    "        # clear characters waiting to be read\n",
    "        while msvcrt.kbhit():\n",
    "            msvcrt.getch()\n",
    "            print 'clearing characters ...'\n",
    "\n",
    "        while ctr <= (2*counterAlarm - 1): # only give a max of 100 buzzes\n",
    "                \n",
    "            taskHandle = TaskHandle()\n",
    "            read = int32()\n",
    "            data = np.zeros((N_samples,), dtype=np.float64)\n",
    "\n",
    "            DAQmxCreateTask(\"\", byref(taskHandle))\n",
    "            # I have an piezoelectric accelerometer plugged into channel ai1 with range +/-10V\n",
    "            DAQmxCreateAIVoltageChan(taskHandle, \"Dev1/ai0\", \n",
    "                                     \"Accelerometer\", DAQmx_Val_Diff, \n",
    "                                     -10.0, 10.0, DAQmx_Val_Volts, None)\n",
    "            DAQmxCfgSampClkTiming(taskHandle, \"\", log_rate, \n",
    "                                  DAQmx_Val_Rising, \n",
    "                                  DAQmx_Val_FiniteSamps, N_samples)\n",
    "\n",
    "            DAQmxStartTask(taskHandle)\n",
    "            DAQmxReadAnalogF64(taskHandle, N_samples, 10.0, \n",
    "                               DAQmx_Val_GroupByChannel, data, \n",
    "                               N_samples, byref(read), None)\n",
    "\n",
    "            if taskHandle:\n",
    "                DAQmxStopTask(taskHandle);\n",
    "                DAQmxClearTask(taskHandle);\n",
    "\n",
    "            # 20fft\n",
    "            n =len(data) # length of the signal\n",
    "            k = np.arange(n, step = 1)\n",
    "            T = n/log_rate\n",
    "            frq = k/T # two sides frequency range\n",
    "            frq = frq[range(n/2)] # one side frequency range\n",
    "\n",
    "            Y = np.fft.fft(data)/n # fft computing and normalization\n",
    "            Y = Y[range(n/2)]\n",
    "\n",
    "            # calculate top frequency\n",
    "            ind = np.argpartition(abs(Y), -4)[-4:]\n",
    "            # Find highest point on the spectrum\n",
    "            peakFrq = frq[ind[::-1]]\n",
    "            pwr = (abs(Y)[ind[::-1]])\n",
    "            domPK = [x for (y,x) in sorted(zip(pwr,peakFrq), reverse = True)][0]\n",
    "\n",
    "            beeFrqPwr = pwr[peakFrq == domPK]\n",
    "            # print beeFrq in peakFrq, peakFrq[pwr == max(pwr)], beeFrqPwr, beeFrqPwr > 0.3\n",
    "\n",
    "            # if the bee is vibrating at a high enough power and the dominant peak from the \n",
    "            # vibration is in the right range\n",
    "            if beeFrqPwr > pwrCutoff and domPK > fmin and domPK < fmax:\n",
    "                reward = 'F'\n",
    "\n",
    "                aamp = np.max(data) - np.min(data)\n",
    "                # write value to serial port, and get it to start the turn on the motor\n",
    "                s3 = str(datetime.datetime.now().strftime(\"%Y_%m_%d__%H_%M_%S_%f\")[:-3]) # time with milliseconds\n",
    "                print(s3 + \" topFreq = \" + str(domPK) + \" amp = \" + str(aamp))\n",
    "\n",
    "                                \n",
    "                # take a photo and save it\n",
    "                im = fc2.Image()\n",
    "                c.retrieve_buffer(im)\n",
    "                a = np.array(im)\n",
    "                cv2.imwrite(os.getcwd() + '\\\\' + outDir + '\\\\' + s3 + '.pgm', a) # .pgm / ppm is quite fast, and can be read by imageJ\n",
    "                \n",
    "                \n",
    "                #print reward number\n",
    "                print('Counter Number ' + str(ctr))\n",
    "                \n",
    "                # reward only give pollen at specific frequencies and ampliude threshold\n",
    "                if domPK > ftestMin and domPK < ftestMax and (aThr[0] < aamp < aThr[1]):\n",
    "                                    \n",
    "                    ctr = ctr + 1\n",
    "                    \n",
    "                    if (trt == 1) and (ctr <= counterAlarm):\n",
    "                        written = ser1.write(\"20\")\n",
    "                        reward = 'T'\n",
    "                        \n",
    "                    if (trt == 2) and (ctr > counterAlarm):\n",
    "                        written = ser1.write(\"20\")\n",
    "                        reward = 'T'\n",
    "\n",
    "                    # beep for end of program\n",
    "                    if ctr > counterAlarm - 5:\n",
    "                        for i in range(counterAlarm - ctr):\n",
    "                            winsound.Beep(400,100)\n",
    "\n",
    "                    if ctr > counterAlarm:\n",
    "                        for i in range(counterAlarm - ctr):\n",
    "                            winsound.Beep(400,500)\n",
    "\n",
    "                ############################### PLOT ##################################\n",
    "                # create subplot 1\n",
    "                ax1 = plt.subplot(211)\n",
    "                ax1.plot(np.array(range(len(data)))/ float(log_rate), data)\n",
    "                ax1.set_ylabel(\"Volts\")\n",
    "                ax1.set_xlabel(\"time (s)\")\n",
    "                if reward == 'T':\n",
    "                    ax1.set_facecolor('grey')\n",
    "\n",
    "                # create subplot 2\n",
    "                ax2 = plt.subplot(212)\n",
    "                ax2.plot(frq,abs(Y),'r')\n",
    "                ax2.plot(domPK, beeFrqPwr, 'ro')\n",
    "                ax2.set_xlim(20, 1000)\n",
    "                ax2.set_ylabel('power')\n",
    "                ax2.set_xlabel('frequency')\n",
    "                plt.tight_layout()\n",
    "                plt.show()\n",
    "\n",
    "\n",
    "                #################### SAVE FILE FROM ACCEL ##############################\n",
    "                np.savetxt((os.getcwd() + '\\\\' + outDir + '\\\\' + s3 + '_' + str(ftestMin) + '_' + \n",
    "                           str(ftestMax) + '_' + str(aThr[0]) + '_' +  str(aThr[1]) + '.txt'), \n",
    "                           (np.array(range(len(data)))/ float(log_rate), data), delimiter = ' ')\n",
    "\n",
    "                ### write frequency and amplitude to file\n",
    "                var1 = (str(domPK) + ', ' + \n",
    "                           str(round(np.max(data) - np.min(data), 5)) + ', ' + \n",
    "                           s3 + ', ' + str(ctr) +', ' + str(reward) + \n",
    "                        ',' + str(aThr[0]) + \n",
    "                        ',' + str(aThr[1]) + '\\n')\n",
    "                text_file.writelines(var1)\n",
    "\n",
    "                # sleep\n",
    "                time.sleep(sleepTime)\n",
    "            \n",
    "            else:\n",
    "                #take a photo every 5 loops\n",
    "                # take a photo and save it\n",
    "                if ctr2 % 5 == 0:\n",
    "                    s4 = str(datetime.datetime.now().strftime(\"%Y_%m_%d__%H_%M_%S_%f\")[:-3]) # time with milliseconds\n",
    "                    im = fc2.Image()\n",
    "                    c.retrieve_buffer(im)\n",
    "                    a = np.array(im)\n",
    "                    cv2.imwrite(os.getcwd() + '\\\\' + outDir + '\\\\' + s4 + \"_bkg\" + '.pgm', a) # .pgm / ppm is quite fast, and can be read by imageJ\n",
    "\n",
    "                ctr2 += 1\n",
    "            \n",
    "\n",
    "            # break loop if someone presses the 'q' while in terminal\n",
    "            if msvcrt.kbhit():\n",
    "                if msvcrt.getch() == 'q':\n",
    "                    # disconnect camera \n",
    "                    c.stop_capture()\n",
    "                    c.disconnect()\n",
    "                    print 'keyboard q pressed, now quitting loop'\n",
    "                    for i in range(5):\n",
    "                        winsound.Beep(450,100)\n",
    "                    break   \n",
    "                else:\n",
    "                    written = ser1.write(\"20\")\n",
    "                    \n",
    "            ## move file to new folder at end of loop!\n",
    "\n",
    "    # make sound when loop stops\n",
    "    for i in range(3):\n",
    "        winsound.Beep(350,500)"
   ]
  },
  {
   "cell_type": "code",
   "execution_count": 10,
   "metadata": {
    "collapsed": false
   },
   "outputs": [
    {
     "name": "stdout",
     "output_type": "stream",
     "text": [
      "new directory created: 2017_05_29__13_02_35\n",
      "the current python direcory is C:\\Users\\Combes4\\Desktop\\Temp\n",
      "clearing characters ...\n",
      "clearing characters ...\n",
      "clearing characters ...\n",
      "2017_05_29__13_03_01_397 topFreq = 440.0 amp = 2.85458744459\n",
      "Counter Number 0\n"
     ]
    },
    {
     "data": {
      "image/png": "[encoded data removed]",
      "text/plain": [
       "<matplotlib.figure.Figure at 0xe232b70>"
      ]
     },
     "metadata": {},
     "output_type": "display_data"
    },
    {
     "name": "stdout",
     "output_type": "stream",
     "text": [
      "2017_05_29__13_03_01_950 topFreq = 440.0 amp = 1.77888483418\n",
      "Counter Number 1\n"
     ]
    },
    {
     "data": {
      "image/png": "[encoded data removed]",
      "text/plain": [
       "<matplotlib.figure.Figure at 0xe3c9be0>"
      ]
     },
     "metadata": {},
     "output_type": "display_data"
    },
    {
     "name": "stdout",
     "output_type": "stream",
     "text": [
      "2017_05_29__13_03_02_789 topFreq = 440.0 amp = 2.80201990153\n",
      "Counter Number 2\n"
     ]
    },
    {
     "data": {
      "image/png": "[encoded data removed]",
      "text/plain": [
       "<matplotlib.figure.Figure at 0xe3a7710>"
      ]
     },
     "metadata": {},
     "output_type": "display_data"
    },
    {
     "name": "stdout",
     "output_type": "stream",
     "text": [
      "2017_05_29__13_03_03_586 topFreq = 440.0 amp = 1.33172999464\n",
      "Counter Number 3\n"
     ]
    },
    {
     "data": {
      "image/png": "[encoded data removed]",
      "text/plain": [
       "<matplotlib.figure.Figure at 0x13664ef0>"
      ]
     },
     "metadata": {},
     "output_type": "display_data"
    },
    {
     "name": "stdout",
     "output_type": "stream",
     "text": [
      "2017_05_29__13_03_04_096 topFreq = 440.0 amp = 0.989387133184\n",
      "Counter Number 4\n"
     ]
    },
    {
     "data": {
      "image/png": "[encoded data removed]",
      "text/plain": [
       "<matplotlib.figure.Figure at 0x13645d68>"
      ]
     },
     "metadata": {},
     "output_type": "display_data"
    },
    {
     "name": "stdout",
     "output_type": "stream",
     "text": [
      "2017_05_29__13_03_04_605 topFreq = 440.0 amp = 0.522762418063\n",
      "Counter Number 5\n"
     ]
    },
    {
     "data": {
      "image/png": "[encoded data removed]",
      "text/plain": [
       "<matplotlib.figure.Figure at 0x13e32c88>"
      ]
     },
     "metadata": {},
     "output_type": "display_data"
    },
    {
     "name": "stdout",
     "output_type": "stream",
     "text": [
      "keyboard q pressed, now quitting loop\n"
     ]
    }
   ],
   "source": [
    "## reward amplitudes\n",
    "rewAAmp = \"test\" # test rewards at any amplitude and freq's between 220 and 450\n",
    "\n",
    "# change python directory to Dropbox\n",
    "os.chdir('C:\\Users\\Combes4\\Desktop\\Temp')\n",
    "os.getcwd()\n",
    "\n",
    "# make new directory with date, if it doesn't already exist\n",
    "outDir = (datetime.datetime.now().strftime(\"%Y_%m_%d__%H_%M_%S\"))\n",
    "#outDir = 'accelShake_009_05092016'\n",
    "\n",
    "if not os.path.isdir(os.getcwd() + '\\\\' + outDir):\n",
    "    os.mkdir(os.getcwd() + '\\\\' + outDir)\n",
    "    \n",
    "    print 'new directory created: ' + str(outDir)\n",
    "else: print 'directory exists: '  + str(outDir)\n",
    "\n",
    "print \"the current python direcory is \" + str(os.getcwd())\n",
    "                                                                                                                 \n",
    "# make new file\n",
    "open(str(outDir)+ '_ampFreq.txt', 'a').close()\n",
    "\n",
    "# start camera -- point grey Chameleon\n",
    "c = fc2.Context()\n",
    "c.connect(*c.get_camera_from_index(0))\n",
    "c.start_capture()\n",
    "\n",
    "# capture a background image (may be useful for image subtraction)\n",
    "im = fc2.Image()\n",
    "c.retrieve_buffer(im)\n",
    "a = np.array(im)\n",
    "cv2.imwrite(os.getcwd() + '\\\\' + outDir + '\\\\' + 'background.pgm', a) \n",
    "\n",
    "ttrt = 1\n",
    "\n",
    "### initial, whiteyellow, green, , limesilver, limrpurpleyellow\n",
    "recRew(trt =ttrt, ftestMin=220, ftestMax =450)"
   ]
  },
  {
   "cell_type": "code",
   "execution_count": 11,
   "metadata": {
    "collapsed": false
   },
   "outputs": [],
   "source": [
    "## make new folder and move files into that folder\n",
    "hhive = '7'\n",
    "ddate = '29May2017'\n",
    "\n",
    "if 'bn' in globals():\n",
    "    bn += 1\n",
    "else:\n",
    "    bn = 200\n",
    "\n",
    "BeeNum = str(bn)\n",
    "\n",
    "\n",
    "\n",
    "if (ttrt == 2):\n",
    "    treatment = \"RewardSecond\"\n",
    "elif (ttrt == 1):\n",
    "    treatment = \"RewardFirst\"\n",
    "\n",
    "finFolder = 'Bee' + BeeNum + '_' + ddate + '_Hive'+  hhive + '_' + treatment\n",
    "\n",
    "# make new folder if it doesn't exist\n",
    "if not os.path.isdir(os.getcwd() + '\\\\' + finFolder):\n",
    "    os.mkdir(os.getcwd() + '\\\\' + finFolder)\n",
    "    \n",
    "    # move files into new folder\n",
    "    #os.rename(os.getcwd() + '\\\\' + outDir, os.getcwd() + '\\\\' + outDir +'\\\\' + finFolder)\n",
    "    os.rename(os.getcwd() + '\\\\' + outDir + '_ampFreq.txt', os.getcwd() + '\\\\' + finFolder + '\\\\' + outDir + '_ampFreq.txt')\n",
    "    \n",
    "    # move folder to new folder\n",
    "    src = os.getcwd() + '\\\\' + outDir\n",
    "    dst = os.getcwd() + '\\\\'  + finFolder + '\\\\'+ outDir\n",
    "    shutil.move(src, dst)\n",
    "    \n",
    "else: \n",
    "    print 'directory already exists'\n"
   ]
  },
  {
   "cell_type": "code",
   "execution_count": 12,
   "metadata": {
    "collapsed": false
   },
   "outputs": [
    {
     "name": "stdout",
     "output_type": "stream",
     "text": [
      "beeNum 200\n",
      "total rewards\n",
      "6\n",
      "mean Freq rewarded\n",
      "440.0\n",
      "total buzzes not rewarded\n",
      "0\n",
      "mean Freq Unrewarded\n",
      "nan\n"
     ]
    }
   ],
   "source": [
    "# calculate mean frequency (only for rewarded buzzes)\n",
    "ff = os.getcwd() + '\\\\' + finFolder + '\\\\' + outDir + '_ampFreq.txt'\n",
    "dd = pd.read_csv(ff, header = None)\n",
    "\n",
    "print \"beeNum \" + str(bn)\n",
    "\n",
    "dd2 = dd[(dd.ix[:,0] > 220) & (dd.ix[:,0] < 450)]\n",
    "\n",
    "\n",
    "print \"total rewards\"\n",
    "print np.sum(np.array(dd2.ix[:,4]) == \" T\")\n",
    "\n",
    "# print \"total buzzes\"\n",
    "# print len(dd2)\n",
    "\n",
    "print \"mean Freq rewarded\"\n",
    "print np.mean(dd2.ix[:,0][dd2.ix[:,4] == \" T\"])\n",
    "\n",
    "print \"total buzzes not rewarded\"\n",
    "print np.sum(np.array(dd2.ix[:,4]) == \" F\")\n",
    "\n",
    "print \"mean Freq Unrewarded\"\n",
    "print np.mean(dd2.ix[:,0][dd2.ix[:,4] == \" F\"])\n",
    "\n"
   ]
  },
  {
   "cell_type": "code",
   "execution_count": null,
   "metadata": {
    "collapsed": true
   },
   "outputs": [],
   "source": [
    "%qtconsole"
   ]
  },
  {
   "cell_type": "code",
   "execution_count": null,
   "metadata": {
    "collapsed": true
   },
   "outputs": [],
   "source": []
  },
  {
   "cell_type": "code",
   "execution_count": null,
   "metadata": {
    "collapsed": true
   },
   "outputs": [],
   "source": []
  },
  {
   "cell_type": "code",
   "execution_count": null,
   "metadata": {
    "collapsed": true
   },
   "outputs": [],
   "source": []
  },
  {
   "cell_type": "code",
   "execution_count": null,
   "metadata": {
    "collapsed": true
   },
   "outputs": [],
   "source": []
  },
  {
   "cell_type": "code",
   "execution_count": null,
   "metadata": {
    "collapsed": false
   },
   "outputs": [],
   "source": [
    "print \"total rewards\"\n",
    "np.sum(np.array(dd2.ix[:,4]) == \" T\")"
   ]
  },
  {
   "cell_type": "code",
   "execution_count": null,
   "metadata": {
    "collapsed": false
   },
   "outputs": [],
   "source": [
    "print \"total buzzes\"\n",
    "len(dd2)"
   ]
  },
  {
   "cell_type": "code",
   "execution_count": null,
   "metadata": {
    "collapsed": false
   },
   "outputs": [],
   "source": [
    "plt.hist(np.array(dd2.ix[:,0]), bins = 20)"
   ]
  },
  {
   "cell_type": "code",
   "execution_count": null,
   "metadata": {
    "collapsed": false
   },
   "outputs": [],
   "source": [
    "np.array(dd2.ix[:,0])"
   ]
  },
  {
   "cell_type": "code",
   "execution_count": null,
   "metadata": {
    "collapsed": false
   },
   "outputs": [],
   "source": [
    "# get file list in directory\n",
    "fllist = os.listdir(os.getcwd() + '//' + outDir)\n",
    "\n",
    "fpth = [os.getcwd() + '//' + outDir + '//' + ii for ii in fllist]    \n",
    "\n",
    "sust = [os.access(kk, os.W_OK) for kk in fpth]\n",
    "\n",
    "print \"num read only files = \" + str( np.sum(not sust))\n"
   ]
  },
  {
   "cell_type": "code",
   "execution_count": null,
   "metadata": {
    "collapsed": true
   },
   "outputs": [],
   "source": []
  },
  {
   "cell_type": "code",
   "execution_count": null,
   "metadata": {
    "collapsed": true
   },
   "outputs": [],
   "source": []
  },
  {
   "cell_type": "code",
   "execution_count": null,
   "metadata": {
    "collapsed": true
   },
   "outputs": [],
   "source": []
  },
  {
   "cell_type": "code",
   "execution_count": null,
   "metadata": {
    "collapsed": true
   },
   "outputs": [],
   "source": []
  },
  {
   "cell_type": "code",
   "execution_count": null,
   "metadata": {
    "collapsed": true
   },
   "outputs": [],
   "source": []
  },
  {
   "cell_type": "code",
   "execution_count": null,
   "metadata": {
    "collapsed": true
   },
   "outputs": [],
   "source": []
  },
  {
   "cell_type": "code",
   "execution_count": null,
   "metadata": {
    "collapsed": false
   },
   "outputs": [],
   "source": [
    "print fc2.get_library_version()\n",
    "c = fc2.Context()\n",
    "print c\n",
    "print c.get_num_of_cameras()"
   ]
  },
  {
   "cell_type": "code",
   "execution_count": null,
   "metadata": {
    "collapsed": true
   },
   "outputs": [],
   "source": [
    "import shutil"
   ]
  },
  {
   "cell_type": "code",
   "execution_count": null,
   "metadata": {
    "collapsed": false
   },
   "outputs": [],
   "source": [
    "src = os.getcwd() + '\\\\' + outDir\n",
    "dst = os.getcwd() + '\\\\'  + finFolder + '\\\\'+ outDir\n",
    "shutil.move(src, dst)"
   ]
  },
  {
   "cell_type": "code",
   "execution_count": null,
   "metadata": {
    "collapsed": false
   },
   "outputs": [],
   "source": [
    "os.getcwd() + '\\\\' + outDir"
   ]
  },
  {
   "cell_type": "code",
   "execution_count": null,
   "metadata": {
    "collapsed": false
   },
   "outputs": [],
   "source": [
    "# make a continuously-sampling loop that will end if it gets a frequency of 280 Hz\n",
    "# 100000 samples is one second\n",
    "# Note: to get higher resolution for peak freq, I'd need a larger window\n",
    "N_samples = 20000 \n",
    "log_rate = 200000.0\n",
    "\n",
    "ctr = 0\n",
    "\n",
    "\n",
    "taskHandle = TaskHandle()\n",
    "read = int32()\n",
    "data = np.zeros((N_samples,), dtype=np.float64)\n",
    "\n",
    "DAQmxCreateTask(\"\", byref(taskHandle))\n",
    "# I have an piezoelectric accelerometer plugged into channel ai1 with range +/-10V\n",
    "DAQmxCreateAIVoltageChan(taskHandle, \"Dev1/ai0\", \n",
    "                         \"Accelerometer\", DAQmx_Val_Diff, \n",
    "                         -10.0, 10.0, DAQmx_Val_Volts, None)\n",
    "DAQmxCfgSampClkTiming(taskHandle, \"\", log_rate, \n",
    "                      DAQmx_Val_Rising, \n",
    "                      DAQmx_Val_FiniteSamps, N_samples)\n",
    "\n",
    "DAQmxStartTask(taskHandle)\n",
    "DAQmxReadAnalogF64(taskHandle, N_samples, 10.0, \n",
    "                   DAQmx_Val_GroupByChannel, data, \n",
    "                   N_samples, byref(read), None)\n",
    "\n",
    "if taskHandle:\n",
    "    DAQmxStopTask(taskHandle);\n",
    "    DAQmxClearTask(taskHandle);\n",
    "\n",
    "# fft\n",
    "n = len(data) # length of the signal\n",
    "k = np.arange(n)\n",
    "T = n/log_rate\n",
    "frq = k/T # two sides frequency range\n",
    "frq = frq[range(n/2)] # one side frequency range\n",
    "\n",
    "Y = np.fft.fft(data)/n # fft computing and normalization\n",
    "Y = Y[range(n/2)]\n",
    "\n",
    "# calculate top frequency\n",
    "ind = np.argpartition(abs(Y), -4)[-4:]\n",
    "# Find highest point on the spectrum\n",
    "peakFrq = frq[ind[::-1]]\n",
    "pwr = (abs(Y)[ind[::-1]])\n",
    "domPK = [x for (y,x) in sorted(zip(pwr,peakFrq), reverse = True)][0]\n",
    "\n",
    "beeFrqPwr = pwr[peakFrq == domPK]\n",
    "# print beeFrq in peakFrq, peakFrq[pwr == max(pwr)], beeFrqPwr, beeFrqPwr > 0.3\n",
    "\n",
    "# if the bee is vibrating at a high enough power and the dominant peak from the \n",
    "# vibration is in the right range\n",
    "\n",
    "reward = 'F'\n",
    "\n",
    "aamp = np.max(data) - np.min(data)\n",
    "# write value to serial port, and get it to start the turn on the motor\n",
    "s3 = str(datetime.datetime.now().strftime(\"%Y_%m_%d__%H_%M_%S_%f\")[:-3]) # time with milliseconds\n",
    "print(s3 + \" topFreq = \" + str(domPK) + \" amp = \" + str(aamp))\n",
    "\n",
    "# reward only give pollen at specific frequencies and ampliude threshold\n",
    "############################### PLOT ##################################\n",
    "# create subplot 1\n",
    "ax1 = plt.subplot(211)\n",
    "ax1.plot(np.array(range(len(data)))/ float(log_rate), data)\n",
    "ax1.set_ylabel(\"Volts\")\n",
    "ax1.set_xlabel(\"time (s)\")\n",
    "if reward == 'T':\n",
    "    ax1.set_facecolor('grey')\n",
    "\n",
    "# create subplot 2\n",
    "ax2 = plt.subplot(212)\n",
    "ax2.plot(frq,abs(Y),'r')\n",
    "ax2.plot(domPK, beeFrqPwr, 'ro')\n",
    "ax2.set_xlim(20, 1000)\n",
    "ax2.set_ylabel('power')\n",
    "ax2.set_xlabel('frequency')\n",
    "plt.tight_layout()\n",
    "plt.show()"
   ]
  },
  {
   "cell_type": "code",
   "execution_count": null,
   "metadata": {
    "collapsed": false
   },
   "outputs": [],
   "source": [
    "data"
   ]
  },
  {
   "cell_type": "code",
   "execution_count": null,
   "metadata": {
    "collapsed": true
   },
   "outputs": [],
   "source": [
    "# fft\n",
    "n = len(data) # length of the signal\n",
    "k = np.arange(n)\n",
    "T = n/log_rate\n",
    "frq = k/T # two sides frequency range\n",
    "frq = frq[range(n/2)] # one side frequency range\n",
    "\n",
    "Y = np.fft.fft(data)/n # fft computing and normalization"
   ]
  },
  {
   "cell_type": "code",
   "execution_count": null,
   "metadata": {
    "collapsed": true
   },
   "outputs": [],
   "source": [
    "Y = Y[range(n/2)]"
   ]
  },
  {
   "cell_type": "code",
   "execution_count": null,
   "metadata": {
    "collapsed": false
   },
   "outputs": [],
   "source": [
    "ps = np.abs(np.fft.fft(data))**2\n",
    "\n",
    "time_step = 1/100000000.0\n",
    "freqs = np.fft.fftfreq(data.size, time_step)\n",
    "idx = np.argsort(freqs)\n",
    "\n",
    "ax2 = plt.subplot(212)\n",
    "ax2.plot(freqs[idx] / 1000, ps[idx],'r')\n",
    "ax2.set_xlim(420, 450)"
   ]
  },
  {
   "cell_type": "code",
   "execution_count": null,
   "metadata": {
    "collapsed": false
   },
   "outputs": [],
   "source": [
    "freqs"
   ]
  },
  {
   "cell_type": "code",
   "execution_count": null,
   "metadata": {
    "collapsed": true
   },
   "outputs": [],
   "source": [
    "# calculate top frequency\n",
    "ind = np.argpartition(abs(Y), -4)[-4:]\n",
    "# Find highest point on the spectrum\n",
    "peakFrq = frq[ind[::-1]]\n",
    "pwr = (abs(Y)[ind[::-1]])\n",
    "domPK = [x for (y,x) in sorted(zip(pwr,peakFrq), reverse = True)][0]"
   ]
  },
  {
   "cell_type": "code",
   "execution_count": null,
   "metadata": {
    "collapsed": false
   },
   "outputs": [],
   "source": [
    "Y"
   ]
  },
  {
   "cell_type": "code",
   "execution_count": null,
   "metadata": {
    "collapsed": true
   },
   "outputs": [],
   "source": []
  },
  {
   "cell_type": "code",
   "execution_count": null,
   "metadata": {
    "collapsed": true
   },
   "outputs": [],
   "source": []
  },
  {
   "cell_type": "code",
   "execution_count": null,
   "metadata": {
    "collapsed": false
   },
   "outputs": [],
   "source": [
    "# change python directory to desktop\n",
    "os.chdir('C:\\\\Users\\\\Combes4\\\\Desktop\\\\')\n",
    "os.getcwd()\n",
    "\n",
    "# make new directory with date, if it doesn't already exist\n",
    "outDir = (datetime.datetime.now().strftime(\"%Y_%m_%d__%H_%M_%S\"))\n",
    "#outDir = 'accelShake_009_05092016'\n",
    "\n",
    "if not os.path.isdir(os.getcwd() + '\\\\' + outDir):\n",
    "    os.mkdir(os.getcwd() + '\\\\' + outDir)\n",
    "    print 'new directory created: ' + str(outDir)\n",
    "else: print 'directory exists: '  + str(outDir)\n",
    "\n",
    "print \"the current python direcory is \" + str(os.getcwd())\n",
    "\n",
    "# make new file\n",
    "open(str(outDir)+ '_ampFreq.txt', 'a').close()"
   ]
  },
  {
   "cell_type": "code",
   "execution_count": null,
   "metadata": {
    "collapsed": true
   },
   "outputs": [],
   "source": []
  },
  {
   "cell_type": "code",
   "execution_count": null,
   "metadata": {
    "collapsed": false
   },
   "outputs": [],
   "source": [
    "# change python directory to desktop\n",
    "os.chdir('C:\\\\Users\\\\Combes4\\\\Desktop\\\\')                    \n",
    "os.getcwd()\n",
    "\n",
    "# make new directory with date, if it doesn't already exist\n",
    "outDir = (datetime.datetime.now().strftime(\"%Y_%m_%d__%H_%M_%S\"))\n",
    "#outDir = 'accelShake_009_05092016'\n",
    "\n",
    "if not os.path.isdir(os.getcwd() + '\\\\' + outDir):\n",
    "    os.mkdir(os.getcwd() + '\\\\' + outDir)\n",
    "    print 'new directory created: ' + str(outDir)\n",
    "else: print 'directory exists: '  + str(outDir)\n",
    "\n",
    "print \"the current python direcory is \" + str(os.getcwd())\n",
    "\n",
    "\n",
    "## alternative, increasing amplitude version\n",
    "\n",
    "# loop to look for specific frequencies\n",
    "fmin =5\n",
    "fmax = 450\n",
    "\n",
    "ftestMin = 220\n",
    "ftestMax = 450\n",
    "\n",
    "ampThresh = 0.0\n",
    "\n",
    "counterAlarm = 30\n",
    "\n",
    "peakFrq = np.array(0)\n",
    "pwr = np.array(0)\n",
    "pwrCutoff = 0.004\n",
    "sleepTime = 0 # seconds\n",
    "\n",
    "# make a continuously-sampling loop that will end if it gets a frequency of 280 Hz\n",
    "# 100000 samples is one second\n",
    "# Note: to get higher resolution for peak freq, I'd need a larger window\n",
    "N_samples = 10000 \n",
    "log_rate = 100000.0\n",
    "\n",
    "ctr = 0\n",
    "\n",
    "# open text file\n",
    "with open(str(outDir)+ '_ampFreq.txt', 'a') as text_file:  \n",
    "\n",
    "    # clear characters waiting to be read\n",
    "    while msvcrt.kbhit():\n",
    "        msvcrt.getch()\n",
    "        print 'clearing characters ...'\n",
    "\n",
    "    while True:\n",
    "        taskHandle = TaskHandle()\n",
    "        read = int32()\n",
    "        data = np.zeros((N_samples,), dtype=np.float64)\n",
    "\n",
    "        DAQmxCreateTask(\"\", byref(taskHandle))\n",
    "        # I have an piezoelectric accelerometer plugged into channel ai1 with range +/-10V\n",
    "        DAQmxCreateAIVoltageChan(taskHandle, \"Dev1/ai0\", \n",
    "                                 \"Accelerometer\", DAQmx_Val_Diff, \n",
    "                                 -10.0, 10.0, DAQmx_Val_Volts, None)\n",
    "        DAQmxCfgSampClkTiming(taskHandle, \"\", log_rate, \n",
    "                              DAQmx_Val_Rising, \n",
    "                              DAQmx_Val_FiniteSamps, N_samples)\n",
    "\n",
    "        DAQmxStartTask(taskHandle)\n",
    "        DAQmxReadAnalogF64(taskHandle, N_samples, 10.0, \n",
    "                           DAQmx_Val_GroupByChannel, data, \n",
    "                           N_samples, byref(read), None)\n",
    "\n",
    "        if taskHandle:\n",
    "            DAQmxStopTask(taskHandle);\n",
    "            DAQmxClearTask(taskHandle);\n",
    "\n",
    "        # fft\n",
    "        n = len(data) # length of the signal\n",
    "        k = np.arange(n)\n",
    "        T = n/log_rate\n",
    "        frq = k/T # two sides frequency range\n",
    "        frq = frq[range(n/2)] # one side frequency range\n",
    "\n",
    "        Y = np.fft.fft(data)/n # fft computing and normalization\n",
    "        Y = Y[range(n/2)]\n",
    "\n",
    "        # calculate top frequency\n",
    "        ind = np.argpartition(abs(Y), -4)[-4:]\n",
    "        # Find highest point on the spectrum\n",
    "        peakFrq = frq[ind[::-1]]\n",
    "        pwr = (abs(Y)[ind[::-1]])\n",
    "        domPK = [x for (y,x) in sorted(zip(pwr,peakFrq), reverse = True)][0]\n",
    "\n",
    "        beeFrqPwr = pwr[peakFrq == domPK]\n",
    "        # print beeFrq in peakFrq, peakFrq[pwr == max(pwr)], beeFrqPwr, beeFrqPwr > 0.3\n",
    "\n",
    "        # if the bee is vibrating at a high enough power and the dominant peak from the \n",
    "        # vibration is in the right range\n",
    "        if beeFrqPwr > pwrCutoff and domPK > fmin and domPK < fmax:\n",
    "            reward = 'F'\n",
    "            \n",
    "            aamp = np.max(data) - np.min(data)\n",
    "            # write value to serial port, and get it to start the turn on the motor\n",
    "            s3 = str(datetime.datetime.now().strftime(\"%Y_%m_%d__%H_%M_%S_%f\")[:-3]) # time with milliseconds\n",
    "            print(s3 + \" topFreq = \" + str(domPK) + \" amp = \" + str(aamp))\n",
    "            \n",
    "            # reward only give pollen at specific frequencies and ampliude threshold\n",
    "            if domPK > ftestMin and domPK < ftestMax and aamp > ampThresh:\n",
    "                written = ser1.write(\"20\")\n",
    "                ctr = ctr + 1\n",
    "                print('reward ' + str(ctr))\n",
    "                reward = 'T'\n",
    "                ampThresh = ampThresh + 0.02\n",
    "                \n",
    "                # beep for end of program\n",
    "                if ctr > counterAlarm - 5:\n",
    "                    for i in range(counterAlarm - ctr):\n",
    "                        winsound.Beep(400,100)\n",
    "\n",
    "                if ctr > counterAlarm:\n",
    "                    for i in range(counterAlarm - ctr):\n",
    "                        winsound.Beep(400,500)\n",
    "\n",
    "            ############################### PLOT ##################################\n",
    "            # create subplot 1\n",
    "            ax1 = plt.subplot(211)\n",
    "            ax1.plot(np.array(range(len(data)))/ float(log_rate), data)\n",
    "            ax1.set_ylabel(\"Volts\")\n",
    "            ax1.set_xlabel(\"time (s)\")\n",
    "\n",
    "            # create subplot 2\n",
    "            ax2 = plt.subplot(212)\n",
    "            ax2.plot(frq,abs(Y),'r')\n",
    "            ax2.plot(domPK, beeFrqPwr, 'ro')\n",
    "            ax2.set_xlim(20, 1000)\n",
    "            ax2.set_ylabel('power')\n",
    "            ax2.set_xlabel('frequency')\n",
    "            plt.tight_layout()\n",
    "            plt.show()\n",
    "\n",
    "\n",
    "            #################### SAVE FILE FROM ACCEL ##############################\n",
    "            np.savetxt(os.getcwd() + '\\\\' + outDir + '\\\\' + s3+ '_' + str(ftestMin) + '_' + str(ftestMax) + '.txt', \n",
    "                       (np.array(range(len(data)))/ float(log_rate), data), delimiter = ' ')\n",
    "\n",
    "            ### write frequency and amplitude to file on desktop\n",
    "            var1 = str(domPK) + ', ' + str(round(np.max(data) - np.min(data), 5)) + ', ' + s3 + ', ' + str(ctr) +', ' + str(reward) + ', '+ str(ampThresh) + '\\n'\n",
    "            text_file.writelines(var1)\n",
    "\n",
    "            # sleep\n",
    "            time.sleep(sleepTime)\n",
    "            \n",
    "           \n",
    "\n",
    "        # break loop if someone presses the 'q' while in terminal\n",
    "        if msvcrt.kbhit():\n",
    "            if msvcrt.getch() == 'q':\n",
    "                print 'keyboard q pressed, now quitting loop'\n",
    "                for i in range(5):\n",
    "                    winsound.Beep(450,100)\n",
    "                break   \n",
    "            else:\n",
    "                written = ser1.write(\"20\")\n"
   ]
  },
  {
   "cell_type": "code",
   "execution_count": null,
   "metadata": {
    "collapsed": true
   },
   "outputs": [],
   "source": [
    "import random"
   ]
  },
  {
   "cell_type": "code",
   "execution_count": null,
   "metadata": {
    "collapsed": false
   },
   "outputs": [],
   "source": [
    "random.sample(np.arange(1,5),4)"
   ]
  },
  {
   "cell_type": "code",
   "execution_count": null,
   "metadata": {
    "collapsed": true
   },
   "outputs": [],
   "source": []
  }
 ],
 "metadata": {
  "kernelspec": {
   "display_name": "Python 2",
   "language": "python",
   "name": "python2"
  },
  "language_info": {
   "codemirror_mode": {
    "name": "ipython",
    "version": 2
   },
   "file_extension": ".py",
   "mimetype": "text/x-python",
   "name": "python",
   "nbconvert_exporter": "python",
   "pygments_lexer": "ipython2",
   "version": "2.7.13"
  }
 },
 "nbformat": 4,
 "nbformat_minor": 0
}
