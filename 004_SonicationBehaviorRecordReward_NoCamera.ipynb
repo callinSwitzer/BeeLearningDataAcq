{
 "cells": [
  {
   "cell_type": "markdown",
   "metadata": {},
   "source": [
    "# Acquire data from accelerometer from DAQ Board\n",
    "## Callin Switzer\n",
    "## python 3 (pyfly35 environment)\n",
    "## 22 Jan 2017\n"
   ]
  },
  {
   "cell_type": "markdown",
   "metadata": {},
   "source": [
    "Download nidaq driver for ni USB-6229 (save to thumb drive)\n",
    "\n",
    "Download/update anaconda\n",
    "\n",
    "download PyDAQmx\n",
    "\n",
    "download pySerial (conda install pySerial)\n",
    "\n",
    "upload code to Arduinos (001_Stepper_and_DCMotor)"
   ]
  },
  {
   "cell_type": "markdown",
   "metadata": {},
   "source": [
    "# Setup"
   ]
  },
  {
   "cell_type": "code",
   "execution_count": 281,
   "metadata": {
    "collapsed": true
   },
   "outputs": [],
   "source": [
    "% matplotlib inline\n",
    "import matplotlib.pyplot as plt\n",
    "import numpy as np"
   ]
  },
  {
   "cell_type": "code",
   "execution_count": 282,
   "metadata": {
    "collapsed": false
   },
   "outputs": [],
   "source": [
    "from PyDAQmx import * #works with python 3.5 -- need to install NiDACmx (takes like a day to download)"
   ]
  },
  {
   "cell_type": "code",
   "execution_count": 283,
   "metadata": {
    "collapsed": false
   },
   "outputs": [],
   "source": [
    "\n",
    "import PyCapture2 as fc2\n",
    "from sys import exit"
   ]
  },
  {
   "cell_type": "code",
   "execution_count": 284,
   "metadata": {
    "collapsed": false
   },
   "outputs": [],
   "source": [
    "import serial # works"
   ]
  },
  {
   "cell_type": "code",
   "execution_count": 285,
   "metadata": {
    "collapsed": false
   },
   "outputs": [
    {
     "name": "stdout",
     "output_type": "stream",
     "text": [
      "3.3.0\n"
     ]
    }
   ],
   "source": [
    "import cv2\n",
    "print(cv2.__version__)\n"
   ]
  },
  {
   "cell_type": "code",
   "execution_count": 286,
   "metadata": {
    "collapsed": false
   },
   "outputs": [
    {
     "name": "stdout",
     "output_type": "stream",
     "text": [
      "3.5.4 |Anaconda custom (64-bit)| (default, Sep 19 2017, 08:15:17) [MSC v.1900 64 bit (AMD64)]\n",
      "last run on 2018-02-07 16:31:21.236465\n"
     ]
    }
   ],
   "source": [
    "import time\n",
    "\n",
    "import os\n",
    "import peakutils \n",
    "import msvcrt\n",
    "import winsound\n",
    "import shutil\n",
    "import pandas as pd\n",
    "\n",
    "import skimage.io as io\n",
    "import sys\n",
    "from datetime import datetime\n",
    "import glob\n",
    "\n",
    "print(sys.version)\n",
    "\n",
    "\n",
    "now = datetime.now()\n",
    "print(\"last run on \" + str(now))"
   ]
  },
  {
   "cell_type": "code",
   "execution_count": 287,
   "metadata": {
    "collapsed": true
   },
   "outputs": [],
   "source": [
    " # % qtconsole"
   ]
  },
  {
   "cell_type": "code",
   "execution_count": 288,
   "metadata": {
    "collapsed": false
   },
   "outputs": [
    {
     "data": {
      "text/plain": [
       "['COM3', 'COM5']"
      ]
     },
     "execution_count": 288,
     "metadata": {},
     "output_type": "execute_result"
    }
   ],
   "source": [
    "# list ports\n",
    "\n",
    "def serial_ports():\n",
    "    \"\"\" Lists serial port names\n",
    "\n",
    "        :raises EnvironmentError:\n",
    "            On unsupported or unknown platforms\n",
    "        :returns:\n",
    "            A list of the serial ports available on the system\n",
    "    \"\"\"\n",
    "    if sys.platform.startswith('win'):\n",
    "        ports = ['COM%s' % (i + 1) for i in range(256)]\n",
    "    elif sys.platform.startswith('linux') or sys.platform.startswith('cygwin'):\n",
    "        # this excludes your current terminal \"/dev/tty\"\n",
    "        ports = glob.glob('/dev/tty[A-Za-z]*')\n",
    "    elif sys.platform.startswith('darwin'):\n",
    "        ports = glob.glob('/dev/tty.*')\n",
    "    else:\n",
    "        raise EnvironmentError('Unsupported platform')\n",
    "\n",
    "    result = []\n",
    "    for port in ports:\n",
    "        try:\n",
    "            s = serial.Serial(port)\n",
    "            s.close()\n",
    "            result.append(port)\n",
    "        except (OSError, serial.SerialException):\n",
    "            pass\n",
    "    return result\n",
    "\n",
    "\n",
    "# I'm using COM3 and COM5 arduinos\n",
    "# COM4 is for the arduino controlling the cameras\n",
    "serial_ports()"
   ]
  },
  {
   "cell_type": "code",
   "execution_count": 289,
   "metadata": {
    "collapsed": false
   },
   "outputs": [
    {
     "name": "stdout",
     "output_type": "stream",
     "text": [
      "connected to arduino on COM3\n"
     ]
    }
   ],
   "source": [
    "PORT1 = \"COM3\"\n",
    "connected1 = False\n",
    "ser1 = serial.Serial(PORT1,115200)\n",
    "while not connected1:\n",
    "    serin1 = ser1.read()\n",
    "    connected1 = True\n",
    "    print(\"connected to arduino on \" + PORT1)"
   ]
  },
  {
   "cell_type": "code",
   "execution_count": 290,
   "metadata": {
    "collapsed": false
   },
   "outputs": [
    {
     "name": "stdout",
     "output_type": "stream",
     "text": [
      "connected to arduino on COM5\n"
     ]
    }
   ],
   "source": [
    "PORT2 = \"COM5\"\n",
    "connected2 = False\n",
    "ser2 = serial.Serial(PORT2,115200)\n",
    "while not connected2:\n",
    "    serin2 = ser2.read()\n",
    "    connected2 = True\n",
    "    print(\"connected to arduino on \" + PORT2)"
   ]
  },
  {
   "cell_type": "code",
   "execution_count": 291,
   "metadata": {
    "collapsed": true
   },
   "outputs": [],
   "source": [
    "# stepper only\n",
    "written = ser1.write(\"s\".encode(\"utf-8\"))\n",
    "written = ser2.write(\"s\".encode(\"utf-8\"))"
   ]
  },
  {
   "cell_type": "code",
   "execution_count": 292,
   "metadata": {
    "collapsed": false
   },
   "outputs": [],
   "source": [
    "# vibration motor only\n",
    "written = ser1.write(\"v\".encode(\"utf-8\"))\n",
    "written = ser2.write(\"v\".encode(\"utf-8\"))"
   ]
  },
  {
   "cell_type": "code",
   "execution_count": 826,
   "metadata": {
    "collapsed": false
   },
   "outputs": [],
   "source": [
    "# both motors\n",
    "written = ser1.write(\"sv\".encode(\"utf-8\"))\n",
    "written = ser2.write(\"sv\".encode(\"utf-8\"))"
   ]
  },
  {
   "cell_type": "code",
   "execution_count": 14,
   "metadata": {
    "collapsed": false
   },
   "outputs": [],
   "source": [
    "class accelDta:\n",
    "    \n",
    "    '''read accelerometer data, fft, and plot'''\n",
    "    \n",
    "    def __init__(self, accNum = \"Dev2/ai0\", N_samples = 20000, log_rate = 200000.0):\n",
    "        self.data = np.zeros((N_samples,), dtype=np.float64)\n",
    "        self.N_samples = N_samples\n",
    "        self.log_rate = log_rate\n",
    "        self.read = int32()\n",
    "        self.accNum = accNum\n",
    "    \n",
    "    \n",
    "    def readAccel(self, ): \n",
    "        taskHandle = TaskHandle()\n",
    "\n",
    "        DAQmxCreateTask(\"\", byref(taskHandle))\n",
    "        # I have an piezoelectric accelerometer pluged into channel ai1 with range +/-10V\n",
    "        DAQmxCreateAIVoltageChan(taskHandle, self.accNum, \n",
    "                                 \"Accelerometer\", DAQmx_Val_Diff, \n",
    "                                 -10.0, 10.0, DAQmx_Val_Volts, None)\n",
    "        DAQmxCfgSampClkTiming(taskHandle, \"\", self.log_rate, \n",
    "                              DAQmx_Val_Rising, \n",
    "                              DAQmx_Val_FiniteSamps, self.N_samples)\n",
    "\n",
    "        DAQmxStartTask(taskHandle)\n",
    "        DAQmxReadAnalogF64(taskHandle, self.N_samples, 10.0, \n",
    "                           DAQmx_Val_GroupByChannel, self.data, \n",
    "                           self.N_samples, byref(self.read), None)\n",
    "\n",
    "        if taskHandle:\n",
    "            DAQmxStopTask(taskHandle);\n",
    "            DAQmxClearTask(taskHandle);\n",
    "            \n",
    "        # get amplitude    \n",
    "        self.amp = np.max(self.data) - np.min(self.data)\n",
    "\n",
    "    def FFT(self, fmin = 20, fmax= 450):\n",
    "        n =int(len(self.data))\n",
    "        k = np.arange(n, step = 1)\n",
    "        T = n/self.log_rate\n",
    "        frq = k/T # two sides frequency range\n",
    "        frq = frq[range(int(n/2))] # one side frequency range\n",
    "\n",
    "        # trim frq\n",
    "        keepInd = (frq > fmin) & (frq < fmax)\n",
    "        frqKeep = frq[keepInd]\n",
    "\n",
    "        Y = np.fft.fft(self.data)/n # fft computing and normalization\n",
    "        Y = Y[range(int(n/2))]\n",
    "\n",
    "        # remove Y that is outside the frequency rang of interest\n",
    "        Ykeep = Y[keepInd]\n",
    "\n",
    "\n",
    "\n",
    "        # calculate top frequency\n",
    "        ind = np.argpartition(abs(Ykeep), -4)[-4:]\n",
    "        # Find highest point on the spectrum\n",
    "        peakFrq = frqKeep[ind[::-1]]\n",
    "        pwr = (abs(Ykeep)[ind[::-1]])\n",
    "\n",
    "        domPK = [x for (y,x) in sorted(zip(pwr,peakFrq), reverse = True)][0]\n",
    "\n",
    "        domPkPwr = pwr[peakFrq == domPK]\n",
    "\n",
    "        self.frq = frq\n",
    "        self.peakFrq = peakFrq\n",
    "        self.pwr = pwr\n",
    "        self.domPK = domPK\n",
    "        self.domPkPwr = domPkPwr \n",
    "        self.Y = Y\n",
    "        \n",
    "\n",
    "\n",
    "    def plotFFT(self, fmin =0, fmax = 1000, reward = 'F'):\n",
    "         # create subplot 1\n",
    "        ax1 = plt.subplot(121)\n",
    "        ax1.plot(np.array(range(len(self.data)))/ float(self.log_rate), self.data)\n",
    "        ax1.set_ylabel(\"Volts\")\n",
    "        ax1.set_xlabel(\"time (s)\")\n",
    "        if reward == 'T':\n",
    "            ax1.set_facecolor('grey')\n",
    "\n",
    "        # create subplot 2\n",
    "        ax2 = plt.subplot(122)\n",
    "        ax2.plot(self.frq,abs(self.Y),'r')\n",
    "        ax2.plot(self.peakFrq,self.pwr, 'ro')\n",
    "        ax2.set_xlim(fmin, fmax)\n",
    "        ax2.set_ylabel('power')\n",
    "        ax2.set_xlabel('frequency')\n",
    "        ax2.plot(self.domPK, self.domPkPwr,'o', color = 'black', markersize = 5)\n",
    "        ax2.annotate(str(self.domPK) + ' Hz', \n",
    "                     xy=(self.domPK, self.domPkPwr), \n",
    "                     xytext=(self.domPK + 40, \n",
    "                             self.domPkPwr- 0.0001), size = 12)\n",
    "        plt.tight_layout()\n",
    "        plt.show()\n",
    "        \n",
    "\n",
    "\n"
   ]
  },
  {
   "cell_type": "code",
   "execution_count": 15,
   "metadata": {
    "collapsed": false
   },
   "outputs": [
    {
     "data": {
      "image/png": "[encoded data removed]",
      "text/plain": [
       "<matplotlib.figure.Figure at 0x2ccd1b13940>"
      ]
     },
     "metadata": {},
     "output_type": "display_data"
    },
    {
     "data": {
      "image/png": "[encoded data removed]",
      "text/plain": [
       "<matplotlib.figure.Figure at 0x2ccd3f96fd0>"
      ]
     },
     "metadata": {},
     "output_type": "display_data"
    },
    {
     "data": {
      "text/plain": [
       "[None, None]"
      ]
     },
     "execution_count": 15,
     "metadata": {},
     "output_type": "execute_result"
    }
   ],
   "source": [
    "# test accelerometers\n",
    "acc1 = accelDta(\"Dev2/ai0\")\n",
    "acc2 = accelDta(\"Dev2/ai1\")\n",
    "[j.readAccel() for j in [acc1, acc2]]\n",
    "[k.FFT() for k in [acc1, acc2]]\n",
    "[kk.plotFFT() for kk in [acc1, acc2]]"
   ]
  },
  {
   "cell_type": "code",
   "execution_count": 16,
   "metadata": {
    "collapsed": false
   },
   "outputs": [],
   "source": [
    "## read in data, and take a photo if accel power is high enough\n",
    "class processAndReward:\n",
    "    \n",
    "    '''Process data and reward bee if the bee meets the criteria\n",
    "       Save amplitude, frequency information\n",
    "    '''\n",
    "    \n",
    "    def __init__(self, ampThresh = 0.07, accNum1 = \"Dev2/ai0\", \n",
    "                 accNum2= \"Dev2/ai1\", rewardMin = 220, rewardMax = 450, \n",
    "                reward1 = True, reward2 = True, saveDirectory = \"C:\\\\Users\\\\Combes4\\\\Desktop\"):\n",
    "        self.ampThresh = ampThresh\n",
    "        acc1 = accelDta(accNum1)\n",
    "        acc2 = accelDta(accNum2)\n",
    "        self.rewardMin = rewardMin\n",
    "        self.rewardMax = rewardMax\n",
    "        self.reward1 = reward1\n",
    "        self.reward2 = reward2\n",
    "        self.saveDirectory = saveDirectory\n",
    "        self.startTime = str(datetime.now().strftime(\"%Y_%m_%d__%H_%M_%S_%f\")[:-3]) # time with milliseconds\n",
    "        self.treatment = accNum1 + \"_\" + str(reward1) +  \"__\" + accNum2 + \"_\" + str(reward2)\n",
    "        self.LastVisitTime = time.time()\n",
    "        self.rewardCounter = 0\n",
    "           \n",
    "        # open file and write header\n",
    "        self.f = open(os.path.join(self.saveDirectory, self.startTime + \".csv\"), 'a')\n",
    "        header = \"Amp_V\"+ \",\" +  \"freq_Hz\"+ \",\" +  \"accNum\"+ \",\" + \"rewardStatus\" + \",\" +  \"timestamp\" + \",\" + \"treatment\" +  \"\\n\"\n",
    "        self.f.write(header)\n",
    "        \n",
    "    def saveAmpFreq(self, accNum):\n",
    "        var1 = (str(accNum.amp) + \",\" + \n",
    "                str(accNum.domPK) + \",\" \n",
    "                + accNum.accNum + \",\"+ str(self.rewardYesNo) + \",\" +\n",
    "                str(datetime.now().strftime(\"%Y_%m_%d__%H_%M_%S_%f\")[:-3])+ \",\" +\n",
    "                self.treatment + \n",
    "                '\\n')\n",
    "        self.f.write(var1)\n",
    "      \n",
    "        \n",
    "    # if frequency is in a certain range, deliver reward\n",
    "    def reward(self, gg = acc1, serialPort = ser2, reward = True):\n",
    "        self.rewardYesNo = reward\n",
    "        if((gg.domPK > self.rewardMin) and (gg.domPK < self.rewardMax) and (gg.amp > self.ampThresh)):\n",
    "            written = serialPort.write(\"s\".encode(\"utf-8\"))\n",
    "            written = serialPort.write(\"v\".encode(\"utf-8\"))\n",
    "            self.saveAmpFreq(gg)\n",
    "            print(gg.amp, gg.accNum)\n",
    "            gg.plotFFT()\n",
    "            return(True)\n",
    "        else:\n",
    "            return(False)\n",
    "        \n",
    "    def procReward(self):\n",
    "        # read in data\n",
    "        [j.readAccel() for j in [acc1, acc2]]\n",
    "        \n",
    "        # only go on if the reading is above amplitude cutoff\n",
    "        # refref should adjust this, based on acc sensitivity\n",
    "        if((acc1.amp > self.ampThresh) or (acc2.amp > self.ampThresh)):\n",
    "            \n",
    "            \n",
    "            # calculate fft\n",
    "            [k.FFT() for k in [acc1, acc2]]\n",
    "            \n",
    "            # only proceed if fft signal is strong\n",
    "            if (acc1.domPkPwr > 0.001) or (acc2.domPkPwr > 0.001):\n",
    "        \n",
    "                # reward only one accel at once\n",
    "                if(acc1.amp > acc2.amp):\n",
    "                    if self.reward(acc1, ser2, reward = self.reward1):\n",
    "                        self.rewardCounter += 1\n",
    "                        self.LastVisitTime = time.time()\n",
    "                else:\n",
    "                    if self.reward(acc2, ser1, reward = self.reward2):\n",
    "                        self.rewardCounter +=1\n",
    "                        self.LastVisitTime = time.time()\n",
    "                \n"
   ]
  },
  {
   "cell_type": "code",
   "execution_count": null,
   "metadata": {
    "collapsed": true
   },
   "outputs": [],
   "source": []
  },
  {
   "cell_type": "code",
   "execution_count": null,
   "metadata": {
    "collapsed": true
   },
   "outputs": [],
   "source": []
  },
  {
   "cell_type": "code",
   "execution_count": 243,
   "metadata": {
    "collapsed": false
   },
   "outputs": [
    {
     "data": {
      "text/plain": [
       "\"['1:False, 2:True']\""
      ]
     },
     "execution_count": 243,
     "metadata": {},
     "output_type": "execute_result"
    }
   ],
   "source": [
    "str(np.random.choice([\"1:True, 2:False\", \"1:False, 2:True\"], 1))"
   ]
  },
  {
   "cell_type": "code",
   "execution_count": 244,
   "metadata": {
    "collapsed": false,
    "scrolled": true
   },
   "outputs": [
    {
     "name": "stdout",
     "output_type": "stream",
     "text": [
      "0.245619675856 Dev2/ai0\n"
     ]
    },
    {
     "data": {
      "image/png": "[encoded data removed]",
      "text/plain": [
       "<matplotlib.figure.Figure at 0x2ccd5e3b828>"
      ]
     },
     "metadata": {},
     "output_type": "display_data"
    },
    {
     "name": "stdout",
     "output_type": "stream",
     "text": [
      "0.130262369621 Dev2/ai0\n"
     ]
    },
    {
     "data": {
      "image/png": "[encoded data removed]",
      "text/plain": [
       "<matplotlib.figure.Figure at 0x2ccd16719b0>"
      ]
     },
     "metadata": {},
     "output_type": "display_data"
    },
    {
     "name": "stdout",
     "output_type": "stream",
     "text": [
      "0.215483324504 Dev2/ai0\n"
     ]
    },
    {
     "data": {
      "image/png": "[encoded data removed]",
      "text/plain": [
       "<matplotlib.figure.Figure at 0x2ccd401ba58>"
      ]
     },
     "metadata": {},
     "output_type": "display_data"
    },
    {
     "name": "stdout",
     "output_type": "stream",
     "text": [
      "0.283526686272 Dev2/ai0\n"
     ]
    },
    {
     "data": {
      "image/png": "[encoded data removed]",
      "text/plain": [
       "<matplotlib.figure.Figure at 0x2ccd3fbe470>"
      ]
     },
     "metadata": {},
     "output_type": "display_data"
    },
    {
     "name": "stdout",
     "output_type": "stream",
     "text": [
      "0.117947068488 Dev2/ai0\n"
     ]
    },
    {
     "data": {
      "image/png": "[encoded data removed]",
      "text/plain": [
       "<matplotlib.figure.Figure at 0x2ccd45a9ac8>"
      ]
     },
     "metadata": {},
     "output_type": "display_data"
    },
    {
     "name": "stdout",
     "output_type": "stream",
     "text": [
      "0.197010456044 Dev2/ai0\n"
     ]
    },
    {
     "data": {
      "image/png": "[encoded data removed]",
      "text/plain": [
       "<matplotlib.figure.Figure at 0x2ccd458aa90>"
      ]
     },
     "metadata": {},
     "output_type": "display_data"
    },
    {
     "name": "stdout",
     "output_type": "stream",
     "text": [
      "0.214508059049 Dev2/ai0\n"
     ]
    },
    {
     "data": {
      "image/png": "[encoded data removed]",
      "text/plain": [
       "<matplotlib.figure.Figure at 0x2ccd45f3cf8>"
      ]
     },
     "metadata": {},
     "output_type": "display_data"
    },
    {
     "name": "stdout",
     "output_type": "stream",
     "text": [
      "0.19214992763 Dev2/ai0\n"
     ]
    },
    {
     "data": {
      "image/png": "[encoded data removed]",
      "text/plain": [
       "<matplotlib.figure.Figure at 0x2ccd3f99ac8>"
      ]
     },
     "metadata": {},
     "output_type": "display_data"
    },
    {
     "name": "stdout",
     "output_type": "stream",
     "text": [
      "0.262140419968 Dev2/ai0\n"
     ]
    },
    {
     "data": {
      "image/png": "[encoded data removed]",
      "text/plain": [
       "<matplotlib.figure.Figure at 0x2ccd5e0f240>"
      ]
     },
     "metadata": {},
     "output_type": "display_data"
    },
    {
     "name": "stdout",
     "output_type": "stream",
     "text": [
      "0.330510736999 Dev2/ai0\n"
     ]
    },
    {
     "data": {
      "image/png": "[encoded data removed]",
      "text/plain": [
       "<matplotlib.figure.Figure at 0x2ccd5e06f60>"
      ]
     },
     "metadata": {},
     "output_type": "display_data"
    },
    {
     "name": "stdout",
     "output_type": "stream",
     "text": [
      "time out\n",
      "now quitting loop\n"
     ]
    }
   ],
   "source": [
    "while msvcrt.kbhit():\n",
    "    msvcrt.getch()\n",
    "    print('clearing characters ...')\n",
    "\n",
    "# instantiate\n",
    "procR = processAndReward(reward1 = False, reward2 = True, saveDirectory = \"C:\\\\Users\\\\Combes4\\\\Desktop\\\\temp3\\\\\")\n",
    "\n",
    "# start timer\n",
    "\n",
    "timeOUT = 5.0 * 60 # seconds\n",
    "close = False\n",
    "\n",
    "\n",
    "while(True):\n",
    "    procR.procReward()\n",
    "\n",
    "    # break loop if someone presses the 'q' while in terminal\n",
    "    if msvcrt.kbhit():\n",
    "        if msvcrt.getch() == b'q':\n",
    "            close = True\n",
    "            print(\"keyboard q pressed\")\n",
    "            \n",
    "    elif (time.time() - procR.LastVisitTime  > timeOUT):\n",
    "        close = True\n",
    "        print(\"time out\")\n",
    "        \n",
    "    elif (procR.rewardCounter >= 100):\n",
    "        close = True\n",
    "        print(\"reached 100 rewards\")\n",
    "        \n",
    "    if close:\n",
    "        procR.f.close()\n",
    "        print('now quitting loop')\n",
    "        for i in range(5):\n",
    "            winsound.Beep(450,100)\n",
    "        break\n",
    "        \n",
    "       \n",
    "       "
   ]
  },
  {
   "cell_type": "code",
   "execution_count": 245,
   "metadata": {
    "collapsed": false
   },
   "outputs": [
    {
     "name": "stdout",
     "output_type": "stream",
     "text": [
      "C:\\Users\\Combes4\\Desktop\\temp3\\2018_02_07__16_03_59_121.csv\n",
      "reward1False_reward2True\n"
     ]
    }
   ],
   "source": [
    "print(procR.f.name)\n",
    "print(\"reward1\" + str(procR.reward1) + \"_reward2\" + str( procR.reward2))\n"
   ]
  },
  {
   "cell_type": "code",
   "execution_count": 246,
   "metadata": {
    "collapsed": false
   },
   "outputs": [
    {
     "data": {
      "text/html": [
       "<div>\n",
       "<style>\n",
       "    .dataframe thead tr:only-child th {\n",
       "        text-align: right;\n",
       "    }\n",
       "\n",
       "    .dataframe thead th {\n",
       "        text-align: left;\n",
       "    }\n",
       "\n",
       "    .dataframe tbody tr th {\n",
       "        vertical-align: top;\n",
       "    }\n",
       "</style>\n",
       "<table border=\"1\" class=\"dataframe\">\n",
       "  <thead>\n",
       "    <tr style=\"text-align: right;\">\n",
       "      <th></th>\n",
       "      <th>Amp_V</th>\n",
       "      <th>freq_Hz</th>\n",
       "      <th>accNum</th>\n",
       "      <th>rewardStatus</th>\n",
       "      <th>timestamp</th>\n",
       "      <th>treatment</th>\n",
       "      <th>colonyNum</th>\n",
       "      <th>ITSpan_mm</th>\n",
       "      <th>Notes</th>\n",
       "    </tr>\n",
       "  </thead>\n",
       "  <tbody>\n",
       "    <tr>\n",
       "      <th>0</th>\n",
       "      <td>0.245620</td>\n",
       "      <td>300.0</td>\n",
       "      <td>Dev2/ai0</td>\n",
       "      <td>False</td>\n",
       "      <td>2018_02_07__16_07_38_190</td>\n",
       "      <td>Dev2/ai0_False__Dev2/ai1_True</td>\n",
       "      <td>2</td>\n",
       "      <td>4.46</td>\n",
       "      <td>NA</td>\n",
       "    </tr>\n",
       "    <tr>\n",
       "      <th>1</th>\n",
       "      <td>0.130262</td>\n",
       "      <td>320.0</td>\n",
       "      <td>Dev2/ai0</td>\n",
       "      <td>False</td>\n",
       "      <td>2018_02_07__16_07_39_077</td>\n",
       "      <td>Dev2/ai0_False__Dev2/ai1_True</td>\n",
       "      <td>2</td>\n",
       "      <td>4.46</td>\n",
       "      <td>NA</td>\n",
       "    </tr>\n",
       "    <tr>\n",
       "      <th>2</th>\n",
       "      <td>0.215483</td>\n",
       "      <td>380.0</td>\n",
       "      <td>Dev2/ai0</td>\n",
       "      <td>False</td>\n",
       "      <td>2018_02_07__16_07_39_977</td>\n",
       "      <td>Dev2/ai0_False__Dev2/ai1_True</td>\n",
       "      <td>2</td>\n",
       "      <td>4.46</td>\n",
       "      <td>NA</td>\n",
       "    </tr>\n",
       "    <tr>\n",
       "      <th>3</th>\n",
       "      <td>0.283527</td>\n",
       "      <td>350.0</td>\n",
       "      <td>Dev2/ai0</td>\n",
       "      <td>False</td>\n",
       "      <td>2018_02_07__16_07_55_715</td>\n",
       "      <td>Dev2/ai0_False__Dev2/ai1_True</td>\n",
       "      <td>2</td>\n",
       "      <td>4.46</td>\n",
       "      <td>NA</td>\n",
       "    </tr>\n",
       "    <tr>\n",
       "      <th>4</th>\n",
       "      <td>0.117947</td>\n",
       "      <td>340.0</td>\n",
       "      <td>Dev2/ai0</td>\n",
       "      <td>False</td>\n",
       "      <td>2018_02_07__16_07_56_614</td>\n",
       "      <td>Dev2/ai0_False__Dev2/ai1_True</td>\n",
       "      <td>2</td>\n",
       "      <td>4.46</td>\n",
       "      <td>NA</td>\n",
       "    </tr>\n",
       "  </tbody>\n",
       "</table>\n",
       "</div>"
      ],
      "text/plain": [
       "      Amp_V  freq_Hz    accNum  rewardStatus                 timestamp  \\\n",
       "0  0.245620    300.0  Dev2/ai0         False  2018_02_07__16_07_38_190   \n",
       "1  0.130262    320.0  Dev2/ai0         False  2018_02_07__16_07_39_077   \n",
       "2  0.215483    380.0  Dev2/ai0         False  2018_02_07__16_07_39_977   \n",
       "3  0.283527    350.0  Dev2/ai0         False  2018_02_07__16_07_55_715   \n",
       "4  0.117947    340.0  Dev2/ai0         False  2018_02_07__16_07_56_614   \n",
       "\n",
       "                       treatment  colonyNum  ITSpan_mm Notes  \n",
       "0  Dev2/ai0_False__Dev2/ai1_True          2       4.46    NA  \n",
       "1  Dev2/ai0_False__Dev2/ai1_True          2       4.46    NA  \n",
       "2  Dev2/ai0_False__Dev2/ai1_True          2       4.46    NA  \n",
       "3  Dev2/ai0_False__Dev2/ai1_True          2       4.46    NA  \n",
       "4  Dev2/ai0_False__Dev2/ai1_True          2       4.46    NA  "
      ]
     },
     "execution_count": 246,
     "metadata": {},
     "output_type": "execute_result"
    }
   ],
   "source": [
    "# post-processing add hive info\n",
    "# refref: add video info\n",
    "colonyNum = 2\n",
    "IT_span = 4.46 # in mm\n",
    "\n",
    "# add hive to csv file\n",
    "fname = procR.f.name\n",
    "#fname = \"C:\\\\Users\\\\Combes4\\\\Desktop\\\\temp3\\\\2018_01_29__16_06_39_075.csv\"\n",
    "\n",
    "csv_input = pd.read_csv(fname)\n",
    "csv_input['colonyNum'] = colonyNum\n",
    "csv_input['ITSpan_mm'] = IT_span\n",
    "csv_input['Notes'] = \"NA\"\n",
    "csv_input.to_csv(fname, index=False)\n",
    "csv_input.head()"
   ]
  },
  {
   "cell_type": "markdown",
   "metadata": {
    "collapsed": true
   },
   "source": [
    "--- END ---"
   ]
  },
  {
   "cell_type": "code",
   "execution_count": null,
   "metadata": {
    "collapsed": true
   },
   "outputs": [],
   "source": []
  },
  {
   "cell_type": "code",
   "execution_count": null,
   "metadata": {
    "collapsed": true
   },
   "outputs": [],
   "source": []
  },
  {
   "cell_type": "code",
   "execution_count": null,
   "metadata": {
    "collapsed": true
   },
   "outputs": [],
   "source": []
  },
  {
   "cell_type": "code",
   "execution_count": null,
   "metadata": {
    "collapsed": true
   },
   "outputs": [],
   "source": []
  },
  {
   "cell_type": "code",
   "execution_count": null,
   "metadata": {
    "collapsed": false
   },
   "outputs": [],
   "source": [
    "time.time() - startTime > timeoutTime"
   ]
  },
  {
   "cell_type": "code",
   "execution_count": null,
   "metadata": {
    "collapsed": false
   },
   "outputs": [],
   "source": [
    "procR.f.closed"
   ]
  },
  {
   "cell_type": "code",
   "execution_count": null,
   "metadata": {
    "collapsed": true
   },
   "outputs": [],
   "source": [
    "# refref try to start cameras asynchronously"
   ]
  },
  {
   "cell_type": "code",
   "execution_count": null,
   "metadata": {
    "collapsed": true
   },
   "outputs": [],
   "source": []
  },
  {
   "cell_type": "code",
   "execution_count": null,
   "metadata": {
    "collapsed": true
   },
   "outputs": [],
   "source": []
  },
  {
   "cell_type": "code",
   "execution_count": null,
   "metadata": {
    "collapsed": true
   },
   "outputs": [],
   "source": []
  },
  {
   "cell_type": "code",
   "execution_count": null,
   "metadata": {
    "collapsed": true
   },
   "outputs": [],
   "source": []
  },
  {
   "cell_type": "code",
   "execution_count": null,
   "metadata": {
    "collapsed": true
   },
   "outputs": [],
   "source": []
  },
  {
   "cell_type": "code",
   "execution_count": null,
   "metadata": {
    "collapsed": true
   },
   "outputs": [],
   "source": []
  },
  {
   "cell_type": "code",
   "execution_count": null,
   "metadata": {
    "collapsed": false
   },
   "outputs": [],
   "source": [
    "# close all files in directory\n",
    "saveDir = \"C:\\\\Users\\\\Combes4\\\\Desktop\\\\temp3\\\\\"\n",
    "os.listdir(saveDir)\n",
    "\n",
    "file_list = [os.path.join(saveDir + ii) for ii in os.listdir(saveDir)]\n",
    "file_list"
   ]
  },
  {
   "cell_type": "code",
   "execution_count": null,
   "metadata": {
    "collapsed": false
   },
   "outputs": [],
   "source": [
    "file_handles = []\n",
    "try:\n",
    "    for file in file_list:\n",
    "        file_handles.append(open(file))\n",
    "\n",
    "    # Do some calculations with open files\n",
    "\n",
    "finally:\n",
    "    for fh in file_handles:\n",
    "        fh.close()\n",
    "        print(fh.closed)"
   ]
  },
  {
   "cell_type": "code",
   "execution_count": null,
   "metadata": {
    "collapsed": false
   },
   "outputs": [],
   "source": [
    "ff = open('C:\\\\Users\\\\Combes4\\\\Desktop\\\\temp3\\\\2018_01_26__13_01_37_956.csv', 'a')\n",
    "ff.close()\n",
    "ff.closed"
   ]
  },
  {
   "cell_type": "code",
   "execution_count": null,
   "metadata": {
    "collapsed": true
   },
   "outputs": [],
   "source": [
    "procR = processAndReward(reward1 = True, reward2 = False, saveDirectory = \"C:\\\\Users\\\\Combes4\\\\Desktop\\\\temp3\\\\\")"
   ]
  },
  {
   "cell_type": "code",
   "execution_count": null,
   "metadata": {
    "collapsed": false
   },
   "outputs": [],
   "source": [
    "saveDirectory = \"C:\\\\Users\\\\Combes4\\\\Desktop\\\\temp3\\\\\"\n",
    "\n",
    "procR.saveAmpFreq(acc1)"
   ]
  },
  {
   "cell_type": "code",
   "execution_count": null,
   "metadata": {
    "collapsed": false
   },
   "outputs": [],
   "source": [
    "procR.f.close()"
   ]
  },
  {
   "cell_type": "code",
   "execution_count": null,
   "metadata": {
    "collapsed": true
   },
   "outputs": [],
   "source": []
  },
  {
   "cell_type": "code",
   "execution_count": null,
   "metadata": {
    "collapsed": false
   },
   "outputs": [],
   "source": [
    "saveDirectory = \"C:\\\\Users\\\\Combes4\\\\Desktop\\\\temp3\\\\\"\n",
    "f = open(saveDirectory + 'foo.txt', 'a')\n",
    "f.close()"
   ]
  },
  {
   "cell_type": "code",
   "execution_count": null,
   "metadata": {
    "collapsed": false
   },
   "outputs": [],
   "source": [
    "# instantiate\n",
    "procR = processAndReward()\n",
    "procR.procReward()"
   ]
  },
  {
   "cell_type": "code",
   "execution_count": null,
   "metadata": {
    "collapsed": true
   },
   "outputs": [],
   "source": [
    "## try multiprocessing"
   ]
  },
  {
   "cell_type": "code",
   "execution_count": null,
   "metadata": {
    "collapsed": true
   },
   "outputs": [],
   "source": [
    "import multiprocessing"
   ]
  },
  {
   "cell_type": "code",
   "execution_count": null,
   "metadata": {
    "collapsed": false
   },
   "outputs": [],
   "source": [
    "\n",
    "def f(x):\n",
    "    return x*x\n",
    "\n",
    "\n",
    "p = multiprocessing.Process(target=f, args=(1,2,3,34))\n",
    "p.start()"
   ]
  },
  {
   "cell_type": "code",
   "execution_count": null,
   "metadata": {
    "collapsed": true
   },
   "outputs": [],
   "source": [
    "from multiprocessing.dummy import Pool as ThreadPool"
   ]
  },
  {
   "cell_type": "code",
   "execution_count": null,
   "metadata": {
    "collapsed": false
   },
   "outputs": [],
   "source": [
    "# multiprocessing examples\n",
    "# looks like I can actually only read one acc at a time.\n",
    "\n",
    "x = [\"Dev2/ai0\",\"Dev2/ai1\"]\n",
    "\n",
    "def foo(ii): \n",
    "    tmp = accelDta(ii)\n",
    "    tmp.readAccel()\n",
    "pool = ThreadPool(2)\n",
    "start = time.time()\n",
    "results = pool.map(foo, x)\n",
    "print(\"4 thread pool took {} seconds\".format(time.time() - start))"
   ]
  },
  {
   "cell_type": "code",
   "execution_count": null,
   "metadata": {
    "collapsed": false
   },
   "outputs": [],
   "source": [
    "# compare to for loop\n",
    "start = time.time()\n",
    "for jj in x:\n",
    "    print(jj)\n",
    "    foo(jj)\n",
    "print(\"1 thread pool took {} seconds\".format(time.time() - start))"
   ]
  },
  {
   "cell_type": "code",
   "execution_count": null,
   "metadata": {
    "collapsed": false
   },
   "outputs": [],
   "source": [
    "foo('Dev2/ai1')"
   ]
  },
  {
   "cell_type": "code",
   "execution_count": null,
   "metadata": {
    "collapsed": true
   },
   "outputs": [],
   "source": []
  },
  {
   "cell_type": "code",
   "execution_count": null,
   "metadata": {
    "collapsed": true
   },
   "outputs": [],
   "source": []
  },
  {
   "cell_type": "code",
   "execution_count": null,
   "metadata": {
    "collapsed": true
   },
   "outputs": [],
   "source": []
  },
  {
   "cell_type": "code",
   "execution_count": null,
   "metadata": {
    "collapsed": true
   },
   "outputs": [],
   "source": []
  },
  {
   "cell_type": "code",
   "execution_count": null,
   "metadata": {
    "collapsed": true
   },
   "outputs": [],
   "source": []
  },
  {
   "cell_type": "code",
   "execution_count": null,
   "metadata": {
    "collapsed": true
   },
   "outputs": [],
   "source": []
  },
  {
   "cell_type": "code",
   "execution_count": null,
   "metadata": {
    "collapsed": true
   },
   "outputs": [],
   "source": []
  },
  {
   "cell_type": "code",
   "execution_count": null,
   "metadata": {
    "collapsed": false,
    "scrolled": true
   },
   "outputs": [],
   "source": [
    "# define function for recording and rewarding buzzes\n",
    "def recRew(ftestMin, ftestMax, trt):\n",
    "     \n",
    "        \n",
    "    aThr = [0,5]\n",
    "    \n",
    "    # loop to look for specific frequencies\n",
    "    fmin = 5.0\n",
    "    fmax = 520.0\n",
    "\n",
    "    counterAlarm = 50\n",
    "\n",
    "    peakFrq = np.array(0)\n",
    "    pwr = np.array(0)\n",
    "    pwrCutoff = 0.004 # lower amplitude cutoff\n",
    "    sleepTime = 0 # seconds\n",
    "\n",
    "    # make a continuously-sampling loop that will end if it gets a frequency of 280 Hz\n",
    "    # 100000 samples is one second\n",
    "    # Note: to get higher resolution for peak freq, I'd need a larger window\n",
    "    N_samples = 20000 \n",
    "    log_rate = 200000.0\n",
    "\n",
    "    ctr = 0\n",
    "    ctr2 = 0\n",
    "    \n",
    "    # start buzz timer\n",
    "    buzzTime = time.time()\n",
    "    \n",
    "    # open text file\n",
    "    with open(str(outDir)+ '_ampFreq.txt', 'a') as text_file:  \n",
    "\n",
    "        # clear characters waiting to be read\n",
    "        while msvcrt.kbhit():\n",
    "            msvcrt.getch()\n",
    "            print('clearing characters ...')\n",
    "\n",
    "        while ctr <= (2*counterAlarm - 1): # only give a max of 100 buzzes\n",
    "                \n",
    "            taskHandle = TaskHandle()\n",
    "            read = int32()\n",
    "            data = np.zeros((N_samples,), dtype=np.float64)\n",
    "\n",
    "            DAQmxCreateTask(\"\", byref(taskHandle))\n",
    "            # I have an piezoelectric accelerometer plugged into channel ai1 with range +/-10V\n",
    "            DAQmxCreateAIVoltageChan(taskHandle, \"Dev1/ai0\", \n",
    "                                     \"Accelerometer\", DAQmx_Val_Diff, \n",
    "                                     -10.0, 10.0, DAQmx_Val_Volts, None)\n",
    "            DAQmxCfgSampClkTiming(taskHandle, \"\", log_rate, \n",
    "                                  DAQmx_Val_Rising, \n",
    "                                  DAQmx_Val_FiniteSamps, N_samples)\n",
    "\n",
    "            DAQmxStartTask(taskHandle)\n",
    "            DAQmxReadAnalogF64(taskHandle, N_samples, 10.0, \n",
    "                               DAQmx_Val_GroupByChannel, data, \n",
    "                               N_samples, byref(read), None)\n",
    "\n",
    "            if taskHandle:\n",
    "                DAQmxStopTask(taskHandle);\n",
    "                DAQmxClearTask(taskHandle);\n",
    "\n",
    "            # 20fft\n",
    "            n =len(data) # length of the signal\n",
    "            k = np.arange(n, step = 1)\n",
    "            T = n/log_rate\n",
    "            frq = k/T # two sides frequency range\n",
    "            frq = frq[range(n/2)] # one side frequency range\n",
    "\n",
    "            Y = np.fft.fft(data)/n # fft computing and normalization\n",
    "            Y = Y[range(n/2)]\n",
    "\n",
    "            # calculate top frequency\n",
    "            ind = np.argpartition(abs(Y), -4)[-4:]\n",
    "            # Find highest point on the spectrum\n",
    "            peakFrq = frq[ind[::-1]]\n",
    "            pwr = (abs(Y)[ind[::-1]])\n",
    "            domPK = [x for (y,x) in sorted(zip(pwr,peakFrq), reverse = True)][0]\n",
    "\n",
    "            beeFrqPwr = pwr[peakFrq == domPK]\n",
    "            # print beeFrq in peakFrq, peakFrq[pwr == max(pwr)], beeFrqPwr, beeFrqPwr > 0.3\n",
    "\n",
    "            # if the bee is vibrating at a high enough power and the dominant peak from the \n",
    "            # vibration is in the right range\n",
    "            if beeFrqPwr > pwrCutoff and domPK > fmin and domPK < fmax:\n",
    "                buzzTime = time.time()\n",
    "                \n",
    "                reward = 'F'\n",
    "\n",
    "                aamp = np.max(data) - np.min(data)\n",
    "                # write value to serial port, and get it to start the turn on the motor\n",
    "                s3 = str(datetime.datetime.now().strftime(\"%Y_%m_%d__%H_%M_%S_%f\")[:-3]) # time with milliseconds\n",
    "                print(s3 + \" topFreq = \" + str(domPK) + \" amp = \" + str(aamp))\n",
    "\n",
    "                                \n",
    "                # take a photo and save it\n",
    "                im = fc2.Image()\n",
    "                c.retrieve_buffer(im)\n",
    "                a = np.array(im)\n",
    "                cv2.imwrite(os.getcwd() + '\\\\' + outDir + '\\\\' + s3 + '.pgm', a) # .pgm / ppm is quite fast, and can be read by imageJ\n",
    "                \n",
    "                \n",
    "                #print reward number\n",
    "                print('Counter Number ' + str(ctr))\n",
    "                \n",
    "                # reward only give pollen at specific frequencies and ampliude threshold\n",
    "                if domPK > ftestMin and domPK < ftestMax and (aThr[0] < aamp < aThr[1]):\n",
    "                                    \n",
    "                    ctr = ctr + 1\n",
    "                    \n",
    "                    if (trt == 1) and (ctr <= counterAlarm):\n",
    "                        written = ser1.write(\"20\")\n",
    "                        reward = 'T'\n",
    "                        \n",
    "                    if (trt == 2) and (ctr > counterAlarm):\n",
    "                        written = ser1.write(\"20\")\n",
    "                        reward = 'T'\n",
    "\n",
    "                    # beep for end of program\n",
    "                    if ctr > counterAlarm - 5:\n",
    "                        for i in range(counterAlarm - ctr):\n",
    "                            winsound.Beep(400,100)\n",
    "\n",
    "                    if ctr > counterAlarm:\n",
    "                        for i in range(counterAlarm - ctr):\n",
    "                            winsound.Beep(400,500)\n",
    "\n",
    "                ############################### PLOT ##################################\n",
    "                # create subplot 1\n",
    "                ax1 = plt.subplot(211)\n",
    "                ax1.plot(np.array(range(len(data)))/ float(log_rate), data)\n",
    "                ax1.set_ylabel(\"Volts\")\n",
    "                ax1.set_xlabel(\"time (s)\")\n",
    "                if reward == 'T':\n",
    "                    ax1.set_facecolor('grey')\n",
    "\n",
    "                # create subplot 2\n",
    "                ax2 = plt.subplot(212)\n",
    "                ax2.plot(frq,abs(Y),'r')\n",
    "                ax2.plot(domPK, beeFrqPwr, 'ro')\n",
    "                ax2.set_xlim(20, 1000)\n",
    "                ax2.set_ylabel('power')\n",
    "                ax2.set_xlabel('frequency')\n",
    "                plt.tight_layout()\n",
    "                plt.show()\n",
    "\n",
    "\n",
    "                #################### SAVE FILE FROM ACCEL ##############################\n",
    "                np.savetxt((os.getcwd() + '\\\\' + outDir + '\\\\' + s3 + '_' + str(ftestMin) + '_' + \n",
    "                           str(ftestMax) + '_' + str(aThr[0]) + '_' +  str(aThr[1]) + '.txt'), \n",
    "                           (np.array(range(len(data)))/ float(log_rate), data), delimiter = ' ')\n",
    "\n",
    "                ### write frequency and amplitude to file\n",
    "                var1 = (str(domPK) + ', ' + \n",
    "                           str(round(np.max(data) - np.min(data), 5)) + ', ' + \n",
    "                           s3 + ', ' + str(ctr) +', ' + str(reward) + \n",
    "                        ',' + str(aThr[0]) + \n",
    "                        ',' + str(aThr[1]) + '\\n')\n",
    "                text_file.writelines(var1)\n",
    "\n",
    "                # sleep\n",
    "                time.sleep(sleepTime)\n",
    "            \n",
    "            else:\n",
    "                #take a photo every 5 loops\n",
    "                # take a photo and save it\n",
    "                if ctr2 % 5 == 0:\n",
    "                    s4 = str(datetime.datetime.now().strftime(\"%Y_%m_%d__%H_%M_%S_%f\")[:-3]) # time with milliseconds\n",
    "                    im = fc2.Image()\n",
    "                    c.retrieve_buffer(im)\n",
    "                    a = np.array(im)\n",
    "                    cv2.imwrite(os.getcwd() + '\\\\' + outDir + '\\\\' + s4 + \"_bkg\" + '.pgm', a) # .pgm / ppm is quite fast, and can be read by imageJ\n",
    "\n",
    "                ctr2 += 1\n",
    "            \n",
    "\n",
    "            # break loop if someone presses the 'q' while in terminal\n",
    "            if msvcrt.kbhit():\n",
    "                if msvcrt.getch() == 'q':\n",
    "                    # disconnect camera \n",
    "                    c.stop_capture()\n",
    "                    c.disconnect()\n",
    "                    print('keyboard q pressed, now quitting loop')\n",
    "                    for i in range(5):\n",
    "                        winsound.Beep(450,100)\n",
    "                    break   \n",
    "                else:\n",
    "                    written = ser1.write(\"20\")\n",
    "            \n",
    "           # print(time.time() - buzzTime)\n",
    "            \n",
    "            # if bee goes for 5 minutes without buzzing, end the loop\n",
    "            if time.time() - buzzTime > (5.0 * 60):\n",
    "                # disconnect camera \n",
    "                c.stop_capture()\n",
    "                c.disconnect()\n",
    "                print('Bee Stopped buzzing, now quitting loop')\n",
    "                for i in range(5):\n",
    "                    winsound.Beep(450,100)\n",
    "                break   \n",
    "                    \n",
    "            ## move file to new folder at end of loop!\n",
    "\n",
    "    # make sound when loop stops\n",
    "    for i in range(3):\n",
    "        winsound.Beep(350,500)"
   ]
  },
  {
   "cell_type": "code",
   "execution_count": null,
   "metadata": {
    "collapsed": false
   },
   "outputs": [],
   "source": [
    "## reward amplitudes\n",
    "rewAAmp = \"test\" # test rewards at any amplitude and freq's between 220 and 450\n",
    "\n",
    "# change python directory to Dropbox\n",
    "os.chdir(\"C:\\\\Users\\Combes4\\Desktop\\Temp2\")\n",
    "os.getcwd()\n",
    "\n",
    "# make new directory with date, if it doesn't already exist\n",
    "outDir = (datetime.datetime.now().strftime(\"%Y_%m_%d__%H_%M_%S\"))\n",
    "#outDir = 'accelShake_009_05092016'\n",
    "\n",
    "if not os.path.isdir(os.getcwd() + '\\\\' + outDir):\n",
    "    os.mkdir(os.getcwd() + '\\\\' + outDir)\n",
    "    \n",
    "    print( 'new directory created: ' + str(outDir))\n",
    "else: print( 'directory exists: '  + str(outDir))\n",
    "\n",
    "print( \"the current python direcory is \" + str(os.getcwd()))\n",
    "                                                                                                                 \n",
    "# make new file\n",
    "open(str(outDir)+ '_ampFreq.txt', 'a').close()\n",
    "\n",
    "# start camera -- point grey Chameleon\n",
    "c = fc2.Camera()\n",
    "c.connect(bus.getCameraFromIndex(0))\n",
    "c.startCapture()\n",
    "\n",
    "# capture a background image (may be useful for image subtraction)\n",
    "im = grabImages(c, 1)\n",
    "im.save((os.getcwd() + '\\\\' + outDir + '\\\\' + \"fc2TestImage.png\").encode(\"utf-8\"), fc2.IMAGE_FILE_FORMAT.PNG)\n",
    "#cv_image = np.array(img.getData(), dtype=\"uint8\").reshape( (img.getRows(), img.getCols()) );\n",
    "\n",
    "#cv2.imwrite(os.getcwd() + '\\\\' + outDir + '\\\\' + 'background.pgm', a) \n",
    "\n",
    "# change treatment each trial (randomly)\n",
    "ttrt =99999 #int(np.random.choice([1,2], size = 1))\n",
    "print(ttrt)\n",
    "\n",
    "recRew(trt =ttrt, ftestMin=220, ftestMax =450)"
   ]
  },
  {
   "cell_type": "code",
   "execution_count": null,
   "metadata": {
    "collapsed": false
   },
   "outputs": [],
   "source": [
    "## make new folder and move files into that folder\n",
    "hhive = '8'\n",
    "ddate = (datetime.datetime.now().strftime(\"%Y_%m_%d\"))\n",
    "\n",
    "if 'bn' in globals():\n",
    "    bn += 1\n",
    "else:\n",
    "    bn = 282\n",
    "\n",
    "BeeNum = str(bn)\n",
    "\n",
    "\n",
    "\n",
    "if (ttrt == 2):\n",
    "    treatment = \"RewSec\"\n",
    "elif (ttrt == 1):\n",
    "    treatment = \"RewFir\"\n",
    "\n",
    "finFolder = 'B_' + BeeNum + '_' + ddate + '_H_'+  hhive + '_' + treatment\n",
    "\n",
    "# make new folder if it doesn't exist\n",
    "if not os.path.isdir(os.getcwd() + '\\\\' + finFolder):\n",
    "    os.mkdir(os.getcwd() + '\\\\' + finFolder)\n",
    "    \n",
    "    # move files into new folder\n",
    "    #os.rename(os.getcwd() + '\\\\' + outDir, os.getcwd() + '\\\\' + outDir +'\\\\' + finFolder)\n",
    "    os.rename(os.getcwd() + '\\\\' + outDir + '_ampFreq.txt', os.getcwd() + '\\\\' + finFolder + '\\\\' + outDir + '_ampFreq.txt')\n",
    "    \n",
    "    # move folder to new folder\n",
    "    src = os.getcwd() + '\\\\' + outDir\n",
    "    dst = os.getcwd() + '\\\\'  + finFolder + '\\\\'+ outDir\n",
    "    shutil.move(src, dst)\n",
    "    \n",
    "else: \n",
    "    print 'directory already exists'\n",
    "\n",
    "\n",
    "    \n",
    "# calculate mean frequency (only for rewarded buzzes)\n",
    "ff = os.getcwd() + '\\\\' + finFolder + '\\\\' + outDir + '_ampFreq.txt'\n",
    "dd = pd.read_csv(ff, header = None)\n",
    "\n",
    "print \"beeNum \" + str(bn)\n",
    "\n",
    "dd2 = dd[(dd.ix[:,0] > 220) & (dd.ix[:,0] < 450)]\n",
    "\n",
    "\n",
    "print \"total rewards\"\n",
    "print np.sum(np.array(dd2.ix[:,4]) == \" T\")\n",
    "\n",
    "# print \"total buzzes\"\n",
    "# print len(dd2)\n",
    "\n",
    "print \"mean Freq rewarded\"\n",
    "print np.mean(dd2.ix[:,0][dd2.ix[:,4] == \" T\"])\n",
    "\n",
    "print \"total buzzes not rewarded\"\n",
    "print np.sum(np.array(dd2.ix[:,4]) == \" F\")\n",
    "\n",
    "print \"mean Freq Unrewarded\"\n",
    "print np.mean(dd2.ix[:,0][dd2.ix[:,4] == \" F\"])\n",
    "\n",
    "# save metadata to file\n",
    "metadataFile = (datetime.datetime.now().strftime(\"%Y_%m_%d\")) + '_metadata.csv'\n",
    "\n",
    "# make new file if it doesn't exist (with header)\n",
    "if not os.path.isfile(metadataFile):\n",
    "    with open(metadataFile, 'a') as the_file:\n",
    "        the_file.write('timeOfTrial,beeNum,treatment,folder,totalRewards,meanFreqRewarded,totalBuzzesNotRewarded,meanFreqUnrewarded')\n",
    "        the_file.write('\\n')\n",
    "else: \n",
    "    print 'file already exists -- adding to file'\n",
    "\n",
    "# now write data to file                       \n",
    "with open(metadataFile, 'a') as the_file:\n",
    "    the_file.write(outDir + ',' + str(bn) + ','+\n",
    "                   treatment + ',' + \n",
    "                   finFolder + ',' + \n",
    "                   str(np.sum(np.array(dd2.ix[:,4]) == \" T\")) + ',' + \n",
    "                  str(np.mean(dd2.ix[:,0][dd2.ix[:,4] == \" T\"])) + ',' + \n",
    "                  str(np.sum(np.array(dd2.ix[:,4]) == \" F\")) + ',' +\n",
    "                  str(np.mean(dd2.ix[:,0][dd2.ix[:,4] == \" F\"]))\n",
    "                  )\n",
    "    the_file.write('\\n')                 \n"
   ]
  },
  {
   "cell_type": "code",
   "execution_count": null,
   "metadata": {
    "collapsed": true
   },
   "outputs": [],
   "source": []
  },
  {
   "cell_type": "code",
   "execution_count": null,
   "metadata": {
    "collapsed": true
   },
   "outputs": [],
   "source": []
  },
  {
   "cell_type": "code",
   "execution_count": null,
   "metadata": {
    "collapsed": true
   },
   "outputs": [],
   "source": []
  },
  {
   "cell_type": "code",
   "execution_count": null,
   "metadata": {
    "collapsed": true
   },
   "outputs": [],
   "source": []
  },
  {
   "cell_type": "code",
   "execution_count": null,
   "metadata": {
    "collapsed": true
   },
   "outputs": [],
   "source": []
  },
  {
   "cell_type": "code",
   "execution_count": null,
   "metadata": {
    "collapsed": true
   },
   "outputs": [],
   "source": []
  },
  {
   "cell_type": "code",
   "execution_count": null,
   "metadata": {
    "collapsed": false
   },
   "outputs": [],
   "source": [
    "# calculate mean frequency (only for rewarded buzzes)\n",
    "ff = os.getcwd() + '\\\\' + finFolder + '\\\\' + outDir + '_ampFreq.txt'\n",
    "dd = pd.read_csv(ff, header = None)\n",
    "\n",
    "print \"beeNum \" + str(bn)\n",
    "\n",
    "dd2 = dd[(dd.ix[:,0] > 220) & (dd.ix[:,0] < 450)]\n",
    "\n",
    "\n",
    "print \"total rewards\"\n",
    "print np.sum(np.array(dd2.ix[:,4]) == \" T\")\n",
    "\n",
    "# print \"total buzzes\"\n",
    "# print len(dd2)\n",
    "\n",
    "print \"mean Freq rewarded\"\n",
    "print np.mean(dd2.ix[:,0][dd2.ix[:,4] == \" T\"])\n",
    "\n",
    "print \"total buzzes not rewarded\"\n",
    "print np.sum(np.array(dd2.ix[:,4]) == \" F\")\n",
    "\n",
    "print \"mean Freq Unrewarded\"\n",
    "print np.mean(dd2.ix[:,0][dd2.ix[:,4] == \" F\"])\n",
    "\n",
    "# save metadata to file\n",
    "metadataFile = (datetime.datetime.now().strftime(\"%Y_%m_%d\")) + '_metadata.csv'\n",
    "\n",
    "# make new file if it doesn't exist (with header)\n",
    "if not os.path.isfile(metadataFile):\n",
    "    with open(metadataFile, 'a') as the_file:\n",
    "        the_file.write('timeOfTrial,beeNum,treatment,folder,totalRewards,meanFreqRewarded,totalBuzzesNotRewarded,meanFreqUnrewarded')\n",
    "        the_file.write('\\n')\n",
    "else: \n",
    "    print 'file already exists -- adding to file'\n",
    "\n",
    "# now write data to file                       \n",
    "with open(metadataFile, 'a') as the_file:\n",
    "    the_file.write(outDir + ',' + str(bn) + ','+\n",
    "                   treatment + ',' + \n",
    "                   finFolder + ',' + \n",
    "                   str(np.sum(np.array(dd2.ix[:,4]) == \" T\")) + ',' + \n",
    "                  str(np.mean(dd2.ix[:,0][dd2.ix[:,4] == \" T\"])) + ',' + \n",
    "                  str(np.sum(np.array(dd2.ix[:,4]) == \" F\")) + ',' +\n",
    "                  str(np.mean(dd2.ix[:,0][dd2.ix[:,4] == \" F\"]))\n",
    "                  )\n",
    "    the_file.write('\\n')                 \n"
   ]
  },
  {
   "cell_type": "code",
   "execution_count": null,
   "metadata": {
    "collapsed": true
   },
   "outputs": [],
   "source": []
  },
  {
   "cell_type": "code",
   "execution_count": null,
   "metadata": {
    "collapsed": true
   },
   "outputs": [],
   "source": []
  },
  {
   "cell_type": "code",
   "execution_count": null,
   "metadata": {
    "collapsed": true
   },
   "outputs": [],
   "source": []
  },
  {
   "cell_type": "code",
   "execution_count": null,
   "metadata": {
    "collapsed": true
   },
   "outputs": [],
   "source": []
  },
  {
   "cell_type": "code",
   "execution_count": null,
   "metadata": {
    "collapsed": false
   },
   "outputs": [],
   "source": [
    "print \"total rewards\"\n",
    "np.sum(np.array(dd2.ix[:,4]) == \" T\")"
   ]
  },
  {
   "cell_type": "code",
   "execution_count": null,
   "metadata": {
    "collapsed": false
   },
   "outputs": [],
   "source": [
    "print \"total buzzes\"\n",
    "len(dd2)"
   ]
  },
  {
   "cell_type": "code",
   "execution_count": null,
   "metadata": {
    "collapsed": false
   },
   "outputs": [],
   "source": [
    "plt.hist(np.array(dd2.ix[:,0]), bins = 20)"
   ]
  },
  {
   "cell_type": "code",
   "execution_count": null,
   "metadata": {
    "collapsed": false
   },
   "outputs": [],
   "source": [
    "np.array(dd2.ix[:,0])"
   ]
  },
  {
   "cell_type": "code",
   "execution_count": null,
   "metadata": {
    "collapsed": false
   },
   "outputs": [],
   "source": [
    "# get file list in directory\n",
    "fllist = os.listdir(os.getcwd() + '//' + outDir)\n",
    "\n",
    "fpth = [os.getcwd() + '//' + outDir + '//' + ii for ii in fllist]    \n",
    "\n",
    "sust = [os.access(kk, os.W_OK) for kk in fpth]\n",
    "\n",
    "print \"num read only files = \" + str( np.sum(not sust))\n"
   ]
  },
  {
   "cell_type": "code",
   "execution_count": null,
   "metadata": {
    "collapsed": true
   },
   "outputs": [],
   "source": []
  },
  {
   "cell_type": "code",
   "execution_count": null,
   "metadata": {
    "collapsed": true
   },
   "outputs": [],
   "source": []
  },
  {
   "cell_type": "code",
   "execution_count": null,
   "metadata": {
    "collapsed": true
   },
   "outputs": [],
   "source": []
  },
  {
   "cell_type": "code",
   "execution_count": null,
   "metadata": {
    "collapsed": true
   },
   "outputs": [],
   "source": []
  },
  {
   "cell_type": "code",
   "execution_count": null,
   "metadata": {
    "collapsed": true
   },
   "outputs": [],
   "source": []
  },
  {
   "cell_type": "code",
   "execution_count": null,
   "metadata": {
    "collapsed": true
   },
   "outputs": [],
   "source": []
  },
  {
   "cell_type": "code",
   "execution_count": null,
   "metadata": {
    "collapsed": false
   },
   "outputs": [],
   "source": [
    "print fc2.get_library_version()\n",
    "c = fc2.Context()\n",
    "print c\n",
    "print c.get_num_of_cameras()"
   ]
  },
  {
   "cell_type": "code",
   "execution_count": null,
   "metadata": {
    "collapsed": true
   },
   "outputs": [],
   "source": [
    "import shutil"
   ]
  },
  {
   "cell_type": "code",
   "execution_count": null,
   "metadata": {
    "collapsed": false
   },
   "outputs": [],
   "source": [
    "src = os.getcwd() + '\\\\' + outDir\n",
    "dst = os.getcwd() + '\\\\'  + finFolder + '\\\\'+ outDir\n",
    "shutil.move(src, dst)"
   ]
  },
  {
   "cell_type": "code",
   "execution_count": null,
   "metadata": {
    "collapsed": false
   },
   "outputs": [],
   "source": [
    "os.getcwd() + '\\\\' + outDir"
   ]
  },
  {
   "cell_type": "code",
   "execution_count": null,
   "metadata": {
    "collapsed": false
   },
   "outputs": [],
   "source": [
    "# make a continuously-sampling loop that will end if it gets a frequency of 280 Hz\n",
    "# 100000 samples is one second\n",
    "# Note: to get higher resolution for peak freq, I'd need a larger window\n",
    "N_samples = 20000 \n",
    "log_rate = 200000.0\n",
    "\n",
    "ctr = 0\n",
    "\n",
    "\n",
    "taskHandle = TaskHandle()\n",
    "read = int32()\n",
    "data = np.zeros((N_samples,), dtype=np.float64)\n",
    "\n",
    "DAQmxCreateTask(\"\", byref(taskHandle))\n",
    "# I have an piezoelectric accelerometer plugged into channel ai1 with range +/-10V\n",
    "DAQmxCreateAIVoltageChan(taskHandle, \"Dev1/ai0\", \n",
    "                         \"Accelerometer\", DAQmx_Val_Diff, \n",
    "                         -10.0, 10.0, DAQmx_Val_Volts, None)\n",
    "DAQmxCfgSampClkTiming(taskHandle, \"\", log_rate, \n",
    "                      DAQmx_Val_Rising, \n",
    "                      DAQmx_Val_FiniteSamps, N_samples)\n",
    "\n",
    "DAQmxStartTask(taskHandle)\n",
    "DAQmxReadAnalogF64(taskHandle, N_samples, 10.0, \n",
    "                   DAQmx_Val_GroupByChannel, data, \n",
    "                   N_samples, byref(read), None)\n",
    "\n",
    "if taskHandle:\n",
    "    DAQmxStopTask(taskHandle);\n",
    "    DAQmxClearTask(taskHandle);\n",
    "\n",
    "# fft\n",
    "n = len(data) # length of the signal\n",
    "k = np.arange(n)\n",
    "T = n/log_rate\n",
    "frq = k/T # two sides frequency range\n",
    "frq = frq[range(n/2)] # one side frequency range\n",
    "\n",
    "Y = np.fft.fft(data)/n # fft computing and normalization\n",
    "Y = Y[range(n/2)]\n",
    "\n",
    "# calculate top frequency\n",
    "ind = np.argpartition(abs(Y), -4)[-4:]\n",
    "# Find highest point on the spectrum\n",
    "peakFrq = frq[ind[::-1]]\n",
    "pwr = (abs(Y)[ind[::-1]])\n",
    "domPK = [x for (y,x) in sorted(zip(pwr,peakFrq), reverse = True)][0]\n",
    "\n",
    "beeFrqPwr = pwr[peakFrq == domPK]\n",
    "# print beeFrq in peakFrq, peakFrq[pwr == max(pwr)], beeFrqPwr, beeFrqPwr > 0.3\n",
    "\n",
    "# if the bee is vibrating at a high enough power and the dominant peak from the \n",
    "# vibration is in the right range\n",
    "\n",
    "reward = 'F'\n",
    "\n",
    "aamp = np.max(data) - np.min(data)\n",
    "# write value to serial port, and get it to start the turn on the motor\n",
    "s3 = str(datetime.datetime.now().strftime(\"%Y_%m_%d__%H_%M_%S_%f\")[:-3]) # time with milliseconds\n",
    "print(s3 + \" topFreq = \" + str(domPK) + \" amp = \" + str(aamp))\n",
    "\n",
    "# reward only give pollen at specific frequencies and ampliude threshold\n",
    "############################### PLOT ##################################\n",
    "# create subplot 1\n",
    "ax1 = plt.subplot(211)\n",
    "ax1.plot(np.array(range(len(data)))/ float(log_rate), data)\n",
    "ax1.set_ylabel(\"Volts\")\n",
    "ax1.set_xlabel(\"time (s)\")\n",
    "if reward == 'T':\n",
    "    ax1.set_facecolor('grey')\n",
    "\n",
    "# create subplot 2\n",
    "ax2 = plt.subplot(212)\n",
    "ax2.plot(frq,abs(Y),'r')\n",
    "ax2.plot(domPK, beeFrqPwr, 'ro')\n",
    "ax2.set_xlim(20, 1000)\n",
    "ax2.set_ylabel('power')\n",
    "ax2.set_xlabel('frequency')\n",
    "plt.tight_layout()\n",
    "plt.show()"
   ]
  },
  {
   "cell_type": "code",
   "execution_count": null,
   "metadata": {
    "collapsed": false
   },
   "outputs": [],
   "source": [
    "data"
   ]
  },
  {
   "cell_type": "code",
   "execution_count": null,
   "metadata": {
    "collapsed": true
   },
   "outputs": [],
   "source": [
    "# fft\n",
    "n = len(data) # length of the signal\n",
    "k = np.arange(n)\n",
    "T = n/log_rate\n",
    "frq = k/T # two sides frequency range\n",
    "frq = frq[range(n/2)] # one side frequency range\n",
    "\n",
    "Y = np.fft.fft(data)/n # fft computing and normalization"
   ]
  },
  {
   "cell_type": "code",
   "execution_count": null,
   "metadata": {
    "collapsed": true
   },
   "outputs": [],
   "source": [
    "Y = Y[range(n/2)]"
   ]
  },
  {
   "cell_type": "code",
   "execution_count": null,
   "metadata": {
    "collapsed": false
   },
   "outputs": [],
   "source": [
    "ps = np.abs(np.fft.fft(data))**2\n",
    "\n",
    "time_step = 1/100000000.0\n",
    "freqs = np.fft.fftfreq(data.size, time_step)\n",
    "idx = np.argsort(freqs)\n",
    "\n",
    "ax2 = plt.subplot(212)\n",
    "ax2.plot(freqs[idx] / 1000, ps[idx],'r')\n",
    "ax2.set_xlim(420, 450)"
   ]
  },
  {
   "cell_type": "code",
   "execution_count": null,
   "metadata": {
    "collapsed": false
   },
   "outputs": [],
   "source": [
    "freqs"
   ]
  },
  {
   "cell_type": "code",
   "execution_count": null,
   "metadata": {
    "collapsed": true
   },
   "outputs": [],
   "source": [
    "# calculate top frequency\n",
    "ind = np.argpartition(abs(Y), -4)[-4:]\n",
    "# Find highest point on the spectrum\n",
    "peakFrq = frq[ind[::-1]]\n",
    "pwr = (abs(Y)[ind[::-1]])\n",
    "domPK = [x for (y,x) in sorted(zip(pwr,peakFrq), reverse = True)][0]"
   ]
  },
  {
   "cell_type": "code",
   "execution_count": null,
   "metadata": {
    "collapsed": false
   },
   "outputs": [],
   "source": [
    "Y"
   ]
  },
  {
   "cell_type": "code",
   "execution_count": null,
   "metadata": {
    "collapsed": true
   },
   "outputs": [],
   "source": []
  },
  {
   "cell_type": "code",
   "execution_count": null,
   "metadata": {
    "collapsed": true
   },
   "outputs": [],
   "source": []
  },
  {
   "cell_type": "code",
   "execution_count": null,
   "metadata": {
    "collapsed": false
   },
   "outputs": [],
   "source": [
    "# change python directory to desktop\n",
    "os.chdir('C:\\\\Users\\\\Combes4\\\\Desktop\\\\')\n",
    "os.getcwd()\n",
    "\n",
    "# make new directory with date, if it doesn't already exist\n",
    "outDir = (datetime.datetime.now().strftime(\"%Y_%m_%d__%H_%M_%S\"))\n",
    "#outDir = 'accelShake_009_05092016'\n",
    "\n",
    "if not os.path.isdir(os.getcwd() + '\\\\' + outDir):\n",
    "    os.mkdir(os.getcwd() + '\\\\' + outDir)\n",
    "    print 'new directory created: ' + str(outDir)\n",
    "else: print 'directory exists: '  + str(outDir)\n",
    "\n",
    "print \"the current python direcory is \" + str(os.getcwd())\n",
    "\n",
    "# make new file\n",
    "open(str(outDir)+ '_ampFreq.txt', 'a').close()"
   ]
  },
  {
   "cell_type": "code",
   "execution_count": null,
   "metadata": {
    "collapsed": true
   },
   "outputs": [],
   "source": []
  },
  {
   "cell_type": "code",
   "execution_count": null,
   "metadata": {
    "collapsed": false
   },
   "outputs": [],
   "source": [
    "# change python directory to desktop\n",
    "os.chdir('C:\\\\Users\\\\Combes4\\\\Desktop\\\\')                    \n",
    "os.getcwd()\n",
    "\n",
    "# make new directory with date, if it doesn't already exist\n",
    "outDir = (datetime.datetime.now().strftime(\"%Y_%m_%d__%H_%M_%S\"))\n",
    "#outDir = 'accelShake_009_05092016'\n",
    "\n",
    "if not os.path.isdir(os.getcwd() + '\\\\' + outDir):\n",
    "    os.mkdir(os.getcwd() + '\\\\' + outDir)\n",
    "    print 'new directory created: ' + str(outDir)\n",
    "else: print 'directory exists: '  + str(outDir)\n",
    "\n",
    "print \"the current python direcory is \" + str(os.getcwd())\n",
    "\n",
    "\n",
    "## alternative, increasing amplitude version\n",
    "\n",
    "# loop to look for specific frequencies\n",
    "fmin =5\n",
    "fmax = 450\n",
    "\n",
    "ftestMin = 220\n",
    "ftestMax = 450\n",
    "\n",
    "ampThresh = 0.0\n",
    "\n",
    "counterAlarm = 30\n",
    "\n",
    "peakFrq = np.array(0)\n",
    "pwr = np.array(0)\n",
    "pwrCutoff = 0.004\n",
    "sleepTime = 0 # seconds\n",
    "\n",
    "# make a continuously-sampling loop that will end if it gets a frequency of 280 Hz\n",
    "# 100000 samples is one second\n",
    "# Note: to get higher resolution for peak freq, I'd need a larger window\n",
    "N_samples = 10000 \n",
    "log_rate = 100000.0\n",
    "\n",
    "ctr = 0\n",
    "\n",
    "# open text file\n",
    "with open(str(outDir)+ '_ampFreq.txt', 'a') as text_file:  \n",
    "\n",
    "    # clear characters waiting to be read\n",
    "    while msvcrt.kbhit():\n",
    "        msvcrt.getch()\n",
    "        print 'clearing characters ...'\n",
    "\n",
    "    while True:\n",
    "        taskHandle = TaskHandle()\n",
    "        read = int32()\n",
    "        data = np.zeros((N_samples,), dtype=np.float64)\n",
    "\n",
    "        DAQmxCreateTask(\"\", byref(taskHandle))\n",
    "        # I have an piezoelectric accelerometer plugged into channel ai1 with range +/-10V\n",
    "        DAQmxCreateAIVoltageChan(taskHandle, \"Dev1/ai0\", \n",
    "                                 \"Accelerometer\", DAQmx_Val_Diff, \n",
    "                                 -10.0, 10.0, DAQmx_Val_Volts, None)\n",
    "        DAQmxCfgSampClkTiming(taskHandle, \"\", log_rate, \n",
    "                              DAQmx_Val_Rising, \n",
    "                              DAQmx_Val_FiniteSamps, N_samples)\n",
    "\n",
    "        DAQmxStartTask(taskHandle)\n",
    "        DAQmxReadAnalogF64(taskHandle, N_samples, 10.0, \n",
    "                           DAQmx_Val_GroupByChannel, data, \n",
    "                           N_samples, byref(read), None)\n",
    "\n",
    "        if taskHandle:\n",
    "            DAQmxStopTask(taskHandle);\n",
    "            DAQmxClearTask(taskHandle);\n",
    "\n",
    "        # fft\n",
    "        n = len(data) # length of the signal\n",
    "        k = np.arange(n)\n",
    "        T = n/log_rate\n",
    "        frq = k/T # two sides frequency range\n",
    "        frq = frq[range(n/2)] # one side frequency range\n",
    "\n",
    "        Y = np.fft.fft(data)/n # fft computing and normalization\n",
    "        Y = Y[range(n/2)]\n",
    "\n",
    "        # calculate top frequency\n",
    "        ind = np.argpartition(abs(Y), -4)[-4:]\n",
    "        # Find highest point on the spectrum\n",
    "        peakFrq = frq[ind[::-1]]\n",
    "        pwr = (abs(Y)[ind[::-1]])\n",
    "        domPK = [x for (y,x) in sorted(zip(pwr,peakFrq), reverse = True)][0]\n",
    "\n",
    "        beeFrqPwr = pwr[peakFrq == domPK]\n",
    "        # print beeFrq in peakFrq, peakFrq[pwr == max(pwr)], beeFrqPwr, beeFrqPwr > 0.3\n",
    "\n",
    "        # if the bee is vibrating at a high enough power and the dominant peak from the \n",
    "        # vibration is in the right range\n",
    "        if beeFrqPwr > pwrCutoff and domPK > fmin and domPK < fmax:\n",
    "            reward = 'F'\n",
    "            \n",
    "            aamp = np.max(data) - np.min(data)\n",
    "            # write value to serial port, and get it to start the turn on the motor\n",
    "            s3 = str(datetime.datetime.now().strftime(\"%Y_%m_%d__%H_%M_%S_%f\")[:-3]) # time with milliseconds\n",
    "            print(s3 + \" topFreq = \" + str(domPK) + \" amp = \" + str(aamp))\n",
    "            \n",
    "            # reward only give pollen at specific frequencies and ampliude threshold\n",
    "            if domPK > ftestMin and domPK < ftestMax and aamp > ampThresh:\n",
    "                written = ser1.write(\"20\")\n",
    "                ctr = ctr + 1\n",
    "                print('reward ' + str(ctr))\n",
    "                reward = 'T'\n",
    "                ampThresh = ampThresh + 0.02\n",
    "                \n",
    "                # beep for end of program\n",
    "                if ctr > counterAlarm - 5:\n",
    "                    for i in range(counterAlarm - ctr):\n",
    "                        winsound.Beep(400,100)\n",
    "\n",
    "                if ctr > counterAlarm:\n",
    "                    for i in range(counterAlarm - ctr):\n",
    "                        winsound.Beep(400,500)\n",
    "\n",
    "            ############################### PLOT ##################################\n",
    "            # create subplot 1\n",
    "            ax1 = plt.subplot(211)\n",
    "            ax1.plot(np.array(range(len(data)))/ float(log_rate), data)\n",
    "            ax1.set_ylabel(\"Volts\")\n",
    "            ax1.set_xlabel(\"time (s)\")\n",
    "\n",
    "            # create subplot 2\n",
    "            ax2 = plt.subplot(212)\n",
    "            ax2.plot(frq,abs(Y),'r')\n",
    "            ax2.plot(domPK, beeFrqPwr, 'ro')\n",
    "            ax2.set_xlim(20, 1000)\n",
    "            ax2.set_ylabel('power')\n",
    "            ax2.set_xlabel('frequency')\n",
    "            plt.tight_layout()\n",
    "            plt.show()\n",
    "\n",
    "\n",
    "            #################### SAVE FILE FROM ACCEL ##############################\n",
    "            np.savetxt(os.getcwd() + '\\\\' + outDir + '\\\\' + s3+ '_' + str(ftestMin) + '_' + str(ftestMax) + '.txt', \n",
    "                       (np.array(range(len(data)))/ float(log_rate), data), delimiter = ' ')\n",
    "\n",
    "            ### write frequency and amplitude to file on desktop\n",
    "            var1 = str(domPK) + ', ' + str(round(np.max(data) - np.min(data), 5)) + ', ' + s3 + ', ' + str(ctr) +', ' + str(reward) + ', '+ str(ampThresh) + '\\n'\n",
    "            text_file.writelines(var1)\n",
    "\n",
    "            # sleep\n",
    "            time.sleep(sleepTime)\n",
    "            \n",
    "           \n",
    "\n",
    "        # break loop if someone presses the 'q' while in terminal\n",
    "        if msvcrt.kbhit():\n",
    "            if msvcrt.getch() == 'q':\n",
    "                print 'keyboard q pressed, now quitting loop'\n",
    "                for i in range(5):\n",
    "                    winsound.Beep(450,100)\n",
    "                break   \n",
    "            else:\n",
    "                written = ser1.write(\"20\")\n"
   ]
  },
  {
   "cell_type": "code",
   "execution_count": null,
   "metadata": {
    "collapsed": true
   },
   "outputs": [],
   "source": [
    "import random"
   ]
  },
  {
   "cell_type": "code",
   "execution_count": null,
   "metadata": {
    "collapsed": false
   },
   "outputs": [],
   "source": [
    "random.sample(np.arange(1,5),4)"
   ]
  },
  {
   "cell_type": "code",
   "execution_count": null,
   "metadata": {
    "collapsed": true
   },
   "outputs": [],
   "source": []
  }
 ],
 "metadata": {
  "kernelspec": {
   "display_name": "pyfly35",
   "language": "python",
   "name": "python3_5_pyfly"
  },
  "language_info": {
   "codemirror_mode": {
    "name": "ipython",
    "version": 3
   },
   "file_extension": ".py",
   "mimetype": "text/x-python",
   "name": "python",
   "nbconvert_exporter": "python",
   "pygments_lexer": "ipython3",
   "version": "3.5.4"
  }
 },
 "nbformat": 4,
 "nbformat_minor": 0
}
