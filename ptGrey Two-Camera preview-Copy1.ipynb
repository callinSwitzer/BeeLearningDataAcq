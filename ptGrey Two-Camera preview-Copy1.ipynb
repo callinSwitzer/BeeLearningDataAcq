{
 "cells": [
  {
   "cell_type": "code",
   "execution_count": 1,
   "metadata": {
    "collapsed": true
   },
   "outputs": [],
   "source": [
    "## Callin Switzer\n",
    "## 2 Nov 2017\n",
    "## Capture Images from pt grey camera"
   ]
  },
  {
   "cell_type": "code",
   "execution_count": 2,
   "metadata": {
    "collapsed": false
   },
   "outputs": [],
   "source": [
    "# setup arduino\n",
    "% matplotlib inline\n",
    "import matplotlib.pyplot as plt\n",
    "import numpy as np\n",
    "import cv2\n",
    "\n",
    "import datetime\n",
    "\n",
    "import PyCapture2 as fc2\n",
    "import sys\n",
    "\n",
    "import time\n",
    "\n",
    "import os\n",
    "import peakutils \n",
    "import msvcrt\n",
    "import winsound\n",
    "import shutil\n",
    "import pandas as pd\n",
    "\n",
    "import skimage.io as io"
   ]
  },
  {
   "cell_type": "code",
   "execution_count": 3,
   "metadata": {
    "collapsed": false
   },
   "outputs": [
    {
     "name": "stdout",
     "output_type": "stream",
     "text": [
      "last update: 2017-11-14 09:45:42.878747\n"
     ]
    }
   ],
   "source": [
    "print(\"last update: \"  +  str(datetime.datetime.now()))"
   ]
  },
  {
   "cell_type": "code",
   "execution_count": 4,
   "metadata": {
    "collapsed": false
   },
   "outputs": [
    {
     "name": "stdout",
     "output_type": "stream",
     "text": [
      "Number of cameras detected:  2\n"
     ]
    }
   ],
   "source": [
    "# capture image with point grey camera\n",
    "bus = fc2.BusManager()\n",
    "numCams = bus.getNumOfCameras()\n",
    "print(\"Number of cameras detected: \", numCams)\n",
    "if not numCams:\n",
    "    print(\"Insufficient number of cameras. Exiting...\")\n",
    "    exit()"
   ]
  },
  {
   "cell_type": "code",
   "execution_count": 5,
   "metadata": {
    "collapsed": false
   },
   "outputs": [],
   "source": [
    "def enableEmbeddedTimeStamp(cam, enableTimeStamp):\n",
    "    embeddedInfo = cam.getEmbeddedImageInfo()\n",
    "    if embeddedInfo.available.timestamp:\n",
    "        cam.setEmbeddedImageInfo(timestamp = enableTimeStamp)\n",
    "        if(enableTimeStamp):\n",
    "            print(\"\\nTimeStamp is enabled.\\n\")\n",
    "        else:\n",
    "            print(\"\\nTimeStamp is disabled.\\n\")"
   ]
  },
  {
   "cell_type": "code",
   "execution_count": 6,
   "metadata": {
    "collapsed": true
   },
   "outputs": [],
   "source": [
    "%qtconsole# Select camera on 0th index\n"
   ]
  },
  {
   "cell_type": "code",
   "execution_count": 7,
   "metadata": {
    "collapsed": false
   },
   "outputs": [],
   "source": [
    "def printCameraInfo(cam):\n",
    "    camInfo = cam.getCameraInfo()\n",
    "    print(\"\\n*** CAMERA INFORMATION ***\\n\")\n",
    "    print(\"Serial number - \", camInfo.serialNumber)\n",
    "    print(\"Camera model - \", camInfo.modelName)\n",
    "    print(\"Camera vendor - \", camInfo.vendorName)\n",
    "    print(\"Sensor - \", camInfo.sensorInfo)\n",
    "    print(\"Resolution - \", camInfo.sensorResolution)\n",
    "    print(\"Firmware version - \", camInfo.firmwareVersion)\n",
    "    print(\"Firmware build time - \", camInfo.firmwareBuildTime)\n",
    "    print()"
   ]
  },
  {
   "cell_type": "code",
   "execution_count": 8,
   "metadata": {
    "collapsed": false
   },
   "outputs": [
    {
     "name": "stdout",
     "output_type": "stream",
     "text": [
      "\n",
      "*** CAMERA INFORMATION ***\n",
      "\n",
      "Serial number -  16061221\n",
      "Camera model -  b'Chameleon3 CM3-U3-13Y3C'\n",
      "Camera vendor -  b'Point Grey Research'\n",
      "Sensor -  b'OnSemi PYTHON1300 (1/2\" Color CMOS)'\n",
      "Resolution -  b'1280x1024'\n",
      "Firmware version -  b'1.9.3.0'\n",
      "Firmware build time -  b'Mon Jul 27 20:45:52 2015'\n",
      "\n",
      "\n",
      "*** CAMERA INFORMATION ***\n",
      "\n",
      "Serial number -  16060682\n",
      "Camera model -  b'Chameleon3 CM3-U3-13Y3C'\n",
      "Camera vendor -  b'Point Grey Research'\n",
      "Sensor -  b'OnSemi PYTHON1300 (1/2\" Color CMOS)'\n",
      "Resolution -  b'1280x1024'\n",
      "Firmware version -  b'1.9.3.0'\n",
      "Firmware build time -  b'Mon Jul 27 20:45:52 2015'\n",
      "\n"
     ]
    }
   ],
   "source": [
    "c = fc2.Camera()\n",
    "c.connect(bus.getCameraFromIndex(0))\n",
    "printCameraInfo(c)\n",
    "\n",
    "d = fc2.Camera()\n",
    "d.connect(bus.getCameraFromIndex(1))\n",
    "printCameraInfo(d)"
   ]
  },
  {
   "cell_type": "code",
   "execution_count": 9,
   "metadata": {
    "collapsed": true
   },
   "outputs": [],
   "source": [
    "def img2array(image):\n",
    "    return(np.array(image.getData(), dtype=\"uint8\").reshape( (image.getRows(), image.getCols()) ))"
   ]
  },
  {
   "cell_type": "code",
   "execution_count": 10,
   "metadata": {
    "collapsed": false
   },
   "outputs": [],
   "source": [
    "# display images via live preview\n",
    "\n",
    "def livePreview2():\n",
    "    cv2.namedWindow('image',cv2.WINDOW_NORMAL)\n",
    "    cv2.resizeWindow('image', 1000,800)\n",
    "    while(True):\n",
    "        stt = time.time()\n",
    "        # Capture frame-by-frame\n",
    "        image = c.retrieveBuffer()\n",
    "        image2 = d.retrieveBuffer()\n",
    "        img = np.concatenate((img2array(image), img2array(image2)), axis = 1)\n",
    "\n",
    "        # Our operations on the frame come here\n",
    "        #gray = cv2.cvtColor(frame, cv2.COLOR_BGR2GRAY)\n",
    "\n",
    "        # Display the resulting frame\n",
    "        cv2.imshow('image', img)\n",
    "        \n",
    "        print(time.time() - stt)\n",
    "\n",
    "        # break when \"q\" is pressed on keyboard\n",
    "        if cv2.waitKey(1) & 0xFF == ord('q'):\n",
    "            for jj in range(10):\n",
    "                cv2.destroyAllWindows()\n",
    "            break\n",
    "\n"
   ]
  },
  {
   "cell_type": "code",
   "execution_count": 11,
   "metadata": {
    "collapsed": true
   },
   "outputs": [],
   "source": [
    "c = fc2.Camera()\n",
    "c.connect(bus.getCameraFromIndex(0))\n",
    "c.startCapture()\n",
    "\n",
    "d = fc2.Camera()\n",
    "d.connect(bus.getCameraFromIndex(1))\n",
    "d.startCapture()"
   ]
  },
  {
   "cell_type": "code",
   "execution_count": 12,
   "metadata": {
    "collapsed": false
   },
   "outputs": [
    {
     "name": "stdout",
     "output_type": "stream",
     "text": [
      "37.74676012992859\n",
      "0.27918577194213867\n",
      "0.2742135524749756\n",
      "0.269209623336792\n",
      "0.26667308807373047\n",
      "0.27221179008483887\n",
      "0.263185977935791\n",
      "0.26868772506713867\n",
      "0.2691922187805176\n",
      "0.2731919288635254\n",
      "0.2681865692138672\n",
      "0.26969242095947266\n",
      "0.2712075710296631\n",
      "0.27020978927612305\n",
      "0.26919078826904297\n",
      "0.26569056510925293\n",
      "0.27469682693481445\n",
      "0.2741973400115967\n",
      "0.2781987190246582\n",
      "0.2832005023956299\n",
      "0.2737092971801758\n",
      "0.2762134075164795\n",
      "0.2732093334197998\n",
      "0.2807178497314453\n",
      "0.2772490978240967\n",
      "0.27419137954711914\n",
      "0.2787485122680664\n",
      "0.2801990509033203\n",
      "0.2836933135986328\n",
      "0.27671360969543457\n",
      "0.2766110897064209\n",
      "0.28122591972351074\n",
      "0.2986929416656494\n",
      "0.3052182197570801\n",
      "0.2822256088256836\n",
      "0.48234081268310547\n",
      "0.4197988510131836\n",
      "0.3367435932159424\n",
      "0.2787008285522461\n",
      "0.30022644996643066\n",
      "0.44085073471069336\n",
      "0.34124279022216797\n",
      "0.2826986312866211\n",
      "0.2922477722167969\n",
      "0.2801833152770996\n",
      "0.28671741485595703\n",
      "0.2746741771697998\n",
      "0.2706923484802246\n",
      "0.32622671127319336\n",
      "0.2681906223297119\n",
      "0.28370094299316406\n",
      "0.28420019149780273\n",
      "0.2922062873840332\n",
      "0.2952098846435547\n",
      "0.3362386226654053\n",
      "0.27369141578674316\n",
      "0.267688512802124\n",
      "0.29070448875427246\n",
      "0.29420948028564453\n",
      "0.2787010669708252\n",
      "0.32125067710876465\n",
      "0.3977842330932617\n",
      "0.30972981452941895\n",
      "0.41079163551330566\n",
      "0.3487529754638672\n",
      "0.2942080497741699\n",
      "0.2781963348388672\n",
      "0.2937455177307129\n",
      "0.2981863021850586\n",
      "0.28670454025268555\n",
      "0.2806994915008545\n",
      "0.2832176685333252\n",
      "0.2691771984100342\n",
      "0.2686727046966553\n",
      "0.27219343185424805\n",
      "0.2661879062652588\n",
      "0.2681725025177002\n",
      "0.26769471168518066\n",
      "0.27219486236572266\n",
      "0.2691788673400879\n",
      "0.2681901454925537\n",
      "0.3327174186706543\n",
      "0.26969242095947266\n",
      "0.26692938804626465\n",
      "0.2686913013458252\n",
      "0.2726747989654541\n",
      "0.2706921100616455\n",
      "0.27019190788269043\n",
      "0.2742440700531006\n",
      "0.27268266677856445\n",
      "0.2696800231933594\n",
      "0.26668882369995117\n",
      "0.27519655227661133\n",
      "0.2781977653503418\n",
      "0.28670334815979004\n",
      "0.30052781105041504\n",
      "0.2856447696685791\n",
      "0.39428019523620605\n",
      "0.33724260330200195\n",
      "0.3062262535095215\n",
      "0.30469799041748047\n",
      "0.3097188472747803\n",
      "0.31072282791137695\n",
      "0.3112027645111084\n",
      "0.3142426013946533\n",
      "0.31520605087280273\n",
      "0.31522107124328613\n",
      "0.3076651096343994\n",
      "0.316206693649292\n",
      "0.3042166233062744\n",
      "0.31224822998046875\n",
      "0.31624293327331543\n",
      "0.31670713424682617\n",
      "0.3057363033294678\n",
      "0.3027312755584717\n",
      "0.30123257637023926\n",
      "0.30521655082702637\n",
      "0.30873775482177734\n",
      "0.2977118492126465\n",
      "0.3052489757537842\n",
      "0.3127410411834717\n",
      "0.30071282386779785\n",
      "0.30922651290893555\n",
      "0.3072361946105957\n",
      "0.31523990631103516\n",
      "0.3072190284729004\n",
      "0.3047187328338623\n",
      "0.30571579933166504\n",
      "0.30821943283081055\n",
      "0.30570149421691895\n",
      "0.30421876907348633\n",
      "0.3042011260986328\n",
      "0.3072168827056885\n",
      "0.3087193965911865\n",
      "0.30371665954589844\n",
      "0.2982301712036133\n",
      "0.309215784072876\n",
      "0.2977123260498047\n",
      "0.30020856857299805\n",
      "0.311734676361084\n",
      "0.30823564529418945\n",
      "0.30121374130249023\n",
      "0.29570794105529785\n",
      "0.3157069683074951\n",
      "0.3137228488922119\n",
      "0.3087198734283447\n",
      "0.38027143478393555\n",
      "0.31473445892333984\n",
      "0.36275672912597656\n",
      "0.3332371711730957\n",
      "0.3799765110015869\n",
      "0.3527510166168213\n",
      "0.34224414825439453\n",
      "0.304213285446167\n"
     ]
    }
   ],
   "source": [
    "livePreview2()"
   ]
  },
  {
   "cell_type": "code",
   "execution_count": 13,
   "metadata": {
    "collapsed": false
   },
   "outputs": [],
   "source": [
    "# When everything done, release the capture\n",
    "c.stopCapture()\n",
    "c.disconnect()\n",
    "\n",
    "d.stopCapture()\n",
    "d.disconnect()\n",
    "cv2.destroyAllWindows()"
   ]
  },
  {
   "cell_type": "code",
   "execution_count": null,
   "metadata": {
    "collapsed": true
   },
   "outputs": [],
   "source": []
  },
  {
   "cell_type": "code",
   "execution_count": null,
   "metadata": {
    "collapsed": true
   },
   "outputs": [],
   "source": []
  },
  {
   "cell_type": "code",
   "execution_count": null,
   "metadata": {
    "collapsed": true
   },
   "outputs": [],
   "source": []
  }
 ],
 "metadata": {
  "kernelspec": {
   "display_name": "pyfly35",
   "language": "python",
   "name": "python3_5_pyfly"
  },
  "language_info": {
   "codemirror_mode": {
    "name": "ipython",
    "version": 3
   },
   "file_extension": ".py",
   "mimetype": "text/x-python",
   "name": "python",
   "nbconvert_exporter": "python",
   "pygments_lexer": "ipython3",
   "version": "3.5.4"
  }
 },
 "nbformat": 4,
 "nbformat_minor": 2
}
