{
 "cells": [
  {
   "cell_type": "code",
   "execution_count": null,
   "metadata": {
    "collapsed": true
   },
   "outputs": [],
   "source": [
    "## Callin Switzer\n",
    "## Capture Images from pt grey camera"
   ]
  },
  {
   "cell_type": "code",
   "execution_count": 2,
   "metadata": {
    "collapsed": false
   },
   "outputs": [],
   "source": [
    "# setup arduino\n",
    "% matplotlib inline\n",
    "import matplotlib.pyplot as plt\n",
    "import numpy as np\n",
    "import cv2\n",
    "\n",
    "import datetime\n",
    "\n",
    "import PyCapture2 as fc2\n",
    "import sys\n",
    "\n",
    "import time\n",
    "\n",
    "import os\n",
    "import peakutils \n",
    "import msvcrt\n",
    "import winsound\n",
    "import shutil\n",
    "import pandas as pd\n",
    "\n",
    "import skimage.io as io"
   ]
  },
  {
   "cell_type": "code",
   "execution_count": 3,
   "metadata": {
    "collapsed": false
   },
   "outputs": [
    {
     "name": "stdout",
     "output_type": "stream",
     "text": [
      "last update: 2018-01-23 15:50:04.373666\n"
     ]
    }
   ],
   "source": [
    "print(\"last update: \"  +  str(datetime.datetime.now()))"
   ]
  },
  {
   "cell_type": "code",
   "execution_count": 4,
   "metadata": {
    "collapsed": false
   },
   "outputs": [
    {
     "name": "stdout",
     "output_type": "stream",
     "text": [
      "Number of cameras detected:  2\n"
     ]
    }
   ],
   "source": [
    "# capture image with point grey camera\n",
    "bus = fc2.BusManager()\n",
    "numCams = bus.getNumOfCameras()\n",
    "print(\"Number of cameras detected: \", numCams)\n",
    "if not numCams:\n",
    "    print(\"Insufficient number of cameras. Exiting...\")\n",
    "    exit()"
   ]
  },
  {
   "cell_type": "code",
   "execution_count": 5,
   "metadata": {
    "collapsed": false
   },
   "outputs": [],
   "source": [
    "def enableEmbeddedTimeStamp(cam, enableTimeStamp):\n",
    "    embeddedInfo = cam.getEmbeddedImageInfo()\n",
    "    if embeddedInfo.available.timestamp:\n",
    "        cam.setEmbeddedImageInfo(timestamp = enableTimeStamp)\n",
    "        if(enableTimeStamp):\n",
    "            print(\"\\nTimeStamp is enabled.\\n\")\n",
    "        else:\n",
    "            print(\"\\nTimeStamp is disabled.\\n\")"
   ]
  },
  {
   "cell_type": "code",
   "execution_count": 6,
   "metadata": {
    "collapsed": true
   },
   "outputs": [],
   "source": [
    "# open qtconsole if it's not already running\n",
    "try:\n",
    "    console_is_running\n",
    "except NameError:\n",
    "    console_is_running = True\n",
    "    %qtconsole"
   ]
  },
  {
   "cell_type": "code",
   "execution_count": 7,
   "metadata": {
    "collapsed": false
   },
   "outputs": [],
   "source": [
    "def printCameraInfo(cam):\n",
    "    camInfo = cam.getCameraInfo()\n",
    "    print(\"\\n*** CAMERA INFORMATION ***\\n\")\n",
    "    print(\"Serial number - \", camInfo.serialNumber)\n",
    "    print(\"Camera model - \", camInfo.modelName)\n",
    "    print(\"Camera vendor - \", camInfo.vendorName)\n",
    "    print(\"Sensor - \", camInfo.sensorInfo)\n",
    "    print(\"Resolution - \", camInfo.sensorResolution)\n",
    "    print(\"Firmware version - \", camInfo.firmwareVersion)\n",
    "    print(\"Firmware build time - \", camInfo.firmwareBuildTime)\n",
    "    fRateProp = cam.getProperty(fc2.PROPERTY_TYPE.FRAME_RATE)\n",
    "    print(\"FrameRate - \", fRateProp.absValue)\n",
    "    print()"
   ]
  },
  {
   "cell_type": "code",
   "execution_count": 8,
   "metadata": {
    "collapsed": false
   },
   "outputs": [
    {
     "name": "stdout",
     "output_type": "stream",
     "text": [
      "\n",
      "*** CAMERA INFORMATION ***\n",
      "\n",
      "Serial number -  16060682\n",
      "Camera model -  b'Chameleon3 CM3-U3-13Y3C'\n",
      "Camera vendor -  b'Point Grey Research'\n",
      "Sensor -  b'OnSemi PYTHON1300 (1/2\" Color CMOS)'\n",
      "Resolution -  b'1280x1024'\n",
      "Firmware version -  b'1.9.3.0'\n",
      "Firmware build time -  b'Mon Jul 27 20:45:52 2015'\n",
      "FrameRate -  92.39653778076172\n",
      "\n",
      "\n",
      "*** CAMERA INFORMATION ***\n",
      "\n",
      "Serial number -  16061221\n",
      "Camera model -  b'Chameleon3 CM3-U3-13Y3C'\n",
      "Camera vendor -  b'Point Grey Research'\n",
      "Sensor -  b'OnSemi PYTHON1300 (1/2\" Color CMOS)'\n",
      "Resolution -  b'1280x1024'\n",
      "Firmware version -  b'1.9.3.0'\n",
      "Firmware build time -  b'Mon Jul 27 20:45:52 2015'\n",
      "FrameRate -  92.39653778076172\n",
      "\n"
     ]
    }
   ],
   "source": [
    "c = fc2.Camera()\n",
    "c.connect(bus.getCameraFromIndex(0))\n",
    "printCameraInfo(c)\n",
    "\n",
    "d = fc2.Camera()\n",
    "d.connect(bus.getCameraFromIndex(1))\n",
    "printCameraInfo(d)"
   ]
  },
  {
   "cell_type": "code",
   "execution_count": 9,
   "metadata": {
    "collapsed": true
   },
   "outputs": [],
   "source": [
    "def img2array(image):\n",
    "    return(np.array(image.getData(), dtype=\"uint8\").reshape( (image.getRows(), image.getCols()) ))"
   ]
  },
  {
   "cell_type": "code",
   "execution_count": 13,
   "metadata": {
    "collapsed": false
   },
   "outputs": [],
   "source": [
    "# start recording video\n",
    "def saveAviHelper2(cam, cam2, fileFormat, fileName, fileName2, frameRate, maxImgs = 50):\n",
    "    # clear characters\n",
    "    while msvcrt.kbhit():\n",
    "        msvcrt.getch()\n",
    "        print('clearing characters ...')\n",
    "    \n",
    "    numImages = 0\n",
    "\n",
    "    avi = fc2.AVIRecorder()\n",
    "    avi2 = fc2.AVIRecorder()\n",
    "\n",
    "    for i in range(maxImgs):\n",
    "        \n",
    "        if msvcrt.kbhit():\n",
    "            if msvcrt.getch() == b'q':\n",
    "                # disconnect camera \n",
    "    #             c.stop_capture()\n",
    "    #             c.disconnect()\n",
    "                print('keyboard q pressed, now quitting loop')\n",
    "#                 for i in range(5):\n",
    "#                     winsound.Beep(450,100)\n",
    "                break   \n",
    "        try:\n",
    "            image = cam.retrieveBuffer()\n",
    "            image2 = cam2.retrieveBuffer()\n",
    "        except fc2.Fc2error as fc2Err:\n",
    "            print(\"Error retrieving buffer : \", fc2Err)\n",
    "            continue\n",
    "\n",
    "        print(\"Grabbed image {}\".format(i))\n",
    "\n",
    "        if (i == 0):\n",
    "            if fileFormat == \"AVI\":\n",
    "                avi.AVIOpen(fileName, frameRate)\n",
    "                avi2.AVIOpen(fileName2, frameRate)\n",
    "#             elif fileFormat == \"MJPG\":\n",
    "#                 avi.MJPGOpen(fileName, frameRate, 75)\n",
    "#             elif fileFormat == \"H264\":\n",
    "#                 avi.H264Open(fileName, frameRate, image.getCols(), image.getRows(), 1000000)\n",
    "            else:\n",
    "                print(\"Specified format is not available.\")\n",
    "                return\n",
    "\n",
    "        avi.append(image)\n",
    "        avi2.append(image2)\n",
    "        numImages += 1\n",
    "        print(\"Appended image {}...\".format(i))\n",
    "\n",
    "    print(\"Appended {} images to {} file: {}...\".format(numImages, fileFormat, fileName))\n",
    "    avi.close()\n",
    "    avi2.close()"
   ]
  },
  {
   "cell_type": "code",
   "execution_count": 14,
   "metadata": {
    "collapsed": false
   },
   "outputs": [
    {
     "name": "stdout",
     "output_type": "stream",
     "text": [
      "\n",
      "TimeStamp is enabled.\n",
      "\n",
      "\n",
      "TimeStamp is enabled.\n",
      "\n"
     ]
    }
   ],
   "source": [
    "c = fc2.Camera()\n",
    "c.connect(bus.getCameraFromIndex(0))\n",
    "enableEmbeddedTimeStamp(c, True)\n",
    "c.startCapture()\n",
    "\n",
    "\n",
    "d = fc2.Camera()\n",
    "d.connect(bus.getCameraFromIndex(1))\n",
    "enableEmbeddedTimeStamp(c, True)\n",
    "d.startCapture()\n"
   ]
  },
  {
   "cell_type": "code",
   "execution_count": 18,
   "metadata": {
    "collapsed": true
   },
   "outputs": [],
   "source": [
    "# display images via live preview\n",
    "\n",
    "def livePreview2():\n",
    "    cv2.namedWindow('image',cv2.WINDOW_NORMAL)\n",
    "    cv2.resizeWindow('image', 1000,800)\n",
    "    while(True):\n",
    "        stt = time.time()\n",
    "        # Capture frame-by-frame\n",
    "        image = c.retrieveBuffer()\n",
    "        image2 = d.retrieveBuffer()\n",
    "        img = np.concatenate((img2array(image), img2array(image2)), axis = 1)\n",
    "\n",
    "        # Our operations on the frame come here\n",
    "        #gray = cv2.cvtColor(frame, cv2.COLOR_BGR2GRAY)\n",
    "\n",
    "        # Display the resulting frame\n",
    "        cv2.imshow('image', img)\n",
    "        \n",
    "        print(time.time() - stt)\n",
    "\n",
    "        # break when \"q\" is pressed on keyboard\n",
    "        if cv2.waitKey(1) & 0xFF == ord('q'):\n",
    "            for jj in range(10):\n",
    "                cv2.destroyAllWindows()\n",
    "            break\n",
    "\n"
   ]
  },
  {
   "cell_type": "code",
   "execution_count": 20,
   "metadata": {
    "collapsed": false
   },
   "outputs": [
    {
     "name": "stdout",
     "output_type": "stream",
     "text": [
      "0.4127929210662842\n",
      "0.3692629337310791\n",
      "0.3567538261413574\n",
      "0.3912796974182129\n",
      "0.3812718391418457\n",
      "0.37076425552368164\n",
      "0.37276387214660645\n",
      "0.36626100540161133\n",
      "0.36375927925109863\n",
      "0.3767683506011963\n",
      "0.3547523021697998\n",
      "0.431307315826416\n",
      "0.4408144950866699\n",
      "0.4603276252746582\n",
      "0.4243013858795166\n",
      "0.3857753276824951\n",
      "0.3647599220275879\n",
      "0.344745397567749\n",
      "0.3957815170288086\n",
      "0.4318068027496338\n",
      "0.40428733825683594\n",
      "0.3912780284881592\n",
      "0.37326693534851074\n",
      "0.42830491065979004\n",
      "0.39177918434143066\n",
      "0.3722653388977051\n",
      "0.36826419830322266\n",
      "0.3522510528564453\n",
      "0.3722648620605469\n",
      "0.36926698684692383\n",
      "0.37326502799987793\n",
      "0.361757755279541\n",
      "0.35825490951538086\n",
      "0.34224390983581543\n",
      "0.3812713623046875\n",
      "0.36626100540161133\n",
      "0.3617575168609619\n",
      "0.36576080322265625\n",
      "0.35875463485717773\n",
      "0.34174346923828125\n",
      "0.37977075576782227\n",
      "0.3507497310638428\n",
      "0.3717648983001709\n",
      "0.3577544689178467\n",
      "0.361757755279541\n",
      "0.3827779293060303\n",
      "0.3722653388977051\n",
      "0.36576032638549805\n",
      "0.3622581958770752\n",
      "0.34224367141723633\n",
      "0.3622581958770752\n",
      "0.362257719039917\n",
      "0.38427305221557617\n",
      "0.36826157569885254\n",
      "0.3787693977355957\n",
      "0.3592557907104492\n",
      "0.36375880241394043\n",
      "0.3747670650482178\n",
      "0.37526702880859375\n",
      "0.361757755279541\n",
      "0.3567543029785156\n",
      "0.3477480411529541\n",
      "0.35125017166137695\n",
      "0.3427438735961914\n",
      "0.38477349281311035\n",
      "0.3602569103240967\n",
      "0.35325098037719727\n",
      "0.3672609329223633\n",
      "0.3647589683532715\n",
      "0.3602559566497803\n",
      "0.3502492904663086\n",
      "0.37526702880859375\n",
      "0.36776256561279297\n",
      "0.3477480411529541\n",
      "0.3543059825897217\n",
      "0.35396862030029297\n",
      "0.3642594814300537\n",
      "0.38527369499206543\n",
      "0.35575270652770996\n",
      "0.35575318336486816\n",
      "0.355252742767334\n",
      "0.34374451637268066\n",
      "0.348247766494751\n",
      "0.361757755279541\n",
      "0.38277196884155273\n",
      "0.36125659942626953\n",
      "0.34674620628356934\n",
      "0.3647594451904297\n",
      "0.37576723098754883\n",
      "0.3602564334869385\n",
      "0.3662605285644531\n",
      "0.36375880241394043\n",
      "0.35124945640563965\n",
      "0.378770112991333\n",
      "0.38277196884155273\n",
      "0.3672614097595215\n",
      "0.36526012420654297\n",
      "0.38277149200439453\n",
      "0.33673930168151855\n",
      "0.3617572784423828\n",
      "0.3592560291290283\n",
      "0.3567540645599365\n",
      "0.3637583255767822\n",
      "0.3597555160522461\n",
      "0.362257719039917\n",
      "0.3577544689178467\n",
      "0.35825490951538086\n",
      "0.36325836181640625\n",
      "0.34224367141723633\n",
      "0.33173608779907227\n",
      "0.3737659454345703\n",
      "0.37776875495910645\n",
      "0.36125779151916504\n",
      "0.3577549457550049\n",
      "0.355252742767334\n",
      "0.3402419090270996\n",
      "0.3522510528564453\n",
      "0.3457465171813965\n",
      "0.3602561950683594\n",
      "0.3522512912750244\n",
      "0.3502490520477295\n",
      "0.35625362396240234\n",
      "0.34924817085266113\n",
      "0.3647599220275879\n",
      "0.3712642192840576\n",
      "0.3457462787628174\n",
      "0.355252742767334\n",
      "0.34674668312072754\n",
      "0.32022762298583984\n",
      "0.3187277317047119\n",
      "0.3687617778778076\n",
      "0.35175037384033203\n",
      "0.35325193405151367\n",
      "0.3542520999908447\n",
      "0.3332369327545166\n",
      "0.35375165939331055\n",
      "0.33974123001098633\n",
      "0.3787696361541748\n",
      "0.34174323081970215\n",
      "0.3572540283203125\n",
      "0.3592555522918701\n",
      "0.3432440757751465\n",
      "0.35825490951538086\n",
      "0.3507499694824219\n",
      "0.3472466468811035\n",
      "0.3472468852996826\n",
      "0.35325121879577637\n",
      "0.34624648094177246\n",
      "0.34674668312072754\n",
      "0.35575342178344727\n",
      "0.376267671585083\n",
      "0.3697633743286133\n",
      "0.3572542667388916\n",
      "0.34674715995788574\n",
      "0.3427422046661377\n",
      "0.344623327255249\n"
     ]
    }
   ],
   "source": [
    "livePreview2()"
   ]
  },
  {
   "cell_type": "code",
   "execution_count": 52,
   "metadata": {
    "collapsed": false
   },
   "outputs": [
    {
     "data": {
      "text/plain": [
       "'C:\\\\Users\\\\Combes4\\\\Desktop\\\\twoCamSave2\\\\SaveImageToAviEx22018-01-23 16_19_51.135825.avi'"
      ]
     },
     "execution_count": 52,
     "metadata": {},
     "output_type": "execute_result"
    }
   ],
   "source": [
    "import re \n",
    "os.path.join(directory, \"SaveImageToAviEx2\" + re.sub(\":\", \"_\", str(datetime.datetime.now())) +\".avi\")"
   ]
  },
  {
   "cell_type": "code",
   "execution_count": 53,
   "metadata": {
    "collapsed": false
   },
   "outputs": [
    {
     "name": "stdout",
     "output_type": "stream",
     "text": [
      "Grabbed image 0\n",
      "Appended image 0...\n",
      "Grabbed image 1\n",
      "Appended image 1...\n",
      "Grabbed image 2\n",
      "Appended image 2...\n",
      "Grabbed image 3\n",
      "Appended image 3...\n",
      "Grabbed image 4\n",
      "Appended image 4...\n",
      "Grabbed image 5\n",
      "Appended image 5...\n",
      "Grabbed image 6\n",
      "Appended image 6...\n",
      "Grabbed image 7\n",
      "Appended image 7...\n",
      "Grabbed image 8\n",
      "Appended image 8...\n",
      "Grabbed image 9\n",
      "Appended image 9...\n",
      "Grabbed image 10\n",
      "Appended image 10...\n",
      "Grabbed image 11\n",
      "Appended image 11...\n",
      "Grabbed image 12\n",
      "Appended image 12...\n",
      "Grabbed image 13\n",
      "Appended image 13...\n",
      "Grabbed image 14\n",
      "Appended image 14...\n",
      "Grabbed image 15\n",
      "Appended image 15...\n",
      "Grabbed image 16\n",
      "Appended image 16...\n",
      "Grabbed image 17\n",
      "Appended image 17...\n",
      "Grabbed image 18\n",
      "Appended image 18...\n",
      "Grabbed image 19\n",
      "Appended image 19...\n",
      "Grabbed image 20\n",
      "Appended image 20...\n",
      "Grabbed image 21\n",
      "Appended image 21...\n",
      "Grabbed image 22\n",
      "Appended image 22...\n",
      "Grabbed image 23\n",
      "Appended image 23...\n",
      "Grabbed image 24\n",
      "Appended image 24...\n",
      "Grabbed image 25\n",
      "Appended image 25...\n",
      "Grabbed image 26\n",
      "Appended image 26...\n",
      "Grabbed image 27\n",
      "Appended image 27...\n",
      "Grabbed image 28\n",
      "Appended image 28...\n",
      "Grabbed image 29\n",
      "Appended image 29...\n",
      "Grabbed image 30\n",
      "Appended image 30...\n",
      "Grabbed image 31\n",
      "Appended image 31...\n",
      "Grabbed image 32\n",
      "Appended image 32...\n",
      "Grabbed image 33\n",
      "Appended image 33...\n",
      "Grabbed image 34\n",
      "Appended image 34...\n",
      "Grabbed image 35\n",
      "Appended image 35...\n",
      "Grabbed image 36\n",
      "Appended image 36...\n",
      "Grabbed image 37\n",
      "Appended image 37...\n",
      "Grabbed image 38\n",
      "Appended image 38...\n",
      "Grabbed image 39\n",
      "Appended image 39...\n",
      "Grabbed image 40\n",
      "Appended image 40...\n",
      "Grabbed image 41\n",
      "Appended image 41...\n",
      "Grabbed image 42\n",
      "Appended image 42...\n",
      "Grabbed image 43\n",
      "Appended image 43...\n",
      "Grabbed image 44\n",
      "Appended image 44...\n",
      "Grabbed image 45\n",
      "Appended image 45...\n",
      "Grabbed image 46\n",
      "Appended image 46...\n",
      "Grabbed image 47\n",
      "Appended image 47...\n",
      "Grabbed image 48\n",
      "Appended image 48...\n",
      "Grabbed image 49\n",
      "Appended image 49...\n",
      "Appended 50 images to AVI file: b'C:\\\\Users\\\\Combes4\\\\Desktop\\\\twoCamSave2\\\\SaveImageToAviEx12018-01-23 16_20_12.871333.avi'...\n"
     ]
    }
   ],
   "source": [
    "directory = os.path.join(\"C:\\\\Users\\\\Combes4\\Desktop\\\\twoCamSave2\")\n",
    "fileName = os.path.join(directory, \"SaveImageToAviEx1\" + re.sub(\":\", \"_\", str(datetime.datetime.now())) +\".avi\")\n",
    "fileName2 = os.path.join(directory, \"SaveImageToAviEx2\" + re.sub(\":\", \"_\", str(datetime.datetime.now())) +\".avi\")\n",
    "saveAviHelper2(c,d, \"AVI\", fileName.encode(\"utf-8\"), fileName2.encode(\"utf-8\"), 10)"
   ]
  },
  {
   "cell_type": "code",
   "execution_count": null,
   "metadata": {
    "collapsed": true
   },
   "outputs": [],
   "source": [
    "# When everything done, release the capture\n",
    "c.stopCapture()\n",
    "c.disconnect()\n",
    "\n",
    "d.stopCapture()\n",
    "d.disconnect()\n",
    "cv2.destroyAllWindows()"
   ]
  },
  {
   "cell_type": "code",
   "execution_count": null,
   "metadata": {
    "collapsed": false
   },
   "outputs": [],
   "source": [
    "os.getcwd()"
   ]
  },
  {
   "cell_type": "code",
   "execution_count": null,
   "metadata": {
    "collapsed": false
   },
   "outputs": [],
   "source": [
    "fileName"
   ]
  },
  {
   "cell_type": "code",
   "execution_count": 31,
   "metadata": {
    "collapsed": false
   },
   "outputs": [
    {
     "name": "stdout",
     "output_type": "stream",
     "text": [
      "50 1280 1024 10.0\n"
     ]
    }
   ],
   "source": [
    "# combine videos to see if they're both the same\n",
    "\n",
    "vidPath = 'C:\\\\Users\\\\Combes4\\\\Desktop\\\\twoCamSave2\\\\SaveImageToAviEx2-0000.avi'\n",
    "vidPath2 = 'C:\\\\Users\\\\Combes4\\\\Desktop\\\\twoCamSave2\\\\SaveImageToAviEx3-0000.avi'\n",
    "\n",
    "cap = cv2.VideoCapture(vidPath)\n",
    "cap2 = cv2.VideoCapture(vidPath2)\n",
    "\n",
    "length = int(cap.get(cv2.CAP_PROP_FRAME_COUNT))\n",
    "width  = int(cap.get(cv2.CAP_PROP_FRAME_WIDTH))\n",
    "height = int(cap.get(cv2.CAP_PROP_FRAME_HEIGHT))\n",
    "fps    = cap.get(cv2.CAP_PROP_FPS)\n",
    "\n",
    "print( length, width, height, fps)"
   ]
  },
  {
   "cell_type": "code",
   "execution_count": 32,
   "metadata": {
    "collapsed": false
   },
   "outputs": [
    {
     "name": "stdout",
     "output_type": "stream",
     "text": [
      "0\n",
      "1\n",
      "2\n",
      "3\n",
      "4\n",
      "5\n",
      "6\n",
      "7\n",
      "8\n",
      "9\n",
      "10\n",
      "11\n",
      "12\n",
      "13\n",
      "14\n",
      "15\n",
      "16\n",
      "17\n",
      "18\n",
      "19\n",
      "20\n",
      "21\n",
      "22\n",
      "23\n",
      "24\n",
      "25\n",
      "26\n",
      "27\n",
      "28\n",
      "29\n",
      "30\n",
      "31\n",
      "32\n",
      "33\n",
      "34\n",
      "35\n",
      "36\n",
      "37\n",
      "38\n",
      "39\n",
      "40\n",
      "41\n",
      "42\n",
      "43\n",
      "44\n",
      "45\n",
      "46\n",
      "47\n",
      "48\n",
      "49\n"
     ]
    }
   ],
   "source": [
    "\n",
    "ctr = 0\n",
    "photoDir = os.path.join(\"C:\\\\Users\\\\Combes4\\Desktop\\\\twoCamSave2\\\\images\\\\\")\n",
    "\n",
    "# make directory, if it doesn't exist\n",
    "if not os.path.exists(photoDir):\n",
    "    os.makedirs(photoDir)\n",
    "\n",
    "for ff in range(length):\n",
    "    ret, frame = cap.read()\n",
    "    ret2, frame2 = cap2.read()\n",
    "    im2 = np.concatenate((frame, frame2), axis = 1)\n",
    "    io.imsave(photoDir + str(ctr).zfill(4) + '.png', im2)\n",
    "    print(ff)\n",
    "    ctr += 1"
   ]
  },
  {
   "cell_type": "code",
   "execution_count": 30,
   "metadata": {
    "collapsed": true
   },
   "outputs": [],
   "source": [
    " ret2, frame2 = cap2.read()"
   ]
  },
  {
   "cell_type": "code",
   "execution_count": 26,
   "metadata": {
    "collapsed": false
   },
   "outputs": [],
   "source": [
    "io.imsave(photoDir + str(ctr).zfill(4) + '.png', im2)"
   ]
  },
  {
   "cell_type": "code",
   "execution_count": null,
   "metadata": {
    "collapsed": true
   },
   "outputs": [],
   "source": []
  },
  {
   "cell_type": "code",
   "execution_count": null,
   "metadata": {
    "collapsed": true
   },
   "outputs": [],
   "source": []
  },
  {
   "cell_type": "code",
   "execution_count": 27,
   "metadata": {
    "collapsed": false
   },
   "outputs": [],
   "source": [
    "c1 = [os.path.join(directory, jj) for jj in os.listdir(directory) if jj.startswith(\"c1\")]\n",
    "c2 = [os.path.join(directory, jj) for jj in os.listdir(directory) if jj.startswith(\"c2\")]"
   ]
  },
  {
   "cell_type": "code",
   "execution_count": 28,
   "metadata": {
    "collapsed": false,
    "scrolled": false
   },
   "outputs": [
    {
     "ename": "IndexError",
     "evalue": "list index out of range",
     "output_type": "error",
     "traceback": [
      "\u001b[1;31m---------------------------------------------------------------------------\u001b[0m",
      "\u001b[1;31mIndexError\u001b[0m                                Traceback (most recent call last)",
      "\u001b[1;32m<ipython-input-28-5b615739084b>\u001b[0m in \u001b[0;36m<module>\u001b[1;34m()\u001b[0m\n\u001b[0;32m      1\u001b[0m \u001b[1;32mfor\u001b[0m \u001b[0mii\u001b[0m \u001b[1;32min\u001b[0m \u001b[0mrange\u001b[0m\u001b[1;33m(\u001b[0m\u001b[1;36m10\u001b[0m\u001b[1;33m)\u001b[0m\u001b[1;33m:\u001b[0m\u001b[1;33m\u001b[0m\u001b[0m\n\u001b[1;32m----> 2\u001b[1;33m     \u001b[0mimgg\u001b[0m \u001b[1;33m=\u001b[0m \u001b[0mnp\u001b[0m\u001b[1;33m.\u001b[0m\u001b[0mconcatenate\u001b[0m\u001b[1;33m(\u001b[0m\u001b[1;33m(\u001b[0m\u001b[0mio\u001b[0m\u001b[1;33m.\u001b[0m\u001b[0mimread\u001b[0m\u001b[1;33m(\u001b[0m\u001b[0mc1\u001b[0m\u001b[1;33m[\u001b[0m\u001b[0mii\u001b[0m\u001b[1;33m]\u001b[0m\u001b[1;33m)\u001b[0m\u001b[1;33m,\u001b[0m \u001b[0mio\u001b[0m\u001b[1;33m.\u001b[0m\u001b[0mimread\u001b[0m\u001b[1;33m(\u001b[0m\u001b[0mc2\u001b[0m\u001b[1;33m[\u001b[0m\u001b[0mii\u001b[0m\u001b[1;33m]\u001b[0m\u001b[1;33m)\u001b[0m\u001b[1;33m)\u001b[0m\u001b[1;33m,\u001b[0m \u001b[0maxis\u001b[0m \u001b[1;33m=\u001b[0m \u001b[1;36m1\u001b[0m\u001b[1;33m)\u001b[0m\u001b[1;33m\u001b[0m\u001b[0m\n\u001b[0m\u001b[0;32m      3\u001b[0m     \u001b[0mplt\u001b[0m\u001b[1;33m.\u001b[0m\u001b[0mfigure\u001b[0m\u001b[1;33m(\u001b[0m\u001b[0mfigsize\u001b[0m\u001b[1;33m=\u001b[0m\u001b[1;33m(\u001b[0m\u001b[1;36m20\u001b[0m\u001b[1;33m,\u001b[0m\u001b[1;36m10\u001b[0m\u001b[1;33m)\u001b[0m\u001b[1;33m)\u001b[0m\u001b[1;33m\u001b[0m\u001b[0m\n\u001b[0;32m      4\u001b[0m     \u001b[0mio\u001b[0m\u001b[1;33m.\u001b[0m\u001b[0mimshow\u001b[0m\u001b[1;33m(\u001b[0m\u001b[0mimgg\u001b[0m\u001b[1;33m)\u001b[0m\u001b[1;33m\u001b[0m\u001b[0m\n",
      "\u001b[1;31mIndexError\u001b[0m: list index out of range"
     ]
    }
   ],
   "source": [
    "for ii in range(10):\n",
    "    imgg = np.concatenate((io.imread(c1[ii]), io.imread(c2[ii])), axis = 1)\n",
    "    plt.figure(figsize=(20,10))\n",
    "    io.imshow(imgg)"
   ]
  },
  {
   "cell_type": "code",
   "execution_count": null,
   "metadata": {
    "collapsed": true
   },
   "outputs": [],
   "source": []
  }
 ],
 "metadata": {
  "kernelspec": {
   "display_name": "pyfly35",
   "language": "python",
   "name": "python3_5_pyfly"
  },
  "language_info": {
   "codemirror_mode": {
    "name": "ipython",
    "version": 3
   },
   "file_extension": ".py",
   "mimetype": "text/x-python",
   "name": "python",
   "nbconvert_exporter": "python",
   "pygments_lexer": "ipython3",
   "version": "3.5.4"
  }
 },
 "nbformat": 4,
 "nbformat_minor": 2
}
